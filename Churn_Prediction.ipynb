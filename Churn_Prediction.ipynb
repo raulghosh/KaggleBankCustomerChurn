{
 "cells": [
  {
   "cell_type": "markdown",
   "id": "66012b88",
   "metadata": {
    "papermill": {
     "duration": 0.017049,
     "end_time": "2024-01-15T05:04:13.082453",
     "exception": false,
     "start_time": "2024-01-15T05:04:13.065404",
     "status": "completed"
    },
    "tags": []
   },
   "source": [
    "#### In this notebook we will attempt to build a model to identify the probability of a customer churning from a bank. \n",
    "#### Customer churn is usually a 'detection' type of problem. This means that there can be severe class imbalance. We will confirm it when we do the exploratory data analysis.\n",
    "#### Whenever there is such a class imbalance we need to take special care to solve it as a naive 'positive only' classifier can give very good results which won't be very helpful\n",
    "#### As already stated in the problem we will use AUC - ROC as the measure to evaluate our model performance"
   ]
  },
  {
   "cell_type": "markdown",
   "id": "d9e2ec8d",
   "metadata": {
    "papermill": {
     "duration": 0.016251,
     "end_time": "2024-01-15T05:04:13.115867",
     "exception": false,
     "start_time": "2024-01-15T05:04:13.099616",
     "status": "completed"
    },
    "tags": []
   },
   "source": [
    "#### Approach\n",
    "1. Import the Data and libraries\n",
    "2. Perform Exploratory Data Analysis (EDA)\n",
    "    2.1. Check for null values and take appropriate steps to address them (imputation, removal, etc.).\n",
    "    2.2. Check for outliers and decide on handling strategies (clipping, transformation, or removal).\n",
    "    2.3. Explore the distribution of features and the target variable. For imbalanced data, plan strategies like resampling or using specific performance metrics.\n",
    "    2.4. Check for correlations between features to identify multicollinearity or potential feature interactions.\n",
    "    2.5. Visualize the data with plots (histograms, scatter plots, box plots) for a better understanding of distributions and relationships.\n",
    "\n",
    "3. Feature Engineering\n",
    "    3.1. Create/transform features based on domain knowledge and insights from EDA.\n",
    "    3.2. Consider encoding categorical variables and handling high-cardinality features.\n",
    "    3.3. Experiment with creating interaction terms if there is evidence or hypothesis of interaction effects.\n",
    "\n",
    "4. Shortlist Models for the Use Case\n",
    "    4.1. Based on the problem type (classification, regression), list down potential models.\n",
    "    4.2. Consider starting with simpler models and then move to more complex ones.\n",
    "\n",
    "5. Standardize/Normalize Features if Required\n",
    "    5.1. Decide based on model selection. For instance, tree-based models don't require standardization.\n",
    "    \n",
    "6. Split the Data into Training and Validation Sets\n",
    "    6.1. Consider using stratified sampling if the target variable is imbalanced.\n",
    "    \n",
    "7. Model Training and Hyperparameter Tuning\n",
    "    7.1. Train the shortlisted models on the training set.\n",
    "    7.2. Perform hyperparameter tuning using techniques like Grid Search or Randomized Search, especially for complex models.\n",
    "    7.3. Implement cross-validation to evaluate model performance.\n",
    "    \n",
    "8. Model Evaluation and Selection\n",
    "    8.1. Evaluate models based on appropriate metrics (e.g., AUC-ROC for classification with imbalanced data).\n",
    "    8.2. Consider model interpretability and complexity alongside performance.\n",
    "\n",
    "9. Finalize the Model and Create a Prediction Pipeline\n",
    "\n",
    "    9.1. Choose the final model based on evaluation.\n",
    "    9.2. Create a pipeline that includes preprocessing and the chosen model.\n",
    "    9.3. Train the pipeline on the entire training data (training + validation).\n",
    "10. Predict on the Test Set and Prepare the Output\n",
    "\n",
    "    10.1. Use the pipeline to predict on the test set.\n",
    "    10.2. Format the output as required (e.g., submission file for a competition, report for stakeholders).\n",
    "11. Documentation and Reporting\n",
    "\n",
    "    11.1. Document the modeling process, decisions made, and rationale.\n",
    "    11.2. Prepare a final report or presentation summarizing the findings, model performance, and any business insights or recommendations."
   ]
  },
  {
   "cell_type": "code",
   "execution_count": 1,
   "id": "75f8104b",
   "metadata": {
    "_cell_guid": "b1076dfc-b9ad-4769-8c92-a6c4dae69d19",
    "_uuid": "8f2839f25d086af736a60e9eeb907d3b93b6e0e5",
    "execution": {
     "iopub.execute_input": "2024-01-15T05:04:13.152304Z",
     "iopub.status.busy": "2024-01-15T05:04:13.151547Z",
     "iopub.status.idle": "2024-01-15T05:04:15.487106Z",
     "shell.execute_reply": "2024-01-15T05:04:15.485889Z"
    },
    "papermill": {
     "duration": 2.356033,
     "end_time": "2024-01-15T05:04:15.489661",
     "exception": false,
     "start_time": "2024-01-15T05:04:13.133628",
     "status": "completed"
    },
    "tags": []
   },
   "outputs": [
    {
     "name": "stdout",
     "output_type": "stream",
     "text": [
      "/kaggle/input/playground-series-s4e1/sample_submission.csv\n",
      "/kaggle/input/playground-series-s4e1/train.csv\n",
      "/kaggle/input/playground-series-s4e1/test.csv\n"
     ]
    }
   ],
   "source": [
    "# This Python 3 environment comes with many helpful analytics libraries installed\n",
    "# It is defined by the kaggle/python Docker image: https://github.com/kaggle/docker-python\n",
    "# For example, here's several helpful packages to load\n",
    "\n",
    "import numpy as np # linear algebra\n",
    "import pandas as pd # data processing, CSV file I/O (e.g. pd.read_csv)\n",
    "\n",
    "# importing libraries to do data visualization\n",
    "\n",
    "from matplotlib import pyplot as plt\n",
    "import seaborn as sns\n",
    "\n",
    "# importing libraries to perform statistical analysis\n",
    "\n",
    "from sklearn.model_selection import train_test_split\n",
    "from imblearn.over_sampling import SMOTE\n",
    "from imblearn.under_sampling import RandomUnderSampler\n",
    "from sklearn.metrics import classification_report, confusion_matrix, accuracy_score\n",
    "from sklearn.linear_model import LogisticRegression\n",
    "from sklearn.ensemble import RandomForestClassifier\n",
    "from sklearn.metrics import roc_auc_score, roc_curve\n",
    "from sklearn.metrics import precision_score, recall_score\n",
    "\n",
    "# Input data files are available in the read-only \"../input/\" directory\n",
    "# For example, running this (by clicking run or pressing Shift+Enter) will list all files under the input directory\n",
    "\n",
    "import os\n",
    "for dirname, _, filenames in os.walk('/kaggle/input'):\n",
    "    for filename in filenames:\n",
    "        print(os.path.join(dirname, filename))\n",
    "\n",
    "# You can write up to 20GB to the current directory (/kaggle/working/) that gets preserved as output when you create a version using \"Save & Run All\" \n",
    "# You can also write temporary files to /kaggle/temp/, but they won't be saved outside of the current session"
   ]
  },
  {
   "cell_type": "markdown",
   "id": "d1057003",
   "metadata": {
    "papermill": {
     "duration": 0.01615,
     "end_time": "2024-01-15T05:04:15.522873",
     "exception": false,
     "start_time": "2024-01-15T05:04:15.506723",
     "status": "completed"
    },
    "tags": []
   },
   "source": [
    "### Step 1: Import the data"
   ]
  },
  {
   "cell_type": "code",
   "execution_count": 2,
   "id": "fea69f2d",
   "metadata": {
    "execution": {
     "iopub.execute_input": "2024-01-15T05:04:15.560046Z",
     "iopub.status.busy": "2024-01-15T05:04:15.559520Z",
     "iopub.status.idle": "2024-01-15T05:04:15.564971Z",
     "shell.execute_reply": "2024-01-15T05:04:15.563732Z"
    },
    "papermill": {
     "duration": 0.027969,
     "end_time": "2024-01-15T05:04:15.568219",
     "exception": false,
     "start_time": "2024-01-15T05:04:15.540250",
     "status": "completed"
    },
    "tags": []
   },
   "outputs": [],
   "source": [
    "# Storing the training and test data filepath in a variable for easy access\n",
    "train_data_filepath='''/kaggle/input/playground-series-s4e1/train.csv'''\n",
    "test_data_filepath='''/kaggle/input/playground-series-s4e1/test.csv'''"
   ]
  },
  {
   "cell_type": "code",
   "execution_count": 3,
   "id": "90baf5b5",
   "metadata": {
    "execution": {
     "iopub.execute_input": "2024-01-15T05:04:15.604609Z",
     "iopub.status.busy": "2024-01-15T05:04:15.604176Z",
     "iopub.status.idle": "2024-01-15T05:04:16.247133Z",
     "shell.execute_reply": "2024-01-15T05:04:16.245920Z"
    },
    "papermill": {
     "duration": 0.664435,
     "end_time": "2024-01-15T05:04:16.249804",
     "exception": false,
     "start_time": "2024-01-15T05:04:15.585369",
     "status": "completed"
    },
    "tags": []
   },
   "outputs": [],
   "source": [
    "# import the data into pandas dataframe\n",
    "df_train=pd.read_csv(train_data_filepath, index_col=\"id\")\n",
    "df_test=pd.read_csv(test_data_filepath)"
   ]
  },
  {
   "cell_type": "code",
   "execution_count": 4,
   "id": "ced9cdc1",
   "metadata": {
    "execution": {
     "iopub.execute_input": "2024-01-15T05:04:16.286050Z",
     "iopub.status.busy": "2024-01-15T05:04:16.285656Z",
     "iopub.status.idle": "2024-01-15T05:04:16.312172Z",
     "shell.execute_reply": "2024-01-15T05:04:16.310998Z"
    },
    "papermill": {
     "duration": 0.047688,
     "end_time": "2024-01-15T05:04:16.314893",
     "exception": false,
     "start_time": "2024-01-15T05:04:16.267205",
     "status": "completed"
    },
    "tags": []
   },
   "outputs": [
    {
     "data": {
      "text/html": [
       "<div>\n",
       "<style scoped>\n",
       "    .dataframe tbody tr th:only-of-type {\n",
       "        vertical-align: middle;\n",
       "    }\n",
       "\n",
       "    .dataframe tbody tr th {\n",
       "        vertical-align: top;\n",
       "    }\n",
       "\n",
       "    .dataframe thead th {\n",
       "        text-align: right;\n",
       "    }\n",
       "</style>\n",
       "<table border=\"1\" class=\"dataframe\">\n",
       "  <thead>\n",
       "    <tr style=\"text-align: right;\">\n",
       "      <th></th>\n",
       "      <th>CustomerId</th>\n",
       "      <th>Surname</th>\n",
       "      <th>CreditScore</th>\n",
       "      <th>Geography</th>\n",
       "      <th>Gender</th>\n",
       "      <th>Age</th>\n",
       "      <th>Tenure</th>\n",
       "      <th>Balance</th>\n",
       "      <th>NumOfProducts</th>\n",
       "      <th>HasCrCard</th>\n",
       "      <th>IsActiveMember</th>\n",
       "      <th>EstimatedSalary</th>\n",
       "      <th>Exited</th>\n",
       "    </tr>\n",
       "    <tr>\n",
       "      <th>id</th>\n",
       "      <th></th>\n",
       "      <th></th>\n",
       "      <th></th>\n",
       "      <th></th>\n",
       "      <th></th>\n",
       "      <th></th>\n",
       "      <th></th>\n",
       "      <th></th>\n",
       "      <th></th>\n",
       "      <th></th>\n",
       "      <th></th>\n",
       "      <th></th>\n",
       "      <th></th>\n",
       "    </tr>\n",
       "  </thead>\n",
       "  <tbody>\n",
       "    <tr>\n",
       "      <th>0</th>\n",
       "      <td>15674932</td>\n",
       "      <td>Okwudilichukwu</td>\n",
       "      <td>668</td>\n",
       "      <td>France</td>\n",
       "      <td>Male</td>\n",
       "      <td>33.0</td>\n",
       "      <td>3</td>\n",
       "      <td>0.00</td>\n",
       "      <td>2</td>\n",
       "      <td>1.0</td>\n",
       "      <td>0.0</td>\n",
       "      <td>181449.97</td>\n",
       "      <td>0</td>\n",
       "    </tr>\n",
       "    <tr>\n",
       "      <th>1</th>\n",
       "      <td>15749177</td>\n",
       "      <td>Okwudiliolisa</td>\n",
       "      <td>627</td>\n",
       "      <td>France</td>\n",
       "      <td>Male</td>\n",
       "      <td>33.0</td>\n",
       "      <td>1</td>\n",
       "      <td>0.00</td>\n",
       "      <td>2</td>\n",
       "      <td>1.0</td>\n",
       "      <td>1.0</td>\n",
       "      <td>49503.50</td>\n",
       "      <td>0</td>\n",
       "    </tr>\n",
       "    <tr>\n",
       "      <th>2</th>\n",
       "      <td>15694510</td>\n",
       "      <td>Hsueh</td>\n",
       "      <td>678</td>\n",
       "      <td>France</td>\n",
       "      <td>Male</td>\n",
       "      <td>40.0</td>\n",
       "      <td>10</td>\n",
       "      <td>0.00</td>\n",
       "      <td>2</td>\n",
       "      <td>1.0</td>\n",
       "      <td>0.0</td>\n",
       "      <td>184866.69</td>\n",
       "      <td>0</td>\n",
       "    </tr>\n",
       "    <tr>\n",
       "      <th>3</th>\n",
       "      <td>15741417</td>\n",
       "      <td>Kao</td>\n",
       "      <td>581</td>\n",
       "      <td>France</td>\n",
       "      <td>Male</td>\n",
       "      <td>34.0</td>\n",
       "      <td>2</td>\n",
       "      <td>148882.54</td>\n",
       "      <td>1</td>\n",
       "      <td>1.0</td>\n",
       "      <td>1.0</td>\n",
       "      <td>84560.88</td>\n",
       "      <td>0</td>\n",
       "    </tr>\n",
       "    <tr>\n",
       "      <th>4</th>\n",
       "      <td>15766172</td>\n",
       "      <td>Chiemenam</td>\n",
       "      <td>716</td>\n",
       "      <td>Spain</td>\n",
       "      <td>Male</td>\n",
       "      <td>33.0</td>\n",
       "      <td>5</td>\n",
       "      <td>0.00</td>\n",
       "      <td>2</td>\n",
       "      <td>1.0</td>\n",
       "      <td>1.0</td>\n",
       "      <td>15068.83</td>\n",
       "      <td>0</td>\n",
       "    </tr>\n",
       "  </tbody>\n",
       "</table>\n",
       "</div>"
      ],
      "text/plain": [
       "    CustomerId         Surname  CreditScore Geography Gender   Age  Tenure  \\\n",
       "id                                                                           \n",
       "0     15674932  Okwudilichukwu          668    France   Male  33.0       3   \n",
       "1     15749177   Okwudiliolisa          627    France   Male  33.0       1   \n",
       "2     15694510           Hsueh          678    France   Male  40.0      10   \n",
       "3     15741417             Kao          581    France   Male  34.0       2   \n",
       "4     15766172       Chiemenam          716     Spain   Male  33.0       5   \n",
       "\n",
       "      Balance  NumOfProducts  HasCrCard  IsActiveMember  EstimatedSalary  \\\n",
       "id                                                                         \n",
       "0        0.00              2        1.0             0.0        181449.97   \n",
       "1        0.00              2        1.0             1.0         49503.50   \n",
       "2        0.00              2        1.0             0.0        184866.69   \n",
       "3   148882.54              1        1.0             1.0         84560.88   \n",
       "4        0.00              2        1.0             1.0         15068.83   \n",
       "\n",
       "    Exited  \n",
       "id          \n",
       "0        0  \n",
       "1        0  \n",
       "2        0  \n",
       "3        0  \n",
       "4        0  "
      ]
     },
     "execution_count": 4,
     "metadata": {},
     "output_type": "execute_result"
    }
   ],
   "source": [
    "# let's check the first few rows of the train data\n",
    "# this will tell us whether the import went through fine and how do the columns look like\n",
    "df_train.head()"
   ]
  },
  {
   "cell_type": "code",
   "execution_count": 5,
   "id": "8a74ebb1",
   "metadata": {
    "execution": {
     "iopub.execute_input": "2024-01-15T05:04:16.416638Z",
     "iopub.status.busy": "2024-01-15T05:04:16.416257Z",
     "iopub.status.idle": "2024-01-15T05:04:16.433364Z",
     "shell.execute_reply": "2024-01-15T05:04:16.432509Z"
    },
    "papermill": {
     "duration": 0.101251,
     "end_time": "2024-01-15T05:04:16.435289",
     "exception": false,
     "start_time": "2024-01-15T05:04:16.334038",
     "status": "completed"
    },
    "tags": []
   },
   "outputs": [
    {
     "data": {
      "text/html": [
       "<div>\n",
       "<style scoped>\n",
       "    .dataframe tbody tr th:only-of-type {\n",
       "        vertical-align: middle;\n",
       "    }\n",
       "\n",
       "    .dataframe tbody tr th {\n",
       "        vertical-align: top;\n",
       "    }\n",
       "\n",
       "    .dataframe thead th {\n",
       "        text-align: right;\n",
       "    }\n",
       "</style>\n",
       "<table border=\"1\" class=\"dataframe\">\n",
       "  <thead>\n",
       "    <tr style=\"text-align: right;\">\n",
       "      <th></th>\n",
       "      <th>id</th>\n",
       "      <th>CustomerId</th>\n",
       "      <th>Surname</th>\n",
       "      <th>CreditScore</th>\n",
       "      <th>Geography</th>\n",
       "      <th>Gender</th>\n",
       "      <th>Age</th>\n",
       "      <th>Tenure</th>\n",
       "      <th>Balance</th>\n",
       "      <th>NumOfProducts</th>\n",
       "      <th>HasCrCard</th>\n",
       "      <th>IsActiveMember</th>\n",
       "      <th>EstimatedSalary</th>\n",
       "    </tr>\n",
       "  </thead>\n",
       "  <tbody>\n",
       "    <tr>\n",
       "      <th>0</th>\n",
       "      <td>165034</td>\n",
       "      <td>15773898</td>\n",
       "      <td>Lucchese</td>\n",
       "      <td>586</td>\n",
       "      <td>France</td>\n",
       "      <td>Female</td>\n",
       "      <td>23.0</td>\n",
       "      <td>2</td>\n",
       "      <td>0.00</td>\n",
       "      <td>2</td>\n",
       "      <td>0.0</td>\n",
       "      <td>1.0</td>\n",
       "      <td>160976.75</td>\n",
       "    </tr>\n",
       "    <tr>\n",
       "      <th>1</th>\n",
       "      <td>165035</td>\n",
       "      <td>15782418</td>\n",
       "      <td>Nott</td>\n",
       "      <td>683</td>\n",
       "      <td>France</td>\n",
       "      <td>Female</td>\n",
       "      <td>46.0</td>\n",
       "      <td>2</td>\n",
       "      <td>0.00</td>\n",
       "      <td>1</td>\n",
       "      <td>1.0</td>\n",
       "      <td>0.0</td>\n",
       "      <td>72549.27</td>\n",
       "    </tr>\n",
       "    <tr>\n",
       "      <th>2</th>\n",
       "      <td>165036</td>\n",
       "      <td>15807120</td>\n",
       "      <td>K?</td>\n",
       "      <td>656</td>\n",
       "      <td>France</td>\n",
       "      <td>Female</td>\n",
       "      <td>34.0</td>\n",
       "      <td>7</td>\n",
       "      <td>0.00</td>\n",
       "      <td>2</td>\n",
       "      <td>1.0</td>\n",
       "      <td>0.0</td>\n",
       "      <td>138882.09</td>\n",
       "    </tr>\n",
       "    <tr>\n",
       "      <th>3</th>\n",
       "      <td>165037</td>\n",
       "      <td>15808905</td>\n",
       "      <td>O'Donnell</td>\n",
       "      <td>681</td>\n",
       "      <td>France</td>\n",
       "      <td>Male</td>\n",
       "      <td>36.0</td>\n",
       "      <td>8</td>\n",
       "      <td>0.00</td>\n",
       "      <td>1</td>\n",
       "      <td>1.0</td>\n",
       "      <td>0.0</td>\n",
       "      <td>113931.57</td>\n",
       "    </tr>\n",
       "    <tr>\n",
       "      <th>4</th>\n",
       "      <td>165038</td>\n",
       "      <td>15607314</td>\n",
       "      <td>Higgins</td>\n",
       "      <td>752</td>\n",
       "      <td>Germany</td>\n",
       "      <td>Male</td>\n",
       "      <td>38.0</td>\n",
       "      <td>10</td>\n",
       "      <td>121263.62</td>\n",
       "      <td>1</td>\n",
       "      <td>1.0</td>\n",
       "      <td>0.0</td>\n",
       "      <td>139431.00</td>\n",
       "    </tr>\n",
       "  </tbody>\n",
       "</table>\n",
       "</div>"
      ],
      "text/plain": [
       "       id  CustomerId    Surname  CreditScore Geography  Gender   Age  Tenure  \\\n",
       "0  165034    15773898   Lucchese          586    France  Female  23.0       2   \n",
       "1  165035    15782418       Nott          683    France  Female  46.0       2   \n",
       "2  165036    15807120         K?          656    France  Female  34.0       7   \n",
       "3  165037    15808905  O'Donnell          681    France    Male  36.0       8   \n",
       "4  165038    15607314    Higgins          752   Germany    Male  38.0      10   \n",
       "\n",
       "     Balance  NumOfProducts  HasCrCard  IsActiveMember  EstimatedSalary  \n",
       "0       0.00              2        0.0             1.0        160976.75  \n",
       "1       0.00              1        1.0             0.0         72549.27  \n",
       "2       0.00              2        1.0             0.0        138882.09  \n",
       "3       0.00              1        1.0             0.0        113931.57  \n",
       "4  121263.62              1        1.0             0.0        139431.00  "
      ]
     },
     "execution_count": 5,
     "metadata": {},
     "output_type": "execute_result"
    }
   ],
   "source": [
    "df_test.head()"
   ]
  },
  {
   "cell_type": "markdown",
   "id": "cf011522",
   "metadata": {
    "papermill": {
     "duration": 0.017479,
     "end_time": "2024-01-15T05:04:16.469991",
     "exception": false,
     "start_time": "2024-01-15T05:04:16.452512",
     "status": "completed"
    },
    "tags": []
   },
   "source": [
    "### Step 2: Exploratory Data Analysis"
   ]
  },
  {
   "cell_type": "markdown",
   "id": "d2e72a8e",
   "metadata": {
    "papermill": {
     "duration": 0.017147,
     "end_time": "2024-01-15T05:04:16.504608",
     "exception": false,
     "start_time": "2024-01-15T05:04:16.487461",
     "status": "completed"
    },
    "tags": []
   },
   "source": []
  },
  {
   "cell_type": "code",
   "execution_count": 6,
   "id": "7c5ed539",
   "metadata": {
    "execution": {
     "iopub.execute_input": "2024-01-15T05:04:16.542323Z",
     "iopub.status.busy": "2024-01-15T05:04:16.541370Z",
     "iopub.status.idle": "2024-01-15T05:04:16.547531Z",
     "shell.execute_reply": "2024-01-15T05:04:16.546462Z"
    },
    "papermill": {
     "duration": 0.028159,
     "end_time": "2024-01-15T05:04:16.549999",
     "exception": false,
     "start_time": "2024-01-15T05:04:16.521840",
     "status": "completed"
    },
    "tags": []
   },
   "outputs": [
    {
     "data": {
      "text/plain": [
       "(165034, 13)"
      ]
     },
     "execution_count": 6,
     "metadata": {},
     "output_type": "execute_result"
    }
   ],
   "source": [
    "# checking the size\n",
    "df_train.shape"
   ]
  },
  {
   "cell_type": "code",
   "execution_count": 7,
   "id": "d6a7af05",
   "metadata": {
    "execution": {
     "iopub.execute_input": "2024-01-15T05:04:16.587142Z",
     "iopub.status.busy": "2024-01-15T05:04:16.586752Z",
     "iopub.status.idle": "2024-01-15T05:04:16.592803Z",
     "shell.execute_reply": "2024-01-15T05:04:16.591768Z"
    },
    "papermill": {
     "duration": 0.027549,
     "end_time": "2024-01-15T05:04:16.595019",
     "exception": false,
     "start_time": "2024-01-15T05:04:16.567470",
     "status": "completed"
    },
    "tags": []
   },
   "outputs": [
    {
     "data": {
      "text/plain": [
       "Index(['CustomerId', 'Surname', 'CreditScore', 'Geography', 'Gender', 'Age',\n",
       "       'Tenure', 'Balance', 'NumOfProducts', 'HasCrCard', 'IsActiveMember',\n",
       "       'EstimatedSalary', 'Exited'],\n",
       "      dtype='object')"
      ]
     },
     "execution_count": 7,
     "metadata": {},
     "output_type": "execute_result"
    }
   ],
   "source": [
    "# checking the different column names\n",
    "df_train.columns"
   ]
  },
  {
   "cell_type": "markdown",
   "id": "132574ff",
   "metadata": {
    "papermill": {
     "duration": 0.018436,
     "end_time": "2024-01-15T05:04:16.631214",
     "exception": false,
     "start_time": "2024-01-15T05:04:16.612778",
     "status": "completed"
    },
    "tags": []
   },
   "source": [
    "#### Checking null-values"
   ]
  },
  {
   "cell_type": "code",
   "execution_count": 8,
   "id": "a9f024ab",
   "metadata": {
    "execution": {
     "iopub.execute_input": "2024-01-15T05:04:16.669671Z",
     "iopub.status.busy": "2024-01-15T05:04:16.669258Z",
     "iopub.status.idle": "2024-01-15T05:04:16.714036Z",
     "shell.execute_reply": "2024-01-15T05:04:16.712590Z"
    },
    "papermill": {
     "duration": 0.067166,
     "end_time": "2024-01-15T05:04:16.716323",
     "exception": false,
     "start_time": "2024-01-15T05:04:16.649157",
     "status": "completed"
    },
    "tags": []
   },
   "outputs": [
    {
     "name": "stdout",
     "output_type": "stream",
     "text": [
      "<class 'pandas.core.frame.DataFrame'>\n",
      "Index: 165034 entries, 0 to 165033\n",
      "Data columns (total 13 columns):\n",
      " #   Column           Non-Null Count   Dtype  \n",
      "---  ------           --------------   -----  \n",
      " 0   CustomerId       165034 non-null  int64  \n",
      " 1   Surname          165034 non-null  object \n",
      " 2   CreditScore      165034 non-null  int64  \n",
      " 3   Geography        165034 non-null  object \n",
      " 4   Gender           165034 non-null  object \n",
      " 5   Age              165034 non-null  float64\n",
      " 6   Tenure           165034 non-null  int64  \n",
      " 7   Balance          165034 non-null  float64\n",
      " 8   NumOfProducts    165034 non-null  int64  \n",
      " 9   HasCrCard        165034 non-null  float64\n",
      " 10  IsActiveMember   165034 non-null  float64\n",
      " 11  EstimatedSalary  165034 non-null  float64\n",
      " 12  Exited           165034 non-null  int64  \n",
      "dtypes: float64(5), int64(5), object(3)\n",
      "memory usage: 17.6+ MB\n"
     ]
    }
   ],
   "source": [
    "# getting the information about the columns\n",
    "df_train.info()"
   ]
  },
  {
   "cell_type": "markdown",
   "id": "01a8010f",
   "metadata": {
    "papermill": {
     "duration": 0.017496,
     "end_time": "2024-01-15T05:04:16.753060",
     "exception": false,
     "start_time": "2024-01-15T05:04:16.735564",
     "status": "completed"
    },
    "tags": []
   },
   "source": [
    "#### There are a total of 165,034 rows and each of the attribute has the same number of non-null values. Hence, we don't have a problem of null values here"
   ]
  },
  {
   "cell_type": "markdown",
   "id": "5983c691",
   "metadata": {
    "papermill": {
     "duration": 0.017791,
     "end_time": "2024-01-15T05:04:16.788401",
     "exception": false,
     "start_time": "2024-01-15T05:04:16.770610",
     "status": "completed"
    },
    "tags": []
   },
   "source": [
    "#### Outlier detection\n",
    "##### To begin let's look at some basic stats of the data"
   ]
  },
  {
   "cell_type": "code",
   "execution_count": 9,
   "id": "42fbc04f",
   "metadata": {
    "execution": {
     "iopub.execute_input": "2024-01-15T05:04:16.825649Z",
     "iopub.status.busy": "2024-01-15T05:04:16.824877Z",
     "iopub.status.idle": "2024-01-15T05:04:16.930606Z",
     "shell.execute_reply": "2024-01-15T05:04:16.929094Z"
    },
    "papermill": {
     "duration": 0.127453,
     "end_time": "2024-01-15T05:04:16.933373",
     "exception": false,
     "start_time": "2024-01-15T05:04:16.805920",
     "status": "completed"
    },
    "tags": []
   },
   "outputs": [
    {
     "data": {
      "text/html": [
       "<div>\n",
       "<style scoped>\n",
       "    .dataframe tbody tr th:only-of-type {\n",
       "        vertical-align: middle;\n",
       "    }\n",
       "\n",
       "    .dataframe tbody tr th {\n",
       "        vertical-align: top;\n",
       "    }\n",
       "\n",
       "    .dataframe thead th {\n",
       "        text-align: right;\n",
       "    }\n",
       "</style>\n",
       "<table border=\"1\" class=\"dataframe\">\n",
       "  <thead>\n",
       "    <tr style=\"text-align: right;\">\n",
       "      <th></th>\n",
       "      <th>CreditScore</th>\n",
       "      <th>Age</th>\n",
       "      <th>Tenure</th>\n",
       "      <th>Balance</th>\n",
       "      <th>NumOfProducts</th>\n",
       "      <th>HasCrCard</th>\n",
       "      <th>IsActiveMember</th>\n",
       "      <th>EstimatedSalary</th>\n",
       "      <th>Exited</th>\n",
       "    </tr>\n",
       "  </thead>\n",
       "  <tbody>\n",
       "    <tr>\n",
       "      <th>count</th>\n",
       "      <td>165034.000000</td>\n",
       "      <td>165034.000000</td>\n",
       "      <td>165034.000000</td>\n",
       "      <td>165034.000000</td>\n",
       "      <td>165034.000000</td>\n",
       "      <td>165034.000000</td>\n",
       "      <td>165034.000000</td>\n",
       "      <td>165034.000000</td>\n",
       "      <td>165034.000000</td>\n",
       "    </tr>\n",
       "    <tr>\n",
       "      <th>mean</th>\n",
       "      <td>656.454373</td>\n",
       "      <td>38.125888</td>\n",
       "      <td>5.020353</td>\n",
       "      <td>55478.086689</td>\n",
       "      <td>1.554455</td>\n",
       "      <td>0.753954</td>\n",
       "      <td>0.497770</td>\n",
       "      <td>112574.822734</td>\n",
       "      <td>0.211599</td>\n",
       "    </tr>\n",
       "    <tr>\n",
       "      <th>std</th>\n",
       "      <td>80.103340</td>\n",
       "      <td>8.867205</td>\n",
       "      <td>2.806159</td>\n",
       "      <td>62817.663278</td>\n",
       "      <td>0.547154</td>\n",
       "      <td>0.430707</td>\n",
       "      <td>0.499997</td>\n",
       "      <td>50292.865585</td>\n",
       "      <td>0.408443</td>\n",
       "    </tr>\n",
       "    <tr>\n",
       "      <th>min</th>\n",
       "      <td>350.000000</td>\n",
       "      <td>18.000000</td>\n",
       "      <td>0.000000</td>\n",
       "      <td>0.000000</td>\n",
       "      <td>1.000000</td>\n",
       "      <td>0.000000</td>\n",
       "      <td>0.000000</td>\n",
       "      <td>11.580000</td>\n",
       "      <td>0.000000</td>\n",
       "    </tr>\n",
       "    <tr>\n",
       "      <th>25%</th>\n",
       "      <td>597.000000</td>\n",
       "      <td>32.000000</td>\n",
       "      <td>3.000000</td>\n",
       "      <td>0.000000</td>\n",
       "      <td>1.000000</td>\n",
       "      <td>1.000000</td>\n",
       "      <td>0.000000</td>\n",
       "      <td>74637.570000</td>\n",
       "      <td>0.000000</td>\n",
       "    </tr>\n",
       "    <tr>\n",
       "      <th>50%</th>\n",
       "      <td>659.000000</td>\n",
       "      <td>37.000000</td>\n",
       "      <td>5.000000</td>\n",
       "      <td>0.000000</td>\n",
       "      <td>2.000000</td>\n",
       "      <td>1.000000</td>\n",
       "      <td>0.000000</td>\n",
       "      <td>117948.000000</td>\n",
       "      <td>0.000000</td>\n",
       "    </tr>\n",
       "    <tr>\n",
       "      <th>75%</th>\n",
       "      <td>710.000000</td>\n",
       "      <td>42.000000</td>\n",
       "      <td>7.000000</td>\n",
       "      <td>119939.517500</td>\n",
       "      <td>2.000000</td>\n",
       "      <td>1.000000</td>\n",
       "      <td>1.000000</td>\n",
       "      <td>155152.467500</td>\n",
       "      <td>0.000000</td>\n",
       "    </tr>\n",
       "    <tr>\n",
       "      <th>max</th>\n",
       "      <td>850.000000</td>\n",
       "      <td>92.000000</td>\n",
       "      <td>10.000000</td>\n",
       "      <td>250898.090000</td>\n",
       "      <td>4.000000</td>\n",
       "      <td>1.000000</td>\n",
       "      <td>1.000000</td>\n",
       "      <td>199992.480000</td>\n",
       "      <td>1.000000</td>\n",
       "    </tr>\n",
       "  </tbody>\n",
       "</table>\n",
       "</div>"
      ],
      "text/plain": [
       "         CreditScore            Age         Tenure        Balance  \\\n",
       "count  165034.000000  165034.000000  165034.000000  165034.000000   \n",
       "mean      656.454373      38.125888       5.020353   55478.086689   \n",
       "std        80.103340       8.867205       2.806159   62817.663278   \n",
       "min       350.000000      18.000000       0.000000       0.000000   \n",
       "25%       597.000000      32.000000       3.000000       0.000000   \n",
       "50%       659.000000      37.000000       5.000000       0.000000   \n",
       "75%       710.000000      42.000000       7.000000  119939.517500   \n",
       "max       850.000000      92.000000      10.000000  250898.090000   \n",
       "\n",
       "       NumOfProducts      HasCrCard  IsActiveMember  EstimatedSalary  \\\n",
       "count  165034.000000  165034.000000   165034.000000    165034.000000   \n",
       "mean        1.554455       0.753954        0.497770    112574.822734   \n",
       "std         0.547154       0.430707        0.499997     50292.865585   \n",
       "min         1.000000       0.000000        0.000000        11.580000   \n",
       "25%         1.000000       1.000000        0.000000     74637.570000   \n",
       "50%         2.000000       1.000000        0.000000    117948.000000   \n",
       "75%         2.000000       1.000000        1.000000    155152.467500   \n",
       "max         4.000000       1.000000        1.000000    199992.480000   \n",
       "\n",
       "              Exited  \n",
       "count  165034.000000  \n",
       "mean        0.211599  \n",
       "std         0.408443  \n",
       "min         0.000000  \n",
       "25%         0.000000  \n",
       "50%         0.000000  \n",
       "75%         0.000000  \n",
       "max         1.000000  "
      ]
     },
     "execution_count": 9,
     "metadata": {},
     "output_type": "execute_result"
    }
   ],
   "source": [
    "df_train[df_train.columns[1:]].describe()"
   ]
  },
  {
   "cell_type": "markdown",
   "id": "370b7f15",
   "metadata": {
    "papermill": {
     "duration": 0.017546,
     "end_time": "2024-01-15T05:04:16.968957",
     "exception": false,
     "start_time": "2024-01-15T05:04:16.951411",
     "status": "completed"
    },
    "tags": []
   },
   "source": [
    "##### A look at the min, max, mean and standard deviation reveals that no features seems to have any outliers "
   ]
  },
  {
   "cell_type": "markdown",
   "id": "0b8ca42b",
   "metadata": {
    "papermill": {
     "duration": 0.018075,
     "end_time": "2024-01-15T05:04:17.005041",
     "exception": false,
     "start_time": "2024-01-15T05:04:16.986966",
     "status": "completed"
    },
    "tags": []
   },
   "source": [
    "#### Let us check the disctribition of the data"
   ]
  },
  {
   "cell_type": "code",
   "execution_count": 10,
   "id": "59c3a30b",
   "metadata": {
    "execution": {
     "iopub.execute_input": "2024-01-15T05:04:17.043086Z",
     "iopub.status.busy": "2024-01-15T05:04:17.042651Z",
     "iopub.status.idle": "2024-01-15T05:04:19.872872Z",
     "shell.execute_reply": "2024-01-15T05:04:19.871981Z"
    },
    "papermill": {
     "duration": 2.851774,
     "end_time": "2024-01-15T05:04:19.875287",
     "exception": false,
     "start_time": "2024-01-15T05:04:17.023513",
     "status": "completed"
    },
    "tags": []
   },
   "outputs": [
    {
     "data": {
      "text/plain": [
       "array([[<Axes: title={'center': 'CustomerId'}>,\n",
       "        <Axes: title={'center': 'CreditScore'}>,\n",
       "        <Axes: title={'center': 'Age'}>],\n",
       "       [<Axes: title={'center': 'Tenure'}>,\n",
       "        <Axes: title={'center': 'Balance'}>,\n",
       "        <Axes: title={'center': 'NumOfProducts'}>],\n",
       "       [<Axes: title={'center': 'HasCrCard'}>,\n",
       "        <Axes: title={'center': 'IsActiveMember'}>,\n",
       "        <Axes: title={'center': 'EstimatedSalary'}>],\n",
       "       [<Axes: title={'center': 'Exited'}>, <Axes: >, <Axes: >]],\n",
       "      dtype=object)"
      ]
     },
     "execution_count": 10,
     "metadata": {},
     "output_type": "execute_result"
    },
    {
     "data": {
      "image/png": "[encoded data removed]",
      "text/plain": [
       "<Figure size 1000x1000 with 12 Axes>"
      ]
     },
     "metadata": {},
     "output_type": "display_data"
    }
   ],
   "source": [
    "df_train.hist(figsize=(10,10), bins=50)"
   ]
  },
  {
   "cell_type": "code",
   "execution_count": 11,
   "id": "d48de30c",
   "metadata": {
    "execution": {
     "iopub.execute_input": "2024-01-15T05:04:19.916325Z",
     "iopub.status.busy": "2024-01-15T05:04:19.915663Z",
     "iopub.status.idle": "2024-01-15T05:04:20.192467Z",
     "shell.execute_reply": "2024-01-15T05:04:20.191236Z"
    },
    "papermill": {
     "duration": 0.301204,
     "end_time": "2024-01-15T05:04:20.195891",
     "exception": false,
     "start_time": "2024-01-15T05:04:19.894687",
     "status": "completed"
    },
    "tags": []
   },
   "outputs": [
    {
     "data": {
      "text/plain": [
       "<Axes: xlabel='Gender', ylabel='count'>"
      ]
     },
     "execution_count": 11,
     "metadata": {},
     "output_type": "execute_result"
    },
    {
     "data": {
      "image/png": "[encoded data removed]",
      "text/plain": [
       "<Figure size 640x480 with 1 Axes>"
      ]
     },
     "metadata": {},
     "output_type": "display_data"
    }
   ],
   "source": [
    "# let's check the categorical variables as well\n",
    "sns.countplot(x='Gender', data=df_train)"
   ]
  },
  {
   "cell_type": "code",
   "execution_count": 12,
   "id": "ce5345e7",
   "metadata": {
    "execution": {
     "iopub.execute_input": "2024-01-15T05:04:20.238003Z",
     "iopub.status.busy": "2024-01-15T05:04:20.237365Z",
     "iopub.status.idle": "2024-01-15T05:04:20.534656Z",
     "shell.execute_reply": "2024-01-15T05:04:20.533469Z"
    },
    "papermill": {
     "duration": 0.322168,
     "end_time": "2024-01-15T05:04:20.538471",
     "exception": false,
     "start_time": "2024-01-15T05:04:20.216303",
     "status": "completed"
    },
    "tags": []
   },
   "outputs": [
    {
     "data": {
      "text/plain": [
       "<Axes: xlabel='Geography', ylabel='count'>"
      ]
     },
     "execution_count": 12,
     "metadata": {},
     "output_type": "execute_result"
    },
    {
     "data": {
      "image/png": "[encoded data removed]",
      "text/plain": [
       "<Figure size 640x480 with 1 Axes>"
      ]
     },
     "metadata": {},
     "output_type": "display_data"
    }
   ],
   "source": [
    "sns.countplot(x=\"Geography\",data=df_train)"
   ]
  },
  {
   "cell_type": "markdown",
   "id": "e7be2e52",
   "metadata": {
    "papermill": {
     "duration": 0.022401,
     "end_time": "2024-01-15T05:04:20.583027",
     "exception": false,
     "start_time": "2024-01-15T05:04:20.560626",
     "status": "completed"
    },
    "tags": []
   },
   "source": [
    "#### Quantifying the class imbalance"
   ]
  },
  {
   "cell_type": "code",
   "execution_count": 13,
   "id": "5c6cff39",
   "metadata": {
    "execution": {
     "iopub.execute_input": "2024-01-15T05:04:20.625659Z",
     "iopub.status.busy": "2024-01-15T05:04:20.625248Z",
     "iopub.status.idle": "2024-01-15T05:04:20.636329Z",
     "shell.execute_reply": "2024-01-15T05:04:20.635596Z"
    },
    "papermill": {
     "duration": 0.034742,
     "end_time": "2024-01-15T05:04:20.638447",
     "exception": false,
     "start_time": "2024-01-15T05:04:20.603705",
     "status": "completed"
    },
    "tags": []
   },
   "outputs": [
    {
     "data": {
      "text/plain": [
       "(34921, 130113)"
      ]
     },
     "execution_count": 13,
     "metadata": {},
     "output_type": "execute_result"
    }
   ],
   "source": [
    "minority_class, majority_class=(df_train[\"Exited\"].value_counts().iloc[1],df_train[\"Exited\"].value_counts().iloc[0])\n",
    "minority_class,majority_class"
   ]
  },
  {
   "cell_type": "code",
   "execution_count": 14,
   "id": "f180273a",
   "metadata": {
    "execution": {
     "iopub.execute_input": "2024-01-15T05:04:20.680478Z",
     "iopub.status.busy": "2024-01-15T05:04:20.680055Z",
     "iopub.status.idle": "2024-01-15T05:04:20.685631Z",
     "shell.execute_reply": "2024-01-15T05:04:20.684746Z"
    },
    "papermill": {
     "duration": 0.0291,
     "end_time": "2024-01-15T05:04:20.687565",
     "exception": false,
     "start_time": "2024-01-15T05:04:20.658465",
     "status": "completed"
    },
    "tags": []
   },
   "outputs": [
    {
     "data": {
      "text/plain": [
       "0.21159882206090866"
      ]
     },
     "execution_count": 14,
     "metadata": {},
     "output_type": "execute_result"
    }
   ],
   "source": [
    "imbalance=minority_class/(minority_class+majority_class)\n",
    "imbalance"
   ]
  },
  {
   "cell_type": "markdown",
   "id": "878dc663",
   "metadata": {
    "papermill": {
     "duration": 0.020738,
     "end_time": "2024-01-15T05:04:20.728853",
     "exception": false,
     "start_time": "2024-01-15T05:04:20.708115",
     "status": "completed"
    },
    "tags": []
   },
   "source": [
    "#### We can clearly see that the minority class represents ~ 21% of the dataset.\n",
    "#### This is not a severe imbalance but still it is an imbalance we should keep in mind.\n",
    "#### Additionally, we also note that \"Balance\" has a lot of zeros and then a normal looking distribution. We also see that the \"NumOfProds\" has very less 3 and 4"
   ]
  },
  {
   "cell_type": "code",
   "execution_count": 15,
   "id": "780b1ab4",
   "metadata": {
    "execution": {
     "iopub.execute_input": "2024-01-15T05:04:20.775917Z",
     "iopub.status.busy": "2024-01-15T05:04:20.775242Z",
     "iopub.status.idle": "2024-01-15T05:04:21.161172Z",
     "shell.execute_reply": "2024-01-15T05:04:21.160014Z"
    },
    "papermill": {
     "duration": 0.411829,
     "end_time": "2024-01-15T05:04:21.163568",
     "exception": false,
     "start_time": "2024-01-15T05:04:20.751739",
     "status": "completed"
    },
    "tags": []
   },
   "outputs": [
    {
     "data": {
      "text/plain": [
       "<Axes: >"
      ]
     },
     "execution_count": 15,
     "metadata": {},
     "output_type": "execute_result"
    },
    {
     "data": {
      "image/png": "[encoded data removed]",
      "text/plain": [
       "<Figure size 500x300 with 1 Axes>"
      ]
     },
     "metadata": {},
     "output_type": "display_data"
    }
   ],
   "source": [
    "df_train[\"Balance\"][df_train[\"Balance\"]!=0].hist(figsize=(5,3),bins=100)"
   ]
  },
  {
   "cell_type": "markdown",
   "id": "794de497",
   "metadata": {
    "papermill": {
     "duration": 0.021188,
     "end_time": "2024-01-15T05:04:21.205482",
     "exception": false,
     "start_time": "2024-01-15T05:04:21.184294",
     "status": "completed"
    },
    "tags": []
   },
   "source": [
    "#### Keeping the above in mind we will engineer a binary variable which will indicate whether \"Balances\" ==0"
   ]
  },
  {
   "cell_type": "markdown",
   "id": "ea967b6f",
   "metadata": {
    "papermill": {
     "duration": 0.020244,
     "end_time": "2024-01-15T05:04:21.246403",
     "exception": false,
     "start_time": "2024-01-15T05:04:21.226159",
     "status": "completed"
    },
    "tags": []
   },
   "source": [
    "### Let us recap some of our understanding of the data before we go on to engineer some features\n",
    "1. No null values\n",
    "2. No outliers\n",
    "3. Create binary for \"Balance\"\n",
    "4. We will create a new feature by creating \"NumOfProducts\"=2,3, or 4"
   ]
  },
  {
   "cell_type": "markdown",
   "id": "28a17197",
   "metadata": {
    "papermill": {
     "duration": 0.020853,
     "end_time": "2024-01-15T05:04:21.287719",
     "exception": false,
     "start_time": "2024-01-15T05:04:21.266866",
     "status": "completed"
    },
    "tags": []
   },
   "source": [
    "### Step 3: Feature Engineering"
   ]
  },
  {
   "cell_type": "code",
   "execution_count": 16,
   "id": "0579d7d9",
   "metadata": {
    "execution": {
     "iopub.execute_input": "2024-01-15T05:04:21.332125Z",
     "iopub.status.busy": "2024-01-15T05:04:21.331733Z",
     "iopub.status.idle": "2024-01-15T05:04:21.355293Z",
     "shell.execute_reply": "2024-01-15T05:04:21.354084Z"
    },
    "papermill": {
     "duration": 0.04919,
     "end_time": "2024-01-15T05:04:21.357819",
     "exception": false,
     "start_time": "2024-01-15T05:04:21.308629",
     "status": "completed"
    },
    "tags": []
   },
   "outputs": [
    {
     "data": {
      "text/html": [
       "<div>\n",
       "<style scoped>\n",
       "    .dataframe tbody tr th:only-of-type {\n",
       "        vertical-align: middle;\n",
       "    }\n",
       "\n",
       "    .dataframe tbody tr th {\n",
       "        vertical-align: top;\n",
       "    }\n",
       "\n",
       "    .dataframe thead th {\n",
       "        text-align: right;\n",
       "    }\n",
       "</style>\n",
       "<table border=\"1\" class=\"dataframe\">\n",
       "  <thead>\n",
       "    <tr style=\"text-align: right;\">\n",
       "      <th></th>\n",
       "      <th>CustomerId</th>\n",
       "      <th>Surname</th>\n",
       "      <th>CreditScore</th>\n",
       "      <th>Geography</th>\n",
       "      <th>Gender</th>\n",
       "      <th>Age</th>\n",
       "      <th>Tenure</th>\n",
       "      <th>Balance</th>\n",
       "      <th>NumOfProducts</th>\n",
       "      <th>HasCrCard</th>\n",
       "      <th>IsActiveMember</th>\n",
       "      <th>EstimatedSalary</th>\n",
       "      <th>Exited</th>\n",
       "      <th>x_Balance</th>\n",
       "    </tr>\n",
       "    <tr>\n",
       "      <th>id</th>\n",
       "      <th></th>\n",
       "      <th></th>\n",
       "      <th></th>\n",
       "      <th></th>\n",
       "      <th></th>\n",
       "      <th></th>\n",
       "      <th></th>\n",
       "      <th></th>\n",
       "      <th></th>\n",
       "      <th></th>\n",
       "      <th></th>\n",
       "      <th></th>\n",
       "      <th></th>\n",
       "      <th></th>\n",
       "    </tr>\n",
       "  </thead>\n",
       "  <tbody>\n",
       "    <tr>\n",
       "      <th>0</th>\n",
       "      <td>15674932</td>\n",
       "      <td>Okwudilichukwu</td>\n",
       "      <td>668</td>\n",
       "      <td>France</td>\n",
       "      <td>Male</td>\n",
       "      <td>33.0</td>\n",
       "      <td>3</td>\n",
       "      <td>0.00</td>\n",
       "      <td>2</td>\n",
       "      <td>1.0</td>\n",
       "      <td>0.0</td>\n",
       "      <td>181449.97</td>\n",
       "      <td>0</td>\n",
       "      <td>0</td>\n",
       "    </tr>\n",
       "    <tr>\n",
       "      <th>1</th>\n",
       "      <td>15749177</td>\n",
       "      <td>Okwudiliolisa</td>\n",
       "      <td>627</td>\n",
       "      <td>France</td>\n",
       "      <td>Male</td>\n",
       "      <td>33.0</td>\n",
       "      <td>1</td>\n",
       "      <td>0.00</td>\n",
       "      <td>2</td>\n",
       "      <td>1.0</td>\n",
       "      <td>1.0</td>\n",
       "      <td>49503.50</td>\n",
       "      <td>0</td>\n",
       "      <td>0</td>\n",
       "    </tr>\n",
       "    <tr>\n",
       "      <th>2</th>\n",
       "      <td>15694510</td>\n",
       "      <td>Hsueh</td>\n",
       "      <td>678</td>\n",
       "      <td>France</td>\n",
       "      <td>Male</td>\n",
       "      <td>40.0</td>\n",
       "      <td>10</td>\n",
       "      <td>0.00</td>\n",
       "      <td>2</td>\n",
       "      <td>1.0</td>\n",
       "      <td>0.0</td>\n",
       "      <td>184866.69</td>\n",
       "      <td>0</td>\n",
       "      <td>0</td>\n",
       "    </tr>\n",
       "    <tr>\n",
       "      <th>3</th>\n",
       "      <td>15741417</td>\n",
       "      <td>Kao</td>\n",
       "      <td>581</td>\n",
       "      <td>France</td>\n",
       "      <td>Male</td>\n",
       "      <td>34.0</td>\n",
       "      <td>2</td>\n",
       "      <td>148882.54</td>\n",
       "      <td>1</td>\n",
       "      <td>1.0</td>\n",
       "      <td>1.0</td>\n",
       "      <td>84560.88</td>\n",
       "      <td>0</td>\n",
       "      <td>1</td>\n",
       "    </tr>\n",
       "    <tr>\n",
       "      <th>4</th>\n",
       "      <td>15766172</td>\n",
       "      <td>Chiemenam</td>\n",
       "      <td>716</td>\n",
       "      <td>Spain</td>\n",
       "      <td>Male</td>\n",
       "      <td>33.0</td>\n",
       "      <td>5</td>\n",
       "      <td>0.00</td>\n",
       "      <td>2</td>\n",
       "      <td>1.0</td>\n",
       "      <td>1.0</td>\n",
       "      <td>15068.83</td>\n",
       "      <td>0</td>\n",
       "      <td>0</td>\n",
       "    </tr>\n",
       "  </tbody>\n",
       "</table>\n",
       "</div>"
      ],
      "text/plain": [
       "    CustomerId         Surname  CreditScore Geography Gender   Age  Tenure  \\\n",
       "id                                                                           \n",
       "0     15674932  Okwudilichukwu          668    France   Male  33.0       3   \n",
       "1     15749177   Okwudiliolisa          627    France   Male  33.0       1   \n",
       "2     15694510           Hsueh          678    France   Male  40.0      10   \n",
       "3     15741417             Kao          581    France   Male  34.0       2   \n",
       "4     15766172       Chiemenam          716     Spain   Male  33.0       5   \n",
       "\n",
       "      Balance  NumOfProducts  HasCrCard  IsActiveMember  EstimatedSalary  \\\n",
       "id                                                                         \n",
       "0        0.00              2        1.0             0.0        181449.97   \n",
       "1        0.00              2        1.0             1.0         49503.50   \n",
       "2        0.00              2        1.0             0.0        184866.69   \n",
       "3   148882.54              1        1.0             1.0         84560.88   \n",
       "4        0.00              2        1.0             1.0         15068.83   \n",
       "\n",
       "    Exited  x_Balance  \n",
       "id                     \n",
       "0        0          0  \n",
       "1        0          0  \n",
       "2        0          0  \n",
       "3        0          1  \n",
       "4        0          0  "
      ]
     },
     "execution_count": 16,
     "metadata": {},
     "output_type": "execute_result"
    }
   ],
   "source": [
    "df_train[\"x_Balance\"]=0\n",
    "df_train.loc[df_train[\"Balance\"]!=0,\"x_Balance\"]=1\n",
    "df_train.head()"
   ]
  },
  {
   "cell_type": "code",
   "execution_count": 17,
   "id": "d950be5b",
   "metadata": {
    "execution": {
     "iopub.execute_input": "2024-01-15T05:04:21.401898Z",
     "iopub.status.busy": "2024-01-15T05:04:21.401518Z",
     "iopub.status.idle": "2024-01-15T05:04:21.412403Z",
     "shell.execute_reply": "2024-01-15T05:04:21.411141Z"
    },
    "papermill": {
     "duration": 0.036359,
     "end_time": "2024-01-15T05:04:21.415119",
     "exception": false,
     "start_time": "2024-01-15T05:04:21.378760",
     "status": "completed"
    },
    "tags": []
   },
   "outputs": [
    {
     "data": {
      "text/plain": [
       "NumOfProducts\n",
       "2    84291\n",
       "1    77374\n",
       "3     2894\n",
       "4      475\n",
       "Name: count, dtype: int64"
      ]
     },
     "execution_count": 17,
     "metadata": {},
     "output_type": "execute_result"
    }
   ],
   "source": [
    "df_train[\"NumOfProducts\"].value_counts()"
   ]
  },
  {
   "cell_type": "code",
   "execution_count": 18,
   "id": "878e1f29",
   "metadata": {
    "execution": {
     "iopub.execute_input": "2024-01-15T05:04:21.460091Z",
     "iopub.status.busy": "2024-01-15T05:04:21.459698Z",
     "iopub.status.idle": "2024-01-15T05:04:21.495993Z",
     "shell.execute_reply": "2024-01-15T05:04:21.495010Z"
    },
    "papermill": {
     "duration": 0.061631,
     "end_time": "2024-01-15T05:04:21.498319",
     "exception": false,
     "start_time": "2024-01-15T05:04:21.436688",
     "status": "completed"
    },
    "tags": []
   },
   "outputs": [
    {
     "data": {
      "text/html": [
       "<div>\n",
       "<style scoped>\n",
       "    .dataframe tbody tr th:only-of-type {\n",
       "        vertical-align: middle;\n",
       "    }\n",
       "\n",
       "    .dataframe tbody tr th {\n",
       "        vertical-align: top;\n",
       "    }\n",
       "\n",
       "    .dataframe thead th {\n",
       "        text-align: right;\n",
       "    }\n",
       "</style>\n",
       "<table border=\"1\" class=\"dataframe\">\n",
       "  <thead>\n",
       "    <tr style=\"text-align: right;\">\n",
       "      <th></th>\n",
       "      <th>CustomerId</th>\n",
       "      <th>Surname</th>\n",
       "      <th>CreditScore</th>\n",
       "      <th>Geography</th>\n",
       "      <th>Gender</th>\n",
       "      <th>Age</th>\n",
       "      <th>Tenure</th>\n",
       "      <th>Balance</th>\n",
       "      <th>NumOfProducts</th>\n",
       "      <th>HasCrCard</th>\n",
       "      <th>IsActiveMember</th>\n",
       "      <th>EstimatedSalary</th>\n",
       "      <th>Exited</th>\n",
       "      <th>x_Balance</th>\n",
       "      <th>NumOfProdBins</th>\n",
       "    </tr>\n",
       "    <tr>\n",
       "      <th>id</th>\n",
       "      <th></th>\n",
       "      <th></th>\n",
       "      <th></th>\n",
       "      <th></th>\n",
       "      <th></th>\n",
       "      <th></th>\n",
       "      <th></th>\n",
       "      <th></th>\n",
       "      <th></th>\n",
       "      <th></th>\n",
       "      <th></th>\n",
       "      <th></th>\n",
       "      <th></th>\n",
       "      <th></th>\n",
       "      <th></th>\n",
       "    </tr>\n",
       "  </thead>\n",
       "  <tbody>\n",
       "    <tr>\n",
       "      <th>0</th>\n",
       "      <td>15674932</td>\n",
       "      <td>Okwudilichukwu</td>\n",
       "      <td>668</td>\n",
       "      <td>France</td>\n",
       "      <td>Male</td>\n",
       "      <td>33.0</td>\n",
       "      <td>3</td>\n",
       "      <td>0.00</td>\n",
       "      <td>2</td>\n",
       "      <td>1.0</td>\n",
       "      <td>0.0</td>\n",
       "      <td>181449.97</td>\n",
       "      <td>0</td>\n",
       "      <td>0</td>\n",
       "      <td>2-4</td>\n",
       "    </tr>\n",
       "    <tr>\n",
       "      <th>1</th>\n",
       "      <td>15749177</td>\n",
       "      <td>Okwudiliolisa</td>\n",
       "      <td>627</td>\n",
       "      <td>France</td>\n",
       "      <td>Male</td>\n",
       "      <td>33.0</td>\n",
       "      <td>1</td>\n",
       "      <td>0.00</td>\n",
       "      <td>2</td>\n",
       "      <td>1.0</td>\n",
       "      <td>1.0</td>\n",
       "      <td>49503.50</td>\n",
       "      <td>0</td>\n",
       "      <td>0</td>\n",
       "      <td>2-4</td>\n",
       "    </tr>\n",
       "    <tr>\n",
       "      <th>2</th>\n",
       "      <td>15694510</td>\n",
       "      <td>Hsueh</td>\n",
       "      <td>678</td>\n",
       "      <td>France</td>\n",
       "      <td>Male</td>\n",
       "      <td>40.0</td>\n",
       "      <td>10</td>\n",
       "      <td>0.00</td>\n",
       "      <td>2</td>\n",
       "      <td>1.0</td>\n",
       "      <td>0.0</td>\n",
       "      <td>184866.69</td>\n",
       "      <td>0</td>\n",
       "      <td>0</td>\n",
       "      <td>2-4</td>\n",
       "    </tr>\n",
       "    <tr>\n",
       "      <th>3</th>\n",
       "      <td>15741417</td>\n",
       "      <td>Kao</td>\n",
       "      <td>581</td>\n",
       "      <td>France</td>\n",
       "      <td>Male</td>\n",
       "      <td>34.0</td>\n",
       "      <td>2</td>\n",
       "      <td>148882.54</td>\n",
       "      <td>1</td>\n",
       "      <td>1.0</td>\n",
       "      <td>1.0</td>\n",
       "      <td>84560.88</td>\n",
       "      <td>0</td>\n",
       "      <td>1</td>\n",
       "      <td>1</td>\n",
       "    </tr>\n",
       "    <tr>\n",
       "      <th>4</th>\n",
       "      <td>15766172</td>\n",
       "      <td>Chiemenam</td>\n",
       "      <td>716</td>\n",
       "      <td>Spain</td>\n",
       "      <td>Male</td>\n",
       "      <td>33.0</td>\n",
       "      <td>5</td>\n",
       "      <td>0.00</td>\n",
       "      <td>2</td>\n",
       "      <td>1.0</td>\n",
       "      <td>1.0</td>\n",
       "      <td>15068.83</td>\n",
       "      <td>0</td>\n",
       "      <td>0</td>\n",
       "      <td>2-4</td>\n",
       "    </tr>\n",
       "  </tbody>\n",
       "</table>\n",
       "</div>"
      ],
      "text/plain": [
       "    CustomerId         Surname  CreditScore Geography Gender   Age  Tenure  \\\n",
       "id                                                                           \n",
       "0     15674932  Okwudilichukwu          668    France   Male  33.0       3   \n",
       "1     15749177   Okwudiliolisa          627    France   Male  33.0       1   \n",
       "2     15694510           Hsueh          678    France   Male  40.0      10   \n",
       "3     15741417             Kao          581    France   Male  34.0       2   \n",
       "4     15766172       Chiemenam          716     Spain   Male  33.0       5   \n",
       "\n",
       "      Balance  NumOfProducts  HasCrCard  IsActiveMember  EstimatedSalary  \\\n",
       "id                                                                         \n",
       "0        0.00              2        1.0             0.0        181449.97   \n",
       "1        0.00              2        1.0             1.0         49503.50   \n",
       "2        0.00              2        1.0             0.0        184866.69   \n",
       "3   148882.54              1        1.0             1.0         84560.88   \n",
       "4        0.00              2        1.0             1.0         15068.83   \n",
       "\n",
       "    Exited  x_Balance NumOfProdBins  \n",
       "id                                   \n",
       "0        0          0           2-4  \n",
       "1        0          0           2-4  \n",
       "2        0          0           2-4  \n",
       "3        0          1             1  \n",
       "4        0          0           2-4  "
      ]
     },
     "execution_count": 18,
     "metadata": {},
     "output_type": "execute_result"
    }
   ],
   "source": [
    "# we will merge the 3s and 4s as they are very sparse\n",
    "df_train[\"NumOfProdBins\"] = np.where(df_train[\"NumOfProducts\"] == 1, \"1\", \"2-4\")\n",
    "df_train.head()"
   ]
  },
  {
   "cell_type": "markdown",
   "id": "b7f7df14",
   "metadata": {
    "papermill": {
     "duration": 0.022046,
     "end_time": "2024-01-15T05:04:21.541653",
     "exception": false,
     "start_time": "2024-01-15T05:04:21.519607",
     "status": "completed"
    },
    "tags": []
   },
   "source": [
    "#### Next we will do the one hot encoding of all the categorical variables"
   ]
  },
  {
   "cell_type": "code",
   "execution_count": 19,
   "id": "e567104c",
   "metadata": {
    "execution": {
     "iopub.execute_input": "2024-01-15T05:04:21.587859Z",
     "iopub.status.busy": "2024-01-15T05:04:21.587465Z",
     "iopub.status.idle": "2024-01-15T05:04:21.593292Z",
     "shell.execute_reply": "2024-01-15T05:04:21.592003Z"
    },
    "papermill": {
     "duration": 0.031708,
     "end_time": "2024-01-15T05:04:21.595639",
     "exception": false,
     "start_time": "2024-01-15T05:04:21.563931",
     "status": "completed"
    },
    "tags": []
   },
   "outputs": [],
   "source": [
    "cols_to_encode=[\"Geography\",\"Gender\",\"NumOfProdBins\"]"
   ]
  },
  {
   "cell_type": "code",
   "execution_count": 20,
   "id": "d82bd6c6",
   "metadata": {
    "execution": {
     "iopub.execute_input": "2024-01-15T05:04:21.641694Z",
     "iopub.status.busy": "2024-01-15T05:04:21.641315Z",
     "iopub.status.idle": "2024-01-15T05:04:21.754948Z",
     "shell.execute_reply": "2024-01-15T05:04:21.753773Z"
    },
    "papermill": {
     "duration": 0.139298,
     "end_time": "2024-01-15T05:04:21.757453",
     "exception": false,
     "start_time": "2024-01-15T05:04:21.618155",
     "status": "completed"
    },
    "tags": []
   },
   "outputs": [
    {
     "data": {
      "text/html": [
       "<div>\n",
       "<style scoped>\n",
       "    .dataframe tbody tr th:only-of-type {\n",
       "        vertical-align: middle;\n",
       "    }\n",
       "\n",
       "    .dataframe tbody tr th {\n",
       "        vertical-align: top;\n",
       "    }\n",
       "\n",
       "    .dataframe thead th {\n",
       "        text-align: right;\n",
       "    }\n",
       "</style>\n",
       "<table border=\"1\" class=\"dataframe\">\n",
       "  <thead>\n",
       "    <tr style=\"text-align: right;\">\n",
       "      <th></th>\n",
       "      <th>CustomerId</th>\n",
       "      <th>Surname</th>\n",
       "      <th>CreditScore</th>\n",
       "      <th>Age</th>\n",
       "      <th>Tenure</th>\n",
       "      <th>Balance</th>\n",
       "      <th>NumOfProducts</th>\n",
       "      <th>HasCrCard</th>\n",
       "      <th>IsActiveMember</th>\n",
       "      <th>EstimatedSalary</th>\n",
       "      <th>Exited</th>\n",
       "      <th>x_Balance</th>\n",
       "      <th>Geography_France</th>\n",
       "      <th>Geography_Germany</th>\n",
       "      <th>Geography_Spain</th>\n",
       "      <th>Gender_Female</th>\n",
       "      <th>Gender_Male</th>\n",
       "      <th>NumOfProdBins_1</th>\n",
       "      <th>NumOfProdBins_2-4</th>\n",
       "    </tr>\n",
       "    <tr>\n",
       "      <th>id</th>\n",
       "      <th></th>\n",
       "      <th></th>\n",
       "      <th></th>\n",
       "      <th></th>\n",
       "      <th></th>\n",
       "      <th></th>\n",
       "      <th></th>\n",
       "      <th></th>\n",
       "      <th></th>\n",
       "      <th></th>\n",
       "      <th></th>\n",
       "      <th></th>\n",
       "      <th></th>\n",
       "      <th></th>\n",
       "      <th></th>\n",
       "      <th></th>\n",
       "      <th></th>\n",
       "      <th></th>\n",
       "      <th></th>\n",
       "    </tr>\n",
       "  </thead>\n",
       "  <tbody>\n",
       "    <tr>\n",
       "      <th>0</th>\n",
       "      <td>15674932</td>\n",
       "      <td>Okwudilichukwu</td>\n",
       "      <td>668</td>\n",
       "      <td>33.0</td>\n",
       "      <td>3</td>\n",
       "      <td>0.00</td>\n",
       "      <td>2</td>\n",
       "      <td>1.0</td>\n",
       "      <td>0.0</td>\n",
       "      <td>181449.97</td>\n",
       "      <td>0</td>\n",
       "      <td>0</td>\n",
       "      <td>1</td>\n",
       "      <td>0</td>\n",
       "      <td>0</td>\n",
       "      <td>0</td>\n",
       "      <td>1</td>\n",
       "      <td>0</td>\n",
       "      <td>1</td>\n",
       "    </tr>\n",
       "    <tr>\n",
       "      <th>1</th>\n",
       "      <td>15749177</td>\n",
       "      <td>Okwudiliolisa</td>\n",
       "      <td>627</td>\n",
       "      <td>33.0</td>\n",
       "      <td>1</td>\n",
       "      <td>0.00</td>\n",
       "      <td>2</td>\n",
       "      <td>1.0</td>\n",
       "      <td>1.0</td>\n",
       "      <td>49503.50</td>\n",
       "      <td>0</td>\n",
       "      <td>0</td>\n",
       "      <td>1</td>\n",
       "      <td>0</td>\n",
       "      <td>0</td>\n",
       "      <td>0</td>\n",
       "      <td>1</td>\n",
       "      <td>0</td>\n",
       "      <td>1</td>\n",
       "    </tr>\n",
       "    <tr>\n",
       "      <th>2</th>\n",
       "      <td>15694510</td>\n",
       "      <td>Hsueh</td>\n",
       "      <td>678</td>\n",
       "      <td>40.0</td>\n",
       "      <td>10</td>\n",
       "      <td>0.00</td>\n",
       "      <td>2</td>\n",
       "      <td>1.0</td>\n",
       "      <td>0.0</td>\n",
       "      <td>184866.69</td>\n",
       "      <td>0</td>\n",
       "      <td>0</td>\n",
       "      <td>1</td>\n",
       "      <td>0</td>\n",
       "      <td>0</td>\n",
       "      <td>0</td>\n",
       "      <td>1</td>\n",
       "      <td>0</td>\n",
       "      <td>1</td>\n",
       "    </tr>\n",
       "    <tr>\n",
       "      <th>3</th>\n",
       "      <td>15741417</td>\n",
       "      <td>Kao</td>\n",
       "      <td>581</td>\n",
       "      <td>34.0</td>\n",
       "      <td>2</td>\n",
       "      <td>148882.54</td>\n",
       "      <td>1</td>\n",
       "      <td>1.0</td>\n",
       "      <td>1.0</td>\n",
       "      <td>84560.88</td>\n",
       "      <td>0</td>\n",
       "      <td>1</td>\n",
       "      <td>1</td>\n",
       "      <td>0</td>\n",
       "      <td>0</td>\n",
       "      <td>0</td>\n",
       "      <td>1</td>\n",
       "      <td>1</td>\n",
       "      <td>0</td>\n",
       "    </tr>\n",
       "    <tr>\n",
       "      <th>4</th>\n",
       "      <td>15766172</td>\n",
       "      <td>Chiemenam</td>\n",
       "      <td>716</td>\n",
       "      <td>33.0</td>\n",
       "      <td>5</td>\n",
       "      <td>0.00</td>\n",
       "      <td>2</td>\n",
       "      <td>1.0</td>\n",
       "      <td>1.0</td>\n",
       "      <td>15068.83</td>\n",
       "      <td>0</td>\n",
       "      <td>0</td>\n",
       "      <td>0</td>\n",
       "      <td>0</td>\n",
       "      <td>1</td>\n",
       "      <td>0</td>\n",
       "      <td>1</td>\n",
       "      <td>0</td>\n",
       "      <td>1</td>\n",
       "    </tr>\n",
       "  </tbody>\n",
       "</table>\n",
       "</div>"
      ],
      "text/plain": [
       "    CustomerId         Surname  CreditScore   Age  Tenure    Balance  \\\n",
       "id                                                                     \n",
       "0     15674932  Okwudilichukwu          668  33.0       3       0.00   \n",
       "1     15749177   Okwudiliolisa          627  33.0       1       0.00   \n",
       "2     15694510           Hsueh          678  40.0      10       0.00   \n",
       "3     15741417             Kao          581  34.0       2  148882.54   \n",
       "4     15766172       Chiemenam          716  33.0       5       0.00   \n",
       "\n",
       "    NumOfProducts  HasCrCard  IsActiveMember  EstimatedSalary  Exited  \\\n",
       "id                                                                      \n",
       "0               2        1.0             0.0        181449.97       0   \n",
       "1               2        1.0             1.0         49503.50       0   \n",
       "2               2        1.0             0.0        184866.69       0   \n",
       "3               1        1.0             1.0         84560.88       0   \n",
       "4               2        1.0             1.0         15068.83       0   \n",
       "\n",
       "    x_Balance  Geography_France  Geography_Germany  Geography_Spain  \\\n",
       "id                                                                    \n",
       "0           0                 1                  0                0   \n",
       "1           0                 1                  0                0   \n",
       "2           0                 1                  0                0   \n",
       "3           1                 1                  0                0   \n",
       "4           0                 0                  0                1   \n",
       "\n",
       "    Gender_Female  Gender_Male  NumOfProdBins_1  NumOfProdBins_2-4  \n",
       "id                                                                  \n",
       "0               0            1                0                  1  \n",
       "1               0            1                0                  1  \n",
       "2               0            1                0                  1  \n",
       "3               0            1                1                  0  \n",
       "4               0            1                0                  1  "
      ]
     },
     "execution_count": 20,
     "metadata": {},
     "output_type": "execute_result"
    }
   ],
   "source": [
    "df_train=pd.get_dummies(df_train, columns=cols_to_encode,dtype=int)\n",
    "df_train.head()"
   ]
  },
  {
   "cell_type": "markdown",
   "id": "acbb7104",
   "metadata": {
    "papermill": {
     "duration": 0.022764,
     "end_time": "2024-01-15T05:04:21.801863",
     "exception": false,
     "start_time": "2024-01-15T05:04:21.779099",
     "status": "completed"
    },
    "tags": []
   },
   "source": [
    "#### We will use both undersampling and SMOTE methods to reduce the data imbalance"
   ]
  },
  {
   "cell_type": "code",
   "execution_count": 21,
   "id": "9da3e3b1",
   "metadata": {
    "execution": {
     "iopub.execute_input": "2024-01-15T05:04:21.848853Z",
     "iopub.status.busy": "2024-01-15T05:04:21.848467Z",
     "iopub.status.idle": "2024-01-15T05:04:21.862725Z",
     "shell.execute_reply": "2024-01-15T05:04:21.861772Z"
    },
    "papermill": {
     "duration": 0.040237,
     "end_time": "2024-01-15T05:04:21.865337",
     "exception": false,
     "start_time": "2024-01-15T05:04:21.825100",
     "status": "completed"
    },
    "tags": []
   },
   "outputs": [],
   "source": [
    "X_train = df_train.drop('Exited', axis=1) \n",
    "y_train = df_train['Exited']"
   ]
  },
  {
   "cell_type": "code",
   "execution_count": 22,
   "id": "5f48a82c",
   "metadata": {
    "execution": {
     "iopub.execute_input": "2024-01-15T05:04:21.913863Z",
     "iopub.status.busy": "2024-01-15T05:04:21.913453Z",
     "iopub.status.idle": "2024-01-15T05:04:21.935939Z",
     "shell.execute_reply": "2024-01-15T05:04:21.934610Z"
    },
    "papermill": {
     "duration": 0.051119,
     "end_time": "2024-01-15T05:04:21.938435",
     "exception": false,
     "start_time": "2024-01-15T05:04:21.887316",
     "status": "completed"
    },
    "tags": []
   },
   "outputs": [
    {
     "data": {
      "text/html": [
       "<div>\n",
       "<style scoped>\n",
       "    .dataframe tbody tr th:only-of-type {\n",
       "        vertical-align: middle;\n",
       "    }\n",
       "\n",
       "    .dataframe tbody tr th {\n",
       "        vertical-align: top;\n",
       "    }\n",
       "\n",
       "    .dataframe thead th {\n",
       "        text-align: right;\n",
       "    }\n",
       "</style>\n",
       "<table border=\"1\" class=\"dataframe\">\n",
       "  <thead>\n",
       "    <tr style=\"text-align: right;\">\n",
       "      <th></th>\n",
       "      <th>CustomerId</th>\n",
       "      <th>Surname</th>\n",
       "      <th>CreditScore</th>\n",
       "      <th>Age</th>\n",
       "      <th>Tenure</th>\n",
       "      <th>Balance</th>\n",
       "      <th>NumOfProducts</th>\n",
       "      <th>HasCrCard</th>\n",
       "      <th>IsActiveMember</th>\n",
       "      <th>EstimatedSalary</th>\n",
       "      <th>x_Balance</th>\n",
       "      <th>Geography_France</th>\n",
       "      <th>Geography_Germany</th>\n",
       "      <th>Geography_Spain</th>\n",
       "      <th>Gender_Female</th>\n",
       "      <th>Gender_Male</th>\n",
       "      <th>NumOfProdBins_1</th>\n",
       "      <th>NumOfProdBins_2-4</th>\n",
       "    </tr>\n",
       "    <tr>\n",
       "      <th>id</th>\n",
       "      <th></th>\n",
       "      <th></th>\n",
       "      <th></th>\n",
       "      <th></th>\n",
       "      <th></th>\n",
       "      <th></th>\n",
       "      <th></th>\n",
       "      <th></th>\n",
       "      <th></th>\n",
       "      <th></th>\n",
       "      <th></th>\n",
       "      <th></th>\n",
       "      <th></th>\n",
       "      <th></th>\n",
       "      <th></th>\n",
       "      <th></th>\n",
       "      <th></th>\n",
       "      <th></th>\n",
       "    </tr>\n",
       "  </thead>\n",
       "  <tbody>\n",
       "    <tr>\n",
       "      <th>0</th>\n",
       "      <td>15674932</td>\n",
       "      <td>Okwudilichukwu</td>\n",
       "      <td>668</td>\n",
       "      <td>33.0</td>\n",
       "      <td>3</td>\n",
       "      <td>0.00</td>\n",
       "      <td>2</td>\n",
       "      <td>1.0</td>\n",
       "      <td>0.0</td>\n",
       "      <td>181449.97</td>\n",
       "      <td>0</td>\n",
       "      <td>1</td>\n",
       "      <td>0</td>\n",
       "      <td>0</td>\n",
       "      <td>0</td>\n",
       "      <td>1</td>\n",
       "      <td>0</td>\n",
       "      <td>1</td>\n",
       "    </tr>\n",
       "    <tr>\n",
       "      <th>1</th>\n",
       "      <td>15749177</td>\n",
       "      <td>Okwudiliolisa</td>\n",
       "      <td>627</td>\n",
       "      <td>33.0</td>\n",
       "      <td>1</td>\n",
       "      <td>0.00</td>\n",
       "      <td>2</td>\n",
       "      <td>1.0</td>\n",
       "      <td>1.0</td>\n",
       "      <td>49503.50</td>\n",
       "      <td>0</td>\n",
       "      <td>1</td>\n",
       "      <td>0</td>\n",
       "      <td>0</td>\n",
       "      <td>0</td>\n",
       "      <td>1</td>\n",
       "      <td>0</td>\n",
       "      <td>1</td>\n",
       "    </tr>\n",
       "    <tr>\n",
       "      <th>2</th>\n",
       "      <td>15694510</td>\n",
       "      <td>Hsueh</td>\n",
       "      <td>678</td>\n",
       "      <td>40.0</td>\n",
       "      <td>10</td>\n",
       "      <td>0.00</td>\n",
       "      <td>2</td>\n",
       "      <td>1.0</td>\n",
       "      <td>0.0</td>\n",
       "      <td>184866.69</td>\n",
       "      <td>0</td>\n",
       "      <td>1</td>\n",
       "      <td>0</td>\n",
       "      <td>0</td>\n",
       "      <td>0</td>\n",
       "      <td>1</td>\n",
       "      <td>0</td>\n",
       "      <td>1</td>\n",
       "    </tr>\n",
       "    <tr>\n",
       "      <th>3</th>\n",
       "      <td>15741417</td>\n",
       "      <td>Kao</td>\n",
       "      <td>581</td>\n",
       "      <td>34.0</td>\n",
       "      <td>2</td>\n",
       "      <td>148882.54</td>\n",
       "      <td>1</td>\n",
       "      <td>1.0</td>\n",
       "      <td>1.0</td>\n",
       "      <td>84560.88</td>\n",
       "      <td>1</td>\n",
       "      <td>1</td>\n",
       "      <td>0</td>\n",
       "      <td>0</td>\n",
       "      <td>0</td>\n",
       "      <td>1</td>\n",
       "      <td>1</td>\n",
       "      <td>0</td>\n",
       "    </tr>\n",
       "    <tr>\n",
       "      <th>4</th>\n",
       "      <td>15766172</td>\n",
       "      <td>Chiemenam</td>\n",
       "      <td>716</td>\n",
       "      <td>33.0</td>\n",
       "      <td>5</td>\n",
       "      <td>0.00</td>\n",
       "      <td>2</td>\n",
       "      <td>1.0</td>\n",
       "      <td>1.0</td>\n",
       "      <td>15068.83</td>\n",
       "      <td>0</td>\n",
       "      <td>0</td>\n",
       "      <td>0</td>\n",
       "      <td>1</td>\n",
       "      <td>0</td>\n",
       "      <td>1</td>\n",
       "      <td>0</td>\n",
       "      <td>1</td>\n",
       "    </tr>\n",
       "  </tbody>\n",
       "</table>\n",
       "</div>"
      ],
      "text/plain": [
       "    CustomerId         Surname  CreditScore   Age  Tenure    Balance  \\\n",
       "id                                                                     \n",
       "0     15674932  Okwudilichukwu          668  33.0       3       0.00   \n",
       "1     15749177   Okwudiliolisa          627  33.0       1       0.00   \n",
       "2     15694510           Hsueh          678  40.0      10       0.00   \n",
       "3     15741417             Kao          581  34.0       2  148882.54   \n",
       "4     15766172       Chiemenam          716  33.0       5       0.00   \n",
       "\n",
       "    NumOfProducts  HasCrCard  IsActiveMember  EstimatedSalary  x_Balance  \\\n",
       "id                                                                         \n",
       "0               2        1.0             0.0        181449.97          0   \n",
       "1               2        1.0             1.0         49503.50          0   \n",
       "2               2        1.0             0.0        184866.69          0   \n",
       "3               1        1.0             1.0         84560.88          1   \n",
       "4               2        1.0             1.0         15068.83          0   \n",
       "\n",
       "    Geography_France  Geography_Germany  Geography_Spain  Gender_Female  \\\n",
       "id                                                                        \n",
       "0                  1                  0                0              0   \n",
       "1                  1                  0                0              0   \n",
       "2                  1                  0                0              0   \n",
       "3                  1                  0                0              0   \n",
       "4                  0                  0                1              0   \n",
       "\n",
       "    Gender_Male  NumOfProdBins_1  NumOfProdBins_2-4  \n",
       "id                                                   \n",
       "0             1                0                  1  \n",
       "1             1                0                  1  \n",
       "2             1                0                  1  \n",
       "3             1                1                  0  \n",
       "4             1                0                  1  "
      ]
     },
     "execution_count": 22,
     "metadata": {},
     "output_type": "execute_result"
    }
   ],
   "source": [
    "X_train.head()"
   ]
  },
  {
   "cell_type": "markdown",
   "id": "cfa2c9d5",
   "metadata": {
    "papermill": {
     "duration": 0.022517,
     "end_time": "2024-01-15T05:04:21.983431",
     "exception": false,
     "start_time": "2024-01-15T05:04:21.960914",
     "status": "completed"
    },
    "tags": []
   },
   "source": [
    "### Step 4: Models under consideration: Our final output is supposed to be probabilities. Logistic regression is an obvious first choice to generate classification probabilities. Apart from that we will use tree based approaches which are intrisically not sensitive to class imbalance. Finally we will use a neural network"
   ]
  },
  {
   "cell_type": "code",
   "execution_count": 23,
   "id": "681c1a4d",
   "metadata": {
    "execution": {
     "iopub.execute_input": "2024-01-15T05:04:22.030970Z",
     "iopub.status.busy": "2024-01-15T05:04:22.030098Z",
     "iopub.status.idle": "2024-01-15T05:04:22.050229Z",
     "shell.execute_reply": "2024-01-15T05:04:22.048969Z"
    },
    "papermill": {
     "duration": 0.047018,
     "end_time": "2024-01-15T05:04:22.052617",
     "exception": false,
     "start_time": "2024-01-15T05:04:22.005599",
     "status": "completed"
    },
    "tags": []
   },
   "outputs": [],
   "source": [
    "X=X_train.drop(columns=['CustomerId','Surname'])\n",
    "y=y_train"
   ]
  },
  {
   "cell_type": "code",
   "execution_count": 24,
   "id": "38c117a3",
   "metadata": {
    "execution": {
     "iopub.execute_input": "2024-01-15T05:04:22.100638Z",
     "iopub.status.busy": "2024-01-15T05:04:22.100245Z",
     "iopub.status.idle": "2024-01-15T05:04:22.118711Z",
     "shell.execute_reply": "2024-01-15T05:04:22.117501Z"
    },
    "papermill": {
     "duration": 0.046037,
     "end_time": "2024-01-15T05:04:22.120822",
     "exception": false,
     "start_time": "2024-01-15T05:04:22.074785",
     "status": "completed"
    },
    "tags": []
   },
   "outputs": [
    {
     "data": {
      "text/html": [
       "<div>\n",
       "<style scoped>\n",
       "    .dataframe tbody tr th:only-of-type {\n",
       "        vertical-align: middle;\n",
       "    }\n",
       "\n",
       "    .dataframe tbody tr th {\n",
       "        vertical-align: top;\n",
       "    }\n",
       "\n",
       "    .dataframe thead th {\n",
       "        text-align: right;\n",
       "    }\n",
       "</style>\n",
       "<table border=\"1\" class=\"dataframe\">\n",
       "  <thead>\n",
       "    <tr style=\"text-align: right;\">\n",
       "      <th></th>\n",
       "      <th>CreditScore</th>\n",
       "      <th>Age</th>\n",
       "      <th>Tenure</th>\n",
       "      <th>Balance</th>\n",
       "      <th>NumOfProducts</th>\n",
       "      <th>HasCrCard</th>\n",
       "      <th>IsActiveMember</th>\n",
       "      <th>EstimatedSalary</th>\n",
       "      <th>x_Balance</th>\n",
       "      <th>Geography_France</th>\n",
       "      <th>Geography_Germany</th>\n",
       "      <th>Geography_Spain</th>\n",
       "      <th>Gender_Female</th>\n",
       "      <th>Gender_Male</th>\n",
       "      <th>NumOfProdBins_1</th>\n",
       "      <th>NumOfProdBins_2-4</th>\n",
       "    </tr>\n",
       "    <tr>\n",
       "      <th>id</th>\n",
       "      <th></th>\n",
       "      <th></th>\n",
       "      <th></th>\n",
       "      <th></th>\n",
       "      <th></th>\n",
       "      <th></th>\n",
       "      <th></th>\n",
       "      <th></th>\n",
       "      <th></th>\n",
       "      <th></th>\n",
       "      <th></th>\n",
       "      <th></th>\n",
       "      <th></th>\n",
       "      <th></th>\n",
       "      <th></th>\n",
       "      <th></th>\n",
       "    </tr>\n",
       "  </thead>\n",
       "  <tbody>\n",
       "    <tr>\n",
       "      <th>0</th>\n",
       "      <td>668</td>\n",
       "      <td>33.0</td>\n",
       "      <td>3</td>\n",
       "      <td>0.00</td>\n",
       "      <td>2</td>\n",
       "      <td>1.0</td>\n",
       "      <td>0.0</td>\n",
       "      <td>181449.97</td>\n",
       "      <td>0</td>\n",
       "      <td>1</td>\n",
       "      <td>0</td>\n",
       "      <td>0</td>\n",
       "      <td>0</td>\n",
       "      <td>1</td>\n",
       "      <td>0</td>\n",
       "      <td>1</td>\n",
       "    </tr>\n",
       "    <tr>\n",
       "      <th>1</th>\n",
       "      <td>627</td>\n",
       "      <td>33.0</td>\n",
       "      <td>1</td>\n",
       "      <td>0.00</td>\n",
       "      <td>2</td>\n",
       "      <td>1.0</td>\n",
       "      <td>1.0</td>\n",
       "      <td>49503.50</td>\n",
       "      <td>0</td>\n",
       "      <td>1</td>\n",
       "      <td>0</td>\n",
       "      <td>0</td>\n",
       "      <td>0</td>\n",
       "      <td>1</td>\n",
       "      <td>0</td>\n",
       "      <td>1</td>\n",
       "    </tr>\n",
       "    <tr>\n",
       "      <th>2</th>\n",
       "      <td>678</td>\n",
       "      <td>40.0</td>\n",
       "      <td>10</td>\n",
       "      <td>0.00</td>\n",
       "      <td>2</td>\n",
       "      <td>1.0</td>\n",
       "      <td>0.0</td>\n",
       "      <td>184866.69</td>\n",
       "      <td>0</td>\n",
       "      <td>1</td>\n",
       "      <td>0</td>\n",
       "      <td>0</td>\n",
       "      <td>0</td>\n",
       "      <td>1</td>\n",
       "      <td>0</td>\n",
       "      <td>1</td>\n",
       "    </tr>\n",
       "    <tr>\n",
       "      <th>3</th>\n",
       "      <td>581</td>\n",
       "      <td>34.0</td>\n",
       "      <td>2</td>\n",
       "      <td>148882.54</td>\n",
       "      <td>1</td>\n",
       "      <td>1.0</td>\n",
       "      <td>1.0</td>\n",
       "      <td>84560.88</td>\n",
       "      <td>1</td>\n",
       "      <td>1</td>\n",
       "      <td>0</td>\n",
       "      <td>0</td>\n",
       "      <td>0</td>\n",
       "      <td>1</td>\n",
       "      <td>1</td>\n",
       "      <td>0</td>\n",
       "    </tr>\n",
       "    <tr>\n",
       "      <th>4</th>\n",
       "      <td>716</td>\n",
       "      <td>33.0</td>\n",
       "      <td>5</td>\n",
       "      <td>0.00</td>\n",
       "      <td>2</td>\n",
       "      <td>1.0</td>\n",
       "      <td>1.0</td>\n",
       "      <td>15068.83</td>\n",
       "      <td>0</td>\n",
       "      <td>0</td>\n",
       "      <td>0</td>\n",
       "      <td>1</td>\n",
       "      <td>0</td>\n",
       "      <td>1</td>\n",
       "      <td>0</td>\n",
       "      <td>1</td>\n",
       "    </tr>\n",
       "  </tbody>\n",
       "</table>\n",
       "</div>"
      ],
      "text/plain": [
       "    CreditScore   Age  Tenure    Balance  NumOfProducts  HasCrCard  \\\n",
       "id                                                                   \n",
       "0           668  33.0       3       0.00              2        1.0   \n",
       "1           627  33.0       1       0.00              2        1.0   \n",
       "2           678  40.0      10       0.00              2        1.0   \n",
       "3           581  34.0       2  148882.54              1        1.0   \n",
       "4           716  33.0       5       0.00              2        1.0   \n",
       "\n",
       "    IsActiveMember  EstimatedSalary  x_Balance  Geography_France  \\\n",
       "id                                                                 \n",
       "0              0.0        181449.97          0                 1   \n",
       "1              1.0         49503.50          0                 1   \n",
       "2              0.0        184866.69          0                 1   \n",
       "3              1.0         84560.88          1                 1   \n",
       "4              1.0         15068.83          0                 0   \n",
       "\n",
       "    Geography_Germany  Geography_Spain  Gender_Female  Gender_Male  \\\n",
       "id                                                                   \n",
       "0                   0                0              0            1   \n",
       "1                   0                0              0            1   \n",
       "2                   0                0              0            1   \n",
       "3                   0                0              0            1   \n",
       "4                   0                1              0            1   \n",
       "\n",
       "    NumOfProdBins_1  NumOfProdBins_2-4  \n",
       "id                                      \n",
       "0                 0                  1  \n",
       "1                 0                  1  \n",
       "2                 0                  1  \n",
       "3                 1                  0  \n",
       "4                 0                  1  "
      ]
     },
     "execution_count": 24,
     "metadata": {},
     "output_type": "execute_result"
    }
   ],
   "source": [
    "X.head()"
   ]
  },
  {
   "cell_type": "code",
   "execution_count": 25,
   "id": "37c54afc",
   "metadata": {
    "execution": {
     "iopub.execute_input": "2024-01-15T05:04:22.168732Z",
     "iopub.status.busy": "2024-01-15T05:04:22.168351Z",
     "iopub.status.idle": "2024-01-15T05:04:22.279598Z",
     "shell.execute_reply": "2024-01-15T05:04:22.278075Z"
    },
    "papermill": {
     "duration": 0.138569,
     "end_time": "2024-01-15T05:04:22.282115",
     "exception": false,
     "start_time": "2024-01-15T05:04:22.143546",
     "status": "completed"
    },
    "tags": []
   },
   "outputs": [],
   "source": [
    "train_X, val_X, train_y, val_y = train_test_split(X, y, test_size=0.2, random_state=55, stratify=y)"
   ]
  },
  {
   "cell_type": "markdown",
   "id": "08954ef5",
   "metadata": {
    "papermill": {
     "duration": 0.022176,
     "end_time": "2024-01-15T05:04:22.328804",
     "exception": false,
     "start_time": "2024-01-15T05:04:22.306628",
     "status": "completed"
    },
    "tags": []
   },
   "source": [
    "### Lets start modelling"
   ]
  },
  {
   "cell_type": "code",
   "execution_count": 26,
   "id": "27a8409c",
   "metadata": {
    "execution": {
     "iopub.execute_input": "2024-01-15T05:04:22.376252Z",
     "iopub.status.busy": "2024-01-15T05:04:22.375118Z",
     "iopub.status.idle": "2024-01-15T05:04:23.109828Z",
     "shell.execute_reply": "2024-01-15T05:04:23.108212Z"
    },
    "papermill": {
     "duration": 0.76221,
     "end_time": "2024-01-15T05:04:23.113957",
     "exception": false,
     "start_time": "2024-01-15T05:04:22.351747",
     "status": "completed"
    },
    "tags": []
   },
   "outputs": [
    {
     "data": {
      "text/html": [
       "<style>#sk-container-id-1 {color: black;background-color: white;}#sk-container-id-1 pre{padding: 0;}#sk-container-id-1 div.sk-toggleable {background-color: white;}#sk-container-id-1 label.sk-toggleable__label {cursor: pointer;display: block;width: 100%;margin-bottom: 0;padding: 0.3em;box-sizing: border-box;text-align: center;}#sk-container-id-1 label.sk-toggleable__label-arrow:before {content: \"▸\";float: left;margin-right: 0.25em;color: #696969;}#sk-container-id-1 label.sk-toggleable__label-arrow:hover:before {color: black;}#sk-container-id-1 div.sk-estimator:hover label.sk-toggleable__label-arrow:before {color: black;}#sk-container-id-1 div.sk-toggleable__content {max-height: 0;max-width: 0;overflow: hidden;text-align: left;background-color: #f0f8ff;}#sk-container-id-1 div.sk-toggleable__content pre {margin: 0.2em;color: black;border-radius: 0.25em;background-color: #f0f8ff;}#sk-container-id-1 input.sk-toggleable__control:checked~div.sk-toggleable__content {max-height: 200px;max-width: 100%;overflow: auto;}#sk-container-id-1 input.sk-toggleable__control:checked~label.sk-toggleable__label-arrow:before {content: \"▾\";}#sk-container-id-1 div.sk-estimator input.sk-toggleable__control:checked~label.sk-toggleable__label {background-color: #d4ebff;}#sk-container-id-1 div.sk-label input.sk-toggleable__control:checked~label.sk-toggleable__label {background-color: #d4ebff;}#sk-container-id-1 input.sk-hidden--visually {border: 0;clip: rect(1px 1px 1px 1px);clip: rect(1px, 1px, 1px, 1px);height: 1px;margin: -1px;overflow: hidden;padding: 0;position: absolute;width: 1px;}#sk-container-id-1 div.sk-estimator {font-family: monospace;background-color: #f0f8ff;border: 1px dotted black;border-radius: 0.25em;box-sizing: border-box;margin-bottom: 0.5em;}#sk-container-id-1 div.sk-estimator:hover {background-color: #d4ebff;}#sk-container-id-1 div.sk-parallel-item::after {content: \"\";width: 100%;border-bottom: 1px solid gray;flex-grow: 1;}#sk-container-id-1 div.sk-label:hover label.sk-toggleable__label {background-color: #d4ebff;}#sk-container-id-1 div.sk-serial::before {content: \"\";position: absolute;border-left: 1px solid gray;box-sizing: border-box;top: 0;bottom: 0;left: 50%;z-index: 0;}#sk-container-id-1 div.sk-serial {display: flex;flex-direction: column;align-items: center;background-color: white;padding-right: 0.2em;padding-left: 0.2em;position: relative;}#sk-container-id-1 div.sk-item {position: relative;z-index: 1;}#sk-container-id-1 div.sk-parallel {display: flex;align-items: stretch;justify-content: center;background-color: white;position: relative;}#sk-container-id-1 div.sk-item::before, #sk-container-id-1 div.sk-parallel-item::before {content: \"\";position: absolute;border-left: 1px solid gray;box-sizing: border-box;top: 0;bottom: 0;left: 50%;z-index: -1;}#sk-container-id-1 div.sk-parallel-item {display: flex;flex-direction: column;z-index: 1;position: relative;background-color: white;}#sk-container-id-1 div.sk-parallel-item:first-child::after {align-self: flex-end;width: 50%;}#sk-container-id-1 div.sk-parallel-item:last-child::after {align-self: flex-start;width: 50%;}#sk-container-id-1 div.sk-parallel-item:only-child::after {width: 0;}#sk-container-id-1 div.sk-dashed-wrapped {border: 1px dashed gray;margin: 0 0.4em 0.5em 0.4em;box-sizing: border-box;padding-bottom: 0.4em;background-color: white;}#sk-container-id-1 div.sk-label label {font-family: monospace;font-weight: bold;display: inline-block;line-height: 1.2em;}#sk-container-id-1 div.sk-label-container {text-align: center;}#sk-container-id-1 div.sk-container {/* jupyter's `normalize.less` sets `[hidden] { display: none; }` but bootstrap.min.css set `[hidden] { display: none !important; }` so we also need the `!important` here to be able to override the default hidden behavior on the sphinx rendered scikit-learn.org. See: https://github.com/scikit-learn/scikit-learn/issues/21755 */display: inline-block !important;position: relative;}#sk-container-id-1 div.sk-text-repr-fallback {display: none;}</style><div id=\"sk-container-id-1\" class=\"sk-top-container\"><div class=\"sk-text-repr-fallback\"><pre>LogisticRegression()</pre><b>In a Jupyter environment, please rerun this cell to show the HTML representation or trust the notebook. <br />On GitHub, the HTML representation is unable to render, please try loading this page with nbviewer.org.</b></div><div class=\"sk-container\" hidden><div class=\"sk-item\"><div class=\"sk-estimator sk-toggleable\"><input class=\"sk-toggleable__control sk-hidden--visually\" id=\"sk-estimator-id-1\" type=\"checkbox\" checked><label for=\"sk-estimator-id-1\" class=\"sk-toggleable__label sk-toggleable__label-arrow\">LogisticRegression</label><div class=\"sk-toggleable__content\"><pre>LogisticRegression()</pre></div></div></div></div></div>"
      ],
      "text/plain": [
       "LogisticRegression()"
      ]
     },
     "execution_count": 26,
     "metadata": {},
     "output_type": "execute_result"
    }
   ],
   "source": [
    "# logistic regression\n",
    "model_logistic=LogisticRegression()\n",
    "model_logistic.fit(train_X,train_y)"
   ]
  },
  {
   "cell_type": "code",
   "execution_count": 27,
   "id": "14121d0d",
   "metadata": {
    "execution": {
     "iopub.execute_input": "2024-01-15T05:04:23.198342Z",
     "iopub.status.busy": "2024-01-15T05:04:23.197747Z",
     "iopub.status.idle": "2024-01-15T05:04:23.214472Z",
     "shell.execute_reply": "2024-01-15T05:04:23.213275Z"
    },
    "papermill": {
     "duration": 0.062235,
     "end_time": "2024-01-15T05:04:23.217738",
     "exception": false,
     "start_time": "2024-01-15T05:04:23.155503",
     "status": "completed"
    },
    "tags": []
   },
   "outputs": [],
   "source": [
    "# Make predictions\n",
    "y_probs_logistic = model_logistic.predict_proba(val_X)[:, 1]  # Probabilities of the positive class"
   ]
  },
  {
   "cell_type": "code",
   "execution_count": 28,
   "id": "15d8d22b",
   "metadata": {
    "execution": {
     "iopub.execute_input": "2024-01-15T05:04:23.297240Z",
     "iopub.status.busy": "2024-01-15T05:04:23.296672Z",
     "iopub.status.idle": "2024-01-15T05:04:23.305618Z",
     "shell.execute_reply": "2024-01-15T05:04:23.304395Z"
    },
    "papermill": {
     "duration": 0.052153,
     "end_time": "2024-01-15T05:04:23.308533",
     "exception": false,
     "start_time": "2024-01-15T05:04:23.256380",
     "status": "completed"
    },
    "tags": []
   },
   "outputs": [],
   "source": [
    "def AUC(y_test,y_probs):\n",
    "    auc = roc_auc_score(y_test, y_probs)\n",
    "    fpr, tpr, thresholds = roc_curve(y_test, y_probs)\n",
    "    plt.plot(fpr, tpr, color='orange', label=f'AUC = {auc:.2f}')\n",
    "    plt.plot([0, 1], [0, 1], color='darkblue', linestyle='--')\n",
    "    plt.xlabel('False Positive Rate')\n",
    "    plt.ylabel('True Positive Rate')\n",
    "    plt.title('Receiver Operating Characteristic (ROC) Curve')\n",
    "    plt.legend()\n",
    "    plt.show()\n",
    "    return auc"
   ]
  },
  {
   "cell_type": "code",
   "execution_count": 29,
   "id": "952eb20d",
   "metadata": {
    "execution": {
     "iopub.execute_input": "2024-01-15T05:04:23.365962Z",
     "iopub.status.busy": "2024-01-15T05:04:23.365566Z",
     "iopub.status.idle": "2024-01-15T05:04:23.673510Z",
     "shell.execute_reply": "2024-01-15T05:04:23.672401Z"
    },
    "papermill": {
     "duration": 0.334756,
     "end_time": "2024-01-15T05:04:23.676196",
     "exception": false,
     "start_time": "2024-01-15T05:04:23.341440",
     "status": "completed"
    },
    "tags": []
   },
   "outputs": [
    {
     "data": {
      "image/png": "[encoded data removed]",
      "text/plain": [
       "<Figure size 640x480 with 1 Axes>"
      ]
     },
     "metadata": {},
     "output_type": "display_data"
    },
    {
     "data": {
      "text/plain": [
       "0.7159669398103599"
      ]
     },
     "execution_count": 29,
     "metadata": {},
     "output_type": "execute_result"
    }
   ],
   "source": [
    "AUC(val_y,y_probs_logistic)"
   ]
  },
  {
   "cell_type": "code",
   "execution_count": 30,
   "id": "20236c1e",
   "metadata": {
    "execution": {
     "iopub.execute_input": "2024-01-15T05:04:23.726760Z",
     "iopub.status.busy": "2024-01-15T05:04:23.725602Z",
     "iopub.status.idle": "2024-01-15T05:04:25.601363Z",
     "shell.execute_reply": "2024-01-15T05:04:25.600332Z"
    },
    "papermill": {
     "duration": 1.903953,
     "end_time": "2024-01-15T05:04:25.603909",
     "exception": false,
     "start_time": "2024-01-15T05:04:23.699956",
     "status": "completed"
    },
    "tags": []
   },
   "outputs": [],
   "source": [
    "# undersample\n",
    "undersample = RandomUnderSampler(sampling_strategy='majority', random_state=55)\n",
    "X_train_under, y_train_under = undersample.fit_resample(train_X, train_y)\n",
    "\n",
    "# SMOTE\n",
    "smote = SMOTE(random_state=55)\n",
    "X_train_smote, y_train_smote = smote.fit_resample(train_X, train_y)"
   ]
  },
  {
   "cell_type": "code",
   "execution_count": 31,
   "id": "5fec8aef",
   "metadata": {
    "execution": {
     "iopub.execute_input": "2024-01-15T05:04:25.653997Z",
     "iopub.status.busy": "2024-01-15T05:04:25.653634Z",
     "iopub.status.idle": "2024-01-15T05:04:27.043242Z",
     "shell.execute_reply": "2024-01-15T05:04:27.042016Z"
    },
    "papermill": {
     "duration": 1.418666,
     "end_time": "2024-01-15T05:04:27.046691",
     "exception": false,
     "start_time": "2024-01-15T05:04:25.628025",
     "status": "completed"
    },
    "tags": []
   },
   "outputs": [],
   "source": [
    "model_under_sample=model_logistic.fit(X_train_under,y_train_under)\n",
    "model_smote=model_logistic.fit(X_train_smote,y_train_smote)"
   ]
  },
  {
   "cell_type": "code",
   "execution_count": 32,
   "id": "f97b87ea",
   "metadata": {
    "execution": {
     "iopub.execute_input": "2024-01-15T05:04:27.134402Z",
     "iopub.status.busy": "2024-01-15T05:04:27.133429Z",
     "iopub.status.idle": "2024-01-15T05:04:27.150207Z",
     "shell.execute_reply": "2024-01-15T05:04:27.148807Z"
    },
    "papermill": {
     "duration": 0.065331,
     "end_time": "2024-01-15T05:04:27.154028",
     "exception": false,
     "start_time": "2024-01-15T05:04:27.088697",
     "status": "completed"
    },
    "tags": []
   },
   "outputs": [],
   "source": [
    "# Make predictions\n",
    "y_probs_under = model_under_sample.predict_proba(val_X)[:, 1]  # Probabilities of the positive class"
   ]
  },
  {
   "cell_type": "code",
   "execution_count": 33,
   "id": "292bc3e9",
   "metadata": {
    "execution": {
     "iopub.execute_input": "2024-01-15T05:04:27.237617Z",
     "iopub.status.busy": "2024-01-15T05:04:27.237074Z",
     "iopub.status.idle": "2024-01-15T05:04:27.568888Z",
     "shell.execute_reply": "2024-01-15T05:04:27.567776Z"
    },
    "papermill": {
     "duration": 0.377415,
     "end_time": "2024-01-15T05:04:27.571922",
     "exception": false,
     "start_time": "2024-01-15T05:04:27.194507",
     "status": "completed"
    },
    "tags": []
   },
   "outputs": [
    {
     "data": {
      "image/png": "[encoded data removed]",
      "text/plain": [
       "<Figure size 640x480 with 1 Axes>"
      ]
     },
     "metadata": {},
     "output_type": "display_data"
    },
    {
     "data": {
      "text/plain": [
       "0.738291978824442"
      ]
     },
     "execution_count": 33,
     "metadata": {},
     "output_type": "execute_result"
    }
   ],
   "source": [
    "AUC(val_y,y_probs_under)"
   ]
  },
  {
   "cell_type": "code",
   "execution_count": 34,
   "id": "62653370",
   "metadata": {
    "execution": {
     "iopub.execute_input": "2024-01-15T05:04:27.637233Z",
     "iopub.status.busy": "2024-01-15T05:04:27.636460Z",
     "iopub.status.idle": "2024-01-15T05:04:27.650466Z",
     "shell.execute_reply": "2024-01-15T05:04:27.649665Z"
    },
    "papermill": {
     "duration": 0.052643,
     "end_time": "2024-01-15T05:04:27.653741",
     "exception": false,
     "start_time": "2024-01-15T05:04:27.601098",
     "status": "completed"
    },
    "tags": []
   },
   "outputs": [],
   "source": [
    "# Make predictions\n",
    "y_probs_smote = model_smote.predict_proba(val_X)[:, 1]  # Probabilities of the positive class"
   ]
  },
  {
   "cell_type": "code",
   "execution_count": 35,
   "id": "c4ae7825",
   "metadata": {
    "execution": {
     "iopub.execute_input": "2024-01-15T05:04:27.738006Z",
     "iopub.status.busy": "2024-01-15T05:04:27.737471Z",
     "iopub.status.idle": "2024-01-15T05:04:28.071892Z",
     "shell.execute_reply": "2024-01-15T05:04:28.070784Z"
    },
    "papermill": {
     "duration": 0.380801,
     "end_time": "2024-01-15T05:04:28.075652",
     "exception": false,
     "start_time": "2024-01-15T05:04:27.694851",
     "status": "completed"
    },
    "tags": []
   },
   "outputs": [
    {
     "data": {
      "image/png": "[encoded data removed]",
      "text/plain": [
       "<Figure size 640x480 with 1 Axes>"
      ]
     },
     "metadata": {},
     "output_type": "display_data"
    },
    {
     "data": {
      "text/plain": [
       "0.738291978824442"
      ]
     },
     "execution_count": 35,
     "metadata": {},
     "output_type": "execute_result"
    }
   ],
   "source": [
    "AUC(val_y,y_probs_smote)"
   ]
  },
  {
   "cell_type": "markdown",
   "id": "dd173f04",
   "metadata": {
    "papermill": {
     "duration": 0.025316,
     "end_time": "2024-01-15T05:04:28.131978",
     "exception": false,
     "start_time": "2024-01-15T05:04:28.106662",
     "status": "completed"
    },
    "tags": []
   },
   "source": [
    "### Tree based approaches"
   ]
  },
  {
   "cell_type": "code",
   "execution_count": 36,
   "id": "507d0961",
   "metadata": {
    "execution": {
     "iopub.execute_input": "2024-01-15T05:04:28.186001Z",
     "iopub.status.busy": "2024-01-15T05:04:28.185488Z",
     "iopub.status.idle": "2024-01-15T05:04:28.208751Z",
     "shell.execute_reply": "2024-01-15T05:04:28.207655Z"
    },
    "papermill": {
     "duration": 0.053546,
     "end_time": "2024-01-15T05:04:28.210960",
     "exception": false,
     "start_time": "2024-01-15T05:04:28.157414",
     "status": "completed"
    },
    "tags": []
   },
   "outputs": [
    {
     "data": {
      "text/html": [
       "<div>\n",
       "<style scoped>\n",
       "    .dataframe tbody tr th:only-of-type {\n",
       "        vertical-align: middle;\n",
       "    }\n",
       "\n",
       "    .dataframe tbody tr th {\n",
       "        vertical-align: top;\n",
       "    }\n",
       "\n",
       "    .dataframe thead th {\n",
       "        text-align: right;\n",
       "    }\n",
       "</style>\n",
       "<table border=\"1\" class=\"dataframe\">\n",
       "  <thead>\n",
       "    <tr style=\"text-align: right;\">\n",
       "      <th></th>\n",
       "      <th>CreditScore</th>\n",
       "      <th>Age</th>\n",
       "      <th>Tenure</th>\n",
       "      <th>Balance</th>\n",
       "      <th>NumOfProducts</th>\n",
       "      <th>HasCrCard</th>\n",
       "      <th>IsActiveMember</th>\n",
       "      <th>EstimatedSalary</th>\n",
       "      <th>x_Balance</th>\n",
       "      <th>Geography_France</th>\n",
       "      <th>Geography_Germany</th>\n",
       "      <th>Geography_Spain</th>\n",
       "      <th>Gender_Female</th>\n",
       "      <th>Gender_Male</th>\n",
       "      <th>NumOfProdBins_1</th>\n",
       "      <th>NumOfProdBins_2-4</th>\n",
       "    </tr>\n",
       "    <tr>\n",
       "      <th>id</th>\n",
       "      <th></th>\n",
       "      <th></th>\n",
       "      <th></th>\n",
       "      <th></th>\n",
       "      <th></th>\n",
       "      <th></th>\n",
       "      <th></th>\n",
       "      <th></th>\n",
       "      <th></th>\n",
       "      <th></th>\n",
       "      <th></th>\n",
       "      <th></th>\n",
       "      <th></th>\n",
       "      <th></th>\n",
       "      <th></th>\n",
       "      <th></th>\n",
       "    </tr>\n",
       "  </thead>\n",
       "  <tbody>\n",
       "    <tr>\n",
       "      <th>78119</th>\n",
       "      <td>633</td>\n",
       "      <td>39.0</td>\n",
       "      <td>5</td>\n",
       "      <td>0.00</td>\n",
       "      <td>2</td>\n",
       "      <td>0.0</td>\n",
       "      <td>1.0</td>\n",
       "      <td>126836.88</td>\n",
       "      <td>0</td>\n",
       "      <td>1</td>\n",
       "      <td>0</td>\n",
       "      <td>0</td>\n",
       "      <td>0</td>\n",
       "      <td>1</td>\n",
       "      <td>0</td>\n",
       "      <td>1</td>\n",
       "    </tr>\n",
       "    <tr>\n",
       "      <th>106920</th>\n",
       "      <td>835</td>\n",
       "      <td>25.0</td>\n",
       "      <td>8</td>\n",
       "      <td>0.00</td>\n",
       "      <td>2</td>\n",
       "      <td>0.0</td>\n",
       "      <td>0.0</td>\n",
       "      <td>138882.95</td>\n",
       "      <td>0</td>\n",
       "      <td>1</td>\n",
       "      <td>0</td>\n",
       "      <td>0</td>\n",
       "      <td>0</td>\n",
       "      <td>1</td>\n",
       "      <td>0</td>\n",
       "      <td>1</td>\n",
       "    </tr>\n",
       "    <tr>\n",
       "      <th>49171</th>\n",
       "      <td>604</td>\n",
       "      <td>37.0</td>\n",
       "      <td>7</td>\n",
       "      <td>0.00</td>\n",
       "      <td>2</td>\n",
       "      <td>1.0</td>\n",
       "      <td>0.0</td>\n",
       "      <td>162087.82</td>\n",
       "      <td>0</td>\n",
       "      <td>0</td>\n",
       "      <td>0</td>\n",
       "      <td>1</td>\n",
       "      <td>1</td>\n",
       "      <td>0</td>\n",
       "      <td>0</td>\n",
       "      <td>1</td>\n",
       "    </tr>\n",
       "    <tr>\n",
       "      <th>142187</th>\n",
       "      <td>792</td>\n",
       "      <td>39.0</td>\n",
       "      <td>6</td>\n",
       "      <td>128262.71</td>\n",
       "      <td>1</td>\n",
       "      <td>1.0</td>\n",
       "      <td>0.0</td>\n",
       "      <td>81270.99</td>\n",
       "      <td>1</td>\n",
       "      <td>0</td>\n",
       "      <td>1</td>\n",
       "      <td>0</td>\n",
       "      <td>0</td>\n",
       "      <td>1</td>\n",
       "      <td>1</td>\n",
       "      <td>0</td>\n",
       "    </tr>\n",
       "    <tr>\n",
       "      <th>21269</th>\n",
       "      <td>632</td>\n",
       "      <td>38.0</td>\n",
       "      <td>9</td>\n",
       "      <td>0.00</td>\n",
       "      <td>2</td>\n",
       "      <td>1.0</td>\n",
       "      <td>0.0</td>\n",
       "      <td>62903.83</td>\n",
       "      <td>0</td>\n",
       "      <td>1</td>\n",
       "      <td>0</td>\n",
       "      <td>0</td>\n",
       "      <td>0</td>\n",
       "      <td>1</td>\n",
       "      <td>0</td>\n",
       "      <td>1</td>\n",
       "    </tr>\n",
       "  </tbody>\n",
       "</table>\n",
       "</div>"
      ],
      "text/plain": [
       "        CreditScore   Age  Tenure    Balance  NumOfProducts  HasCrCard  \\\n",
       "id                                                                       \n",
       "78119           633  39.0       5       0.00              2        0.0   \n",
       "106920          835  25.0       8       0.00              2        0.0   \n",
       "49171           604  37.0       7       0.00              2        1.0   \n",
       "142187          792  39.0       6  128262.71              1        1.0   \n",
       "21269           632  38.0       9       0.00              2        1.0   \n",
       "\n",
       "        IsActiveMember  EstimatedSalary  x_Balance  Geography_France  \\\n",
       "id                                                                     \n",
       "78119              1.0        126836.88          0                 1   \n",
       "106920             0.0        138882.95          0                 1   \n",
       "49171              0.0        162087.82          0                 0   \n",
       "142187             0.0         81270.99          1                 0   \n",
       "21269              0.0         62903.83          0                 1   \n",
       "\n",
       "        Geography_Germany  Geography_Spain  Gender_Female  Gender_Male  \\\n",
       "id                                                                       \n",
       "78119                   0                0              0            1   \n",
       "106920                  0                0              0            1   \n",
       "49171                   0                1              1            0   \n",
       "142187                  1                0              0            1   \n",
       "21269                   0                0              0            1   \n",
       "\n",
       "        NumOfProdBins_1  NumOfProdBins_2-4  \n",
       "id                                          \n",
       "78119                 0                  1  \n",
       "106920                0                  1  \n",
       "49171                 0                  1  \n",
       "142187                1                  0  \n",
       "21269                 0                  1  "
      ]
     },
     "execution_count": 36,
     "metadata": {},
     "output_type": "execute_result"
    }
   ],
   "source": [
    "train_X.head()"
   ]
  },
  {
   "cell_type": "code",
   "execution_count": 37,
   "id": "5184ab58",
   "metadata": {
    "execution": {
     "iopub.execute_input": "2024-01-15T05:04:28.267538Z",
     "iopub.status.busy": "2024-01-15T05:04:28.266758Z",
     "iopub.status.idle": "2024-01-15T05:04:28.275494Z",
     "shell.execute_reply": "2024-01-15T05:04:28.274510Z"
    },
    "papermill": {
     "duration": 0.040851,
     "end_time": "2024-01-15T05:04:28.277868",
     "exception": false,
     "start_time": "2024-01-15T05:04:28.237017",
     "status": "completed"
    },
    "tags": []
   },
   "outputs": [],
   "source": [
    "# a function to segregate the numerical and binary variables\n",
    "def numerical_dataframe(df):\n",
    "    binary_cols = [col for col in df.columns if df[col].dropna().value_counts().index.isin([0, 1]).all()]\n",
    "    numerical_cols = [col for col in df.columns if col not in binary_cols]\n",
    "    return df[numerical_cols],df[binary_cols]"
   ]
  },
  {
   "cell_type": "code",
   "execution_count": 38,
   "id": "cecd36e6",
   "metadata": {
    "execution": {
     "iopub.execute_input": "2024-01-15T05:04:28.332778Z",
     "iopub.status.busy": "2024-01-15T05:04:28.332393Z",
     "iopub.status.idle": "2024-01-15T05:04:28.466836Z",
     "shell.execute_reply": "2024-01-15T05:04:28.465703Z"
    },
    "papermill": {
     "duration": 0.16432,
     "end_time": "2024-01-15T05:04:28.469691",
     "exception": false,
     "start_time": "2024-01-15T05:04:28.305371",
     "status": "completed"
    },
    "tags": []
   },
   "outputs": [
    {
     "data": {
      "text/html": [
       "<div>\n",
       "<style scoped>\n",
       "    .dataframe tbody tr th:only-of-type {\n",
       "        vertical-align: middle;\n",
       "    }\n",
       "\n",
       "    .dataframe tbody tr th {\n",
       "        vertical-align: top;\n",
       "    }\n",
       "\n",
       "    .dataframe thead th {\n",
       "        text-align: right;\n",
       "    }\n",
       "</style>\n",
       "<table border=\"1\" class=\"dataframe\">\n",
       "  <thead>\n",
       "    <tr style=\"text-align: right;\">\n",
       "      <th></th>\n",
       "      <th>CustomerId</th>\n",
       "      <th>Surname</th>\n",
       "      <th>CreditScore</th>\n",
       "      <th>Age</th>\n",
       "      <th>Tenure</th>\n",
       "      <th>Balance</th>\n",
       "      <th>NumOfProducts</th>\n",
       "      <th>EstimatedSalary</th>\n",
       "    </tr>\n",
       "    <tr>\n",
       "      <th>id</th>\n",
       "      <th></th>\n",
       "      <th></th>\n",
       "      <th></th>\n",
       "      <th></th>\n",
       "      <th></th>\n",
       "      <th></th>\n",
       "      <th></th>\n",
       "      <th></th>\n",
       "    </tr>\n",
       "  </thead>\n",
       "  <tbody>\n",
       "    <tr>\n",
       "      <th>0</th>\n",
       "      <td>15674932</td>\n",
       "      <td>Okwudilichukwu</td>\n",
       "      <td>668</td>\n",
       "      <td>33.0</td>\n",
       "      <td>3</td>\n",
       "      <td>0.00</td>\n",
       "      <td>2</td>\n",
       "      <td>181449.97</td>\n",
       "    </tr>\n",
       "    <tr>\n",
       "      <th>1</th>\n",
       "      <td>15749177</td>\n",
       "      <td>Okwudiliolisa</td>\n",
       "      <td>627</td>\n",
       "      <td>33.0</td>\n",
       "      <td>1</td>\n",
       "      <td>0.00</td>\n",
       "      <td>2</td>\n",
       "      <td>49503.50</td>\n",
       "    </tr>\n",
       "    <tr>\n",
       "      <th>2</th>\n",
       "      <td>15694510</td>\n",
       "      <td>Hsueh</td>\n",
       "      <td>678</td>\n",
       "      <td>40.0</td>\n",
       "      <td>10</td>\n",
       "      <td>0.00</td>\n",
       "      <td>2</td>\n",
       "      <td>184866.69</td>\n",
       "    </tr>\n",
       "    <tr>\n",
       "      <th>3</th>\n",
       "      <td>15741417</td>\n",
       "      <td>Kao</td>\n",
       "      <td>581</td>\n",
       "      <td>34.0</td>\n",
       "      <td>2</td>\n",
       "      <td>148882.54</td>\n",
       "      <td>1</td>\n",
       "      <td>84560.88</td>\n",
       "    </tr>\n",
       "    <tr>\n",
       "      <th>4</th>\n",
       "      <td>15766172</td>\n",
       "      <td>Chiemenam</td>\n",
       "      <td>716</td>\n",
       "      <td>33.0</td>\n",
       "      <td>5</td>\n",
       "      <td>0.00</td>\n",
       "      <td>2</td>\n",
       "      <td>15068.83</td>\n",
       "    </tr>\n",
       "  </tbody>\n",
       "</table>\n",
       "</div>"
      ],
      "text/plain": [
       "    CustomerId         Surname  CreditScore   Age  Tenure    Balance  \\\n",
       "id                                                                     \n",
       "0     15674932  Okwudilichukwu          668  33.0       3       0.00   \n",
       "1     15749177   Okwudiliolisa          627  33.0       1       0.00   \n",
       "2     15694510           Hsueh          678  40.0      10       0.00   \n",
       "3     15741417             Kao          581  34.0       2  148882.54   \n",
       "4     15766172       Chiemenam          716  33.0       5       0.00   \n",
       "\n",
       "    NumOfProducts  EstimatedSalary  \n",
       "id                                  \n",
       "0               2        181449.97  \n",
       "1               2         49503.50  \n",
       "2               2        184866.69  \n",
       "3               1         84560.88  \n",
       "4               2         15068.83  "
      ]
     },
     "execution_count": 38,
     "metadata": {},
     "output_type": "execute_result"
    }
   ],
   "source": [
    "df_numerical=numerical_dataframe(df_train)[0]\n",
    "df_numerical.head()"
   ]
  },
  {
   "cell_type": "code",
   "execution_count": 39,
   "id": "443b2865",
   "metadata": {
    "execution": {
     "iopub.execute_input": "2024-01-15T05:04:28.529684Z",
     "iopub.status.busy": "2024-01-15T05:04:28.528907Z",
     "iopub.status.idle": "2024-01-15T05:04:28.544804Z",
     "shell.execute_reply": "2024-01-15T05:04:28.543695Z"
    },
    "papermill": {
     "duration": 0.045464,
     "end_time": "2024-01-15T05:04:28.547026",
     "exception": false,
     "start_time": "2024-01-15T05:04:28.501562",
     "status": "completed"
    },
    "tags": []
   },
   "outputs": [
    {
     "data": {
      "text/html": [
       "<div>\n",
       "<style scoped>\n",
       "    .dataframe tbody tr th:only-of-type {\n",
       "        vertical-align: middle;\n",
       "    }\n",
       "\n",
       "    .dataframe tbody tr th {\n",
       "        vertical-align: top;\n",
       "    }\n",
       "\n",
       "    .dataframe thead th {\n",
       "        text-align: right;\n",
       "    }\n",
       "</style>\n",
       "<table border=\"1\" class=\"dataframe\">\n",
       "  <thead>\n",
       "    <tr style=\"text-align: right;\">\n",
       "      <th></th>\n",
       "      <th>CreditScore</th>\n",
       "      <th>Age</th>\n",
       "      <th>Tenure</th>\n",
       "      <th>Balance</th>\n",
       "      <th>NumOfProducts</th>\n",
       "      <th>EstimatedSalary</th>\n",
       "    </tr>\n",
       "    <tr>\n",
       "      <th>id</th>\n",
       "      <th></th>\n",
       "      <th></th>\n",
       "      <th></th>\n",
       "      <th></th>\n",
       "      <th></th>\n",
       "      <th></th>\n",
       "    </tr>\n",
       "  </thead>\n",
       "  <tbody>\n",
       "    <tr>\n",
       "      <th>0</th>\n",
       "      <td>668</td>\n",
       "      <td>33.0</td>\n",
       "      <td>3</td>\n",
       "      <td>0.00</td>\n",
       "      <td>2</td>\n",
       "      <td>181449.97</td>\n",
       "    </tr>\n",
       "    <tr>\n",
       "      <th>1</th>\n",
       "      <td>627</td>\n",
       "      <td>33.0</td>\n",
       "      <td>1</td>\n",
       "      <td>0.00</td>\n",
       "      <td>2</td>\n",
       "      <td>49503.50</td>\n",
       "    </tr>\n",
       "    <tr>\n",
       "      <th>2</th>\n",
       "      <td>678</td>\n",
       "      <td>40.0</td>\n",
       "      <td>10</td>\n",
       "      <td>0.00</td>\n",
       "      <td>2</td>\n",
       "      <td>184866.69</td>\n",
       "    </tr>\n",
       "    <tr>\n",
       "      <th>3</th>\n",
       "      <td>581</td>\n",
       "      <td>34.0</td>\n",
       "      <td>2</td>\n",
       "      <td>148882.54</td>\n",
       "      <td>1</td>\n",
       "      <td>84560.88</td>\n",
       "    </tr>\n",
       "    <tr>\n",
       "      <th>4</th>\n",
       "      <td>716</td>\n",
       "      <td>33.0</td>\n",
       "      <td>5</td>\n",
       "      <td>0.00</td>\n",
       "      <td>2</td>\n",
       "      <td>15068.83</td>\n",
       "    </tr>\n",
       "  </tbody>\n",
       "</table>\n",
       "</div>"
      ],
      "text/plain": [
       "    CreditScore   Age  Tenure    Balance  NumOfProducts  EstimatedSalary\n",
       "id                                                                      \n",
       "0           668  33.0       3       0.00              2        181449.97\n",
       "1           627  33.0       1       0.00              2         49503.50\n",
       "2           678  40.0      10       0.00              2        184866.69\n",
       "3           581  34.0       2  148882.54              1         84560.88\n",
       "4           716  33.0       5       0.00              2         15068.83"
      ]
     },
     "execution_count": 39,
     "metadata": {},
     "output_type": "execute_result"
    }
   ],
   "source": [
    "df_numerical=df_numerical.drop(columns=[\"CustomerId\",\"Surname\"])\n",
    "df_numerical.head()"
   ]
  },
  {
   "cell_type": "code",
   "execution_count": 40,
   "id": "725c026c",
   "metadata": {
    "execution": {
     "iopub.execute_input": "2024-01-15T05:04:28.601176Z",
     "iopub.status.busy": "2024-01-15T05:04:28.600420Z",
     "iopub.status.idle": "2024-01-15T05:04:29.007127Z",
     "shell.execute_reply": "2024-01-15T05:04:29.006205Z"
    },
    "papermill": {
     "duration": 0.43616,
     "end_time": "2024-01-15T05:04:29.009175",
     "exception": false,
     "start_time": "2024-01-15T05:04:28.573015",
     "status": "completed"
    },
    "tags": []
   },
   "outputs": [
    {
     "data": {
      "image/png": "[encoded data removed]",
      "text/plain": [
       "<Figure size 640x480 with 2 Axes>"
      ]
     },
     "metadata": {},
     "output_type": "display_data"
    }
   ],
   "source": [
    "corr_matrix=df_numerical.corr()\n",
    "sns.heatmap(corr_matrix, annot=True)\n",
    "plt.show()"
   ]
  },
  {
   "cell_type": "markdown",
   "id": "4b28bd4c",
   "metadata": {
    "papermill": {
     "duration": 0.02961,
     "end_time": "2024-01-15T05:04:29.066618",
     "exception": false,
     "start_time": "2024-01-15T05:04:29.037008",
     "status": "completed"
    },
    "tags": []
   },
   "source": [
    "#### Correlations among various numercal variables is very low"
   ]
  },
  {
   "cell_type": "markdown",
   "id": "5205b6e0",
   "metadata": {
    "papermill": {
     "duration": 0.028006,
     "end_time": "2024-01-15T05:04:29.123244",
     "exception": false,
     "start_time": "2024-01-15T05:04:29.095238",
     "status": "completed"
    },
    "tags": []
   },
   "source": [
    "#### Let's engineer an additional features. Balance to salary ratio - This could give insights into how much of their estimated salary customers are keeping in their bank accounts. It might indicate the level of trust and reliance a customer has on the bank."
   ]
  },
  {
   "cell_type": "code",
   "execution_count": 41,
   "id": "41b6a401",
   "metadata": {
    "execution": {
     "iopub.execute_input": "2024-01-15T05:04:29.180534Z",
     "iopub.status.busy": "2024-01-15T05:04:29.179801Z",
     "iopub.status.idle": "2024-01-15T05:04:29.291819Z",
     "shell.execute_reply": "2024-01-15T05:04:29.290593Z"
    },
    "papermill": {
     "duration": 0.143539,
     "end_time": "2024-01-15T05:04:29.294665",
     "exception": false,
     "start_time": "2024-01-15T05:04:29.151126",
     "status": "completed"
    },
    "tags": []
   },
   "outputs": [],
   "source": [
    "X = df_train.drop(['Exited','CustomerId','Surname'], axis=1)\n",
    "y = df_train['Exited']\n",
    "\n",
    "X_train, X_val, y_train, y_val = train_test_split(X, y, test_size=0.2, random_state=55, stratify=y)"
   ]
  },
  {
   "cell_type": "code",
   "execution_count": null,
   "id": "5ec87573",
   "metadata": {
    "papermill": {
     "duration": 0.026598,
     "end_time": "2024-01-15T05:04:29.349083",
     "exception": false,
     "start_time": "2024-01-15T05:04:29.322485",
     "status": "completed"
    },
    "tags": []
   },
   "outputs": [],
   "source": []
  },
  {
   "cell_type": "code",
   "execution_count": 42,
   "id": "6b279a09",
   "metadata": {
    "execution": {
     "iopub.execute_input": "2024-01-15T05:04:29.405342Z",
     "iopub.status.busy": "2024-01-15T05:04:29.404672Z",
     "iopub.status.idle": "2024-01-15T05:04:31.071096Z",
     "shell.execute_reply": "2024-01-15T05:04:31.069681Z"
    },
    "papermill": {
     "duration": 1.697872,
     "end_time": "2024-01-15T05:04:31.074127",
     "exception": false,
     "start_time": "2024-01-15T05:04:29.376255",
     "status": "completed"
    },
    "tags": []
   },
   "outputs": [
    {
     "data": {
      "image/png": "[encoded data removed]",
      "text/plain": [
       "<Figure size 640x480 with 1 Axes>"
      ]
     },
     "metadata": {},
     "output_type": "display_data"
    },
    {
     "data": {
      "text/plain": [
       "0.7073396231036965"
      ]
     },
     "execution_count": 42,
     "metadata": {},
     "output_type": "execute_result"
    }
   ],
   "source": [
    "from sklearn.tree import DecisionTreeClassifier\n",
    "\n",
    "# Initialize the Decision Tree Classifier\n",
    "dt = DecisionTreeClassifier(random_state=42)\n",
    "\n",
    "# Fit the model\n",
    "dt.fit(X_train, y_train)\n",
    "y_probs = dt.predict_proba(X_val)[:, 1]  # Get probabilities for the positive class\n",
    "AUC(y_val,y_probs)"
   ]
  },
  {
   "cell_type": "code",
   "execution_count": 43,
   "id": "05bf14a8",
   "metadata": {
    "execution": {
     "iopub.execute_input": "2024-01-15T05:04:31.132170Z",
     "iopub.status.busy": "2024-01-15T05:04:31.131794Z",
     "iopub.status.idle": "2024-01-15T05:05:44.670941Z",
     "shell.execute_reply": "2024-01-15T05:05:44.669368Z"
    },
    "papermill": {
     "duration": 73.598849,
     "end_time": "2024-01-15T05:05:44.701366",
     "exception": false,
     "start_time": "2024-01-15T05:04:31.102517",
     "status": "completed"
    },
    "tags": []
   },
   "outputs": [
    {
     "name": "stdout",
     "output_type": "stream",
     "text": [
      "Best parameters: {'max_depth': 10, 'max_features': None, 'min_samples_leaf': 4, 'min_samples_split': 10}\n"
     ]
    }
   ],
   "source": [
    "from sklearn.model_selection import GridSearchCV, StratifiedKFold\n",
    "\n",
    "\n",
    "# Define the parameter grid\n",
    "param_grid = {\n",
    "    'max_depth': [3, 5, 10, None],\n",
    "    'min_samples_split': [2, 5, 10],\n",
    "    'min_samples_leaf': [1, 2, 4],\n",
    "    'max_features': ['sqrt', 'log2', None]\n",
    "}\n",
    "stratified_kfold = StratifiedKFold(n_splits=5, shuffle=True, random_state=42)\n",
    "\n",
    "# Initialize Grid Search\n",
    "grid_search = GridSearchCV(dt, param_grid, cv=stratified_kfold, scoring='roc_auc', n_jobs=-1)\n",
    "\n",
    "# Fit Grid Search to the data\n",
    "grid_search.fit(X_train, y_train)\n",
    "\n",
    "# Find the best parameters\n",
    "best_params = grid_search.best_params_\n",
    "print(f\"Best parameters: {best_params}\")\n"
   ]
  },
  {
   "cell_type": "code",
   "execution_count": 44,
   "id": "078e2ea5",
   "metadata": {
    "execution": {
     "iopub.execute_input": "2024-01-15T05:05:44.762177Z",
     "iopub.status.busy": "2024-01-15T05:05:44.760866Z",
     "iopub.status.idle": "2024-01-15T05:05:45.915274Z",
     "shell.execute_reply": "2024-01-15T05:05:45.914196Z"
    },
    "papermill": {
     "duration": 1.18681,
     "end_time": "2024-01-15T05:05:45.917675",
     "exception": false,
     "start_time": "2024-01-15T05:05:44.730865",
     "status": "completed"
    },
    "tags": []
   },
   "outputs": [
    {
     "data": {
      "image/png": "[encoded data removed]",
      "text/plain": [
       "<Figure size 640x480 with 1 Axes>"
      ]
     },
     "metadata": {},
     "output_type": "display_data"
    },
    {
     "data": {
      "text/plain": [
       "0.8752005011075099"
      ]
     },
     "execution_count": 44,
     "metadata": {},
     "output_type": "execute_result"
    }
   ],
   "source": [
    "# Build the model with best parameters\n",
    "dt_best = DecisionTreeClassifier(**best_params, random_state=55)\n",
    "dt_best.fit(X_train, y_train)\n",
    "\n",
    "# Predict and evaluate\n",
    "y_probs_best = dt_best.predict_proba(X_val)[:, 1]\n",
    "AUC(y_val, y_probs_best)"
   ]
  },
  {
   "cell_type": "code",
   "execution_count": 45,
   "id": "233edbc1",
   "metadata": {
    "execution": {
     "iopub.execute_input": "2024-01-15T05:05:45.978522Z",
     "iopub.status.busy": "2024-01-15T05:05:45.978084Z",
     "iopub.status.idle": "2024-01-15T05:05:45.988241Z",
     "shell.execute_reply": "2024-01-15T05:05:45.987200Z"
    },
    "papermill": {
     "duration": 0.04273,
     "end_time": "2024-01-15T05:05:45.990357",
     "exception": false,
     "start_time": "2024-01-15T05:05:45.947627",
     "status": "completed"
    },
    "tags": []
   },
   "outputs": [
    {
     "name": "stdout",
     "output_type": "stream",
     "text": [
      "              Feature  Importance\n",
      "1                 Age    0.394821\n",
      "4       NumOfProducts    0.262461\n",
      "6      IsActiveMember    0.098441\n",
      "3             Balance    0.070993\n",
      "15  NumOfProdBins_2-4    0.064838\n",
      "10  Geography_Germany    0.036280\n",
      "7     EstimatedSalary    0.018680\n",
      "0         CreditScore    0.018437\n",
      "12      Gender_Female    0.016887\n",
      "13        Gender_Male    0.009660\n",
      "2              Tenure    0.005977\n",
      "5           HasCrCard    0.001767\n",
      "11    Geography_Spain    0.000348\n",
      "8           x_Balance    0.000283\n",
      "9    Geography_France    0.000127\n",
      "14    NumOfProdBins_1    0.000000\n"
     ]
    }
   ],
   "source": [
    "feature_importances = dt_best.feature_importances_\n",
    "\n",
    "# Create a DataFrame for visualization\n",
    "feature_names = X_train.columns\n",
    "importances = pd.DataFrame({'Feature': feature_names, 'Importance': feature_importances})\n",
    "\n",
    "# Sort the DataFrame by importance\n",
    "importances_sorted = importances.sort_values(by='Importance', ascending=False)\n",
    "\n",
    "# Display\n",
    "print(importances_sorted)\n",
    "# print(importances_sorted.sum())"
   ]
  },
  {
   "cell_type": "code",
   "execution_count": 46,
   "id": "776b805d",
   "metadata": {
    "execution": {
     "iopub.execute_input": "2024-01-15T05:05:46.051404Z",
     "iopub.status.busy": "2024-01-15T05:05:46.050968Z",
     "iopub.status.idle": "2024-01-15T05:06:16.248499Z",
     "shell.execute_reply": "2024-01-15T05:06:16.247500Z"
    },
    "papermill": {
     "duration": 30.253699,
     "end_time": "2024-01-15T05:06:16.273389",
     "exception": false,
     "start_time": "2024-01-15T05:05:46.019690",
     "status": "completed"
    },
    "tags": []
   },
   "outputs": [
    {
     "data": {
      "image/png": "[encoded data removed]",
      "text/plain": [
       "<Figure size 640x480 with 1 Axes>"
      ]
     },
     "metadata": {},
     "output_type": "display_data"
    },
    {
     "data": {
      "text/plain": [
       "0.8749452776134813"
      ]
     },
     "execution_count": 46,
     "metadata": {},
     "output_type": "execute_result"
    }
   ],
   "source": [
    "# Random forest\n",
    "from sklearn.ensemble import RandomForestClassifier\n",
    "rf = RandomForestClassifier(random_state=55)\n",
    "rf.fit(X_train, y_train)\n",
    "y_probs_rf = rf.predict_proba(X_val)[:, 1]\n",
    "AUC(y_val,y_probs_rf)"
   ]
  },
  {
   "cell_type": "code",
   "execution_count": 47,
   "id": "39e219b8",
   "metadata": {
    "execution": {
     "iopub.execute_input": "2024-01-15T05:06:16.337350Z",
     "iopub.status.busy": "2024-01-15T05:06:16.336936Z",
     "iopub.status.idle": "2024-01-15T05:06:16.342436Z",
     "shell.execute_reply": "2024-01-15T05:06:16.341370Z"
    },
    "papermill": {
     "duration": 0.041138,
     "end_time": "2024-01-15T05:06:16.344734",
     "exception": false,
     "start_time": "2024-01-15T05:06:16.303596",
     "status": "completed"
    },
    "tags": []
   },
   "outputs": [],
   "source": [
    "param_grid_rf = {\n",
    "    'n_estimators': [25, 50, 75],\n",
    "    'max_depth': [5, 10, 15, None],\n",
    "    'min_samples_split': [2, 4, 6],\n",
    "    'min_samples_leaf': [1, 2, 3]\n",
    "}"
   ]
  },
  {
   "cell_type": "code",
   "execution_count": 48,
   "id": "4ae89f25",
   "metadata": {
    "execution": {
     "iopub.execute_input": "2024-01-15T05:06:16.408065Z",
     "iopub.status.busy": "2024-01-15T05:06:16.407651Z",
     "iopub.status.idle": "2024-01-15T05:32:02.354300Z",
     "shell.execute_reply": "2024-01-15T05:32:02.352882Z"
    },
    "papermill": {
     "duration": 1546.01168,
     "end_time": "2024-01-15T05:32:02.387959",
     "exception": false,
     "start_time": "2024-01-15T05:06:16.376279",
     "status": "completed"
    },
    "tags": []
   },
   "outputs": [
    {
     "name": "stdout",
     "output_type": "stream",
     "text": [
      "Fitting 5 folds for each of 108 candidates, totalling 540 fits\n",
      "[CV] END max_depth=5, min_samples_leaf=1, min_samples_split=2, n_estimators=25; total time=   3.2s\n",
      "[CV] END max_depth=5, min_samples_leaf=1, min_samples_split=2, n_estimators=50; total time=   6.1s\n",
      "[CV] END max_depth=5, min_samples_leaf=1, min_samples_split=2, n_estimators=75; total time=   9.2s\n",
      "[CV] END max_depth=5, min_samples_leaf=1, min_samples_split=2, n_estimators=75; total time=  10.0s\n",
      "[CV] END max_depth=5, min_samples_leaf=1, min_samples_split=4, n_estimators=50; total time=   6.3s\n",
      "[CV] END max_depth=5, min_samples_leaf=1, min_samples_split=4, n_estimators=75; total time=   9.6s\n",
      "[CV] END max_depth=5, min_samples_leaf=1, min_samples_split=6, n_estimators=25; total time=   3.2s\n",
      "[CV] END max_depth=5, min_samples_leaf=1, min_samples_split=6, n_estimators=25; total time=   3.2s\n",
      "[CV] END max_depth=5, min_samples_leaf=1, min_samples_split=6, n_estimators=50; total time=   6.9s\n",
      "[CV] END max_depth=5, min_samples_leaf=1, min_samples_split=6, n_estimators=75; total time=   9.4s\n",
      "[CV] END max_depth=5, min_samples_leaf=2, min_samples_split=2, n_estimators=25; total time=   3.2s\n",
      "[CV] END max_depth=5, min_samples_leaf=2, min_samples_split=2, n_estimators=25; total time=   3.3s\n",
      "[CV] END max_depth=5, min_samples_leaf=2, min_samples_split=2, n_estimators=50; total time=   6.3s\n",
      "[CV] END max_depth=5, min_samples_leaf=2, min_samples_split=2, n_estimators=50; total time=   7.0s\n",
      "[CV] END max_depth=5, min_samples_leaf=2, min_samples_split=2, n_estimators=75; total time=   9.2s\n",
      "[CV] END max_depth=5, min_samples_leaf=2, min_samples_split=4, n_estimators=25; total time=   3.2s\n",
      "[CV] END max_depth=5, min_samples_leaf=2, min_samples_split=4, n_estimators=50; total time=   6.1s\n",
      "[CV] END max_depth=5, min_samples_leaf=2, min_samples_split=4, n_estimators=75; total time=   9.3s\n",
      "[CV] END max_depth=5, min_samples_leaf=2, min_samples_split=6, n_estimators=25; total time=   3.9s\n",
      "[CV] END max_depth=5, min_samples_leaf=2, min_samples_split=6, n_estimators=25; total time=   3.2s\n",
      "[CV] END max_depth=5, min_samples_leaf=2, min_samples_split=6, n_estimators=50; total time=   6.2s\n",
      "[CV] END max_depth=5, min_samples_leaf=2, min_samples_split=6, n_estimators=50; total time=   6.2s\n",
      "[CV] END max_depth=5, min_samples_leaf=2, min_samples_split=6, n_estimators=75; total time=   9.3s\n",
      "[CV] END max_depth=5, min_samples_leaf=3, min_samples_split=2, n_estimators=25; total time=   3.2s\n",
      "[CV] END max_depth=5, min_samples_leaf=3, min_samples_split=2, n_estimators=50; total time=   6.8s\n",
      "[CV] END max_depth=5, min_samples_leaf=3, min_samples_split=2, n_estimators=75; total time=   9.3s\n",
      "[CV] END max_depth=5, min_samples_leaf=3, min_samples_split=4, n_estimators=25; total time=   3.3s\n",
      "[CV] END max_depth=5, min_samples_leaf=3, min_samples_split=4, n_estimators=25; total time=   3.2s\n",
      "[CV] END max_depth=5, min_samples_leaf=3, min_samples_split=4, n_estimators=50; total time=   6.3s\n",
      "[CV] END max_depth=5, min_samples_leaf=3, min_samples_split=4, n_estimators=50; total time=   6.5s\n",
      "[CV] END max_depth=5, min_samples_leaf=3, min_samples_split=4, n_estimators=75; total time=   9.4s\n",
      "[CV] END max_depth=5, min_samples_leaf=3, min_samples_split=6, n_estimators=25; total time=   3.3s\n",
      "[CV] END max_depth=5, min_samples_leaf=3, min_samples_split=6, n_estimators=50; total time=   6.2s\n",
      "[CV] END max_depth=5, min_samples_leaf=3, min_samples_split=6, n_estimators=75; total time=   9.4s\n",
      "[CV] END max_depth=10, min_samples_leaf=1, min_samples_split=2, n_estimators=25; total time=   5.8s\n",
      "[CV] END max_depth=10, min_samples_leaf=1, min_samples_split=2, n_estimators=25; total time=   5.0s\n",
      "[CV] END max_depth=10, min_samples_leaf=1, min_samples_split=2, n_estimators=50; total time=   9.9s\n",
      "[CV] END max_depth=10, min_samples_leaf=1, min_samples_split=2, n_estimators=75; total time=  15.5s\n",
      "[CV] END max_depth=10, min_samples_leaf=1, min_samples_split=4, n_estimators=25; total time=   5.6s\n",
      "[CV] END max_depth=10, min_samples_leaf=1, min_samples_split=4, n_estimators=25; total time=   5.3s\n",
      "[CV] END max_depth=10, min_samples_leaf=1, min_samples_split=4, n_estimators=50; total time=  10.5s\n",
      "[CV] END max_depth=10, min_samples_leaf=1, min_samples_split=4, n_estimators=50; total time=  11.0s\n",
      "[CV] END max_depth=10, min_samples_leaf=1, min_samples_split=4, n_estimators=75; total time=  15.5s\n",
      "[CV] END max_depth=10, min_samples_leaf=1, min_samples_split=6, n_estimators=25; total time=   5.2s\n",
      "[CV] END max_depth=10, min_samples_leaf=1, min_samples_split=6, n_estimators=50; total time=  10.2s\n",
      "[CV] END max_depth=10, min_samples_leaf=1, min_samples_split=6, n_estimators=75; total time=  15.9s\n",
      "[CV] END max_depth=10, min_samples_leaf=1, min_samples_split=6, n_estimators=75; total time=  15.0s\n",
      "[CV] END max_depth=10, min_samples_leaf=2, min_samples_split=2, n_estimators=50; total time=  10.5s\n",
      "[CV] END max_depth=10, min_samples_leaf=2, min_samples_split=2, n_estimators=75; total time=  15.1s\n",
      "[CV] END max_depth=10, min_samples_leaf=2, min_samples_split=4, n_estimators=25; total time=   5.0s\n",
      "[CV] END max_depth=10, min_samples_leaf=2, min_samples_split=4, n_estimators=25; total time=   5.5s\n",
      "[CV] END max_depth=10, min_samples_leaf=2, min_samples_split=4, n_estimators=50; total time=  10.1s\n",
      "[CV] END max_depth=10, min_samples_leaf=2, min_samples_split=4, n_estimators=50; total time=   9.9s\n",
      "[CV] END max_depth=10, min_samples_leaf=2, min_samples_split=4, n_estimators=75; total time=  15.5s\n",
      "[CV] END max_depth=10, min_samples_leaf=2, min_samples_split=6, n_estimators=25; total time=   5.2s\n",
      "[CV] END max_depth=10, min_samples_leaf=2, min_samples_split=6, n_estimators=50; total time=  10.3s\n",
      "[CV] END max_depth=10, min_samples_leaf=2, min_samples_split=6, n_estimators=75; total time=  15.7s\n",
      "[CV] END max_depth=10, min_samples_leaf=3, min_samples_split=2, n_estimators=25; total time=   5.0s\n",
      "[CV] END max_depth=10, min_samples_leaf=3, min_samples_split=2, n_estimators=25; total time=   5.2s\n",
      "[CV] END max_depth=10, min_samples_leaf=3, min_samples_split=2, n_estimators=50; total time=  10.1s\n",
      "[CV] END max_depth=10, min_samples_leaf=3, min_samples_split=2, n_estimators=50; total time=  10.5s\n",
      "[CV] END max_depth=10, min_samples_leaf=3, min_samples_split=2, n_estimators=75; total time=  15.0s\n",
      "[CV] END max_depth=10, min_samples_leaf=3, min_samples_split=4, n_estimators=25; total time=   5.2s\n",
      "[CV] END max_depth=10, min_samples_leaf=3, min_samples_split=4, n_estimators=50; total time=  10.1s\n",
      "[CV] END max_depth=10, min_samples_leaf=3, min_samples_split=4, n_estimators=75; total time=  15.3s\n",
      "[CV] END max_depth=10, min_samples_leaf=3, min_samples_split=6, n_estimators=25; total time=   5.1s\n",
      "[CV] END max_depth=10, min_samples_leaf=3, min_samples_split=6, n_estimators=25; total time=   5.0s\n",
      "[CV] END max_depth=10, min_samples_leaf=3, min_samples_split=6, n_estimators=50; total time=  10.4s\n",
      "[CV] END max_depth=10, min_samples_leaf=3, min_samples_split=6, n_estimators=50; total time=  10.1s\n",
      "[CV] END max_depth=10, min_samples_leaf=3, min_samples_split=6, n_estimators=75; total time=  15.0s\n",
      "[CV] END max_depth=15, min_samples_leaf=1, min_samples_split=2, n_estimators=25; total time=   7.1s\n",
      "[CV] END max_depth=15, min_samples_leaf=1, min_samples_split=2, n_estimators=50; total time=  13.2s\n",
      "[CV] END max_depth=15, min_samples_leaf=1, min_samples_split=2, n_estimators=50; total time=  13.2s\n",
      "[CV] END max_depth=15, min_samples_leaf=1, min_samples_split=2, n_estimators=75; total time=  20.1s\n",
      "[CV] END max_depth=15, min_samples_leaf=1, min_samples_split=4, n_estimators=25; total time=   6.7s\n",
      "[CV] END max_depth=15, min_samples_leaf=1, min_samples_split=4, n_estimators=50; total time=  13.5s\n",
      "[CV] END max_depth=15, min_samples_leaf=1, min_samples_split=4, n_estimators=75; total time=  19.8s\n",
      "[CV] END max_depth=15, min_samples_leaf=1, min_samples_split=6, n_estimators=25; total time=   6.7s\n",
      "[CV] END max_depth=15, min_samples_leaf=1, min_samples_split=6, n_estimators=25; total time=   7.3s\n",
      "[CV] END max_depth=15, min_samples_leaf=1, min_samples_split=6, n_estimators=50; total time=  13.0s\n",
      "[CV] END max_depth=15, min_samples_leaf=1, min_samples_split=6, n_estimators=75; total time=  20.6s\n",
      "[CV] END max_depth=15, min_samples_leaf=1, min_samples_split=6, n_estimators=75; total time=  20.0s\n",
      "[CV] END max_depth=5, min_samples_leaf=1, min_samples_split=2, n_estimators=25; total time=   3.2s\n",
      "[CV] END max_depth=5, min_samples_leaf=1, min_samples_split=2, n_estimators=50; total time=   6.2s\n",
      "[CV] END max_depth=5, min_samples_leaf=1, min_samples_split=2, n_estimators=75; total time=   9.5s\n",
      "[CV] END max_depth=5, min_samples_leaf=1, min_samples_split=4, n_estimators=25; total time=   3.7s\n",
      "[CV] END max_depth=5, min_samples_leaf=1, min_samples_split=4, n_estimators=25; total time=   3.2s\n",
      "[CV] END max_depth=5, min_samples_leaf=1, min_samples_split=4, n_estimators=50; total time=   6.2s\n",
      "[CV] END max_depth=5, min_samples_leaf=1, min_samples_split=4, n_estimators=50; total time=   6.3s\n",
      "[CV] END max_depth=5, min_samples_leaf=1, min_samples_split=4, n_estimators=75; total time=   9.3s\n",
      "[CV] END max_depth=5, min_samples_leaf=1, min_samples_split=6, n_estimators=25; total time=   3.2s\n",
      "[CV] END max_depth=5, min_samples_leaf=1, min_samples_split=6, n_estimators=50; total time=   6.6s\n",
      "[CV] END max_depth=5, min_samples_leaf=1, min_samples_split=6, n_estimators=75; total time=   9.4s\n",
      "[CV] END max_depth=5, min_samples_leaf=1, min_samples_split=6, n_estimators=75; total time=   9.2s\n",
      "[CV] END max_depth=5, min_samples_leaf=2, min_samples_split=2, n_estimators=50; total time=   6.1s\n",
      "[CV] END max_depth=5, min_samples_leaf=2, min_samples_split=2, n_estimators=75; total time=   9.5s\n",
      "[CV] END max_depth=5, min_samples_leaf=2, min_samples_split=4, n_estimators=25; total time=   3.2s\n",
      "[CV] END max_depth=5, min_samples_leaf=2, min_samples_split=4, n_estimators=25; total time=   3.2s\n",
      "[CV] END max_depth=5, min_samples_leaf=2, min_samples_split=4, n_estimators=50; total time=   6.1s\n",
      "[CV] END max_depth=5, min_samples_leaf=2, min_samples_split=4, n_estimators=50; total time=   6.1s\n",
      "[CV] END max_depth=5, min_samples_leaf=2, min_samples_split=4, n_estimators=75; total time=   9.8s\n",
      "[CV] END max_depth=5, min_samples_leaf=2, min_samples_split=6, n_estimators=25; total time=   3.3s\n",
      "[CV] END max_depth=5, min_samples_leaf=2, min_samples_split=6, n_estimators=50; total time=   6.2s\n",
      "[CV] END max_depth=5, min_samples_leaf=2, min_samples_split=6, n_estimators=75; total time=   9.3s\n",
      "[CV] END max_depth=5, min_samples_leaf=3, min_samples_split=2, n_estimators=25; total time=   3.2s\n",
      "[CV] END max_depth=5, min_samples_leaf=3, min_samples_split=2, n_estimators=25; total time=   3.3s\n",
      "[CV] END max_depth=5, min_samples_leaf=3, min_samples_split=2, n_estimators=50; total time=   6.4s\n",
      "[CV] END max_depth=5, min_samples_leaf=3, min_samples_split=2, n_estimators=50; total time=   6.2s\n",
      "[CV] END max_depth=5, min_samples_leaf=3, min_samples_split=2, n_estimators=75; total time=   9.2s\n",
      "[CV] END max_depth=5, min_samples_leaf=3, min_samples_split=4, n_estimators=25; total time=   3.2s\n",
      "[CV] END max_depth=5, min_samples_leaf=3, min_samples_split=4, n_estimators=50; total time=   6.3s\n",
      "[CV] END max_depth=5, min_samples_leaf=3, min_samples_split=4, n_estimators=75; total time=  10.0s\n",
      "[CV] END max_depth=5, min_samples_leaf=3, min_samples_split=6, n_estimators=25; total time=   3.3s\n",
      "[CV] END max_depth=5, min_samples_leaf=3, min_samples_split=6, n_estimators=25; total time=   3.3s\n",
      "[CV] END max_depth=5, min_samples_leaf=3, min_samples_split=6, n_estimators=50; total time=   6.3s\n",
      "[CV] END max_depth=5, min_samples_leaf=3, min_samples_split=6, n_estimators=50; total time=   6.3s\n",
      "[CV] END max_depth=5, min_samples_leaf=3, min_samples_split=6, n_estimators=75; total time=   9.7s\n",
      "[CV] END max_depth=10, min_samples_leaf=1, min_samples_split=2, n_estimators=25; total time=   5.1s\n",
      "[CV] END max_depth=10, min_samples_leaf=1, min_samples_split=2, n_estimators=50; total time=   9.9s\n",
      "[CV] END max_depth=10, min_samples_leaf=1, min_samples_split=2, n_estimators=75; total time=  15.5s\n",
      "[CV] END max_depth=10, min_samples_leaf=1, min_samples_split=2, n_estimators=75; total time=  16.4s\n",
      "[CV] END max_depth=10, min_samples_leaf=1, min_samples_split=4, n_estimators=50; total time=  10.9s\n",
      "[CV] END max_depth=10, min_samples_leaf=1, min_samples_split=4, n_estimators=75; total time=  16.1s\n",
      "[CV] END max_depth=10, min_samples_leaf=1, min_samples_split=6, n_estimators=25; total time=   5.5s\n",
      "[CV] END max_depth=10, min_samples_leaf=1, min_samples_split=6, n_estimators=25; total time=   5.5s\n",
      "[CV] END max_depth=10, min_samples_leaf=1, min_samples_split=6, n_estimators=50; total time=  10.9s\n",
      "[CV] END max_depth=10, min_samples_leaf=1, min_samples_split=6, n_estimators=75; total time=  16.1s\n",
      "[CV] END max_depth=10, min_samples_leaf=2, min_samples_split=2, n_estimators=25; total time=   5.4s\n",
      "[CV] END max_depth=10, min_samples_leaf=2, min_samples_split=2, n_estimators=25; total time=   5.4s\n",
      "[CV] END max_depth=10, min_samples_leaf=2, min_samples_split=2, n_estimators=50; total time=  11.2s\n",
      "[CV] END max_depth=10, min_samples_leaf=2, min_samples_split=2, n_estimators=75; total time=  15.9s\n",
      "[CV] END max_depth=10, min_samples_leaf=2, min_samples_split=2, n_estimators=75; total time=  16.1s\n",
      "[CV] END max_depth=10, min_samples_leaf=2, min_samples_split=4, n_estimators=50; total time=  10.0s\n",
      "[CV] END max_depth=10, min_samples_leaf=2, min_samples_split=4, n_estimators=75; total time=  15.1s\n",
      "[CV] END max_depth=10, min_samples_leaf=2, min_samples_split=6, n_estimators=25; total time=   5.3s\n",
      "[CV] END max_depth=10, min_samples_leaf=2, min_samples_split=6, n_estimators=25; total time=   5.1s\n",
      "[CV] END max_depth=10, min_samples_leaf=2, min_samples_split=6, n_estimators=50; total time=  10.1s\n",
      "[CV] END max_depth=10, min_samples_leaf=2, min_samples_split=6, n_estimators=75; total time=  15.1s\n",
      "[CV] END max_depth=10, min_samples_leaf=2, min_samples_split=6, n_estimators=75; total time=  15.0s\n",
      "[CV] END max_depth=10, min_samples_leaf=3, min_samples_split=2, n_estimators=50; total time=  10.1s\n",
      "[CV] END max_depth=10, min_samples_leaf=3, min_samples_split=2, n_estimators=75; total time=  15.5s\n",
      "[CV] END max_depth=10, min_samples_leaf=3, min_samples_split=4, n_estimators=25; total time=   5.0s\n",
      "[CV] END max_depth=10, min_samples_leaf=3, min_samples_split=4, n_estimators=25; total time=   5.1s\n",
      "[CV] END max_depth=10, min_samples_leaf=3, min_samples_split=4, n_estimators=50; total time=   9.9s\n",
      "[CV] END max_depth=10, min_samples_leaf=3, min_samples_split=4, n_estimators=50; total time=   9.9s\n",
      "[CV] END max_depth=10, min_samples_leaf=3, min_samples_split=4, n_estimators=75; total time=  14.8s\n",
      "[CV] END max_depth=10, min_samples_leaf=3, min_samples_split=6, n_estimators=25; total time=   5.0s\n",
      "[CV] END max_depth=10, min_samples_leaf=3, min_samples_split=6, n_estimators=50; total time=  10.9s\n",
      "[CV] END max_depth=10, min_samples_leaf=3, min_samples_split=6, n_estimators=75; total time=  14.9s\n",
      "[CV] END max_depth=10, min_samples_leaf=3, min_samples_split=6, n_estimators=75; total time=  15.5s\n",
      "[CV] END max_depth=15, min_samples_leaf=1, min_samples_split=2, n_estimators=50; total time=  13.0s\n",
      "[CV] END max_depth=15, min_samples_leaf=1, min_samples_split=2, n_estimators=75; total time=  20.2s\n",
      "[CV] END max_depth=15, min_samples_leaf=1, min_samples_split=2, n_estimators=75; total time=  19.9s\n",
      "[CV] END max_depth=15, min_samples_leaf=1, min_samples_split=4, n_estimators=50; total time=  13.2s\n",
      "[CV] END max_depth=15, min_samples_leaf=1, min_samples_split=4, n_estimators=75; total time=  19.5s\n",
      "[CV] END max_depth=15, min_samples_leaf=1, min_samples_split=6, n_estimators=25; total time=   6.7s\n",
      "[CV] END max_depth=15, min_samples_leaf=1, min_samples_split=6, n_estimators=25; total time=   7.2s\n",
      "[CV] END max_depth=15, min_samples_leaf=1, min_samples_split=6, n_estimators=50; total time=  13.0s\n",
      "[CV] END max_depth=15, min_samples_leaf=1, min_samples_split=6, n_estimators=50; total time=  13.1s\n",
      "[CV] END max_depth=15, min_samples_leaf=1, min_samples_split=6, n_estimators=75; total time=  20.2s\n",
      "[CV] END max_depth=15, min_samples_leaf=2, min_samples_split=2, n_estimators=25; total time=   6.7s\n",
      "[CV] END max_depth=15, min_samples_leaf=2, min_samples_split=2, n_estimators=50; total time=  13.6s\n",
      "[CV] END max_depth=15, min_samples_leaf=2, min_samples_split=2, n_estimators=75; total time=  19.4s\n",
      "[CV] END max_depth=15, min_samples_leaf=2, min_samples_split=4, n_estimators=25; total time=   6.8s\n",
      "[CV] END max_depth=5, min_samples_leaf=1, min_samples_split=2, n_estimators=25; total time=   3.2s\n",
      "[CV] END max_depth=5, min_samples_leaf=1, min_samples_split=2, n_estimators=50; total time=   6.1s\n",
      "[CV] END max_depth=5, min_samples_leaf=1, min_samples_split=2, n_estimators=50; total time=   6.1s\n",
      "[CV] END max_depth=5, min_samples_leaf=1, min_samples_split=2, n_estimators=75; total time=   9.4s\n",
      "[CV] END max_depth=5, min_samples_leaf=1, min_samples_split=4, n_estimators=25; total time=   3.3s\n",
      "[CV] END max_depth=5, min_samples_leaf=1, min_samples_split=4, n_estimators=50; total time=   6.2s\n",
      "[CV] END max_depth=5, min_samples_leaf=1, min_samples_split=4, n_estimators=75; total time=   9.4s\n",
      "[CV] END max_depth=5, min_samples_leaf=1, min_samples_split=4, n_estimators=75; total time=   9.9s\n",
      "[CV] END max_depth=5, min_samples_leaf=1, min_samples_split=6, n_estimators=50; total time=   6.1s\n",
      "[CV] END max_depth=5, min_samples_leaf=1, min_samples_split=6, n_estimators=75; total time=   9.2s\n",
      "[CV] END max_depth=5, min_samples_leaf=2, min_samples_split=2, n_estimators=25; total time=   3.2s\n",
      "[CV] END max_depth=5, min_samples_leaf=2, min_samples_split=2, n_estimators=25; total time=   3.3s\n",
      "[CV] END max_depth=5, min_samples_leaf=2, min_samples_split=2, n_estimators=50; total time=   6.2s\n",
      "[CV] END max_depth=5, min_samples_leaf=2, min_samples_split=2, n_estimators=75; total time=  10.0s\n",
      "[CV] END max_depth=5, min_samples_leaf=2, min_samples_split=2, n_estimators=75; total time=   9.2s\n",
      "[CV] END max_depth=5, min_samples_leaf=2, min_samples_split=4, n_estimators=50; total time=   6.2s\n",
      "[CV] END max_depth=5, min_samples_leaf=2, min_samples_split=4, n_estimators=75; total time=   9.3s\n",
      "[CV] END max_depth=5, min_samples_leaf=2, min_samples_split=6, n_estimators=25; total time=   3.4s\n",
      "[CV] END max_depth=5, min_samples_leaf=2, min_samples_split=6, n_estimators=25; total time=   3.2s\n",
      "[CV] END max_depth=5, min_samples_leaf=2, min_samples_split=6, n_estimators=50; total time=   6.2s\n",
      "[CV] END max_depth=5, min_samples_leaf=2, min_samples_split=6, n_estimators=75; total time=   9.2s\n",
      "[CV] END max_depth=5, min_samples_leaf=2, min_samples_split=6, n_estimators=75; total time=   9.1s\n",
      "[CV] END max_depth=5, min_samples_leaf=3, min_samples_split=2, n_estimators=50; total time=   6.9s\n",
      "[CV] END max_depth=5, min_samples_leaf=3, min_samples_split=2, n_estimators=75; total time=   9.2s\n",
      "[CV] END max_depth=5, min_samples_leaf=3, min_samples_split=4, n_estimators=25; total time=   3.2s\n",
      "[CV] END max_depth=5, min_samples_leaf=3, min_samples_split=4, n_estimators=25; total time=   3.2s\n",
      "[CV] END max_depth=5, min_samples_leaf=3, min_samples_split=4, n_estimators=50; total time=   6.3s\n",
      "[CV] END max_depth=5, min_samples_leaf=3, min_samples_split=4, n_estimators=75; total time=  10.0s\n",
      "[CV] END max_depth=5, min_samples_leaf=3, min_samples_split=4, n_estimators=75; total time=   9.4s\n",
      "[CV] END max_depth=5, min_samples_leaf=3, min_samples_split=6, n_estimators=50; total time=   6.2s\n",
      "[CV] END max_depth=5, min_samples_leaf=3, min_samples_split=6, n_estimators=75; total time=   9.3s\n",
      "[CV] END max_depth=10, min_samples_leaf=1, min_samples_split=2, n_estimators=25; total time=   5.4s\n",
      "[CV] END max_depth=10, min_samples_leaf=1, min_samples_split=2, n_estimators=25; total time=   5.1s\n",
      "[CV] END max_depth=10, min_samples_leaf=1, min_samples_split=2, n_estimators=50; total time=  10.1s\n",
      "[CV] END max_depth=10, min_samples_leaf=1, min_samples_split=2, n_estimators=75; total time=  15.9s\n",
      "[CV] END max_depth=10, min_samples_leaf=1, min_samples_split=4, n_estimators=25; total time=   5.5s\n",
      "[CV] END max_depth=10, min_samples_leaf=1, min_samples_split=4, n_estimators=25; total time=   5.3s\n",
      "[CV] END max_depth=10, min_samples_leaf=1, min_samples_split=4, n_estimators=50; total time=  10.8s\n",
      "[CV] END max_depth=10, min_samples_leaf=1, min_samples_split=4, n_estimators=75; total time=  16.2s\n",
      "[CV] END max_depth=10, min_samples_leaf=1, min_samples_split=4, n_estimators=75; total time=  16.0s\n",
      "[CV] END max_depth=10, min_samples_leaf=1, min_samples_split=6, n_estimators=50; total time=  11.1s\n",
      "[CV] END max_depth=10, min_samples_leaf=1, min_samples_split=6, n_estimators=75; total time=  15.3s\n",
      "[CV] END max_depth=10, min_samples_leaf=2, min_samples_split=2, n_estimators=25; total time=   5.2s\n",
      "[CV] END max_depth=10, min_samples_leaf=2, min_samples_split=2, n_estimators=25; total time=   5.2s\n",
      "[CV] END max_depth=10, min_samples_leaf=2, min_samples_split=2, n_estimators=50; total time=  10.7s\n",
      "[CV] END max_depth=10, min_samples_leaf=2, min_samples_split=2, n_estimators=50; total time=  10.2s\n",
      "[CV] END max_depth=10, min_samples_leaf=2, min_samples_split=2, n_estimators=75; total time=  15.3s\n",
      "[CV] END max_depth=10, min_samples_leaf=2, min_samples_split=4, n_estimators=25; total time=   5.4s\n",
      "[CV] END max_depth=10, min_samples_leaf=2, min_samples_split=4, n_estimators=50; total time=  10.1s\n",
      "[CV] END max_depth=10, min_samples_leaf=2, min_samples_split=4, n_estimators=75; total time=  15.0s\n",
      "[CV] END max_depth=10, min_samples_leaf=2, min_samples_split=6, n_estimators=25; total time=   5.7s\n",
      "[CV] END max_depth=10, min_samples_leaf=2, min_samples_split=6, n_estimators=25; total time=   5.1s\n",
      "[CV] END max_depth=10, min_samples_leaf=2, min_samples_split=6, n_estimators=50; total time=  10.1s\n",
      "[CV] END max_depth=10, min_samples_leaf=2, min_samples_split=6, n_estimators=50; total time=  10.2s\n",
      "[CV] END max_depth=10, min_samples_leaf=2, min_samples_split=6, n_estimators=75; total time=  15.7s\n",
      "[CV] END max_depth=10, min_samples_leaf=3, min_samples_split=2, n_estimators=25; total time=   5.2s\n",
      "[CV] END max_depth=10, min_samples_leaf=3, min_samples_split=2, n_estimators=50; total time=  10.1s\n",
      "[CV] END max_depth=10, min_samples_leaf=3, min_samples_split=2, n_estimators=75; total time=  15.8s\n",
      "[CV] END max_depth=10, min_samples_leaf=3, min_samples_split=4, n_estimators=25; total time=   5.1s\n",
      "[CV] END max_depth=10, min_samples_leaf=3, min_samples_split=4, n_estimators=25; total time=   5.2s\n",
      "[CV] END max_depth=10, min_samples_leaf=3, min_samples_split=4, n_estimators=50; total time=   9.9s\n",
      "[CV] END max_depth=10, min_samples_leaf=3, min_samples_split=4, n_estimators=75; total time=  15.7s\n",
      "[CV] END max_depth=10, min_samples_leaf=3, min_samples_split=4, n_estimators=75; total time=  15.1s\n",
      "[CV] END max_depth=10, min_samples_leaf=3, min_samples_split=6, n_estimators=50; total time=  11.0s\n",
      "[CV] END max_depth=10, min_samples_leaf=3, min_samples_split=6, n_estimators=75; total time=  15.1s\n",
      "[CV] END max_depth=15, min_samples_leaf=1, min_samples_split=2, n_estimators=25; total time=   6.7s\n",
      "[CV] END max_depth=15, min_samples_leaf=1, min_samples_split=2, n_estimators=25; total time=   7.0s\n",
      "[CV] END max_depth=15, min_samples_leaf=1, min_samples_split=2, n_estimators=50; total time=  13.4s\n",
      "[CV] END max_depth=15, min_samples_leaf=1, min_samples_split=2, n_estimators=75; total time=  20.2s\n",
      "[CV] END max_depth=15, min_samples_leaf=1, min_samples_split=4, n_estimators=25; total time=   6.8s\n",
      "[CV] END max_depth=15, min_samples_leaf=1, min_samples_split=4, n_estimators=25; total time=   6.6s\n",
      "[CV] END max_depth=15, min_samples_leaf=1, min_samples_split=4, n_estimators=50; total time=  13.0s\n",
      "[CV] END max_depth=15, min_samples_leaf=1, min_samples_split=4, n_estimators=50; total time=  13.6s\n",
      "[CV] END max_depth=15, min_samples_leaf=1, min_samples_split=4, n_estimators=75; total time=  19.8s\n",
      "[CV] END max_depth=15, min_samples_leaf=1, min_samples_split=6, n_estimators=25; total time=   6.6s\n",
      "[CV] END max_depth=15, min_samples_leaf=1, min_samples_split=6, n_estimators=50; total time=  13.1s\n",
      "[CV] END max_depth=15, min_samples_leaf=1, min_samples_split=6, n_estimators=75; total time=  20.2s\n",
      "[CV] END max_depth=15, min_samples_leaf=2, min_samples_split=2, n_estimators=25; total time=   6.6s\n",
      "[CV] END max_depth=15, min_samples_leaf=2, min_samples_split=2, n_estimators=25; total time=   6.7s\n",
      "[CV] END max_depth=15, min_samples_leaf=2, min_samples_split=2, n_estimators=50; total time=  13.7s\n",
      "[CV] END max_depth=15, min_samples_leaf=2, min_samples_split=2, n_estimators=50; total time=  13.0s\n",
      "[CV] END max_depth=15, min_samples_leaf=2, min_samples_split=2, n_estimators=75; total time=  20.4s\n",
      "[CV] END max_depth=5, min_samples_leaf=1, min_samples_split=2, n_estimators=25; total time=   3.1s\n",
      "[CV] END max_depth=5, min_samples_leaf=1, min_samples_split=2, n_estimators=25; total time=   3.2s\n",
      "[CV] END max_depth=5, min_samples_leaf=1, min_samples_split=2, n_estimators=50; total time=   6.1s\n",
      "[CV] END max_depth=5, min_samples_leaf=1, min_samples_split=2, n_estimators=75; total time=   9.8s\n",
      "[CV] END max_depth=5, min_samples_leaf=1, min_samples_split=4, n_estimators=25; total time=   3.3s\n",
      "[CV] END max_depth=5, min_samples_leaf=1, min_samples_split=4, n_estimators=25; total time=   3.3s\n",
      "[CV] END max_depth=5, min_samples_leaf=1, min_samples_split=4, n_estimators=50; total time=   6.2s\n",
      "[CV] END max_depth=5, min_samples_leaf=1, min_samples_split=4, n_estimators=75; total time=   9.4s\n",
      "[CV] END max_depth=5, min_samples_leaf=1, min_samples_split=6, n_estimators=25; total time=   3.2s\n",
      "[CV] END max_depth=5, min_samples_leaf=1, min_samples_split=6, n_estimators=25; total time=   3.3s\n",
      "[CV] END max_depth=5, min_samples_leaf=1, min_samples_split=6, n_estimators=50; total time=   6.5s\n",
      "[CV] END max_depth=5, min_samples_leaf=1, min_samples_split=6, n_estimators=50; total time=   6.3s\n",
      "[CV] END max_depth=5, min_samples_leaf=1, min_samples_split=6, n_estimators=75; total time=   9.1s\n",
      "[CV] END max_depth=5, min_samples_leaf=2, min_samples_split=2, n_estimators=25; total time=   3.4s\n",
      "[CV] END max_depth=5, min_samples_leaf=2, min_samples_split=2, n_estimators=50; total time=   6.2s\n",
      "[CV] END max_depth=5, min_samples_leaf=2, min_samples_split=2, n_estimators=75; total time=   9.3s\n",
      "[CV] END max_depth=5, min_samples_leaf=2, min_samples_split=4, n_estimators=25; total time=   3.2s\n",
      "[CV] END max_depth=5, min_samples_leaf=2, min_samples_split=4, n_estimators=25; total time=   3.3s\n",
      "[CV] END max_depth=5, min_samples_leaf=2, min_samples_split=4, n_estimators=50; total time=   6.1s\n",
      "[CV] END max_depth=5, min_samples_leaf=2, min_samples_split=4, n_estimators=75; total time=   9.2s\n",
      "[CV] END max_depth=5, min_samples_leaf=2, min_samples_split=4, n_estimators=75; total time=   9.7s\n",
      "[CV] END max_depth=5, min_samples_leaf=2, min_samples_split=6, n_estimators=50; total time=   6.2s\n",
      "[CV] END max_depth=5, min_samples_leaf=2, min_samples_split=6, n_estimators=75; total time=   9.4s\n",
      "[CV] END max_depth=5, min_samples_leaf=3, min_samples_split=2, n_estimators=25; total time=   3.2s\n",
      "[CV] END max_depth=5, min_samples_leaf=3, min_samples_split=2, n_estimators=25; total time=   3.3s\n",
      "[CV] END max_depth=5, min_samples_leaf=3, min_samples_split=2, n_estimators=50; total time=   6.6s\n",
      "[CV] END max_depth=5, min_samples_leaf=3, min_samples_split=2, n_estimators=75; total time=   9.2s\n",
      "[CV] END max_depth=5, min_samples_leaf=3, min_samples_split=2, n_estimators=75; total time=   9.2s\n",
      "[CV] END max_depth=5, min_samples_leaf=3, min_samples_split=4, n_estimators=50; total time=   6.3s\n",
      "[CV] END max_depth=5, min_samples_leaf=3, min_samples_split=4, n_estimators=75; total time=  10.2s\n",
      "[CV] END max_depth=5, min_samples_leaf=3, min_samples_split=6, n_estimators=25; total time=   3.2s\n",
      "[CV] END max_depth=5, min_samples_leaf=3, min_samples_split=6, n_estimators=25; total time=   3.3s\n",
      "[CV] END max_depth=5, min_samples_leaf=3, min_samples_split=6, n_estimators=50; total time=   6.3s\n",
      "[CV] END max_depth=5, min_samples_leaf=3, min_samples_split=6, n_estimators=75; total time=   9.5s\n",
      "[CV] END max_depth=5, min_samples_leaf=3, min_samples_split=6, n_estimators=75; total time=  10.1s\n",
      "[CV] END max_depth=10, min_samples_leaf=1, min_samples_split=2, n_estimators=50; total time=  10.2s\n",
      "[CV] END max_depth=10, min_samples_leaf=1, min_samples_split=2, n_estimators=50; total time=  10.3s\n",
      "[CV] END max_depth=10, min_samples_leaf=1, min_samples_split=2, n_estimators=75; total time=  15.7s\n",
      "[CV] END max_depth=10, min_samples_leaf=1, min_samples_split=4, n_estimators=25; total time=   5.4s\n",
      "[CV] END max_depth=10, min_samples_leaf=1, min_samples_split=4, n_estimators=50; total time=  10.5s\n",
      "[CV] END max_depth=10, min_samples_leaf=1, min_samples_split=4, n_estimators=75; total time=  16.3s\n",
      "[CV] END max_depth=10, min_samples_leaf=1, min_samples_split=6, n_estimators=25; total time=   5.3s\n",
      "[CV] END max_depth=10, min_samples_leaf=1, min_samples_split=6, n_estimators=25; total time=   5.3s\n",
      "[CV] END max_depth=10, min_samples_leaf=1, min_samples_split=6, n_estimators=50; total time=  10.6s\n",
      "[CV] END max_depth=10, min_samples_leaf=1, min_samples_split=6, n_estimators=50; total time=  10.8s\n",
      "[CV] END max_depth=10, min_samples_leaf=1, min_samples_split=6, n_estimators=75; total time=  15.4s\n",
      "[CV] END max_depth=10, min_samples_leaf=2, min_samples_split=2, n_estimators=25; total time=   5.2s\n",
      "[CV] END max_depth=10, min_samples_leaf=2, min_samples_split=2, n_estimators=50; total time=  10.3s\n",
      "[CV] END max_depth=10, min_samples_leaf=2, min_samples_split=2, n_estimators=75; total time=  15.4s\n",
      "[CV] END max_depth=10, min_samples_leaf=2, min_samples_split=4, n_estimators=25; total time=   5.2s\n",
      "[CV] END max_depth=10, min_samples_leaf=2, min_samples_split=4, n_estimators=25; total time=   6.0s\n",
      "[CV] END max_depth=10, min_samples_leaf=2, min_samples_split=4, n_estimators=50; total time=  10.2s\n",
      "[CV] END max_depth=10, min_samples_leaf=2, min_samples_split=4, n_estimators=75; total time=  15.5s\n",
      "[CV] END max_depth=10, min_samples_leaf=2, min_samples_split=4, n_estimators=75; total time=  16.1s\n",
      "[CV] END max_depth=10, min_samples_leaf=2, min_samples_split=6, n_estimators=50; total time=  10.3s\n",
      "[CV] END max_depth=10, min_samples_leaf=2, min_samples_split=6, n_estimators=75; total time=  16.2s\n",
      "[CV] END max_depth=10, min_samples_leaf=3, min_samples_split=2, n_estimators=25; total time=   5.2s\n",
      "[CV] END max_depth=10, min_samples_leaf=3, min_samples_split=2, n_estimators=25; total time=   5.2s\n",
      "[CV] END max_depth=10, min_samples_leaf=3, min_samples_split=2, n_estimators=50; total time=  10.3s\n",
      "[CV] END max_depth=10, min_samples_leaf=3, min_samples_split=2, n_estimators=75; total time=  15.8s\n",
      "[CV] END max_depth=10, min_samples_leaf=3, min_samples_split=2, n_estimators=75; total time=  15.4s\n",
      "[CV] END max_depth=10, min_samples_leaf=3, min_samples_split=4, n_estimators=50; total time=  10.9s\n",
      "[CV] END max_depth=10, min_samples_leaf=3, min_samples_split=4, n_estimators=75; total time=  15.4s\n",
      "[CV] END max_depth=10, min_samples_leaf=3, min_samples_split=6, n_estimators=25; total time=   5.2s\n",
      "[CV] END max_depth=10, min_samples_leaf=3, min_samples_split=6, n_estimators=25; total time=   5.3s\n",
      "[CV] END max_depth=10, min_samples_leaf=3, min_samples_split=6, n_estimators=50; total time=  10.7s\n",
      "[CV] END max_depth=10, min_samples_leaf=3, min_samples_split=6, n_estimators=75; total time=  15.4s\n",
      "[CV] END max_depth=15, min_samples_leaf=1, min_samples_split=2, n_estimators=25; total time=   6.8s\n",
      "[CV] END max_depth=15, min_samples_leaf=1, min_samples_split=2, n_estimators=25; total time=   7.6s\n",
      "[CV] END max_depth=15, min_samples_leaf=1, min_samples_split=2, n_estimators=50; total time=  13.6s\n",
      "[CV] END max_depth=15, min_samples_leaf=1, min_samples_split=2, n_estimators=75; total time=  21.2s\n",
      "[CV] END max_depth=15, min_samples_leaf=1, min_samples_split=4, n_estimators=25; total time=   6.9s\n",
      "[CV] END max_depth=15, min_samples_leaf=1, min_samples_split=4, n_estimators=25; total time=   6.8s\n",
      "[CV] END max_depth=15, min_samples_leaf=1, min_samples_split=4, n_estimators=50; total time=  13.9s\n",
      "[CV] END max_depth=15, min_samples_leaf=1, min_samples_split=4, n_estimators=75; total time=  20.1s\n",
      "[CV] END max_depth=15, min_samples_leaf=1, min_samples_split=4, n_estimators=75; total time=  20.7s\n",
      "[CV] END max_depth=15, min_samples_leaf=1, min_samples_split=6, n_estimators=50; total time=  13.4s\n",
      "[CV] END max_depth=15, min_samples_leaf=1, min_samples_split=6, n_estimators=75; total time=  19.8s\n",
      "[CV] END max_depth=15, min_samples_leaf=2, min_samples_split=2, n_estimators=25; total time=   6.5s\n",
      "[CV] END max_depth=15, min_samples_leaf=2, min_samples_split=2, n_estimators=25; total time=   6.6s\n",
      "[CV] END max_depth=15, min_samples_leaf=2, min_samples_split=2, n_estimators=50; total time=  13.1s\n",
      "[CV] END max_depth=15, min_samples_leaf=2, min_samples_split=2, n_estimators=75; total time=  19.5s\n",
      "Best parameters found:  {'max_depth': 10, 'min_samples_leaf': 1, 'min_samples_split': 6, 'n_estimators': 75}\n",
      "Best AUC-ROC score found:  0.8871099467629804\n"
     ]
    }
   ],
   "source": [
    "# hyperparameter tuning\n",
    "\n",
    "# Stratified K-Fold for imbalanced dataset\n",
    "stratified_kfold = StratifiedKFold(n_splits=5, shuffle=True, random_state=55)\n",
    "\n",
    "grid_search_rf = GridSearchCV(estimator=rf, param_grid=param_grid_rf, \n",
    "                              cv=stratified_kfold, scoring='roc_auc', n_jobs=-1, verbose=2)\n",
    "\n",
    "grid_search_rf.fit(X_train, y_train)\n",
    "\n",
    "print(\"Best parameters found: \", grid_search_rf.best_params_)\n",
    "print(\"Best AUC-ROC score found: \", grid_search_rf.best_score_)"
   ]
  },
  {
   "cell_type": "code",
   "execution_count": 49,
   "id": "bfc8aae1",
   "metadata": {
    "execution": {
     "iopub.execute_input": "2024-01-15T05:32:02.451579Z",
     "iopub.status.busy": "2024-01-15T05:32:02.450844Z",
     "iopub.status.idle": "2024-01-15T05:32:17.046439Z",
     "shell.execute_reply": "2024-01-15T05:32:17.045266Z"
    },
    "papermill": {
     "duration": 14.630404,
     "end_time": "2024-01-15T05:32:17.049154",
     "exception": false,
     "start_time": "2024-01-15T05:32:02.418750",
     "status": "completed"
    },
    "tags": []
   },
   "outputs": [
    {
     "data": {
      "text/html": [
       "<style>#sk-container-id-2 {color: black;background-color: white;}#sk-container-id-2 pre{padding: 0;}#sk-container-id-2 div.sk-toggleable {background-color: white;}#sk-container-id-2 label.sk-toggleable__label {cursor: pointer;display: block;width: 100%;margin-bottom: 0;padding: 0.3em;box-sizing: border-box;text-align: center;}#sk-container-id-2 label.sk-toggleable__label-arrow:before {content: \"▸\";float: left;margin-right: 0.25em;color: #696969;}#sk-container-id-2 label.sk-toggleable__label-arrow:hover:before {color: black;}#sk-container-id-2 div.sk-estimator:hover label.sk-toggleable__label-arrow:before {color: black;}#sk-container-id-2 div.sk-toggleable__content {max-height: 0;max-width: 0;overflow: hidden;text-align: left;background-color: #f0f8ff;}#sk-container-id-2 div.sk-toggleable__content pre {margin: 0.2em;color: black;border-radius: 0.25em;background-color: #f0f8ff;}#sk-container-id-2 input.sk-toggleable__control:checked~div.sk-toggleable__content {max-height: 200px;max-width: 100%;overflow: auto;}#sk-container-id-2 input.sk-toggleable__control:checked~label.sk-toggleable__label-arrow:before {content: \"▾\";}#sk-container-id-2 div.sk-estimator input.sk-toggleable__control:checked~label.sk-toggleable__label {background-color: #d4ebff;}#sk-container-id-2 div.sk-label input.sk-toggleable__control:checked~label.sk-toggleable__label {background-color: #d4ebff;}#sk-container-id-2 input.sk-hidden--visually {border: 0;clip: rect(1px 1px 1px 1px);clip: rect(1px, 1px, 1px, 1px);height: 1px;margin: -1px;overflow: hidden;padding: 0;position: absolute;width: 1px;}#sk-container-id-2 div.sk-estimator {font-family: monospace;background-color: #f0f8ff;border: 1px dotted black;border-radius: 0.25em;box-sizing: border-box;margin-bottom: 0.5em;}#sk-container-id-2 div.sk-estimator:hover {background-color: #d4ebff;}#sk-container-id-2 div.sk-parallel-item::after {content: \"\";width: 100%;border-bottom: 1px solid gray;flex-grow: 1;}#sk-container-id-2 div.sk-label:hover label.sk-toggleable__label {background-color: #d4ebff;}#sk-container-id-2 div.sk-serial::before {content: \"\";position: absolute;border-left: 1px solid gray;box-sizing: border-box;top: 0;bottom: 0;left: 50%;z-index: 0;}#sk-container-id-2 div.sk-serial {display: flex;flex-direction: column;align-items: center;background-color: white;padding-right: 0.2em;padding-left: 0.2em;position: relative;}#sk-container-id-2 div.sk-item {position: relative;z-index: 1;}#sk-container-id-2 div.sk-parallel {display: flex;align-items: stretch;justify-content: center;background-color: white;position: relative;}#sk-container-id-2 div.sk-item::before, #sk-container-id-2 div.sk-parallel-item::before {content: \"\";position: absolute;border-left: 1px solid gray;box-sizing: border-box;top: 0;bottom: 0;left: 50%;z-index: -1;}#sk-container-id-2 div.sk-parallel-item {display: flex;flex-direction: column;z-index: 1;position: relative;background-color: white;}#sk-container-id-2 div.sk-parallel-item:first-child::after {align-self: flex-end;width: 50%;}#sk-container-id-2 div.sk-parallel-item:last-child::after {align-self: flex-start;width: 50%;}#sk-container-id-2 div.sk-parallel-item:only-child::after {width: 0;}#sk-container-id-2 div.sk-dashed-wrapped {border: 1px dashed gray;margin: 0 0.4em 0.5em 0.4em;box-sizing: border-box;padding-bottom: 0.4em;background-color: white;}#sk-container-id-2 div.sk-label label {font-family: monospace;font-weight: bold;display: inline-block;line-height: 1.2em;}#sk-container-id-2 div.sk-label-container {text-align: center;}#sk-container-id-2 div.sk-container {/* jupyter's `normalize.less` sets `[hidden] { display: none; }` but bootstrap.min.css set `[hidden] { display: none !important; }` so we also need the `!important` here to be able to override the default hidden behavior on the sphinx rendered scikit-learn.org. See: https://github.com/scikit-learn/scikit-learn/issues/21755 */display: inline-block !important;position: relative;}#sk-container-id-2 div.sk-text-repr-fallback {display: none;}</style><div id=\"sk-container-id-2\" class=\"sk-top-container\"><div class=\"sk-text-repr-fallback\"><pre>RandomForestClassifier(max_depth=10, min_samples_split=6, n_estimators=75,\n",
       "                       random_state=55)</pre><b>In a Jupyter environment, please rerun this cell to show the HTML representation or trust the notebook. <br />On GitHub, the HTML representation is unable to render, please try loading this page with nbviewer.org.</b></div><div class=\"sk-container\" hidden><div class=\"sk-item\"><div class=\"sk-estimator sk-toggleable\"><input class=\"sk-toggleable__control sk-hidden--visually\" id=\"sk-estimator-id-2\" type=\"checkbox\" checked><label for=\"sk-estimator-id-2\" class=\"sk-toggleable__label sk-toggleable__label-arrow\">RandomForestClassifier</label><div class=\"sk-toggleable__content\"><pre>RandomForestClassifier(max_depth=10, min_samples_split=6, n_estimators=75,\n",
       "                       random_state=55)</pre></div></div></div></div></div>"
      ],
      "text/plain": [
       "RandomForestClassifier(max_depth=10, min_samples_split=6, n_estimators=75,\n",
       "                       random_state=55)"
      ]
     },
     "execution_count": 49,
     "metadata": {},
     "output_type": "execute_result"
    }
   ],
   "source": [
    "best_params_rf = grid_search_rf.best_params_\n",
    "rf_best = RandomForestClassifier(**best_params_rf, random_state=55)\n",
    "rf_best.fit(X_train, y_train)"
   ]
  },
  {
   "cell_type": "code",
   "execution_count": 50,
   "id": "e49a3851",
   "metadata": {
    "execution": {
     "iopub.execute_input": "2024-01-15T05:32:17.114814Z",
     "iopub.status.busy": "2024-01-15T05:32:17.114418Z",
     "iopub.status.idle": "2024-01-15T05:32:17.749919Z",
     "shell.execute_reply": "2024-01-15T05:32:17.748831Z"
    },
    "papermill": {
     "duration": 0.670649,
     "end_time": "2024-01-15T05:32:17.752585",
     "exception": false,
     "start_time": "2024-01-15T05:32:17.081936",
     "status": "completed"
    },
    "tags": []
   },
   "outputs": [
    {
     "data": {
      "image/png": "[encoded data removed]",
      "text/plain": [
       "<Figure size 640x480 with 1 Axes>"
      ]
     },
     "metadata": {},
     "output_type": "display_data"
    },
    {
     "data": {
      "text/plain": [
       "0.8872705357261941"
      ]
     },
     "execution_count": 50,
     "metadata": {},
     "output_type": "execute_result"
    }
   ],
   "source": [
    "y_probs_rf_best = rf_best.predict_proba(X_val)[:, 1]\n",
    "AUC(y_val, y_probs_rf_best)"
   ]
  },
  {
   "cell_type": "markdown",
   "id": "b2707115",
   "metadata": {
    "papermill": {
     "duration": 0.031136,
     "end_time": "2024-01-15T05:32:17.816055",
     "exception": false,
     "start_time": "2024-01-15T05:32:17.784919",
     "status": "completed"
    },
    "tags": []
   },
   "source": [
    "#### XG Boost"
   ]
  },
  {
   "cell_type": "code",
   "execution_count": 51,
   "id": "24161ef1",
   "metadata": {
    "execution": {
     "iopub.execute_input": "2024-01-15T05:32:17.881378Z",
     "iopub.status.busy": "2024-01-15T05:32:17.880698Z",
     "iopub.status.idle": "2024-01-15T05:32:19.502998Z",
     "shell.execute_reply": "2024-01-15T05:32:19.501711Z"
    },
    "papermill": {
     "duration": 1.658735,
     "end_time": "2024-01-15T05:32:19.506217",
     "exception": false,
     "start_time": "2024-01-15T05:32:17.847482",
     "status": "completed"
    },
    "tags": []
   },
   "outputs": [
    {
     "data": {
      "image/png": "[encoded data removed]",
      "text/plain": [
       "<Figure size 640x480 with 1 Axes>"
      ]
     },
     "metadata": {},
     "output_type": "display_data"
    },
    {
     "data": {
      "text/plain": [
       "0.8874761346458916"
      ]
     },
     "execution_count": 51,
     "metadata": {},
     "output_type": "execute_result"
    }
   ],
   "source": [
    "from xgboost import XGBClassifier\n",
    "stratified_kfold = StratifiedKFold(n_splits=5, shuffle=True, random_state=55)\n",
    "xgb = XGBClassifier(random_state=55, use_label_encoder=False, eval_metric='logloss')\n",
    "xgb.fit(X_train, y_train)\n",
    "y_probs_xgb = xgb.predict_proba(X_val)[:, 1]\n",
    "AUC(y_val,y_probs_xgb)"
   ]
  },
  {
   "cell_type": "code",
   "execution_count": 52,
   "id": "600ec94e",
   "metadata": {
    "execution": {
     "iopub.execute_input": "2024-01-15T05:32:19.575529Z",
     "iopub.status.busy": "2024-01-15T05:32:19.575110Z",
     "iopub.status.idle": "2024-01-15T05:32:19.580451Z",
     "shell.execute_reply": "2024-01-15T05:32:19.579298Z"
    },
    "papermill": {
     "duration": 0.043323,
     "end_time": "2024-01-15T05:32:19.582946",
     "exception": false,
     "start_time": "2024-01-15T05:32:19.539623",
     "status": "completed"
    },
    "tags": []
   },
   "outputs": [],
   "source": [
    "# hyperparameter tuning\n",
    "param_grid_xgb = {\n",
    "'max_depth': [3, 5, 7],\n",
    "'n_estimators': [100, 200, 300],\n",
    "'learning_rate': [0.01, 0.1, 0.2]\n",
    "}"
   ]
  },
  {
   "cell_type": "code",
   "execution_count": 53,
   "id": "117c3bdd",
   "metadata": {
    "execution": {
     "iopub.execute_input": "2024-01-15T05:32:19.652316Z",
     "iopub.status.busy": "2024-01-15T05:32:19.651547Z",
     "iopub.status.idle": "2024-01-15T05:35:38.446682Z",
     "shell.execute_reply": "2024-01-15T05:35:38.445468Z"
    },
    "papermill": {
     "duration": 198.867013,
     "end_time": "2024-01-15T05:35:38.483177",
     "exception": false,
     "start_time": "2024-01-15T05:32:19.616164",
     "status": "completed"
    },
    "tags": []
   },
   "outputs": [
    {
     "data": {
      "text/html": [
       "<style>#sk-container-id-3 {color: black;background-color: white;}#sk-container-id-3 pre{padding: 0;}#sk-container-id-3 div.sk-toggleable {background-color: white;}#sk-container-id-3 label.sk-toggleable__label {cursor: pointer;display: block;width: 100%;margin-bottom: 0;padding: 0.3em;box-sizing: border-box;text-align: center;}#sk-container-id-3 label.sk-toggleable__label-arrow:before {content: \"▸\";float: left;margin-right: 0.25em;color: #696969;}#sk-container-id-3 label.sk-toggleable__label-arrow:hover:before {color: black;}#sk-container-id-3 div.sk-estimator:hover label.sk-toggleable__label-arrow:before {color: black;}#sk-container-id-3 div.sk-toggleable__content {max-height: 0;max-width: 0;overflow: hidden;text-align: left;background-color: #f0f8ff;}#sk-container-id-3 div.sk-toggleable__content pre {margin: 0.2em;color: black;border-radius: 0.25em;background-color: #f0f8ff;}#sk-container-id-3 input.sk-toggleable__control:checked~div.sk-toggleable__content {max-height: 200px;max-width: 100%;overflow: auto;}#sk-container-id-3 input.sk-toggleable__control:checked~label.sk-toggleable__label-arrow:before {content: \"▾\";}#sk-container-id-3 div.sk-estimator input.sk-toggleable__control:checked~label.sk-toggleable__label {background-color: #d4ebff;}#sk-container-id-3 div.sk-label input.sk-toggleable__control:checked~label.sk-toggleable__label {background-color: #d4ebff;}#sk-container-id-3 input.sk-hidden--visually {border: 0;clip: rect(1px 1px 1px 1px);clip: rect(1px, 1px, 1px, 1px);height: 1px;margin: -1px;overflow: hidden;padding: 0;position: absolute;width: 1px;}#sk-container-id-3 div.sk-estimator {font-family: monospace;background-color: #f0f8ff;border: 1px dotted black;border-radius: 0.25em;box-sizing: border-box;margin-bottom: 0.5em;}#sk-container-id-3 div.sk-estimator:hover {background-color: #d4ebff;}#sk-container-id-3 div.sk-parallel-item::after {content: \"\";width: 100%;border-bottom: 1px solid gray;flex-grow: 1;}#sk-container-id-3 div.sk-label:hover label.sk-toggleable__label {background-color: #d4ebff;}#sk-container-id-3 div.sk-serial::before {content: \"\";position: absolute;border-left: 1px solid gray;box-sizing: border-box;top: 0;bottom: 0;left: 50%;z-index: 0;}#sk-container-id-3 div.sk-serial {display: flex;flex-direction: column;align-items: center;background-color: white;padding-right: 0.2em;padding-left: 0.2em;position: relative;}#sk-container-id-3 div.sk-item {position: relative;z-index: 1;}#sk-container-id-3 div.sk-parallel {display: flex;align-items: stretch;justify-content: center;background-color: white;position: relative;}#sk-container-id-3 div.sk-item::before, #sk-container-id-3 div.sk-parallel-item::before {content: \"\";position: absolute;border-left: 1px solid gray;box-sizing: border-box;top: 0;bottom: 0;left: 50%;z-index: -1;}#sk-container-id-3 div.sk-parallel-item {display: flex;flex-direction: column;z-index: 1;position: relative;background-color: white;}#sk-container-id-3 div.sk-parallel-item:first-child::after {align-self: flex-end;width: 50%;}#sk-container-id-3 div.sk-parallel-item:last-child::after {align-self: flex-start;width: 50%;}#sk-container-id-3 div.sk-parallel-item:only-child::after {width: 0;}#sk-container-id-3 div.sk-dashed-wrapped {border: 1px dashed gray;margin: 0 0.4em 0.5em 0.4em;box-sizing: border-box;padding-bottom: 0.4em;background-color: white;}#sk-container-id-3 div.sk-label label {font-family: monospace;font-weight: bold;display: inline-block;line-height: 1.2em;}#sk-container-id-3 div.sk-label-container {text-align: center;}#sk-container-id-3 div.sk-container {/* jupyter's `normalize.less` sets `[hidden] { display: none; }` but bootstrap.min.css set `[hidden] { display: none !important; }` so we also need the `!important` here to be able to override the default hidden behavior on the sphinx rendered scikit-learn.org. See: https://github.com/scikit-learn/scikit-learn/issues/21755 */display: inline-block !important;position: relative;}#sk-container-id-3 div.sk-text-repr-fallback {display: none;}</style><div id=\"sk-container-id-3\" class=\"sk-top-container\"><div class=\"sk-text-repr-fallback\"><pre>GridSearchCV(cv=StratifiedKFold(n_splits=5, random_state=55, shuffle=True),\n",
       "             estimator=XGBClassifier(base_score=None, booster=None,\n",
       "                                     callbacks=None, colsample_bylevel=None,\n",
       "                                     colsample_bynode=None,\n",
       "                                     colsample_bytree=None, device=None,\n",
       "                                     early_stopping_rounds=None,\n",
       "                                     enable_categorical=False,\n",
       "                                     eval_metric=&#x27;logloss&#x27;, feature_types=None,\n",
       "                                     gamma=None, grow_policy=None,\n",
       "                                     importanc...\n",
       "                                     max_cat_threshold=None,\n",
       "                                     max_cat_to_onehot=None,\n",
       "                                     max_delta_step=None, max_depth=None,\n",
       "                                     max_leaves=None, min_child_weight=None,\n",
       "                                     missing=nan, monotone_constraints=None,\n",
       "                                     multi_strategy=None, n_estimators=None,\n",
       "                                     n_jobs=None, num_parallel_tree=None,\n",
       "                                     random_state=55, ...),\n",
       "             n_jobs=-1,\n",
       "             param_grid={&#x27;learning_rate&#x27;: [0.01, 0.1, 0.2],\n",
       "                         &#x27;max_depth&#x27;: [3, 5, 7],\n",
       "                         &#x27;n_estimators&#x27;: [100, 200, 300]},\n",
       "             scoring=&#x27;roc_auc&#x27;)</pre><b>In a Jupyter environment, please rerun this cell to show the HTML representation or trust the notebook. <br />On GitHub, the HTML representation is unable to render, please try loading this page with nbviewer.org.</b></div><div class=\"sk-container\" hidden><div class=\"sk-item sk-dashed-wrapped\"><div class=\"sk-label-container\"><div class=\"sk-label sk-toggleable\"><input class=\"sk-toggleable__control sk-hidden--visually\" id=\"sk-estimator-id-3\" type=\"checkbox\" ><label for=\"sk-estimator-id-3\" class=\"sk-toggleable__label sk-toggleable__label-arrow\">GridSearchCV</label><div class=\"sk-toggleable__content\"><pre>GridSearchCV(cv=StratifiedKFold(n_splits=5, random_state=55, shuffle=True),\n",
       "             estimator=XGBClassifier(base_score=None, booster=None,\n",
       "                                     callbacks=None, colsample_bylevel=None,\n",
       "                                     colsample_bynode=None,\n",
       "                                     colsample_bytree=None, device=None,\n",
       "                                     early_stopping_rounds=None,\n",
       "                                     enable_categorical=False,\n",
       "                                     eval_metric=&#x27;logloss&#x27;, feature_types=None,\n",
       "                                     gamma=None, grow_policy=None,\n",
       "                                     importanc...\n",
       "                                     max_cat_threshold=None,\n",
       "                                     max_cat_to_onehot=None,\n",
       "                                     max_delta_step=None, max_depth=None,\n",
       "                                     max_leaves=None, min_child_weight=None,\n",
       "                                     missing=nan, monotone_constraints=None,\n",
       "                                     multi_strategy=None, n_estimators=None,\n",
       "                                     n_jobs=None, num_parallel_tree=None,\n",
       "                                     random_state=55, ...),\n",
       "             n_jobs=-1,\n",
       "             param_grid={&#x27;learning_rate&#x27;: [0.01, 0.1, 0.2],\n",
       "                         &#x27;max_depth&#x27;: [3, 5, 7],\n",
       "                         &#x27;n_estimators&#x27;: [100, 200, 300]},\n",
       "             scoring=&#x27;roc_auc&#x27;)</pre></div></div></div><div class=\"sk-parallel\"><div class=\"sk-parallel-item\"><div class=\"sk-item\"><div class=\"sk-label-container\"><div class=\"sk-label sk-toggleable\"><input class=\"sk-toggleable__control sk-hidden--visually\" id=\"sk-estimator-id-4\" type=\"checkbox\" ><label for=\"sk-estimator-id-4\" class=\"sk-toggleable__label sk-toggleable__label-arrow\">estimator: XGBClassifier</label><div class=\"sk-toggleable__content\"><pre>XGBClassifier(base_score=None, booster=None, callbacks=None,\n",
       "              colsample_bylevel=None, colsample_bynode=None,\n",
       "              colsample_bytree=None, device=None, early_stopping_rounds=None,\n",
       "              enable_categorical=False, eval_metric=&#x27;logloss&#x27;,\n",
       "              feature_types=None, gamma=None, grow_policy=None,\n",
       "              importance_type=None, interaction_constraints=None,\n",
       "              learning_rate=None, max_bin=None, max_cat_threshold=None,\n",
       "              max_cat_to_onehot=None, max_delta_step=None, max_depth=None,\n",
       "              max_leaves=None, min_child_weight=None, missing=nan,\n",
       "              monotone_constraints=None, multi_strategy=None, n_estimators=None,\n",
       "              n_jobs=None, num_parallel_tree=None, random_state=55, ...)</pre></div></div></div><div class=\"sk-serial\"><div class=\"sk-item\"><div class=\"sk-estimator sk-toggleable\"><input class=\"sk-toggleable__control sk-hidden--visually\" id=\"sk-estimator-id-5\" type=\"checkbox\" ><label for=\"sk-estimator-id-5\" class=\"sk-toggleable__label sk-toggleable__label-arrow\">XGBClassifier</label><div class=\"sk-toggleable__content\"><pre>XGBClassifier(base_score=None, booster=None, callbacks=None,\n",
       "              colsample_bylevel=None, colsample_bynode=None,\n",
       "              colsample_bytree=None, device=None, early_stopping_rounds=None,\n",
       "              enable_categorical=False, eval_metric=&#x27;logloss&#x27;,\n",
       "              feature_types=None, gamma=None, grow_policy=None,\n",
       "              importance_type=None, interaction_constraints=None,\n",
       "              learning_rate=None, max_bin=None, max_cat_threshold=None,\n",
       "              max_cat_to_onehot=None, max_delta_step=None, max_depth=None,\n",
       "              max_leaves=None, min_child_weight=None, missing=nan,\n",
       "              monotone_constraints=None, multi_strategy=None, n_estimators=None,\n",
       "              n_jobs=None, num_parallel_tree=None, random_state=55, ...)</pre></div></div></div></div></div></div></div></div></div></div>"
      ],
      "text/plain": [
       "GridSearchCV(cv=StratifiedKFold(n_splits=5, random_state=55, shuffle=True),\n",
       "             estimator=XGBClassifier(base_score=None, booster=None,\n",
       "                                     callbacks=None, colsample_bylevel=None,\n",
       "                                     colsample_bynode=None,\n",
       "                                     colsample_bytree=None, device=None,\n",
       "                                     early_stopping_rounds=None,\n",
       "                                     enable_categorical=False,\n",
       "                                     eval_metric='logloss', feature_types=None,\n",
       "                                     gamma=None, grow_policy=None,\n",
       "                                     importanc...\n",
       "                                     max_cat_threshold=None,\n",
       "                                     max_cat_to_onehot=None,\n",
       "                                     max_delta_step=None, max_depth=None,\n",
       "                                     max_leaves=None, min_child_weight=None,\n",
       "                                     missing=nan, monotone_constraints=None,\n",
       "                                     multi_strategy=None, n_estimators=None,\n",
       "                                     n_jobs=None, num_parallel_tree=None,\n",
       "                                     random_state=55, ...),\n",
       "             n_jobs=-1,\n",
       "             param_grid={'learning_rate': [0.01, 0.1, 0.2],\n",
       "                         'max_depth': [3, 5, 7],\n",
       "                         'n_estimators': [100, 200, 300]},\n",
       "             scoring='roc_auc')"
      ]
     },
     "execution_count": 53,
     "metadata": {},
     "output_type": "execute_result"
    }
   ],
   "source": [
    "grid_search_xgb = GridSearchCV(xgb, param_grid=param_grid_xgb,cv=stratified_kfold, scoring='roc_auc', n_jobs=-1)\n",
    "grid_search_xgb.fit(X_train, y_train)"
   ]
  },
  {
   "cell_type": "code",
   "execution_count": 54,
   "id": "0c58cf0c",
   "metadata": {
    "execution": {
     "iopub.execute_input": "2024-01-15T05:35:38.553103Z",
     "iopub.status.busy": "2024-01-15T05:35:38.552707Z",
     "iopub.status.idle": "2024-01-15T05:35:41.039862Z",
     "shell.execute_reply": "2024-01-15T05:35:41.038492Z"
    },
    "papermill": {
     "duration": 2.525354,
     "end_time": "2024-01-15T05:35:41.042790",
     "exception": false,
     "start_time": "2024-01-15T05:35:38.517436",
     "status": "completed"
    },
    "tags": []
   },
   "outputs": [
    {
     "name": "stdout",
     "output_type": "stream",
     "text": [
      "Best parameters for XGBoost: {'learning_rate': 0.1, 'max_depth': 3, 'n_estimators': 300}\n"
     ]
    },
    {
     "data": {
      "image/png": "[encoded data removed]",
      "text/plain": [
       "<Figure size 640x480 with 1 Axes>"
      ]
     },
     "metadata": {},
     "output_type": "display_data"
    },
    {
     "data": {
      "text/plain": [
       "0.8894530843695014"
      ]
     },
     "execution_count": 54,
     "metadata": {},
     "output_type": "execute_result"
    }
   ],
   "source": [
    "best_params_xgb = grid_search_xgb.best_params_\n",
    "print(f\"Best parameters for XGBoost: {best_params_xgb}\")\n",
    "# Build the model with best parameters\n",
    "xgb_best = XGBClassifier(**best_params_xgb, random_state=42, use_label_encoder=False, eval_metric='logloss')\n",
    "xgb_best.fit(X_train, y_train)\n",
    "\n",
    "# Predict and evaluate\n",
    "y_probs_xgb_best = xgb_best.predict_proba(X_val)[:, 1]\n",
    "AUC(y_val,y_probs_xgb_best)"
   ]
  },
  {
   "cell_type": "markdown",
   "id": "bc0273b8",
   "metadata": {
    "papermill": {
     "duration": 0.035498,
     "end_time": "2024-01-15T05:35:41.114438",
     "exception": false,
     "start_time": "2024-01-15T05:35:41.078940",
     "status": "completed"
    },
    "tags": []
   },
   "source": [
    "### Neural network based approach"
   ]
  },
  {
   "cell_type": "code",
   "execution_count": 55,
   "id": "7008ac93",
   "metadata": {
    "execution": {
     "iopub.execute_input": "2024-01-15T05:35:41.187286Z",
     "iopub.status.busy": "2024-01-15T05:35:41.186853Z",
     "iopub.status.idle": "2024-01-15T05:35:41.241863Z",
     "shell.execute_reply": "2024-01-15T05:35:41.240702Z"
    },
    "papermill": {
     "duration": 0.093802,
     "end_time": "2024-01-15T05:35:41.244372",
     "exception": false,
     "start_time": "2024-01-15T05:35:41.150570",
     "status": "completed"
    },
    "tags": []
   },
   "outputs": [
    {
     "data": {
      "text/html": [
       "<div>\n",
       "<style scoped>\n",
       "    .dataframe tbody tr th:only-of-type {\n",
       "        vertical-align: middle;\n",
       "    }\n",
       "\n",
       "    .dataframe tbody tr th {\n",
       "        vertical-align: top;\n",
       "    }\n",
       "\n",
       "    .dataframe thead th {\n",
       "        text-align: right;\n",
       "    }\n",
       "</style>\n",
       "<table border=\"1\" class=\"dataframe\">\n",
       "  <thead>\n",
       "    <tr style=\"text-align: right;\">\n",
       "      <th></th>\n",
       "      <th>CreditScore</th>\n",
       "      <th>Age</th>\n",
       "      <th>Tenure</th>\n",
       "      <th>Balance</th>\n",
       "      <th>NumOfProducts</th>\n",
       "      <th>HasCrCard</th>\n",
       "      <th>IsActiveMember</th>\n",
       "      <th>EstimatedSalary</th>\n",
       "      <th>x_Balance</th>\n",
       "      <th>Geography_France</th>\n",
       "      <th>Geography_Germany</th>\n",
       "      <th>Geography_Spain</th>\n",
       "      <th>Gender_Female</th>\n",
       "      <th>Gender_Male</th>\n",
       "      <th>NumOfProdBins_1</th>\n",
       "      <th>NumOfProdBins_2-4</th>\n",
       "    </tr>\n",
       "    <tr>\n",
       "      <th>id</th>\n",
       "      <th></th>\n",
       "      <th></th>\n",
       "      <th></th>\n",
       "      <th></th>\n",
       "      <th></th>\n",
       "      <th></th>\n",
       "      <th></th>\n",
       "      <th></th>\n",
       "      <th></th>\n",
       "      <th></th>\n",
       "      <th></th>\n",
       "      <th></th>\n",
       "      <th></th>\n",
       "      <th></th>\n",
       "      <th></th>\n",
       "      <th></th>\n",
       "    </tr>\n",
       "  </thead>\n",
       "  <tbody>\n",
       "    <tr>\n",
       "      <th>78119</th>\n",
       "      <td>-0.292537</td>\n",
       "      <td>0.097498</td>\n",
       "      <td>-0.007020</td>\n",
       "      <td>-0.882414</td>\n",
       "      <td>2</td>\n",
       "      <td>0.0</td>\n",
       "      <td>1.0</td>\n",
       "      <td>0.284176</td>\n",
       "      <td>0</td>\n",
       "      <td>1</td>\n",
       "      <td>0</td>\n",
       "      <td>0</td>\n",
       "      <td>0</td>\n",
       "      <td>1</td>\n",
       "      <td>0</td>\n",
       "      <td>1</td>\n",
       "    </tr>\n",
       "    <tr>\n",
       "      <th>106920</th>\n",
       "      <td>2.228371</td>\n",
       "      <td>-1.481950</td>\n",
       "      <td>1.061568</td>\n",
       "      <td>-0.882414</td>\n",
       "      <td>2</td>\n",
       "      <td>0.0</td>\n",
       "      <td>0.0</td>\n",
       "      <td>0.523294</td>\n",
       "      <td>0</td>\n",
       "      <td>1</td>\n",
       "      <td>0</td>\n",
       "      <td>0</td>\n",
       "      <td>0</td>\n",
       "      <td>1</td>\n",
       "      <td>0</td>\n",
       "      <td>1</td>\n",
       "    </tr>\n",
       "    <tr>\n",
       "      <th>49171</th>\n",
       "      <td>-0.654449</td>\n",
       "      <td>-0.128138</td>\n",
       "      <td>0.705372</td>\n",
       "      <td>-0.882414</td>\n",
       "      <td>2</td>\n",
       "      <td>1.0</td>\n",
       "      <td>0.0</td>\n",
       "      <td>0.983916</td>\n",
       "      <td>0</td>\n",
       "      <td>0</td>\n",
       "      <td>0</td>\n",
       "      <td>1</td>\n",
       "      <td>1</td>\n",
       "      <td>0</td>\n",
       "      <td>0</td>\n",
       "      <td>1</td>\n",
       "    </tr>\n",
       "    <tr>\n",
       "      <th>142187</th>\n",
       "      <td>1.691742</td>\n",
       "      <td>0.097498</td>\n",
       "      <td>0.349176</td>\n",
       "      <td>1.158929</td>\n",
       "      <td>1</td>\n",
       "      <td>1.0</td>\n",
       "      <td>0.0</td>\n",
       "      <td>-0.620318</td>\n",
       "      <td>1</td>\n",
       "      <td>0</td>\n",
       "      <td>1</td>\n",
       "      <td>0</td>\n",
       "      <td>0</td>\n",
       "      <td>1</td>\n",
       "      <td>1</td>\n",
       "      <td>0</td>\n",
       "    </tr>\n",
       "    <tr>\n",
       "      <th>21269</th>\n",
       "      <td>-0.305016</td>\n",
       "      <td>-0.015320</td>\n",
       "      <td>1.417764</td>\n",
       "      <td>-0.882414</td>\n",
       "      <td>2</td>\n",
       "      <td>1.0</td>\n",
       "      <td>0.0</td>\n",
       "      <td>-0.984911</td>\n",
       "      <td>0</td>\n",
       "      <td>1</td>\n",
       "      <td>0</td>\n",
       "      <td>0</td>\n",
       "      <td>0</td>\n",
       "      <td>1</td>\n",
       "      <td>0</td>\n",
       "      <td>1</td>\n",
       "    </tr>\n",
       "  </tbody>\n",
       "</table>\n",
       "</div>"
      ],
      "text/plain": [
       "        CreditScore       Age    Tenure   Balance  NumOfProducts  HasCrCard  \\\n",
       "id                                                                            \n",
       "78119     -0.292537  0.097498 -0.007020 -0.882414              2        0.0   \n",
       "106920     2.228371 -1.481950  1.061568 -0.882414              2        0.0   \n",
       "49171     -0.654449 -0.128138  0.705372 -0.882414              2        1.0   \n",
       "142187     1.691742  0.097498  0.349176  1.158929              1        1.0   \n",
       "21269     -0.305016 -0.015320  1.417764 -0.882414              2        1.0   \n",
       "\n",
       "        IsActiveMember  EstimatedSalary  x_Balance  Geography_France  \\\n",
       "id                                                                     \n",
       "78119              1.0         0.284176          0                 1   \n",
       "106920             0.0         0.523294          0                 1   \n",
       "49171              0.0         0.983916          0                 0   \n",
       "142187             0.0        -0.620318          1                 0   \n",
       "21269              0.0        -0.984911          0                 1   \n",
       "\n",
       "        Geography_Germany  Geography_Spain  Gender_Female  Gender_Male  \\\n",
       "id                                                                       \n",
       "78119                   0                0              0            1   \n",
       "106920                  0                0              0            1   \n",
       "49171                   0                1              1            0   \n",
       "142187                  1                0              0            1   \n",
       "21269                   0                0              0            1   \n",
       "\n",
       "        NumOfProdBins_1  NumOfProdBins_2-4  \n",
       "id                                          \n",
       "78119                 0                  1  \n",
       "106920                0                  1  \n",
       "49171                 0                  1  \n",
       "142187                1                  0  \n",
       "21269                 0                  1  "
      ]
     },
     "execution_count": 55,
     "metadata": {},
     "output_type": "execute_result"
    }
   ],
   "source": [
    "# before applying a neural network, let us standardize the features\n",
    "from sklearn.preprocessing import StandardScaler\n",
    "\n",
    "scaler = StandardScaler()\n",
    "\n",
    "numerical_cols=[\"CreditScore\",\"Age\",\"Tenure\",\"Balance\",\"EstimatedSalary\"]\n",
    "binary_cols=[col for col in train_X if col not in numerical_cols]\n",
    "\n",
    "X_train_scaled=train_X.copy()\n",
    "X_train_scaled[numerical_cols]=scaler.fit_transform(train_X[numerical_cols])\n",
    "\n",
    "X_train_scaled.head()"
   ]
  },
  {
   "cell_type": "code",
   "execution_count": 56,
   "id": "7d5835b2",
   "metadata": {
    "execution": {
     "iopub.execute_input": "2024-01-15T05:35:41.317889Z",
     "iopub.status.busy": "2024-01-15T05:35:41.317255Z",
     "iopub.status.idle": "2024-01-15T05:35:41.343079Z",
     "shell.execute_reply": "2024-01-15T05:35:41.341951Z"
    },
    "papermill": {
     "duration": 0.065417,
     "end_time": "2024-01-15T05:35:41.345404",
     "exception": false,
     "start_time": "2024-01-15T05:35:41.279987",
     "status": "completed"
    },
    "tags": []
   },
   "outputs": [
    {
     "data": {
      "text/html": [
       "<div>\n",
       "<style scoped>\n",
       "    .dataframe tbody tr th:only-of-type {\n",
       "        vertical-align: middle;\n",
       "    }\n",
       "\n",
       "    .dataframe tbody tr th {\n",
       "        vertical-align: top;\n",
       "    }\n",
       "\n",
       "    .dataframe thead th {\n",
       "        text-align: right;\n",
       "    }\n",
       "</style>\n",
       "<table border=\"1\" class=\"dataframe\">\n",
       "  <thead>\n",
       "    <tr style=\"text-align: right;\">\n",
       "      <th></th>\n",
       "      <th>CreditScore</th>\n",
       "      <th>Age</th>\n",
       "      <th>Tenure</th>\n",
       "      <th>Balance</th>\n",
       "      <th>NumOfProducts</th>\n",
       "      <th>HasCrCard</th>\n",
       "      <th>IsActiveMember</th>\n",
       "      <th>EstimatedSalary</th>\n",
       "      <th>x_Balance</th>\n",
       "      <th>Geography_France</th>\n",
       "      <th>Geography_Germany</th>\n",
       "      <th>Geography_Spain</th>\n",
       "      <th>Gender_Female</th>\n",
       "      <th>Gender_Male</th>\n",
       "      <th>NumOfProdBins_1</th>\n",
       "      <th>NumOfProdBins_2-4</th>\n",
       "    </tr>\n",
       "    <tr>\n",
       "      <th>id</th>\n",
       "      <th></th>\n",
       "      <th></th>\n",
       "      <th></th>\n",
       "      <th></th>\n",
       "      <th></th>\n",
       "      <th></th>\n",
       "      <th></th>\n",
       "      <th></th>\n",
       "      <th></th>\n",
       "      <th></th>\n",
       "      <th></th>\n",
       "      <th></th>\n",
       "      <th></th>\n",
       "      <th></th>\n",
       "      <th></th>\n",
       "      <th></th>\n",
       "    </tr>\n",
       "  </thead>\n",
       "  <tbody>\n",
       "    <tr>\n",
       "      <th>49467</th>\n",
       "      <td>0.256572</td>\n",
       "      <td>-1.143497</td>\n",
       "      <td>-0.007020</td>\n",
       "      <td>1.258174</td>\n",
       "      <td>1</td>\n",
       "      <td>1.0</td>\n",
       "      <td>1.0</td>\n",
       "      <td>0.972638</td>\n",
       "      <td>1</td>\n",
       "      <td>1</td>\n",
       "      <td>0</td>\n",
       "      <td>0</td>\n",
       "      <td>1</td>\n",
       "      <td>0</td>\n",
       "      <td>1</td>\n",
       "      <td>0</td>\n",
       "    </tr>\n",
       "    <tr>\n",
       "      <th>113950</th>\n",
       "      <td>-1.141159</td>\n",
       "      <td>3.143576</td>\n",
       "      <td>0.349176</td>\n",
       "      <td>-0.882414</td>\n",
       "      <td>2</td>\n",
       "      <td>1.0</td>\n",
       "      <td>1.0</td>\n",
       "      <td>-1.210197</td>\n",
       "      <td>0</td>\n",
       "      <td>0</td>\n",
       "      <td>0</td>\n",
       "      <td>1</td>\n",
       "      <td>0</td>\n",
       "      <td>1</td>\n",
       "      <td>0</td>\n",
       "      <td>1</td>\n",
       "    </tr>\n",
       "    <tr>\n",
       "      <th>44996</th>\n",
       "      <td>-0.142780</td>\n",
       "      <td>-0.353773</td>\n",
       "      <td>-1.075608</td>\n",
       "      <td>0.332214</td>\n",
       "      <td>2</td>\n",
       "      <td>0.0</td>\n",
       "      <td>1.0</td>\n",
       "      <td>1.237688</td>\n",
       "      <td>1</td>\n",
       "      <td>0</td>\n",
       "      <td>1</td>\n",
       "      <td>0</td>\n",
       "      <td>0</td>\n",
       "      <td>1</td>\n",
       "      <td>0</td>\n",
       "      <td>1</td>\n",
       "    </tr>\n",
       "    <tr>\n",
       "      <th>35978</th>\n",
       "      <td>0.281531</td>\n",
       "      <td>2.466669</td>\n",
       "      <td>0.705372</td>\n",
       "      <td>-0.882414</td>\n",
       "      <td>2</td>\n",
       "      <td>1.0</td>\n",
       "      <td>1.0</td>\n",
       "      <td>0.249035</td>\n",
       "      <td>0</td>\n",
       "      <td>1</td>\n",
       "      <td>0</td>\n",
       "      <td>0</td>\n",
       "      <td>0</td>\n",
       "      <td>1</td>\n",
       "      <td>0</td>\n",
       "      <td>1</td>\n",
       "    </tr>\n",
       "    <tr>\n",
       "      <th>160244</th>\n",
       "      <td>-1.216037</td>\n",
       "      <td>0.435951</td>\n",
       "      <td>-1.075608</td>\n",
       "      <td>-0.882414</td>\n",
       "      <td>2</td>\n",
       "      <td>0.0</td>\n",
       "      <td>0.0</td>\n",
       "      <td>0.179078</td>\n",
       "      <td>0</td>\n",
       "      <td>1</td>\n",
       "      <td>0</td>\n",
       "      <td>0</td>\n",
       "      <td>0</td>\n",
       "      <td>1</td>\n",
       "      <td>0</td>\n",
       "      <td>1</td>\n",
       "    </tr>\n",
       "  </tbody>\n",
       "</table>\n",
       "</div>"
      ],
      "text/plain": [
       "        CreditScore       Age    Tenure   Balance  NumOfProducts  HasCrCard  \\\n",
       "id                                                                            \n",
       "49467      0.256572 -1.143497 -0.007020  1.258174              1        1.0   \n",
       "113950    -1.141159  3.143576  0.349176 -0.882414              2        1.0   \n",
       "44996     -0.142780 -0.353773 -1.075608  0.332214              2        0.0   \n",
       "35978      0.281531  2.466669  0.705372 -0.882414              2        1.0   \n",
       "160244    -1.216037  0.435951 -1.075608 -0.882414              2        0.0   \n",
       "\n",
       "        IsActiveMember  EstimatedSalary  x_Balance  Geography_France  \\\n",
       "id                                                                     \n",
       "49467              1.0         0.972638          1                 1   \n",
       "113950             1.0        -1.210197          0                 0   \n",
       "44996              1.0         1.237688          1                 0   \n",
       "35978              1.0         0.249035          0                 1   \n",
       "160244             0.0         0.179078          0                 1   \n",
       "\n",
       "        Geography_Germany  Geography_Spain  Gender_Female  Gender_Male  \\\n",
       "id                                                                       \n",
       "49467                   0                0              1            0   \n",
       "113950                  0                1              0            1   \n",
       "44996                   1                0              0            1   \n",
       "35978                   0                0              0            1   \n",
       "160244                  0                0              0            1   \n",
       "\n",
       "        NumOfProdBins_1  NumOfProdBins_2-4  \n",
       "id                                          \n",
       "49467                 1                  0  \n",
       "113950                0                  1  \n",
       "44996                 0                  1  \n",
       "35978                 0                  1  \n",
       "160244                0                  1  "
      ]
     },
     "execution_count": 56,
     "metadata": {},
     "output_type": "execute_result"
    }
   ],
   "source": [
    "X_val_scaled=val_X.copy()\n",
    "X_val_scaled[numerical_cols]=scaler.transform(val_X[numerical_cols])\n",
    "X_val_scaled.head()"
   ]
  },
  {
   "cell_type": "code",
   "execution_count": null,
   "id": "ffb1dae8",
   "metadata": {
    "papermill": {
     "duration": 0.03536,
     "end_time": "2024-01-15T05:35:41.422034",
     "exception": false,
     "start_time": "2024-01-15T05:35:41.386674",
     "status": "completed"
    },
    "tags": []
   },
   "outputs": [],
   "source": []
  },
  {
   "cell_type": "code",
   "execution_count": 57,
   "id": "8f0af63b",
   "metadata": {
    "execution": {
     "iopub.execute_input": "2024-01-15T05:35:41.495847Z",
     "iopub.status.busy": "2024-01-15T05:35:41.494864Z",
     "iopub.status.idle": "2024-01-15T05:35:45.289756Z",
     "shell.execute_reply": "2024-01-15T05:35:45.288295Z"
    },
    "papermill": {
     "duration": 3.83514,
     "end_time": "2024-01-15T05:35:45.292621",
     "exception": false,
     "start_time": "2024-01-15T05:35:41.457481",
     "status": "completed"
    },
    "tags": []
   },
   "outputs": [],
   "source": [
    "import torch\n",
    "import torch.nn as nn\n",
    "import torch.nn.functional as F\n",
    "from torch.utils.data import DataLoader, TensorDataset\n",
    "\n",
    "# Convert data to PyTorch tensors\n",
    "X_train_tensor = torch.tensor(X_train_scaled.values, dtype=torch.float32)\n",
    "y_train_tensor = torch.tensor(train_y, dtype=torch.float32)\n",
    "X_val_tensor = torch.tensor(X_val_scaled.values, dtype=torch.float32)\n",
    "y_val_tensor = torch.tensor(val_y.values, dtype=torch.float32)\n",
    "\n",
    "# Create datasets\n",
    "train_dataset = TensorDataset(X_train_tensor, y_train_tensor)\n",
    "val_dataset = TensorDataset(X_val_tensor, y_val_tensor)\n",
    "\n",
    "train_loader = DataLoader(dataset=train_dataset, batch_size=64, shuffle=True)\n",
    "test_loader = DataLoader(dataset=val_dataset, batch_size=64, shuffle=False)"
   ]
  },
  {
   "cell_type": "code",
   "execution_count": 58,
   "id": "0537eb9b",
   "metadata": {
    "execution": {
     "iopub.execute_input": "2024-01-15T05:35:45.365833Z",
     "iopub.status.busy": "2024-01-15T05:35:45.364908Z",
     "iopub.status.idle": "2024-01-15T05:35:45.387412Z",
     "shell.execute_reply": "2024-01-15T05:35:45.386266Z"
    },
    "papermill": {
     "duration": 0.061865,
     "end_time": "2024-01-15T05:35:45.390102",
     "exception": false,
     "start_time": "2024-01-15T05:35:45.328237",
     "status": "completed"
    },
    "tags": []
   },
   "outputs": [],
   "source": [
    "import torch.nn as nn\n",
    "import torch.nn.functional as F\n",
    "\n",
    "class Net(nn.Module):\n",
    "    def __init__(self):\n",
    "        super(Net, self).__init__()\n",
    "        self.fc1 = nn.Linear(train_X.shape[1], 10)\n",
    "#         self.dropout1 = nn.Dropout(0.5)  # Dropout layer\n",
    "        self.fc2 = nn.Linear(10, 5)\n",
    "#         self.dropout2 = nn.Dropout(0.5)  # Another dropout layer\n",
    "        self.fc3 = nn.Linear(5, 1)\n",
    "\n",
    "    def forward(self, x):\n",
    "        x = F.relu(self.fc1(x))\n",
    "#         x = self.dropout1(x)  # Apply dropout\n",
    "        x = F.relu(self.fc2(x))\n",
    "#         x = self.dropout2(x)  # Apply dropout\n",
    "        x = torch.sigmoid(self.fc3(x))\n",
    "        return x\n",
    "\n",
    "net = Net()"
   ]
  },
  {
   "cell_type": "code",
   "execution_count": 59,
   "id": "eb155c40",
   "metadata": {
    "execution": {
     "iopub.execute_input": "2024-01-15T05:35:45.472741Z",
     "iopub.status.busy": "2024-01-15T05:35:45.472355Z",
     "iopub.status.idle": "2024-01-15T05:36:17.283801Z",
     "shell.execute_reply": "2024-01-15T05:36:17.282611Z"
    },
    "papermill": {
     "duration": 31.851224,
     "end_time": "2024-01-15T05:36:17.287177",
     "exception": false,
     "start_time": "2024-01-15T05:35:45.435953",
     "status": "completed"
    },
    "tags": []
   },
   "outputs": [],
   "source": [
    "criterion = nn.BCELoss()\n",
    "optimizer = torch.optim.Adam(net.parameters(), lr=0.001)\n",
    "\n",
    "# Training loop\n",
    "for epoch in range(10):\n",
    "    for inputs, labels in train_loader:\n",
    "        optimizer.zero_grad()\n",
    "        outputs = net(inputs)\n",
    "        loss = criterion(outputs.squeeze(), labels)\n",
    "        loss.backward()\n",
    "        optimizer.step()"
   ]
  },
  {
   "cell_type": "code",
   "execution_count": 60,
   "id": "f5d16af1",
   "metadata": {
    "execution": {
     "iopub.execute_input": "2024-01-15T05:36:17.364344Z",
     "iopub.status.busy": "2024-01-15T05:36:17.363896Z",
     "iopub.status.idle": "2024-01-15T05:36:17.729914Z",
     "shell.execute_reply": "2024-01-15T05:36:17.728556Z"
    },
    "papermill": {
     "duration": 0.409222,
     "end_time": "2024-01-15T05:36:17.732635",
     "exception": false,
     "start_time": "2024-01-15T05:36:17.323413",
     "status": "completed"
    },
    "tags": []
   },
   "outputs": [],
   "source": [
    "y_probs = []\n",
    "with torch.no_grad():\n",
    "    for inputs, _ in test_loader:\n",
    "        outputs = net(inputs)\n",
    "        y_probs.extend(outputs.squeeze().numpy())"
   ]
  },
  {
   "cell_type": "code",
   "execution_count": 61,
   "id": "e84e9ea2",
   "metadata": {
    "execution": {
     "iopub.execute_input": "2024-01-15T05:36:17.808949Z",
     "iopub.status.busy": "2024-01-15T05:36:17.808555Z",
     "iopub.status.idle": "2024-01-15T05:36:18.164622Z",
     "shell.execute_reply": "2024-01-15T05:36:18.163090Z"
    },
    "papermill": {
     "duration": 0.397302,
     "end_time": "2024-01-15T05:36:18.167446",
     "exception": false,
     "start_time": "2024-01-15T05:36:17.770144",
     "status": "completed"
    },
    "tags": []
   },
   "outputs": [
    {
     "data": {
      "image/png": "[encoded data removed]",
      "text/plain": [
       "<Figure size 640x480 with 1 Axes>"
      ]
     },
     "metadata": {},
     "output_type": "display_data"
    },
    {
     "data": {
      "text/plain": [
       "0.8870168280953683"
      ]
     },
     "execution_count": 61,
     "metadata": {},
     "output_type": "execute_result"
    }
   ],
   "source": [
    "AUC(val_y,y_probs)"
   ]
  },
  {
   "cell_type": "code",
   "execution_count": null,
   "id": "3bc21fbb",
   "metadata": {
    "papermill": {
     "duration": 0.041352,
     "end_time": "2024-01-15T05:36:18.248221",
     "exception": false,
     "start_time": "2024-01-15T05:36:18.206869",
     "status": "completed"
    },
    "tags": []
   },
   "outputs": [],
   "source": []
  }
 ],
 "metadata": {
  "kaggle": {
   "accelerator": "none",
   "dataSources": [
    {
     "databundleVersionId": 7405009,
     "sourceId": 65711,
     "sourceType": "competition"
    }
   ],
   "dockerImageVersionId": 30635,
   "isGpuEnabled": false,
   "isInternetEnabled": true,
   "language": "python",
   "sourceType": "notebook"
  },
  "kernelspec": {
   "display_name": "Python 3",
   "language": "python",
   "name": "python3"
  },
  "language_info": {
   "codemirror_mode": {
    "name": "ipython",
    "version": 3
   },
   "file_extension": ".py",
   "mimetype": "text/x-python",
   "name": "python",
   "nbconvert_exporter": "python",
   "pygments_lexer": "ipython3",
   "version": "3.10.12"
  },
  "papermill": {
   "default_parameters": {},
   "duration": 1931.001984,
   "end_time": "2024-01-15T05:36:20.922463",
   "environment_variables": {},
   "exception": null,
   "input_path": "__notebook__.ipynb",
   "output_path": "__notebook__.ipynb",
   "parameters": {},
   "start_time": "2024-01-15T05:04:09.920479",
   "version": "2.4.0"
  }
 },
 "nbformat": 4,
 "nbformat_minor": 5
}
