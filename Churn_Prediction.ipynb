{
 "cells": [
  {
   "cell_type": "code",
   "execution_count": 1,
   "id": "c1e84d02",
   "metadata": {
    "_cell_guid": "b1076dfc-b9ad-4769-8c92-a6c4dae69d19",
    "_uuid": "8f2839f25d086af736a60e9eeb907d3b93b6e0e5",
    "execution": {
     "iopub.execute_input": "2024-01-12T13:28:58.965623Z",
     "iopub.status.busy": "2024-01-12T13:28:58.965119Z",
     "iopub.status.idle": "2024-01-12T13:29:00.837234Z",
     "shell.execute_reply": "2024-01-12T13:29:00.835881Z"
    },
    "papermill": {
     "duration": 1.893459,
     "end_time": "2024-01-12T13:29:00.840061",
     "exception": false,
     "start_time": "2024-01-12T13:28:58.946602",
     "status": "completed"
    },
    "tags": []
   },
   "outputs": [
    {
     "name": "stdout",
     "output_type": "stream",
     "text": [
      "/kaggle/input/playground-series-s4e1/sample_submission.csv\n",
      "/kaggle/input/playground-series-s4e1/train.csv\n",
      "/kaggle/input/playground-series-s4e1/test.csv\n"
     ]
    }
   ],
   "source": [
    "# This Python 3 environment comes with many helpful analytics libraries installed\n",
    "# It is defined by the kaggle/python Docker image: https://github.com/kaggle/docker-python\n",
    "# For example, here's several helpful packages to load\n",
    "\n",
    "import numpy as np # linear algebra\n",
    "import pandas as pd # data processing, CSV file I/O (e.g. pd.read_csv)\n",
    "from matplotlib import pyplot as plt # from data visualization\n",
    "import seaborn as sns # for data visualization\n",
    "\n",
    "# Input data files are available in the read-only \"../input/\" directory\n",
    "# For example, running this (by clicking run or pressing Shift+Enter) will list all files under the input directory\n",
    "\n",
    "import os\n",
    "for dirname, _, filenames in os.walk('/kaggle/input'):\n",
    "    for filename in filenames:\n",
    "        print(os.path.join(dirname, filename))\n",
    "\n",
    "# You can write up to 20GB to the current directory (/kaggle/working/) that gets preserved as output when you create a version using \"Save & Run All\" \n",
    "# You can also write temporary files to /kaggle/temp/, but they won't be saved outside of the current session"
   ]
  },
  {
   "cell_type": "code",
   "execution_count": 2,
   "id": "9d6bc30b",
   "metadata": {
    "execution": {
     "iopub.execute_input": "2024-01-12T13:29:00.874117Z",
     "iopub.status.busy": "2024-01-12T13:29:00.873579Z",
     "iopub.status.idle": "2024-01-12T13:29:00.879522Z",
     "shell.execute_reply": "2024-01-12T13:29:00.878435Z"
    },
    "papermill": {
     "duration": 0.025326,
     "end_time": "2024-01-12T13:29:00.881792",
     "exception": false,
     "start_time": "2024-01-12T13:29:00.856466",
     "status": "completed"
    },
    "tags": []
   },
   "outputs": [],
   "source": [
    "# Storing the training and test data filepath in a variable for easy access\n",
    "train_data_filepath='''/kaggle/input/playground-series-s4e1/train.csv'''\n",
    "test_data_filepath='''/kaggle/input/playground-series-s4e1/test.csv'''"
   ]
  },
  {
   "cell_type": "code",
   "execution_count": 3,
   "id": "bdc749a5",
   "metadata": {
    "execution": {
     "iopub.execute_input": "2024-01-12T13:29:00.914913Z",
     "iopub.status.busy": "2024-01-12T13:29:00.914507Z",
     "iopub.status.idle": "2024-01-12T13:29:01.665099Z",
     "shell.execute_reply": "2024-01-12T13:29:01.663935Z"
    },
    "papermill": {
     "duration": 0.770779,
     "end_time": "2024-01-12T13:29:01.668029",
     "exception": false,
     "start_time": "2024-01-12T13:29:00.897250",
     "status": "completed"
    },
    "tags": []
   },
   "outputs": [],
   "source": [
    "# import the data into pandas dataframe\n",
    "df_train=pd.read_csv(train_data_filepath)\n",
    "df_test=pd.read_csv(test_data_filepath)"
   ]
  },
  {
   "cell_type": "code",
   "execution_count": 4,
   "id": "8aa3c409",
   "metadata": {
    "execution": {
     "iopub.execute_input": "2024-01-12T13:29:01.702504Z",
     "iopub.status.busy": "2024-01-12T13:29:01.702064Z",
     "iopub.status.idle": "2024-01-12T13:29:01.738682Z",
     "shell.execute_reply": "2024-01-12T13:29:01.737530Z"
    },
    "papermill": {
     "duration": 0.056958,
     "end_time": "2024-01-12T13:29:01.741246",
     "exception": false,
     "start_time": "2024-01-12T13:29:01.684288",
     "status": "completed"
    },
    "tags": []
   },
   "outputs": [
    {
     "data": {
      "text/html": [
       "<div>\n",
       "<style scoped>\n",
       "    .dataframe tbody tr th:only-of-type {\n",
       "        vertical-align: middle;\n",
       "    }\n",
       "\n",
       "    .dataframe tbody tr th {\n",
       "        vertical-align: top;\n",
       "    }\n",
       "\n",
       "    .dataframe thead th {\n",
       "        text-align: right;\n",
       "    }\n",
       "</style>\n",
       "<table border=\"1\" class=\"dataframe\">\n",
       "  <thead>\n",
       "    <tr style=\"text-align: right;\">\n",
       "      <th></th>\n",
       "      <th>id</th>\n",
       "      <th>CustomerId</th>\n",
       "      <th>Surname</th>\n",
       "      <th>CreditScore</th>\n",
       "      <th>Geography</th>\n",
       "      <th>Gender</th>\n",
       "      <th>Age</th>\n",
       "      <th>Tenure</th>\n",
       "      <th>Balance</th>\n",
       "      <th>NumOfProducts</th>\n",
       "      <th>HasCrCard</th>\n",
       "      <th>IsActiveMember</th>\n",
       "      <th>EstimatedSalary</th>\n",
       "      <th>Exited</th>\n",
       "    </tr>\n",
       "  </thead>\n",
       "  <tbody>\n",
       "    <tr>\n",
       "      <th>0</th>\n",
       "      <td>0</td>\n",
       "      <td>15674932</td>\n",
       "      <td>Okwudilichukwu</td>\n",
       "      <td>668</td>\n",
       "      <td>France</td>\n",
       "      <td>Male</td>\n",
       "      <td>33.0</td>\n",
       "      <td>3</td>\n",
       "      <td>0.00</td>\n",
       "      <td>2</td>\n",
       "      <td>1.0</td>\n",
       "      <td>0.0</td>\n",
       "      <td>181449.97</td>\n",
       "      <td>0</td>\n",
       "    </tr>\n",
       "    <tr>\n",
       "      <th>1</th>\n",
       "      <td>1</td>\n",
       "      <td>15749177</td>\n",
       "      <td>Okwudiliolisa</td>\n",
       "      <td>627</td>\n",
       "      <td>France</td>\n",
       "      <td>Male</td>\n",
       "      <td>33.0</td>\n",
       "      <td>1</td>\n",
       "      <td>0.00</td>\n",
       "      <td>2</td>\n",
       "      <td>1.0</td>\n",
       "      <td>1.0</td>\n",
       "      <td>49503.50</td>\n",
       "      <td>0</td>\n",
       "    </tr>\n",
       "    <tr>\n",
       "      <th>2</th>\n",
       "      <td>2</td>\n",
       "      <td>15694510</td>\n",
       "      <td>Hsueh</td>\n",
       "      <td>678</td>\n",
       "      <td>France</td>\n",
       "      <td>Male</td>\n",
       "      <td>40.0</td>\n",
       "      <td>10</td>\n",
       "      <td>0.00</td>\n",
       "      <td>2</td>\n",
       "      <td>1.0</td>\n",
       "      <td>0.0</td>\n",
       "      <td>184866.69</td>\n",
       "      <td>0</td>\n",
       "    </tr>\n",
       "    <tr>\n",
       "      <th>3</th>\n",
       "      <td>3</td>\n",
       "      <td>15741417</td>\n",
       "      <td>Kao</td>\n",
       "      <td>581</td>\n",
       "      <td>France</td>\n",
       "      <td>Male</td>\n",
       "      <td>34.0</td>\n",
       "      <td>2</td>\n",
       "      <td>148882.54</td>\n",
       "      <td>1</td>\n",
       "      <td>1.0</td>\n",
       "      <td>1.0</td>\n",
       "      <td>84560.88</td>\n",
       "      <td>0</td>\n",
       "    </tr>\n",
       "    <tr>\n",
       "      <th>4</th>\n",
       "      <td>4</td>\n",
       "      <td>15766172</td>\n",
       "      <td>Chiemenam</td>\n",
       "      <td>716</td>\n",
       "      <td>Spain</td>\n",
       "      <td>Male</td>\n",
       "      <td>33.0</td>\n",
       "      <td>5</td>\n",
       "      <td>0.00</td>\n",
       "      <td>2</td>\n",
       "      <td>1.0</td>\n",
       "      <td>1.0</td>\n",
       "      <td>15068.83</td>\n",
       "      <td>0</td>\n",
       "    </tr>\n",
       "  </tbody>\n",
       "</table>\n",
       "</div>"
      ],
      "text/plain": [
       "   id  CustomerId         Surname  CreditScore Geography Gender   Age  Tenure  \\\n",
       "0   0    15674932  Okwudilichukwu          668    France   Male  33.0       3   \n",
       "1   1    15749177   Okwudiliolisa          627    France   Male  33.0       1   \n",
       "2   2    15694510           Hsueh          678    France   Male  40.0      10   \n",
       "3   3    15741417             Kao          581    France   Male  34.0       2   \n",
       "4   4    15766172       Chiemenam          716     Spain   Male  33.0       5   \n",
       "\n",
       "     Balance  NumOfProducts  HasCrCard  IsActiveMember  EstimatedSalary  \\\n",
       "0       0.00              2        1.0             0.0        181449.97   \n",
       "1       0.00              2        1.0             1.0         49503.50   \n",
       "2       0.00              2        1.0             0.0        184866.69   \n",
       "3  148882.54              1        1.0             1.0         84560.88   \n",
       "4       0.00              2        1.0             1.0         15068.83   \n",
       "\n",
       "   Exited  \n",
       "0       0  \n",
       "1       0  \n",
       "2       0  \n",
       "3       0  \n",
       "4       0  "
      ]
     },
     "execution_count": 4,
     "metadata": {},
     "output_type": "execute_result"
    }
   ],
   "source": [
    "# let's check the first few rows of the train data\n",
    "# this will tell us whether the import went through fine and how do the columns look like\n",
    "df_train.head()"
   ]
  },
  {
   "cell_type": "code",
   "execution_count": 5,
   "id": "be55a10b",
   "metadata": {
    "execution": {
     "iopub.execute_input": "2024-01-12T13:29:01.778481Z",
     "iopub.status.busy": "2024-01-12T13:29:01.777469Z",
     "iopub.status.idle": "2024-01-12T13:29:01.800115Z",
     "shell.execute_reply": "2024-01-12T13:29:01.798962Z"
    },
    "papermill": {
     "duration": 0.043377,
     "end_time": "2024-01-12T13:29:01.802495",
     "exception": false,
     "start_time": "2024-01-12T13:29:01.759118",
     "status": "completed"
    },
    "tags": []
   },
   "outputs": [
    {
     "data": {
      "text/html": [
       "<div>\n",
       "<style scoped>\n",
       "    .dataframe tbody tr th:only-of-type {\n",
       "        vertical-align: middle;\n",
       "    }\n",
       "\n",
       "    .dataframe tbody tr th {\n",
       "        vertical-align: top;\n",
       "    }\n",
       "\n",
       "    .dataframe thead th {\n",
       "        text-align: right;\n",
       "    }\n",
       "</style>\n",
       "<table border=\"1\" class=\"dataframe\">\n",
       "  <thead>\n",
       "    <tr style=\"text-align: right;\">\n",
       "      <th></th>\n",
       "      <th>id</th>\n",
       "      <th>CustomerId</th>\n",
       "      <th>Surname</th>\n",
       "      <th>CreditScore</th>\n",
       "      <th>Geography</th>\n",
       "      <th>Gender</th>\n",
       "      <th>Age</th>\n",
       "      <th>Tenure</th>\n",
       "      <th>Balance</th>\n",
       "      <th>NumOfProducts</th>\n",
       "      <th>HasCrCard</th>\n",
       "      <th>IsActiveMember</th>\n",
       "      <th>EstimatedSalary</th>\n",
       "    </tr>\n",
       "  </thead>\n",
       "  <tbody>\n",
       "    <tr>\n",
       "      <th>0</th>\n",
       "      <td>165034</td>\n",
       "      <td>15773898</td>\n",
       "      <td>Lucchese</td>\n",
       "      <td>586</td>\n",
       "      <td>France</td>\n",
       "      <td>Female</td>\n",
       "      <td>23.0</td>\n",
       "      <td>2</td>\n",
       "      <td>0.00</td>\n",
       "      <td>2</td>\n",
       "      <td>0.0</td>\n",
       "      <td>1.0</td>\n",
       "      <td>160976.75</td>\n",
       "    </tr>\n",
       "    <tr>\n",
       "      <th>1</th>\n",
       "      <td>165035</td>\n",
       "      <td>15782418</td>\n",
       "      <td>Nott</td>\n",
       "      <td>683</td>\n",
       "      <td>France</td>\n",
       "      <td>Female</td>\n",
       "      <td>46.0</td>\n",
       "      <td>2</td>\n",
       "      <td>0.00</td>\n",
       "      <td>1</td>\n",
       "      <td>1.0</td>\n",
       "      <td>0.0</td>\n",
       "      <td>72549.27</td>\n",
       "    </tr>\n",
       "    <tr>\n",
       "      <th>2</th>\n",
       "      <td>165036</td>\n",
       "      <td>15807120</td>\n",
       "      <td>K?</td>\n",
       "      <td>656</td>\n",
       "      <td>France</td>\n",
       "      <td>Female</td>\n",
       "      <td>34.0</td>\n",
       "      <td>7</td>\n",
       "      <td>0.00</td>\n",
       "      <td>2</td>\n",
       "      <td>1.0</td>\n",
       "      <td>0.0</td>\n",
       "      <td>138882.09</td>\n",
       "    </tr>\n",
       "    <tr>\n",
       "      <th>3</th>\n",
       "      <td>165037</td>\n",
       "      <td>15808905</td>\n",
       "      <td>O'Donnell</td>\n",
       "      <td>681</td>\n",
       "      <td>France</td>\n",
       "      <td>Male</td>\n",
       "      <td>36.0</td>\n",
       "      <td>8</td>\n",
       "      <td>0.00</td>\n",
       "      <td>1</td>\n",
       "      <td>1.0</td>\n",
       "      <td>0.0</td>\n",
       "      <td>113931.57</td>\n",
       "    </tr>\n",
       "    <tr>\n",
       "      <th>4</th>\n",
       "      <td>165038</td>\n",
       "      <td>15607314</td>\n",
       "      <td>Higgins</td>\n",
       "      <td>752</td>\n",
       "      <td>Germany</td>\n",
       "      <td>Male</td>\n",
       "      <td>38.0</td>\n",
       "      <td>10</td>\n",
       "      <td>121263.62</td>\n",
       "      <td>1</td>\n",
       "      <td>1.0</td>\n",
       "      <td>0.0</td>\n",
       "      <td>139431.00</td>\n",
       "    </tr>\n",
       "  </tbody>\n",
       "</table>\n",
       "</div>"
      ],
      "text/plain": [
       "       id  CustomerId    Surname  CreditScore Geography  Gender   Age  Tenure  \\\n",
       "0  165034    15773898   Lucchese          586    France  Female  23.0       2   \n",
       "1  165035    15782418       Nott          683    France  Female  46.0       2   \n",
       "2  165036    15807120         K?          656    France  Female  34.0       7   \n",
       "3  165037    15808905  O'Donnell          681    France    Male  36.0       8   \n",
       "4  165038    15607314    Higgins          752   Germany    Male  38.0      10   \n",
       "\n",
       "     Balance  NumOfProducts  HasCrCard  IsActiveMember  EstimatedSalary  \n",
       "0       0.00              2        0.0             1.0        160976.75  \n",
       "1       0.00              1        1.0             0.0         72549.27  \n",
       "2       0.00              2        1.0             0.0        138882.09  \n",
       "3       0.00              1        1.0             0.0        113931.57  \n",
       "4  121263.62              1        1.0             0.0        139431.00  "
      ]
     },
     "execution_count": 5,
     "metadata": {},
     "output_type": "execute_result"
    }
   ],
   "source": [
    "df_test.head()"
   ]
  },
  {
   "cell_type": "markdown",
   "id": "3f12af8d",
   "metadata": {
    "papermill": {
     "duration": 0.016257,
     "end_time": "2024-01-12T13:29:01.834948",
     "exception": false,
     "start_time": "2024-01-12T13:29:01.818691",
     "status": "completed"
    },
    "tags": []
   },
   "source": [
    "### Now we will do some data exploration on the different features. At this stage we are taking the call that id, UserId and Surname should not be taken as features. While the choice of id and UserId are easier, including surname as one of the feature is not appropriate on ethical grounds."
   ]
  },
  {
   "cell_type": "markdown",
   "id": "aa40b46a",
   "metadata": {
    "papermill": {
     "duration": 0.015815,
     "end_time": "2024-01-12T13:29:01.867040",
     "exception": false,
     "start_time": "2024-01-12T13:29:01.851225",
     "status": "completed"
    },
    "tags": []
   },
   "source": [
    "### We also note that the Geography and Gender and categorical variables. We may eventually convert them to one hot encoding for creating our predictive models"
   ]
  },
  {
   "cell_type": "markdown",
   "id": "aaad0b49",
   "metadata": {
    "papermill": {
     "duration": 0.015928,
     "end_time": "2024-01-12T13:29:01.899891",
     "exception": false,
     "start_time": "2024-01-12T13:29:01.883963",
     "status": "completed"
    },
    "tags": []
   },
   "source": []
  },
  {
   "cell_type": "code",
   "execution_count": 6,
   "id": "44f10ce9",
   "metadata": {
    "execution": {
     "iopub.execute_input": "2024-01-12T13:29:01.936249Z",
     "iopub.status.busy": "2024-01-12T13:29:01.935310Z",
     "iopub.status.idle": "2024-01-12T13:29:01.942798Z",
     "shell.execute_reply": "2024-01-12T13:29:01.941404Z"
    },
    "papermill": {
     "duration": 0.02787,
     "end_time": "2024-01-12T13:29:01.945215",
     "exception": false,
     "start_time": "2024-01-12T13:29:01.917345",
     "status": "completed"
    },
    "tags": []
   },
   "outputs": [
    {
     "data": {
      "text/plain": [
       "(165034, 14)"
      ]
     },
     "execution_count": 6,
     "metadata": {},
     "output_type": "execute_result"
    }
   ],
   "source": [
    "# let's explore the data first before diving into the modelling part\n",
    "df_train.shape"
   ]
  },
  {
   "cell_type": "markdown",
   "id": "b3951fed",
   "metadata": {
    "papermill": {
     "duration": 0.016282,
     "end_time": "2024-01-12T13:29:01.977985",
     "exception": false,
     "start_time": "2024-01-12T13:29:01.961703",
     "status": "completed"
    },
    "tags": []
   },
   "source": []
  },
  {
   "cell_type": "code",
   "execution_count": 7,
   "id": "bab7df61",
   "metadata": {
    "execution": {
     "iopub.execute_input": "2024-01-12T13:29:02.013738Z",
     "iopub.status.busy": "2024-01-12T13:29:02.013271Z",
     "iopub.status.idle": "2024-01-12T13:29:02.020945Z",
     "shell.execute_reply": "2024-01-12T13:29:02.019794Z"
    },
    "papermill": {
     "duration": 0.028633,
     "end_time": "2024-01-12T13:29:02.023497",
     "exception": false,
     "start_time": "2024-01-12T13:29:01.994864",
     "status": "completed"
    },
    "tags": []
   },
   "outputs": [
    {
     "data": {
      "text/plain": [
       "Index(['id', 'CustomerId', 'Surname', 'CreditScore', 'Geography', 'Gender',\n",
       "       'Age', 'Tenure', 'Balance', 'NumOfProducts', 'HasCrCard',\n",
       "       'IsActiveMember', 'EstimatedSalary', 'Exited'],\n",
       "      dtype='object')"
      ]
     },
     "execution_count": 7,
     "metadata": {},
     "output_type": "execute_result"
    }
   ],
   "source": [
    "# checking the different column names\n",
    "df_train.columns"
   ]
  },
  {
   "cell_type": "markdown",
   "id": "a0a82799",
   "metadata": {
    "papermill": {
     "duration": 0.016488,
     "end_time": "2024-01-12T13:29:02.122439",
     "exception": false,
     "start_time": "2024-01-12T13:29:02.105951",
     "status": "completed"
    },
    "tags": []
   },
   "source": []
  },
  {
   "cell_type": "code",
   "execution_count": 8,
   "id": "c03d5235",
   "metadata": {
    "execution": {
     "iopub.execute_input": "2024-01-12T13:29:02.158737Z",
     "iopub.status.busy": "2024-01-12T13:29:02.157988Z",
     "iopub.status.idle": "2024-01-12T13:29:02.326785Z",
     "shell.execute_reply": "2024-01-12T13:29:02.325359Z"
    },
    "papermill": {
     "duration": 0.190358,
     "end_time": "2024-01-12T13:29:02.329530",
     "exception": false,
     "start_time": "2024-01-12T13:29:02.139172",
     "status": "completed"
    },
    "tags": []
   },
   "outputs": [
    {
     "name": "stdout",
     "output_type": "stream",
     "text": [
      "<class 'pandas.core.frame.DataFrame'>\n",
      "RangeIndex: 165034 entries, 0 to 165033\n",
      "Data columns (total 14 columns):\n",
      " #   Column           Non-Null Count   Dtype  \n",
      "---  ------           --------------   -----  \n",
      " 0   id               165034 non-null  int64  \n",
      " 1   CustomerId       165034 non-null  int64  \n",
      " 2   Surname          165034 non-null  object \n",
      " 3   CreditScore      165034 non-null  int64  \n",
      " 4   Geography        165034 non-null  object \n",
      " 5   Gender           165034 non-null  object \n",
      " 6   Age              165034 non-null  float64\n",
      " 7   Tenure           165034 non-null  int64  \n",
      " 8   Balance          165034 non-null  float64\n",
      " 9   NumOfProducts    165034 non-null  int64  \n",
      " 10  HasCrCard        165034 non-null  float64\n",
      " 11  IsActiveMember   165034 non-null  float64\n",
      " 12  EstimatedSalary  165034 non-null  float64\n",
      " 13  Exited           165034 non-null  int64  \n",
      "dtypes: float64(5), int64(6), object(3)\n",
      "memory usage: 17.6+ MB\n"
     ]
    }
   ],
   "source": [
    "# getting the onformation about the columns\n",
    "df_train.info()"
   ]
  },
  {
   "cell_type": "code",
   "execution_count": 9,
   "id": "0d546fda",
   "metadata": {
    "execution": {
     "iopub.execute_input": "2024-01-12T13:29:02.365209Z",
     "iopub.status.busy": "2024-01-12T13:29:02.364807Z",
     "iopub.status.idle": "2024-01-12T13:29:05.183018Z",
     "shell.execute_reply": "2024-01-12T13:29:05.181862Z"
    },
    "papermill": {
     "duration": 2.839749,
     "end_time": "2024-01-12T13:29:05.186489",
     "exception": false,
     "start_time": "2024-01-12T13:29:02.346740",
     "status": "completed"
    },
    "tags": []
   },
   "outputs": [
    {
     "data": {
      "image/png": "[encoded data removed]",
      "text/plain": [
       "<Figure size 640x480 with 1 Axes>"
      ]
     },
     "metadata": {},
     "output_type": "display_data"
    }
   ],
   "source": [
    "# visualizing null values\n",
    "sns.heatmap(df_train.isnull(), cbar=False)\n",
    "plt.show()"
   ]
  },
  {
   "cell_type": "code",
   "execution_count": 10,
   "id": "448a8e6e",
   "metadata": {
    "execution": {
     "iopub.execute_input": "2024-01-12T13:29:05.224463Z",
     "iopub.status.busy": "2024-01-12T13:29:05.223334Z",
     "iopub.status.idle": "2024-01-12T13:29:05.282914Z",
     "shell.execute_reply": "2024-01-12T13:29:05.282065Z"
    },
    "papermill": {
     "duration": 0.081676,
     "end_time": "2024-01-12T13:29:05.285720",
     "exception": false,
     "start_time": "2024-01-12T13:29:05.204044",
     "status": "completed"
    },
    "tags": []
   },
   "outputs": [
    {
     "name": "stdout",
     "output_type": "stream",
     "text": [
      "id                 0\n",
      "CustomerId         0\n",
      "Surname            0\n",
      "CreditScore        0\n",
      "Geography          0\n",
      "Gender             0\n",
      "Age                0\n",
      "Tenure             0\n",
      "Balance            0\n",
      "NumOfProducts      0\n",
      "HasCrCard          0\n",
      "IsActiveMember     0\n",
      "EstimatedSalary    0\n",
      "Exited             0\n",
      "dtype: int64\n"
     ]
    }
   ],
   "source": [
    "# seems like we have no null values. let's do a recheck\n",
    "null_counts = df_train.isnull().sum()\n",
    "print(null_counts)"
   ]
  },
  {
   "cell_type": "markdown",
   "id": "8c921487",
   "metadata": {
    "papermill": {
     "duration": 0.017931,
     "end_time": "2024-01-12T13:29:05.321813",
     "exception": false,
     "start_time": "2024-01-12T13:29:05.303882",
     "status": "completed"
    },
    "tags": []
   },
   "source": [
    "### The data doesn't seem to have a null value"
   ]
  },
  {
   "cell_type": "markdown",
   "id": "ccd0d0cc",
   "metadata": {
    "papermill": {
     "duration": 0.01788,
     "end_time": "2024-01-12T13:29:05.357490",
     "exception": false,
     "start_time": "2024-01-12T13:29:05.339610",
     "status": "completed"
    },
    "tags": []
   },
   "source": []
  },
  {
   "cell_type": "code",
   "execution_count": 11,
   "id": "a0780bbe",
   "metadata": {
    "execution": {
     "iopub.execute_input": "2024-01-12T13:29:05.395363Z",
     "iopub.status.busy": "2024-01-12T13:29:05.394574Z",
     "iopub.status.idle": "2024-01-12T13:29:07.877103Z",
     "shell.execute_reply": "2024-01-12T13:29:07.876245Z"
    },
    "papermill": {
     "duration": 2.504576,
     "end_time": "2024-01-12T13:29:07.879981",
     "exception": false,
     "start_time": "2024-01-12T13:29:05.375405",
     "status": "completed"
    },
    "tags": []
   },
   "outputs": [
    {
     "data": {
      "text/plain": [
       "array([[<Axes: title={'center': 'id'}>,\n",
       "        <Axes: title={'center': 'CustomerId'}>,\n",
       "        <Axes: title={'center': 'CreditScore'}>],\n",
       "       [<Axes: title={'center': 'Age'}>,\n",
       "        <Axes: title={'center': 'Tenure'}>,\n",
       "        <Axes: title={'center': 'Balance'}>],\n",
       "       [<Axes: title={'center': 'NumOfProducts'}>,\n",
       "        <Axes: title={'center': 'HasCrCard'}>,\n",
       "        <Axes: title={'center': 'IsActiveMember'}>],\n",
       "       [<Axes: title={'center': 'EstimatedSalary'}>,\n",
       "        <Axes: title={'center': 'Exited'}>, <Axes: >]], dtype=object)"
      ]
     },
     "execution_count": 11,
     "metadata": {},
     "output_type": "execute_result"
    },
    {
     "data": {
      "image/png": "[encoded data removed]",
      "text/plain": [
       "<Figure size 1000x1000 with 12 Axes>"
      ]
     },
     "metadata": {},
     "output_type": "display_data"
    }
   ],
   "source": [
    "# let's check the distribution of each of the features\n",
    "df_train.hist(figsize=(10,10))"
   ]
  },
  {
   "cell_type": "code",
   "execution_count": 12,
   "id": "2387b09c",
   "metadata": {
    "execution": {
     "iopub.execute_input": "2024-01-12T13:29:07.921425Z",
     "iopub.status.busy": "2024-01-12T13:29:07.920694Z",
     "iopub.status.idle": "2024-01-12T13:29:08.328555Z",
     "shell.execute_reply": "2024-01-12T13:29:08.327646Z"
    },
    "papermill": {
     "duration": 0.431341,
     "end_time": "2024-01-12T13:29:08.330924",
     "exception": false,
     "start_time": "2024-01-12T13:29:07.899583",
     "status": "completed"
    },
    "tags": []
   },
   "outputs": [
    {
     "data": {
      "text/plain": [
       "<Axes: xlabel='Gender', ylabel='count'>"
      ]
     },
     "execution_count": 12,
     "metadata": {},
     "output_type": "execute_result"
    },
    {
     "data": {
      "image/png": "[encoded data removed]",
      "text/plain": [
       "<Figure size 640x480 with 1 Axes>"
      ]
     },
     "metadata": {},
     "output_type": "display_data"
    }
   ],
   "source": [
    "# let's check the categorical variables as well\n",
    "sns.countplot(x='Gender', data=df_train)"
   ]
  },
  {
   "cell_type": "code",
   "execution_count": 13,
   "id": "5beacdd8",
   "metadata": {
    "execution": {
     "iopub.execute_input": "2024-01-12T13:29:08.374041Z",
     "iopub.status.busy": "2024-01-12T13:29:08.373358Z",
     "iopub.status.idle": "2024-01-12T13:29:08.785011Z",
     "shell.execute_reply": "2024-01-12T13:29:08.783787Z"
    },
    "papermill": {
     "duration": 0.437341,
     "end_time": "2024-01-12T13:29:08.788231",
     "exception": false,
     "start_time": "2024-01-12T13:29:08.350890",
     "status": "completed"
    },
    "tags": []
   },
   "outputs": [
    {
     "data": {
      "text/plain": [
       "<Axes: xlabel='Geography', ylabel='count'>"
      ]
     },
     "execution_count": 13,
     "metadata": {},
     "output_type": "execute_result"
    },
    {
     "data": {
      "image/png": "[encoded data removed]",
      "text/plain": [
       "<Figure size 640x480 with 1 Axes>"
      ]
     },
     "metadata": {},
     "output_type": "display_data"
    }
   ],
   "source": [
    "sns.countplot(x=\"Geography\",data=df_train)"
   ]
  },
  {
   "cell_type": "markdown",
   "id": "07a92474",
   "metadata": {
    "papermill": {
     "duration": 0.020171,
     "end_time": "2024-01-12T13:29:08.829189",
     "exception": false,
     "start_time": "2024-01-12T13:29:08.809018",
     "status": "completed"
    },
    "tags": []
   },
   "source": [
    "### We can see that there is imbalance in the target variable as well as in NumProducts and HasCrCard"
   ]
  },
  {
   "cell_type": "code",
   "execution_count": 14,
   "id": "5caf1365",
   "metadata": {
    "execution": {
     "iopub.execute_input": "2024-01-12T13:29:08.873298Z",
     "iopub.status.busy": "2024-01-12T13:29:08.872836Z",
     "iopub.status.idle": "2024-01-12T13:29:08.883706Z",
     "shell.execute_reply": "2024-01-12T13:29:08.882478Z"
    },
    "papermill": {
     "duration": 0.035895,
     "end_time": "2024-01-12T13:29:08.885894",
     "exception": false,
     "start_time": "2024-01-12T13:29:08.849999",
     "status": "completed"
    },
    "tags": []
   },
   "outputs": [
    {
     "data": {
      "text/plain": [
       "Exited\n",
       "0    130113\n",
       "1     34921\n",
       "Name: count, dtype: int64"
      ]
     },
     "execution_count": 14,
     "metadata": {},
     "output_type": "execute_result"
    }
   ],
   "source": [
    "df_train[\"Exited\"].value_counts()"
   ]
  },
  {
   "cell_type": "code",
   "execution_count": 15,
   "id": "6657bfe8",
   "metadata": {
    "execution": {
     "iopub.execute_input": "2024-01-12T13:29:08.931143Z",
     "iopub.status.busy": "2024-01-12T13:29:08.930452Z",
     "iopub.status.idle": "2024-01-12T13:29:08.940974Z",
     "shell.execute_reply": "2024-01-12T13:29:08.939638Z"
    },
    "papermill": {
     "duration": 0.036966,
     "end_time": "2024-01-12T13:29:08.943645",
     "exception": false,
     "start_time": "2024-01-12T13:29:08.906679",
     "status": "completed"
    },
    "tags": []
   },
   "outputs": [
    {
     "data": {
      "text/plain": [
       "NumOfProducts\n",
       "2    84291\n",
       "1    77374\n",
       "3     2894\n",
       "4      475\n",
       "Name: count, dtype: int64"
      ]
     },
     "execution_count": 15,
     "metadata": {},
     "output_type": "execute_result"
    }
   ],
   "source": [
    "df_train[\"NumOfProducts\"].value_counts()"
   ]
  },
  {
   "cell_type": "code",
   "execution_count": 16,
   "id": "764736d7",
   "metadata": {
    "execution": {
     "iopub.execute_input": "2024-01-12T13:29:08.988479Z",
     "iopub.status.busy": "2024-01-12T13:29:08.988052Z",
     "iopub.status.idle": "2024-01-12T13:29:09.001057Z",
     "shell.execute_reply": "2024-01-12T13:29:08.999828Z"
    },
    "papermill": {
     "duration": 0.038694,
     "end_time": "2024-01-12T13:29:09.003387",
     "exception": false,
     "start_time": "2024-01-12T13:29:08.964693",
     "status": "completed"
    },
    "tags": []
   },
   "outputs": [
    {
     "data": {
      "text/plain": [
       "HasCrCard\n",
       "1.0    124428\n",
       "0.0     40606\n",
       "Name: count, dtype: int64"
      ]
     },
     "execution_count": 16,
     "metadata": {},
     "output_type": "execute_result"
    }
   ],
   "source": [
    "df_train[\"HasCrCard\"].value_counts()"
   ]
  },
  {
   "cell_type": "markdown",
   "id": "d82b1b4c",
   "metadata": {
    "papermill": {
     "duration": 0.020703,
     "end_time": "2024-01-12T13:29:09.045330",
     "exception": false,
     "start_time": "2024-01-12T13:29:09.024627",
     "status": "completed"
    },
    "tags": []
   },
   "source": [
    "### We will use both undersampling and SMOTE methods to reduce the data imbalance"
   ]
  },
  {
   "cell_type": "code",
   "execution_count": 17,
   "id": "f07f6a09",
   "metadata": {
    "execution": {
     "iopub.execute_input": "2024-01-12T13:29:09.089856Z",
     "iopub.status.busy": "2024-01-12T13:29:09.089426Z",
     "iopub.status.idle": "2024-01-12T13:29:09.895388Z",
     "shell.execute_reply": "2024-01-12T13:29:09.894208Z"
    },
    "papermill": {
     "duration": 0.83151,
     "end_time": "2024-01-12T13:29:09.898370",
     "exception": false,
     "start_time": "2024-01-12T13:29:09.066860",
     "status": "completed"
    },
    "tags": []
   },
   "outputs": [],
   "source": [
    "# importing libraries to perform statistical analysis\n",
    "from sklearn.model_selection import train_test_split\n",
    "from imblearn.over_sampling import SMOTE\n",
    "from imblearn.under_sampling import RandomUnderSampler\n",
    "from sklearn.metrics import classification_report, confusion_matrix, accuracy_score\n",
    "from sklearn.linear_model import LogisticRegression\n",
    "from sklearn.ensemble import RandomForestClassifier\n",
    "from sklearn.metrics import roc_auc_score, roc_curve"
   ]
  },
  {
   "cell_type": "markdown",
   "id": "d45b2b4a",
   "metadata": {
    "papermill": {
     "duration": 0.021257,
     "end_time": "2024-01-12T13:29:09.941093",
     "exception": false,
     "start_time": "2024-01-12T13:29:09.919836",
     "status": "completed"
    },
    "tags": []
   },
   "source": [
    "### Before proceeding ahead let's create one hot encoding for \"Gender\" and \"Geography\""
   ]
  },
  {
   "cell_type": "code",
   "execution_count": 18,
   "id": "5884cd8a",
   "metadata": {
    "execution": {
     "iopub.execute_input": "2024-01-12T13:29:09.985614Z",
     "iopub.status.busy": "2024-01-12T13:29:09.984408Z",
     "iopub.status.idle": "2024-01-12T13:29:10.084480Z",
     "shell.execute_reply": "2024-01-12T13:29:10.083293Z"
    },
    "papermill": {
     "duration": 0.125611,
     "end_time": "2024-01-12T13:29:10.087536",
     "exception": false,
     "start_time": "2024-01-12T13:29:09.961925",
     "status": "completed"
    },
    "tags": []
   },
   "outputs": [],
   "source": [
    "df_train=pd.get_dummies(df_train,columns=[\"Gender\",\"Geography\"])\n",
    "df_test=pd.get_dummies(df_test,columns=[\"Gender\",\"Geography\"])"
   ]
  },
  {
   "cell_type": "code",
   "execution_count": 19,
   "id": "e54d9db1",
   "metadata": {
    "execution": {
     "iopub.execute_input": "2024-01-12T13:29:10.134046Z",
     "iopub.status.busy": "2024-01-12T13:29:10.133619Z",
     "iopub.status.idle": "2024-01-12T13:29:10.152932Z",
     "shell.execute_reply": "2024-01-12T13:29:10.151742Z"
    },
    "papermill": {
     "duration": 0.04609,
     "end_time": "2024-01-12T13:29:10.155910",
     "exception": false,
     "start_time": "2024-01-12T13:29:10.109820",
     "status": "completed"
    },
    "tags": []
   },
   "outputs": [],
   "source": [
    "df_train[['Gender_Female', 'Gender_Male','Geography_France', 'Geography_Germany', 'Geography_Spain']]=df_train[['Gender_Female', 'Gender_Male','Geography_France', 'Geography_Germany', 'Geography_Spain']].astype(int)\n",
    "df_test[['Gender_Female', 'Gender_Male','Geography_France', 'Geography_Germany', 'Geography_Spain']]=df_test[['Gender_Female', 'Gender_Male','Geography_France', 'Geography_Germany', 'Geography_Spain']].astype(int)"
   ]
  },
  {
   "cell_type": "code",
   "execution_count": 20,
   "id": "b6826b42",
   "metadata": {
    "execution": {
     "iopub.execute_input": "2024-01-12T13:29:10.200642Z",
     "iopub.status.busy": "2024-01-12T13:29:10.200172Z",
     "iopub.status.idle": "2024-01-12T13:29:10.221751Z",
     "shell.execute_reply": "2024-01-12T13:29:10.220541Z"
    },
    "papermill": {
     "duration": 0.046907,
     "end_time": "2024-01-12T13:29:10.224434",
     "exception": false,
     "start_time": "2024-01-12T13:29:10.177527",
     "status": "completed"
    },
    "tags": []
   },
   "outputs": [],
   "source": [
    "X_train = df_train.drop('Exited', axis=1) \n",
    "y_train = df_train['Exited']"
   ]
  },
  {
   "cell_type": "code",
   "execution_count": 21,
   "id": "a0577616",
   "metadata": {
    "execution": {
     "iopub.execute_input": "2024-01-12T13:29:10.270683Z",
     "iopub.status.busy": "2024-01-12T13:29:10.270231Z",
     "iopub.status.idle": "2024-01-12T13:29:10.291043Z",
     "shell.execute_reply": "2024-01-12T13:29:10.289583Z"
    },
    "papermill": {
     "duration": 0.047534,
     "end_time": "2024-01-12T13:29:10.293628",
     "exception": false,
     "start_time": "2024-01-12T13:29:10.246094",
     "status": "completed"
    },
    "tags": []
   },
   "outputs": [],
   "source": [
    "# X_train=X_train.drop(columns=[\"id\",\"CustomerId\",\"Surname\"])\n",
    "X=X_train.drop(columns=['id','CustomerId','Surname'])\n",
    "y=y_train"
   ]
  },
  {
   "cell_type": "code",
   "execution_count": 22,
   "id": "0dfb004e",
   "metadata": {
    "execution": {
     "iopub.execute_input": "2024-01-12T13:29:10.337925Z",
     "iopub.status.busy": "2024-01-12T13:29:10.337466Z",
     "iopub.status.idle": "2024-01-12T13:29:10.366573Z",
     "shell.execute_reply": "2024-01-12T13:29:10.365711Z"
    },
    "papermill": {
     "duration": 0.054201,
     "end_time": "2024-01-12T13:29:10.368696",
     "exception": false,
     "start_time": "2024-01-12T13:29:10.314495",
     "status": "completed"
    },
    "tags": []
   },
   "outputs": [
    {
     "data": {
      "text/html": [
       "<div>\n",
       "<style scoped>\n",
       "    .dataframe tbody tr th:only-of-type {\n",
       "        vertical-align: middle;\n",
       "    }\n",
       "\n",
       "    .dataframe tbody tr th {\n",
       "        vertical-align: top;\n",
       "    }\n",
       "\n",
       "    .dataframe thead th {\n",
       "        text-align: right;\n",
       "    }\n",
       "</style>\n",
       "<table border=\"1\" class=\"dataframe\">\n",
       "  <thead>\n",
       "    <tr style=\"text-align: right;\">\n",
       "      <th></th>\n",
       "      <th>CreditScore</th>\n",
       "      <th>Age</th>\n",
       "      <th>Tenure</th>\n",
       "      <th>Balance</th>\n",
       "      <th>NumOfProducts</th>\n",
       "      <th>HasCrCard</th>\n",
       "      <th>IsActiveMember</th>\n",
       "      <th>EstimatedSalary</th>\n",
       "      <th>Gender_Female</th>\n",
       "      <th>Gender_Male</th>\n",
       "      <th>Geography_France</th>\n",
       "      <th>Geography_Germany</th>\n",
       "      <th>Geography_Spain</th>\n",
       "    </tr>\n",
       "  </thead>\n",
       "  <tbody>\n",
       "    <tr>\n",
       "      <th>0</th>\n",
       "      <td>668</td>\n",
       "      <td>33.0</td>\n",
       "      <td>3</td>\n",
       "      <td>0.00</td>\n",
       "      <td>2</td>\n",
       "      <td>1.0</td>\n",
       "      <td>0.0</td>\n",
       "      <td>181449.97</td>\n",
       "      <td>0</td>\n",
       "      <td>1</td>\n",
       "      <td>1</td>\n",
       "      <td>0</td>\n",
       "      <td>0</td>\n",
       "    </tr>\n",
       "    <tr>\n",
       "      <th>1</th>\n",
       "      <td>627</td>\n",
       "      <td>33.0</td>\n",
       "      <td>1</td>\n",
       "      <td>0.00</td>\n",
       "      <td>2</td>\n",
       "      <td>1.0</td>\n",
       "      <td>1.0</td>\n",
       "      <td>49503.50</td>\n",
       "      <td>0</td>\n",
       "      <td>1</td>\n",
       "      <td>1</td>\n",
       "      <td>0</td>\n",
       "      <td>0</td>\n",
       "    </tr>\n",
       "    <tr>\n",
       "      <th>2</th>\n",
       "      <td>678</td>\n",
       "      <td>40.0</td>\n",
       "      <td>10</td>\n",
       "      <td>0.00</td>\n",
       "      <td>2</td>\n",
       "      <td>1.0</td>\n",
       "      <td>0.0</td>\n",
       "      <td>184866.69</td>\n",
       "      <td>0</td>\n",
       "      <td>1</td>\n",
       "      <td>1</td>\n",
       "      <td>0</td>\n",
       "      <td>0</td>\n",
       "    </tr>\n",
       "    <tr>\n",
       "      <th>3</th>\n",
       "      <td>581</td>\n",
       "      <td>34.0</td>\n",
       "      <td>2</td>\n",
       "      <td>148882.54</td>\n",
       "      <td>1</td>\n",
       "      <td>1.0</td>\n",
       "      <td>1.0</td>\n",
       "      <td>84560.88</td>\n",
       "      <td>0</td>\n",
       "      <td>1</td>\n",
       "      <td>1</td>\n",
       "      <td>0</td>\n",
       "      <td>0</td>\n",
       "    </tr>\n",
       "    <tr>\n",
       "      <th>4</th>\n",
       "      <td>716</td>\n",
       "      <td>33.0</td>\n",
       "      <td>5</td>\n",
       "      <td>0.00</td>\n",
       "      <td>2</td>\n",
       "      <td>1.0</td>\n",
       "      <td>1.0</td>\n",
       "      <td>15068.83</td>\n",
       "      <td>0</td>\n",
       "      <td>1</td>\n",
       "      <td>0</td>\n",
       "      <td>0</td>\n",
       "      <td>1</td>\n",
       "    </tr>\n",
       "    <tr>\n",
       "      <th>...</th>\n",
       "      <td>...</td>\n",
       "      <td>...</td>\n",
       "      <td>...</td>\n",
       "      <td>...</td>\n",
       "      <td>...</td>\n",
       "      <td>...</td>\n",
       "      <td>...</td>\n",
       "      <td>...</td>\n",
       "      <td>...</td>\n",
       "      <td>...</td>\n",
       "      <td>...</td>\n",
       "      <td>...</td>\n",
       "      <td>...</td>\n",
       "    </tr>\n",
       "    <tr>\n",
       "      <th>165029</th>\n",
       "      <td>667</td>\n",
       "      <td>33.0</td>\n",
       "      <td>2</td>\n",
       "      <td>0.00</td>\n",
       "      <td>1</td>\n",
       "      <td>1.0</td>\n",
       "      <td>1.0</td>\n",
       "      <td>131834.75</td>\n",
       "      <td>1</td>\n",
       "      <td>0</td>\n",
       "      <td>0</td>\n",
       "      <td>0</td>\n",
       "      <td>1</td>\n",
       "    </tr>\n",
       "    <tr>\n",
       "      <th>165030</th>\n",
       "      <td>792</td>\n",
       "      <td>35.0</td>\n",
       "      <td>3</td>\n",
       "      <td>0.00</td>\n",
       "      <td>1</td>\n",
       "      <td>0.0</td>\n",
       "      <td>0.0</td>\n",
       "      <td>131834.45</td>\n",
       "      <td>0</td>\n",
       "      <td>1</td>\n",
       "      <td>1</td>\n",
       "      <td>0</td>\n",
       "      <td>0</td>\n",
       "    </tr>\n",
       "    <tr>\n",
       "      <th>165031</th>\n",
       "      <td>565</td>\n",
       "      <td>31.0</td>\n",
       "      <td>5</td>\n",
       "      <td>0.00</td>\n",
       "      <td>1</td>\n",
       "      <td>1.0</td>\n",
       "      <td>1.0</td>\n",
       "      <td>127429.56</td>\n",
       "      <td>0</td>\n",
       "      <td>1</td>\n",
       "      <td>1</td>\n",
       "      <td>0</td>\n",
       "      <td>0</td>\n",
       "    </tr>\n",
       "    <tr>\n",
       "      <th>165032</th>\n",
       "      <td>554</td>\n",
       "      <td>30.0</td>\n",
       "      <td>7</td>\n",
       "      <td>161533.00</td>\n",
       "      <td>1</td>\n",
       "      <td>0.0</td>\n",
       "      <td>1.0</td>\n",
       "      <td>71173.03</td>\n",
       "      <td>1</td>\n",
       "      <td>0</td>\n",
       "      <td>0</td>\n",
       "      <td>0</td>\n",
       "      <td>1</td>\n",
       "    </tr>\n",
       "    <tr>\n",
       "      <th>165033</th>\n",
       "      <td>850</td>\n",
       "      <td>31.0</td>\n",
       "      <td>1</td>\n",
       "      <td>0.00</td>\n",
       "      <td>1</td>\n",
       "      <td>1.0</td>\n",
       "      <td>0.0</td>\n",
       "      <td>61581.79</td>\n",
       "      <td>0</td>\n",
       "      <td>1</td>\n",
       "      <td>1</td>\n",
       "      <td>0</td>\n",
       "      <td>0</td>\n",
       "    </tr>\n",
       "  </tbody>\n",
       "</table>\n",
       "<p>165034 rows × 13 columns</p>\n",
       "</div>"
      ],
      "text/plain": [
       "        CreditScore   Age  Tenure    Balance  NumOfProducts  HasCrCard  \\\n",
       "0               668  33.0       3       0.00              2        1.0   \n",
       "1               627  33.0       1       0.00              2        1.0   \n",
       "2               678  40.0      10       0.00              2        1.0   \n",
       "3               581  34.0       2  148882.54              1        1.0   \n",
       "4               716  33.0       5       0.00              2        1.0   \n",
       "...             ...   ...     ...        ...            ...        ...   \n",
       "165029          667  33.0       2       0.00              1        1.0   \n",
       "165030          792  35.0       3       0.00              1        0.0   \n",
       "165031          565  31.0       5       0.00              1        1.0   \n",
       "165032          554  30.0       7  161533.00              1        0.0   \n",
       "165033          850  31.0       1       0.00              1        1.0   \n",
       "\n",
       "        IsActiveMember  EstimatedSalary  Gender_Female  Gender_Male  \\\n",
       "0                  0.0        181449.97              0            1   \n",
       "1                  1.0         49503.50              0            1   \n",
       "2                  0.0        184866.69              0            1   \n",
       "3                  1.0         84560.88              0            1   \n",
       "4                  1.0         15068.83              0            1   \n",
       "...                ...              ...            ...          ...   \n",
       "165029             1.0        131834.75              1            0   \n",
       "165030             0.0        131834.45              0            1   \n",
       "165031             1.0        127429.56              0            1   \n",
       "165032             1.0         71173.03              1            0   \n",
       "165033             0.0         61581.79              0            1   \n",
       "\n",
       "        Geography_France  Geography_Germany  Geography_Spain  \n",
       "0                      1                  0                0  \n",
       "1                      1                  0                0  \n",
       "2                      1                  0                0  \n",
       "3                      1                  0                0  \n",
       "4                      0                  0                1  \n",
       "...                  ...                ...              ...  \n",
       "165029                 0                  0                1  \n",
       "165030                 1                  0                0  \n",
       "165031                 1                  0                0  \n",
       "165032                 0                  0                1  \n",
       "165033                 1                  0                0  \n",
       "\n",
       "[165034 rows x 13 columns]"
      ]
     },
     "execution_count": 22,
     "metadata": {},
     "output_type": "execute_result"
    }
   ],
   "source": [
    "X"
   ]
  },
  {
   "cell_type": "code",
   "execution_count": 23,
   "id": "2a38e803",
   "metadata": {
    "execution": {
     "iopub.execute_input": "2024-01-12T13:29:10.413321Z",
     "iopub.status.busy": "2024-01-12T13:29:10.412876Z",
     "iopub.status.idle": "2024-01-12T13:29:10.529591Z",
     "shell.execute_reply": "2024-01-12T13:29:10.528330Z"
    },
    "papermill": {
     "duration": 0.142491,
     "end_time": "2024-01-12T13:29:10.532600",
     "exception": false,
     "start_time": "2024-01-12T13:29:10.390109",
     "status": "completed"
    },
    "tags": []
   },
   "outputs": [],
   "source": [
    "X_train, X_test, y_train, y_test = train_test_split(X, y, test_size=0.2, random_state=55, stratify=y)"
   ]
  },
  {
   "cell_type": "markdown",
   "id": "6cd80d69",
   "metadata": {
    "papermill": {
     "duration": 0.021106,
     "end_time": "2024-01-12T13:29:10.575487",
     "exception": false,
     "start_time": "2024-01-12T13:29:10.554381",
     "status": "completed"
    },
    "tags": []
   },
   "source": [
    "### Lets start modelling"
   ]
  },
  {
   "cell_type": "code",
   "execution_count": 24,
   "id": "88eaa1aa",
   "metadata": {
    "execution": {
     "iopub.execute_input": "2024-01-12T13:29:10.620274Z",
     "iopub.status.busy": "2024-01-12T13:29:10.619815Z",
     "iopub.status.idle": "2024-01-12T13:29:11.469467Z",
     "shell.execute_reply": "2024-01-12T13:29:11.468331Z"
    },
    "papermill": {
     "duration": 0.876066,
     "end_time": "2024-01-12T13:29:11.473118",
     "exception": false,
     "start_time": "2024-01-12T13:29:10.597052",
     "status": "completed"
    },
    "tags": []
   },
   "outputs": [
    {
     "data": {
      "text/html": [
       "<style>#sk-container-id-1 {color: black;background-color: white;}#sk-container-id-1 pre{padding: 0;}#sk-container-id-1 div.sk-toggleable {background-color: white;}#sk-container-id-1 label.sk-toggleable__label {cursor: pointer;display: block;width: 100%;margin-bottom: 0;padding: 0.3em;box-sizing: border-box;text-align: center;}#sk-container-id-1 label.sk-toggleable__label-arrow:before {content: \"▸\";float: left;margin-right: 0.25em;color: #696969;}#sk-container-id-1 label.sk-toggleable__label-arrow:hover:before {color: black;}#sk-container-id-1 div.sk-estimator:hover label.sk-toggleable__label-arrow:before {color: black;}#sk-container-id-1 div.sk-toggleable__content {max-height: 0;max-width: 0;overflow: hidden;text-align: left;background-color: #f0f8ff;}#sk-container-id-1 div.sk-toggleable__content pre {margin: 0.2em;color: black;border-radius: 0.25em;background-color: #f0f8ff;}#sk-container-id-1 input.sk-toggleable__control:checked~div.sk-toggleable__content {max-height: 200px;max-width: 100%;overflow: auto;}#sk-container-id-1 input.sk-toggleable__control:checked~label.sk-toggleable__label-arrow:before {content: \"▾\";}#sk-container-id-1 div.sk-estimator input.sk-toggleable__control:checked~label.sk-toggleable__label {background-color: #d4ebff;}#sk-container-id-1 div.sk-label input.sk-toggleable__control:checked~label.sk-toggleable__label {background-color: #d4ebff;}#sk-container-id-1 input.sk-hidden--visually {border: 0;clip: rect(1px 1px 1px 1px);clip: rect(1px, 1px, 1px, 1px);height: 1px;margin: -1px;overflow: hidden;padding: 0;position: absolute;width: 1px;}#sk-container-id-1 div.sk-estimator {font-family: monospace;background-color: #f0f8ff;border: 1px dotted black;border-radius: 0.25em;box-sizing: border-box;margin-bottom: 0.5em;}#sk-container-id-1 div.sk-estimator:hover {background-color: #d4ebff;}#sk-container-id-1 div.sk-parallel-item::after {content: \"\";width: 100%;border-bottom: 1px solid gray;flex-grow: 1;}#sk-container-id-1 div.sk-label:hover label.sk-toggleable__label {background-color: #d4ebff;}#sk-container-id-1 div.sk-serial::before {content: \"\";position: absolute;border-left: 1px solid gray;box-sizing: border-box;top: 0;bottom: 0;left: 50%;z-index: 0;}#sk-container-id-1 div.sk-serial {display: flex;flex-direction: column;align-items: center;background-color: white;padding-right: 0.2em;padding-left: 0.2em;position: relative;}#sk-container-id-1 div.sk-item {position: relative;z-index: 1;}#sk-container-id-1 div.sk-parallel {display: flex;align-items: stretch;justify-content: center;background-color: white;position: relative;}#sk-container-id-1 div.sk-item::before, #sk-container-id-1 div.sk-parallel-item::before {content: \"\";position: absolute;border-left: 1px solid gray;box-sizing: border-box;top: 0;bottom: 0;left: 50%;z-index: -1;}#sk-container-id-1 div.sk-parallel-item {display: flex;flex-direction: column;z-index: 1;position: relative;background-color: white;}#sk-container-id-1 div.sk-parallel-item:first-child::after {align-self: flex-end;width: 50%;}#sk-container-id-1 div.sk-parallel-item:last-child::after {align-self: flex-start;width: 50%;}#sk-container-id-1 div.sk-parallel-item:only-child::after {width: 0;}#sk-container-id-1 div.sk-dashed-wrapped {border: 1px dashed gray;margin: 0 0.4em 0.5em 0.4em;box-sizing: border-box;padding-bottom: 0.4em;background-color: white;}#sk-container-id-1 div.sk-label label {font-family: monospace;font-weight: bold;display: inline-block;line-height: 1.2em;}#sk-container-id-1 div.sk-label-container {text-align: center;}#sk-container-id-1 div.sk-container {/* jupyter's `normalize.less` sets `[hidden] { display: none; }` but bootstrap.min.css set `[hidden] { display: none !important; }` so we also need the `!important` here to be able to override the default hidden behavior on the sphinx rendered scikit-learn.org. See: https://github.com/scikit-learn/scikit-learn/issues/21755 */display: inline-block !important;position: relative;}#sk-container-id-1 div.sk-text-repr-fallback {display: none;}</style><div id=\"sk-container-id-1\" class=\"sk-top-container\"><div class=\"sk-text-repr-fallback\"><pre>LogisticRegression()</pre><b>In a Jupyter environment, please rerun this cell to show the HTML representation or trust the notebook. <br />On GitHub, the HTML representation is unable to render, please try loading this page with nbviewer.org.</b></div><div class=\"sk-container\" hidden><div class=\"sk-item\"><div class=\"sk-estimator sk-toggleable\"><input class=\"sk-toggleable__control sk-hidden--visually\" id=\"sk-estimator-id-1\" type=\"checkbox\" checked><label for=\"sk-estimator-id-1\" class=\"sk-toggleable__label sk-toggleable__label-arrow\">LogisticRegression</label><div class=\"sk-toggleable__content\"><pre>LogisticRegression()</pre></div></div></div></div></div>"
      ],
      "text/plain": [
       "LogisticRegression()"
      ]
     },
     "execution_count": 24,
     "metadata": {},
     "output_type": "execute_result"
    }
   ],
   "source": [
    "# logistic regression\n",
    "model_logistic=LogisticRegression()\n",
    "model_logistic.fit(X_train,y_train)"
   ]
  },
  {
   "cell_type": "code",
   "execution_count": 25,
   "id": "e8abe7dd",
   "metadata": {
    "execution": {
     "iopub.execute_input": "2024-01-12T13:29:11.568031Z",
     "iopub.status.busy": "2024-01-12T13:29:11.567323Z",
     "iopub.status.idle": "2024-01-12T13:29:11.584189Z",
     "shell.execute_reply": "2024-01-12T13:29:11.582635Z"
    },
    "papermill": {
     "duration": 0.06997,
     "end_time": "2024-01-12T13:29:11.589210",
     "exception": false,
     "start_time": "2024-01-12T13:29:11.519240",
     "status": "completed"
    },
    "tags": []
   },
   "outputs": [],
   "source": [
    "# Make predictions\n",
    "y_probs = model_logistic.predict_proba(X_test)[:, 1]  # Probabilities of the positive class"
   ]
  },
  {
   "cell_type": "code",
   "execution_count": 26,
   "id": "0dc62f5b",
   "metadata": {
    "execution": {
     "iopub.execute_input": "2024-01-12T13:29:11.684443Z",
     "iopub.status.busy": "2024-01-12T13:29:11.683736Z",
     "iopub.status.idle": "2024-01-12T13:29:11.696625Z",
     "shell.execute_reply": "2024-01-12T13:29:11.695112Z"
    },
    "papermill": {
     "duration": 0.066153,
     "end_time": "2024-01-12T13:29:11.702002",
     "exception": false,
     "start_time": "2024-01-12T13:29:11.635849",
     "status": "completed"
    },
    "tags": []
   },
   "outputs": [],
   "source": [
    "def AUC(y_test,y_probs):\n",
    "    auc = roc_auc_score(y_test, y_probs)\n",
    "    fpr, tpr, thresholds = roc_curve(y_test, y_probs)\n",
    "    plt.plot(fpr, tpr, color='orange', label=f'AUC = {auc:.2f}')\n",
    "    plt.plot([0, 1], [0, 1], color='darkblue', linestyle='--')\n",
    "    plt.xlabel('False Positive Rate')\n",
    "    plt.ylabel('True Positive Rate')\n",
    "    plt.title('Receiver Operating Characteristic (ROC) Curve')\n",
    "    plt.legend()\n",
    "    plt.show()\n",
    "    return auc"
   ]
  },
  {
   "cell_type": "code",
   "execution_count": 27,
   "id": "602bc348",
   "metadata": {
    "execution": {
     "iopub.execute_input": "2024-01-12T13:29:11.748199Z",
     "iopub.status.busy": "2024-01-12T13:29:11.747055Z",
     "iopub.status.idle": "2024-01-12T13:29:12.093103Z",
     "shell.execute_reply": "2024-01-12T13:29:12.091941Z"
    },
    "papermill": {
     "duration": 0.372473,
     "end_time": "2024-01-12T13:29:12.096249",
     "exception": false,
     "start_time": "2024-01-12T13:29:11.723776",
     "status": "completed"
    },
    "tags": []
   },
   "outputs": [
    {
     "data": {
      "image/png": "[encoded data removed]",
      "text/plain": [
       "<Figure size 640x480 with 1 Axes>"
      ]
     },
     "metadata": {},
     "output_type": "display_data"
    },
    {
     "data": {
      "text/plain": [
       "0.7152186976284395"
      ]
     },
     "execution_count": 27,
     "metadata": {},
     "output_type": "execute_result"
    }
   ],
   "source": [
    "AUC(y_test,y_probs)"
   ]
  },
  {
   "cell_type": "code",
   "execution_count": 28,
   "id": "0676bd92",
   "metadata": {
    "execution": {
     "iopub.execute_input": "2024-01-12T13:29:12.144165Z",
     "iopub.status.busy": "2024-01-12T13:29:12.143433Z",
     "iopub.status.idle": "2024-01-12T13:29:12.640121Z",
     "shell.execute_reply": "2024-01-12T13:29:12.638684Z"
    },
    "papermill": {
     "duration": 0.524155,
     "end_time": "2024-01-12T13:29:12.643070",
     "exception": false,
     "start_time": "2024-01-12T13:29:12.118915",
     "status": "completed"
    },
    "tags": []
   },
   "outputs": [],
   "source": [
    "# undersample\n",
    "undersample = RandomUnderSampler(sampling_strategy='majority', random_state=55)\n",
    "X_train_under, y_train_under = undersample.fit_resample(X_train, y_train)\n",
    "\n",
    "# SMOTE\n",
    "smote = SMOTE(random_state=55)\n",
    "X_train_smote, y_train_smote = smote.fit_resample(X_train, y_train)"
   ]
  },
  {
   "cell_type": "code",
   "execution_count": 29,
   "id": "b5837776",
   "metadata": {
    "execution": {
     "iopub.execute_input": "2024-01-12T13:29:12.690668Z",
     "iopub.status.busy": "2024-01-12T13:29:12.690174Z",
     "iopub.status.idle": "2024-01-12T13:29:14.483180Z",
     "shell.execute_reply": "2024-01-12T13:29:14.481549Z"
    },
    "papermill": {
     "duration": 1.821825,
     "end_time": "2024-01-12T13:29:14.487758",
     "exception": false,
     "start_time": "2024-01-12T13:29:12.665933",
     "status": "completed"
    },
    "tags": []
   },
   "outputs": [],
   "source": [
    "model_under_sample=model_logistic.fit(X_train_under,y_train_under)\n",
    "model_smote=model_logistic.fit(X_train_smote,y_train_smote)"
   ]
  },
  {
   "cell_type": "code",
   "execution_count": 30,
   "id": "5dc16ec0",
   "metadata": {
    "execution": {
     "iopub.execute_input": "2024-01-12T13:29:14.589242Z",
     "iopub.status.busy": "2024-01-12T13:29:14.587282Z",
     "iopub.status.idle": "2024-01-12T13:29:14.605830Z",
     "shell.execute_reply": "2024-01-12T13:29:14.604216Z"
    },
    "papermill": {
     "duration": 0.074641,
     "end_time": "2024-01-12T13:29:14.610880",
     "exception": false,
     "start_time": "2024-01-12T13:29:14.536239",
     "status": "completed"
    },
    "tags": []
   },
   "outputs": [],
   "source": [
    "# Make predictions\n",
    "y_probs_under = model_under_sample.predict_proba(X_test)[:, 1]  # Probabilities of the positive class"
   ]
  },
  {
   "cell_type": "code",
   "execution_count": 31,
   "id": "c18781a7",
   "metadata": {
    "execution": {
     "iopub.execute_input": "2024-01-12T13:29:14.710219Z",
     "iopub.status.busy": "2024-01-12T13:29:14.709531Z",
     "iopub.status.idle": "2024-01-12T13:29:15.069713Z",
     "shell.execute_reply": "2024-01-12T13:29:15.068539Z"
    },
    "papermill": {
     "duration": 0.412936,
     "end_time": "2024-01-12T13:29:15.073119",
     "exception": false,
     "start_time": "2024-01-12T13:29:14.660183",
     "status": "completed"
    },
    "tags": []
   },
   "outputs": [
    {
     "data": {
      "image/png": "[encoded data removed]",
      "text/plain": [
       "<Figure size 640x480 with 1 Axes>"
      ]
     },
     "metadata": {},
     "output_type": "display_data"
    },
    {
     "data": {
      "text/plain": [
       "0.737592904532113"
      ]
     },
     "execution_count": 31,
     "metadata": {},
     "output_type": "execute_result"
    }
   ],
   "source": [
    "AUC(y_test,y_probs_under)"
   ]
  },
  {
   "cell_type": "code",
   "execution_count": 32,
   "id": "f0a341bf",
   "metadata": {
    "execution": {
     "iopub.execute_input": "2024-01-12T13:29:15.123077Z",
     "iopub.status.busy": "2024-01-12T13:29:15.122225Z",
     "iopub.status.idle": "2024-01-12T13:29:15.136444Z",
     "shell.execute_reply": "2024-01-12T13:29:15.134784Z"
    },
    "papermill": {
     "duration": 0.044339,
     "end_time": "2024-01-12T13:29:15.141460",
     "exception": false,
     "start_time": "2024-01-12T13:29:15.097121",
     "status": "completed"
    },
    "tags": []
   },
   "outputs": [],
   "source": [
    "# Make predictions\n",
    "y_probs_smote = model_smote.predict_proba(X_test)[:, 1]  # Probabilities of the positive class"
   ]
  },
  {
   "cell_type": "code",
   "execution_count": 33,
   "id": "ab157f4e",
   "metadata": {
    "execution": {
     "iopub.execute_input": "2024-01-12T13:29:15.244592Z",
     "iopub.status.busy": "2024-01-12T13:29:15.243873Z",
     "iopub.status.idle": "2024-01-12T13:29:15.589168Z",
     "shell.execute_reply": "2024-01-12T13:29:15.588341Z"
    },
    "papermill": {
     "duration": 0.399554,
     "end_time": "2024-01-12T13:29:15.591404",
     "exception": false,
     "start_time": "2024-01-12T13:29:15.191850",
     "status": "completed"
    },
    "tags": []
   },
   "outputs": [
    {
     "data": {
      "image/png": "[encoded data removed]",
      "text/plain": [
       "<Figure size 640x480 with 1 Axes>"
      ]
     },
     "metadata": {},
     "output_type": "display_data"
    },
    {
     "data": {
      "text/plain": [
       "0.737592904532113"
      ]
     },
     "execution_count": 33,
     "metadata": {},
     "output_type": "execute_result"
    }
   ],
   "source": [
    "AUC(y_test,y_probs_smote)"
   ]
  },
  {
   "cell_type": "code",
   "execution_count": 34,
   "id": "cc511db0",
   "metadata": {
    "execution": {
     "iopub.execute_input": "2024-01-12T13:29:15.645046Z",
     "iopub.status.busy": "2024-01-12T13:29:15.644234Z",
     "iopub.status.idle": "2024-01-12T13:29:15.689128Z",
     "shell.execute_reply": "2024-01-12T13:29:15.687797Z"
    },
    "papermill": {
     "duration": 0.075254,
     "end_time": "2024-01-12T13:29:15.692071",
     "exception": false,
     "start_time": "2024-01-12T13:29:15.616817",
     "status": "completed"
    },
    "tags": []
   },
   "outputs": [],
   "source": [
    "# before applying a neurall network, let us standardize the features\n",
    "from sklearn.preprocessing import StandardScaler\n",
    "\n",
    "scaler = StandardScaler()\n",
    "\n",
    "# Assuming X_train and X_test are your training and testing feature sets\n",
    "X_train_scaled = scaler.fit_transform(X_train)\n",
    "X_test_scaled = scaler.transform(X_test)"
   ]
  },
  {
   "cell_type": "code",
   "execution_count": 35,
   "id": "f7c2baa8",
   "metadata": {
    "execution": {
     "iopub.execute_input": "2024-01-12T13:29:15.742734Z",
     "iopub.status.busy": "2024-01-12T13:29:15.742294Z",
     "iopub.status.idle": "2024-01-12T13:29:15.750051Z",
     "shell.execute_reply": "2024-01-12T13:29:15.748845Z"
    },
    "papermill": {
     "duration": 0.036102,
     "end_time": "2024-01-12T13:29:15.752662",
     "exception": false,
     "start_time": "2024-01-12T13:29:15.716560",
     "status": "completed"
    },
    "tags": []
   },
   "outputs": [
    {
     "data": {
      "text/plain": [
       "array([[-0.29253656,  0.09749776, -0.00701994, ...,  0.86735196,\n",
       "        -0.51545446, -0.53015967],\n",
       "       [ 2.22837099, -1.48194998,  1.06156772, ...,  0.86735196,\n",
       "        -0.51545446, -0.53015967],\n",
       "       [-0.65444903, -0.12813763,  0.70537183, ..., -1.1529345 ,\n",
       "        -0.51545446,  1.88622419],\n",
       "       ...,\n",
       "       [ 0.06937591, -0.12813763,  1.4177636 , ...,  0.86735196,\n",
       "        -0.51545446, -0.53015967],\n",
       "       [-0.32997578,  1.4513101 , -1.0756076 , ..., -1.1529345 ,\n",
       "        -0.51545446,  1.88622419],\n",
       "       [-0.50469215, -0.57940841,  0.70537183, ..., -1.1529345 ,\n",
       "         1.94003558, -0.53015967]])"
      ]
     },
     "execution_count": 35,
     "metadata": {},
     "output_type": "execute_result"
    }
   ],
   "source": [
    "X_train_scaled"
   ]
  },
  {
   "cell_type": "code",
   "execution_count": 36,
   "id": "b63e3bc1",
   "metadata": {
    "execution": {
     "iopub.execute_input": "2024-01-12T13:29:15.804859Z",
     "iopub.status.busy": "2024-01-12T13:29:15.804208Z",
     "iopub.status.idle": "2024-01-12T13:29:19.590646Z",
     "shell.execute_reply": "2024-01-12T13:29:19.589667Z"
    },
    "papermill": {
     "duration": 3.815615,
     "end_time": "2024-01-12T13:29:19.593370",
     "exception": false,
     "start_time": "2024-01-12T13:29:15.777755",
     "status": "completed"
    },
    "tags": []
   },
   "outputs": [],
   "source": [
    "import torch\n",
    "import torch.nn as nn\n",
    "import torch.nn.functional as F\n",
    "from torch.utils.data import DataLoader, TensorDataset\n",
    "\n",
    "# Convert data to PyTorch tensors\n",
    "X_train_tensor = torch.tensor(X_train_scaled, dtype=torch.float32)\n",
    "y_train_tensor = torch.tensor(y_train, dtype=torch.float32)\n",
    "X_test_tensor = torch.tensor(X_test_scaled, dtype=torch.float32)\n",
    "y_test_tensor = torch.tensor(y_test.values, dtype=torch.float32)\n",
    "\n",
    "# Create datasets\n",
    "train_dataset = TensorDataset(X_train_tensor, y_train_tensor)\n",
    "test_dataset = TensorDataset(X_test_tensor, y_test_tensor)\n",
    "\n",
    "train_loader = DataLoader(dataset=train_dataset, batch_size=64, shuffle=True)\n",
    "test_loader = DataLoader(dataset=test_dataset, batch_size=64, shuffle=False)"
   ]
  },
  {
   "cell_type": "code",
   "execution_count": 37,
   "id": "21730677",
   "metadata": {
    "execution": {
     "iopub.execute_input": "2024-01-12T13:29:19.647205Z",
     "iopub.status.busy": "2024-01-12T13:29:19.646353Z",
     "iopub.status.idle": "2024-01-12T13:29:19.672772Z",
     "shell.execute_reply": "2024-01-12T13:29:19.669608Z"
    },
    "papermill": {
     "duration": 0.056774,
     "end_time": "2024-01-12T13:29:19.676426",
     "exception": false,
     "start_time": "2024-01-12T13:29:19.619652",
     "status": "completed"
    },
    "tags": []
   },
   "outputs": [],
   "source": [
    "class Net(nn.Module):\n",
    "    def __init__(self):\n",
    "        super(Net, self).__init__()\n",
    "        self.fc1 = nn.Linear(X_train.shape[1], 12)\n",
    "        self.fc2 = nn.Linear(12, 8)\n",
    "        self.fc3 = nn.Linear(8, 1)\n",
    "\n",
    "    def forward(self, x):\n",
    "        x = F.relu(self.fc1(x))\n",
    "        x = F.relu(self.fc2(x))\n",
    "        x = torch.sigmoid(self.fc3(x))\n",
    "        return x\n",
    "\n",
    "net = Net()"
   ]
  },
  {
   "cell_type": "code",
   "execution_count": 38,
   "id": "348be34f",
   "metadata": {
    "execution": {
     "iopub.execute_input": "2024-01-12T13:29:19.738311Z",
     "iopub.status.busy": "2024-01-12T13:29:19.737630Z",
     "iopub.status.idle": "2024-01-12T13:29:54.630346Z",
     "shell.execute_reply": "2024-01-12T13:29:54.629231Z"
    },
    "papermill": {
     "duration": 34.922819,
     "end_time": "2024-01-12T13:29:54.632961",
     "exception": false,
     "start_time": "2024-01-12T13:29:19.710142",
     "status": "completed"
    },
    "tags": []
   },
   "outputs": [],
   "source": [
    "criterion = nn.BCELoss()\n",
    "optimizer = torch.optim.Adam(net.parameters(), lr=0.001)\n",
    "\n",
    "# Training loop\n",
    "for epoch in range(10):\n",
    "    for inputs, labels in train_loader:\n",
    "        optimizer.zero_grad()\n",
    "        outputs = net(inputs)\n",
    "        loss = criterion(outputs.squeeze(), labels)\n",
    "        loss.backward()\n",
    "        optimizer.step()"
   ]
  },
  {
   "cell_type": "code",
   "execution_count": 39,
   "id": "4120ba10",
   "metadata": {
    "execution": {
     "iopub.execute_input": "2024-01-12T13:29:54.685015Z",
     "iopub.status.busy": "2024-01-12T13:29:54.684333Z",
     "iopub.status.idle": "2024-01-12T13:29:55.112996Z",
     "shell.execute_reply": "2024-01-12T13:29:55.111910Z"
    },
    "papermill": {
     "duration": 0.45774,
     "end_time": "2024-01-12T13:29:55.115718",
     "exception": false,
     "start_time": "2024-01-12T13:29:54.657978",
     "status": "completed"
    },
    "tags": []
   },
   "outputs": [],
   "source": [
    "y_probs = []\n",
    "with torch.no_grad():\n",
    "    for inputs, _ in test_loader:\n",
    "        outputs = net(inputs)\n",
    "        y_probs.extend(outputs.squeeze().numpy())"
   ]
  },
  {
   "cell_type": "code",
   "execution_count": 40,
   "id": "1d6a0b45",
   "metadata": {
    "execution": {
     "iopub.execute_input": "2024-01-12T13:29:55.167973Z",
     "iopub.status.busy": "2024-01-12T13:29:55.167292Z",
     "iopub.status.idle": "2024-01-12T13:29:55.513832Z",
     "shell.execute_reply": "2024-01-12T13:29:55.512624Z"
    },
    "papermill": {
     "duration": 0.37643,
     "end_time": "2024-01-12T13:29:55.516970",
     "exception": false,
     "start_time": "2024-01-12T13:29:55.140540",
     "status": "completed"
    },
    "tags": []
   },
   "outputs": [
    {
     "data": {
      "image/png": "[encoded data removed]",
      "text/plain": [
       "<Figure size 640x480 with 1 Axes>"
      ]
     },
     "metadata": {},
     "output_type": "display_data"
    },
    {
     "data": {
      "text/plain": [
       "0.886859318629009"
      ]
     },
     "execution_count": 40,
     "metadata": {},
     "output_type": "execute_result"
    }
   ],
   "source": [
    "AUC(y_test,y_probs)"
   ]
  },
  {
   "cell_type": "code",
   "execution_count": 41,
   "id": "bfb05c26",
   "metadata": {
    "execution": {
     "iopub.execute_input": "2024-01-12T13:29:55.569725Z",
     "iopub.status.busy": "2024-01-12T13:29:55.569308Z",
     "iopub.status.idle": "2024-01-12T13:29:55.576222Z",
     "shell.execute_reply": "2024-01-12T13:29:55.575102Z"
    },
    "papermill": {
     "duration": 0.036326,
     "end_time": "2024-01-12T13:29:55.578688",
     "exception": false,
     "start_time": "2024-01-12T13:29:55.542362",
     "status": "completed"
    },
    "tags": []
   },
   "outputs": [
    {
     "data": {
      "text/plain": [
       "torch.Size([132027, 13])"
      ]
     },
     "execution_count": 41,
     "metadata": {},
     "output_type": "execute_result"
    }
   ],
   "source": [
    "X_train_tensor.shape"
   ]
  },
  {
   "cell_type": "code",
   "execution_count": null,
   "id": "f8795926",
   "metadata": {
    "papermill": {
     "duration": 0.025198,
     "end_time": "2024-01-12T13:29:55.629316",
     "exception": false,
     "start_time": "2024-01-12T13:29:55.604118",
     "status": "completed"
    },
    "tags": []
   },
   "outputs": [],
   "source": []
  }
 ],
 "metadata": {
  "kaggle": {
   "accelerator": "none",
   "dataSources": [
    {
     "databundleVersionId": 7405009,
     "sourceId": 65711,
     "sourceType": "competition"
    }
   ],
   "dockerImageVersionId": 30635,
   "isGpuEnabled": false,
   "isInternetEnabled": true,
   "language": "python",
   "sourceType": "notebook"
  },
  "kernelspec": {
   "display_name": "Python 3",
   "language": "python",
   "name": "python3"
  },
  "language_info": {
   "codemirror_mode": {
    "name": "ipython",
    "version": 3
   },
   "file_extension": ".py",
   "mimetype": "text/x-python",
   "name": "python",
   "nbconvert_exporter": "python",
   "pygments_lexer": "ipython3",
   "version": "3.10.12"
  },
  "papermill": {
   "default_parameters": {},
   "duration": 61.481575,
   "end_time": "2024-01-12T13:29:56.878024",
   "environment_variables": {},
   "exception": null,
   "input_path": "__notebook__.ipynb",
   "output_path": "__notebook__.ipynb",
   "parameters": {},
   "start_time": "2024-01-12T13:28:55.396449",
   "version": "2.4.0"
  }
 },
 "nbformat": 4,
 "nbformat_minor": 5
}
