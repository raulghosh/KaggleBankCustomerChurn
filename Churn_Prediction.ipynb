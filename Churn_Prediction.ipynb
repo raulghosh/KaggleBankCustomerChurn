{
 "cells": [
  {
   "cell_type": "markdown",
   "id": "61dd1262",
   "metadata": {
    "papermill": {
     "duration": 0.018596,
     "end_time": "2024-01-12T22:40:34.056137",
     "exception": false,
     "start_time": "2024-01-12T22:40:34.037541",
     "status": "completed"
    },
    "tags": []
   },
   "source": [
    "#### In this notebook we will attempt to build a model to identify the probability of a customer churning from a bank. \n",
    "#### Customer churn is usually a 'detection' type of problem. This means that there can be severe class imbalance. We will confirm it when we do the exploratory data analysis.\n",
    "#### Whenever there is such a class imbalance we need to take special care to solve it as a naive 'positive only' classifier can give very good results which won't be very helpful"
   ]
  },
  {
   "cell_type": "markdown",
   "id": "a70e507f",
   "metadata": {
    "papermill": {
     "duration": 0.018605,
     "end_time": "2024-01-12T22:40:34.093335",
     "exception": false,
     "start_time": "2024-01-12T22:40:34.074730",
     "status": "completed"
    },
    "tags": []
   },
   "source": [
    "#### Approach\n",
    "1. Import the data\n",
    "2. Perform exploratory analysis\\\n",
    "    2.1. Check for null values - Take approriate steps to address the issue\\\n",
    "    2.2. Check for outliers - Take appropriate steps to address the issue\\\n",
    "    2.3. Explore the distribution of features and target variable (suspected to be imbalanced)\n",
    "3. Feature Engineering\n",
    "4. Shortlist the models to be used for the use case\n",
    "5. Standardize the features if required by certain models\n",
    "6. Split the data under train.csv in training and validation sets\n",
    "7. Train the models\n",
    "8. Select the final model\n",
    "9 Create a pipeline for the model to predict on the test set and generate the output in the desired format\n"
   ]
  },
  {
   "cell_type": "code",
   "execution_count": 1,
   "id": "087e601f",
   "metadata": {
    "_cell_guid": "b1076dfc-b9ad-4769-8c92-a6c4dae69d19",
    "_uuid": "8f2839f25d086af736a60e9eeb907d3b93b6e0e5",
    "execution": {
     "iopub.execute_input": "2024-01-12T22:40:34.132460Z",
     "iopub.status.busy": "2024-01-12T22:40:34.131642Z",
     "iopub.status.idle": "2024-01-12T22:40:36.047295Z",
     "shell.execute_reply": "2024-01-12T22:40:36.046085Z"
    },
    "papermill": {
     "duration": 1.938579,
     "end_time": "2024-01-12T22:40:36.050308",
     "exception": false,
     "start_time": "2024-01-12T22:40:34.111729",
     "status": "completed"
    },
    "tags": []
   },
   "outputs": [
    {
     "name": "stdout",
     "output_type": "stream",
     "text": [
      "/kaggle/input/playground-series-s4e1/sample_submission.csv\n",
      "/kaggle/input/playground-series-s4e1/train.csv\n",
      "/kaggle/input/playground-series-s4e1/test.csv\n"
     ]
    }
   ],
   "source": [
    "# This Python 3 environment comes with many helpful analytics libraries installed\n",
    "# It is defined by the kaggle/python Docker image: https://github.com/kaggle/docker-python\n",
    "# For example, here's several helpful packages to load\n",
    "\n",
    "import numpy as np # linear algebra\n",
    "import pandas as pd # data processing, CSV file I/O (e.g. pd.read_csv)\n",
    "from matplotlib import pyplot as plt # from data visualization\n",
    "import seaborn as sns # for data visualization\n",
    "\n",
    "# Input data files are available in the read-only \"../input/\" directory\n",
    "# For example, running this (by clicking run or pressing Shift+Enter) will list all files under the input directory\n",
    "\n",
    "import os\n",
    "for dirname, _, filenames in os.walk('/kaggle/input'):\n",
    "    for filename in filenames:\n",
    "        print(os.path.join(dirname, filename))\n",
    "\n",
    "# You can write up to 20GB to the current directory (/kaggle/working/) that gets preserved as output when you create a version using \"Save & Run All\" \n",
    "# You can also write temporary files to /kaggle/temp/, but they won't be saved outside of the current session"
   ]
  },
  {
   "cell_type": "markdown",
   "id": "94bbf152",
   "metadata": {
    "papermill": {
     "duration": 0.018548,
     "end_time": "2024-01-12T22:40:36.088021",
     "exception": false,
     "start_time": "2024-01-12T22:40:36.069473",
     "status": "completed"
    },
    "tags": []
   },
   "source": [
    "### Step 1: Import the data"
   ]
  },
  {
   "cell_type": "code",
   "execution_count": 2,
   "id": "4bad16ea",
   "metadata": {
    "execution": {
     "iopub.execute_input": "2024-01-12T22:40:36.130280Z",
     "iopub.status.busy": "2024-01-12T22:40:36.129714Z",
     "iopub.status.idle": "2024-01-12T22:40:36.135637Z",
     "shell.execute_reply": "2024-01-12T22:40:36.134305Z"
    },
    "papermill": {
     "duration": 0.031303,
     "end_time": "2024-01-12T22:40:36.138131",
     "exception": false,
     "start_time": "2024-01-12T22:40:36.106828",
     "status": "completed"
    },
    "tags": []
   },
   "outputs": [],
   "source": [
    "# Storing the training and test data filepath in a variable for easy access\n",
    "train_data_filepath='''/kaggle/input/playground-series-s4e1/train.csv'''\n",
    "test_data_filepath='''/kaggle/input/playground-series-s4e1/test.csv'''"
   ]
  },
  {
   "cell_type": "code",
   "execution_count": 3,
   "id": "6492f093",
   "metadata": {
    "execution": {
     "iopub.execute_input": "2024-01-12T22:40:36.178830Z",
     "iopub.status.busy": "2024-01-12T22:40:36.178406Z",
     "iopub.status.idle": "2024-01-12T22:40:37.025202Z",
     "shell.execute_reply": "2024-01-12T22:40:37.024166Z"
    },
    "papermill": {
     "duration": 0.86985,
     "end_time": "2024-01-12T22:40:37.028085",
     "exception": false,
     "start_time": "2024-01-12T22:40:36.158235",
     "status": "completed"
    },
    "tags": []
   },
   "outputs": [],
   "source": [
    "# import the data into pandas dataframe\n",
    "df_train=pd.read_csv(train_data_filepath, index_col=\"id\")\n",
    "df_test=pd.read_csv(test_data_filepath)"
   ]
  },
  {
   "cell_type": "code",
   "execution_count": 4,
   "id": "1680fea0",
   "metadata": {
    "execution": {
     "iopub.execute_input": "2024-01-12T22:40:37.069536Z",
     "iopub.status.busy": "2024-01-12T22:40:37.067093Z",
     "iopub.status.idle": "2024-01-12T22:40:37.099916Z",
     "shell.execute_reply": "2024-01-12T22:40:37.098591Z"
    },
    "papermill": {
     "duration": 0.057216,
     "end_time": "2024-01-12T22:40:37.104322",
     "exception": false,
     "start_time": "2024-01-12T22:40:37.047106",
     "status": "completed"
    },
    "tags": []
   },
   "outputs": [
    {
     "data": {
      "text/html": [
       "<div>\n",
       "<style scoped>\n",
       "    .dataframe tbody tr th:only-of-type {\n",
       "        vertical-align: middle;\n",
       "    }\n",
       "\n",
       "    .dataframe tbody tr th {\n",
       "        vertical-align: top;\n",
       "    }\n",
       "\n",
       "    .dataframe thead th {\n",
       "        text-align: right;\n",
       "    }\n",
       "</style>\n",
       "<table border=\"1\" class=\"dataframe\">\n",
       "  <thead>\n",
       "    <tr style=\"text-align: right;\">\n",
       "      <th></th>\n",
       "      <th>CustomerId</th>\n",
       "      <th>Surname</th>\n",
       "      <th>CreditScore</th>\n",
       "      <th>Geography</th>\n",
       "      <th>Gender</th>\n",
       "      <th>Age</th>\n",
       "      <th>Tenure</th>\n",
       "      <th>Balance</th>\n",
       "      <th>NumOfProducts</th>\n",
       "      <th>HasCrCard</th>\n",
       "      <th>IsActiveMember</th>\n",
       "      <th>EstimatedSalary</th>\n",
       "      <th>Exited</th>\n",
       "    </tr>\n",
       "    <tr>\n",
       "      <th>id</th>\n",
       "      <th></th>\n",
       "      <th></th>\n",
       "      <th></th>\n",
       "      <th></th>\n",
       "      <th></th>\n",
       "      <th></th>\n",
       "      <th></th>\n",
       "      <th></th>\n",
       "      <th></th>\n",
       "      <th></th>\n",
       "      <th></th>\n",
       "      <th></th>\n",
       "      <th></th>\n",
       "    </tr>\n",
       "  </thead>\n",
       "  <tbody>\n",
       "    <tr>\n",
       "      <th>0</th>\n",
       "      <td>15674932</td>\n",
       "      <td>Okwudilichukwu</td>\n",
       "      <td>668</td>\n",
       "      <td>France</td>\n",
       "      <td>Male</td>\n",
       "      <td>33.0</td>\n",
       "      <td>3</td>\n",
       "      <td>0.00</td>\n",
       "      <td>2</td>\n",
       "      <td>1.0</td>\n",
       "      <td>0.0</td>\n",
       "      <td>181449.97</td>\n",
       "      <td>0</td>\n",
       "    </tr>\n",
       "    <tr>\n",
       "      <th>1</th>\n",
       "      <td>15749177</td>\n",
       "      <td>Okwudiliolisa</td>\n",
       "      <td>627</td>\n",
       "      <td>France</td>\n",
       "      <td>Male</td>\n",
       "      <td>33.0</td>\n",
       "      <td>1</td>\n",
       "      <td>0.00</td>\n",
       "      <td>2</td>\n",
       "      <td>1.0</td>\n",
       "      <td>1.0</td>\n",
       "      <td>49503.50</td>\n",
       "      <td>0</td>\n",
       "    </tr>\n",
       "    <tr>\n",
       "      <th>2</th>\n",
       "      <td>15694510</td>\n",
       "      <td>Hsueh</td>\n",
       "      <td>678</td>\n",
       "      <td>France</td>\n",
       "      <td>Male</td>\n",
       "      <td>40.0</td>\n",
       "      <td>10</td>\n",
       "      <td>0.00</td>\n",
       "      <td>2</td>\n",
       "      <td>1.0</td>\n",
       "      <td>0.0</td>\n",
       "      <td>184866.69</td>\n",
       "      <td>0</td>\n",
       "    </tr>\n",
       "    <tr>\n",
       "      <th>3</th>\n",
       "      <td>15741417</td>\n",
       "      <td>Kao</td>\n",
       "      <td>581</td>\n",
       "      <td>France</td>\n",
       "      <td>Male</td>\n",
       "      <td>34.0</td>\n",
       "      <td>2</td>\n",
       "      <td>148882.54</td>\n",
       "      <td>1</td>\n",
       "      <td>1.0</td>\n",
       "      <td>1.0</td>\n",
       "      <td>84560.88</td>\n",
       "      <td>0</td>\n",
       "    </tr>\n",
       "    <tr>\n",
       "      <th>4</th>\n",
       "      <td>15766172</td>\n",
       "      <td>Chiemenam</td>\n",
       "      <td>716</td>\n",
       "      <td>Spain</td>\n",
       "      <td>Male</td>\n",
       "      <td>33.0</td>\n",
       "      <td>5</td>\n",
       "      <td>0.00</td>\n",
       "      <td>2</td>\n",
       "      <td>1.0</td>\n",
       "      <td>1.0</td>\n",
       "      <td>15068.83</td>\n",
       "      <td>0</td>\n",
       "    </tr>\n",
       "  </tbody>\n",
       "</table>\n",
       "</div>"
      ],
      "text/plain": [
       "    CustomerId         Surname  CreditScore Geography Gender   Age  Tenure  \\\n",
       "id                                                                           \n",
       "0     15674932  Okwudilichukwu          668    France   Male  33.0       3   \n",
       "1     15749177   Okwudiliolisa          627    France   Male  33.0       1   \n",
       "2     15694510           Hsueh          678    France   Male  40.0      10   \n",
       "3     15741417             Kao          581    France   Male  34.0       2   \n",
       "4     15766172       Chiemenam          716     Spain   Male  33.0       5   \n",
       "\n",
       "      Balance  NumOfProducts  HasCrCard  IsActiveMember  EstimatedSalary  \\\n",
       "id                                                                         \n",
       "0        0.00              2        1.0             0.0        181449.97   \n",
       "1        0.00              2        1.0             1.0         49503.50   \n",
       "2        0.00              2        1.0             0.0        184866.69   \n",
       "3   148882.54              1        1.0             1.0         84560.88   \n",
       "4        0.00              2        1.0             1.0         15068.83   \n",
       "\n",
       "    Exited  \n",
       "id          \n",
       "0        0  \n",
       "1        0  \n",
       "2        0  \n",
       "3        0  \n",
       "4        0  "
      ]
     },
     "execution_count": 4,
     "metadata": {},
     "output_type": "execute_result"
    }
   ],
   "source": [
    "# let's check the first few rows of the train data\n",
    "# this will tell us whether the import went through fine and how do the columns look like\n",
    "df_train.head()"
   ]
  },
  {
   "cell_type": "code",
   "execution_count": 5,
   "id": "a45b9b29",
   "metadata": {
    "execution": {
     "iopub.execute_input": "2024-01-12T22:40:37.144562Z",
     "iopub.status.busy": "2024-01-12T22:40:37.144057Z",
     "iopub.status.idle": "2024-01-12T22:40:37.166365Z",
     "shell.execute_reply": "2024-01-12T22:40:37.165234Z"
    },
    "papermill": {
     "duration": 0.045537,
     "end_time": "2024-01-12T22:40:37.168892",
     "exception": false,
     "start_time": "2024-01-12T22:40:37.123355",
     "status": "completed"
    },
    "tags": []
   },
   "outputs": [
    {
     "data": {
      "text/html": [
       "<div>\n",
       "<style scoped>\n",
       "    .dataframe tbody tr th:only-of-type {\n",
       "        vertical-align: middle;\n",
       "    }\n",
       "\n",
       "    .dataframe tbody tr th {\n",
       "        vertical-align: top;\n",
       "    }\n",
       "\n",
       "    .dataframe thead th {\n",
       "        text-align: right;\n",
       "    }\n",
       "</style>\n",
       "<table border=\"1\" class=\"dataframe\">\n",
       "  <thead>\n",
       "    <tr style=\"text-align: right;\">\n",
       "      <th></th>\n",
       "      <th>id</th>\n",
       "      <th>CustomerId</th>\n",
       "      <th>Surname</th>\n",
       "      <th>CreditScore</th>\n",
       "      <th>Geography</th>\n",
       "      <th>Gender</th>\n",
       "      <th>Age</th>\n",
       "      <th>Tenure</th>\n",
       "      <th>Balance</th>\n",
       "      <th>NumOfProducts</th>\n",
       "      <th>HasCrCard</th>\n",
       "      <th>IsActiveMember</th>\n",
       "      <th>EstimatedSalary</th>\n",
       "    </tr>\n",
       "  </thead>\n",
       "  <tbody>\n",
       "    <tr>\n",
       "      <th>0</th>\n",
       "      <td>165034</td>\n",
       "      <td>15773898</td>\n",
       "      <td>Lucchese</td>\n",
       "      <td>586</td>\n",
       "      <td>France</td>\n",
       "      <td>Female</td>\n",
       "      <td>23.0</td>\n",
       "      <td>2</td>\n",
       "      <td>0.00</td>\n",
       "      <td>2</td>\n",
       "      <td>0.0</td>\n",
       "      <td>1.0</td>\n",
       "      <td>160976.75</td>\n",
       "    </tr>\n",
       "    <tr>\n",
       "      <th>1</th>\n",
       "      <td>165035</td>\n",
       "      <td>15782418</td>\n",
       "      <td>Nott</td>\n",
       "      <td>683</td>\n",
       "      <td>France</td>\n",
       "      <td>Female</td>\n",
       "      <td>46.0</td>\n",
       "      <td>2</td>\n",
       "      <td>0.00</td>\n",
       "      <td>1</td>\n",
       "      <td>1.0</td>\n",
       "      <td>0.0</td>\n",
       "      <td>72549.27</td>\n",
       "    </tr>\n",
       "    <tr>\n",
       "      <th>2</th>\n",
       "      <td>165036</td>\n",
       "      <td>15807120</td>\n",
       "      <td>K?</td>\n",
       "      <td>656</td>\n",
       "      <td>France</td>\n",
       "      <td>Female</td>\n",
       "      <td>34.0</td>\n",
       "      <td>7</td>\n",
       "      <td>0.00</td>\n",
       "      <td>2</td>\n",
       "      <td>1.0</td>\n",
       "      <td>0.0</td>\n",
       "      <td>138882.09</td>\n",
       "    </tr>\n",
       "    <tr>\n",
       "      <th>3</th>\n",
       "      <td>165037</td>\n",
       "      <td>15808905</td>\n",
       "      <td>O'Donnell</td>\n",
       "      <td>681</td>\n",
       "      <td>France</td>\n",
       "      <td>Male</td>\n",
       "      <td>36.0</td>\n",
       "      <td>8</td>\n",
       "      <td>0.00</td>\n",
       "      <td>1</td>\n",
       "      <td>1.0</td>\n",
       "      <td>0.0</td>\n",
       "      <td>113931.57</td>\n",
       "    </tr>\n",
       "    <tr>\n",
       "      <th>4</th>\n",
       "      <td>165038</td>\n",
       "      <td>15607314</td>\n",
       "      <td>Higgins</td>\n",
       "      <td>752</td>\n",
       "      <td>Germany</td>\n",
       "      <td>Male</td>\n",
       "      <td>38.0</td>\n",
       "      <td>10</td>\n",
       "      <td>121263.62</td>\n",
       "      <td>1</td>\n",
       "      <td>1.0</td>\n",
       "      <td>0.0</td>\n",
       "      <td>139431.00</td>\n",
       "    </tr>\n",
       "  </tbody>\n",
       "</table>\n",
       "</div>"
      ],
      "text/plain": [
       "       id  CustomerId    Surname  CreditScore Geography  Gender   Age  Tenure  \\\n",
       "0  165034    15773898   Lucchese          586    France  Female  23.0       2   \n",
       "1  165035    15782418       Nott          683    France  Female  46.0       2   \n",
       "2  165036    15807120         K?          656    France  Female  34.0       7   \n",
       "3  165037    15808905  O'Donnell          681    France    Male  36.0       8   \n",
       "4  165038    15607314    Higgins          752   Germany    Male  38.0      10   \n",
       "\n",
       "     Balance  NumOfProducts  HasCrCard  IsActiveMember  EstimatedSalary  \n",
       "0       0.00              2        0.0             1.0        160976.75  \n",
       "1       0.00              1        1.0             0.0         72549.27  \n",
       "2       0.00              2        1.0             0.0        138882.09  \n",
       "3       0.00              1        1.0             0.0        113931.57  \n",
       "4  121263.62              1        1.0             0.0        139431.00  "
      ]
     },
     "execution_count": 5,
     "metadata": {},
     "output_type": "execute_result"
    }
   ],
   "source": [
    "df_test.head()"
   ]
  },
  {
   "cell_type": "markdown",
   "id": "e0649de8",
   "metadata": {
    "papermill": {
     "duration": 0.019108,
     "end_time": "2024-01-12T22:40:37.207371",
     "exception": false,
     "start_time": "2024-01-12T22:40:37.188263",
     "status": "completed"
    },
    "tags": []
   },
   "source": [
    "### Step 2: Exploratory Data Analysis"
   ]
  },
  {
   "cell_type": "markdown",
   "id": "b996cd4a",
   "metadata": {
    "papermill": {
     "duration": 0.018241,
     "end_time": "2024-01-12T22:40:37.244405",
     "exception": false,
     "start_time": "2024-01-12T22:40:37.226164",
     "status": "completed"
    },
    "tags": []
   },
   "source": []
  },
  {
   "cell_type": "code",
   "execution_count": 6,
   "id": "17886593",
   "metadata": {
    "execution": {
     "iopub.execute_input": "2024-01-12T22:40:37.349565Z",
     "iopub.status.busy": "2024-01-12T22:40:37.348745Z",
     "iopub.status.idle": "2024-01-12T22:40:37.356835Z",
     "shell.execute_reply": "2024-01-12T22:40:37.354955Z"
    },
    "papermill": {
     "duration": 0.03133,
     "end_time": "2024-01-12T22:40:37.359584",
     "exception": false,
     "start_time": "2024-01-12T22:40:37.328254",
     "status": "completed"
    },
    "tags": []
   },
   "outputs": [
    {
     "data": {
      "text/plain": [
       "(165034, 13)"
      ]
     },
     "execution_count": 6,
     "metadata": {},
     "output_type": "execute_result"
    }
   ],
   "source": [
    "# checking the size\n",
    "df_train.shape"
   ]
  },
  {
   "cell_type": "code",
   "execution_count": 7,
   "id": "77e7ab0c",
   "metadata": {
    "execution": {
     "iopub.execute_input": "2024-01-12T22:40:37.400446Z",
     "iopub.status.busy": "2024-01-12T22:40:37.399687Z",
     "iopub.status.idle": "2024-01-12T22:40:37.406768Z",
     "shell.execute_reply": "2024-01-12T22:40:37.405290Z"
    },
    "papermill": {
     "duration": 0.030494,
     "end_time": "2024-01-12T22:40:37.409428",
     "exception": false,
     "start_time": "2024-01-12T22:40:37.378934",
     "status": "completed"
    },
    "tags": []
   },
   "outputs": [
    {
     "data": {
      "text/plain": [
       "Index(['CustomerId', 'Surname', 'CreditScore', 'Geography', 'Gender', 'Age',\n",
       "       'Tenure', 'Balance', 'NumOfProducts', 'HasCrCard', 'IsActiveMember',\n",
       "       'EstimatedSalary', 'Exited'],\n",
       "      dtype='object')"
      ]
     },
     "execution_count": 7,
     "metadata": {},
     "output_type": "execute_result"
    }
   ],
   "source": [
    "# checking the different column names\n",
    "df_train.columns"
   ]
  },
  {
   "cell_type": "markdown",
   "id": "38f53bf9",
   "metadata": {
    "papermill": {
     "duration": 0.018733,
     "end_time": "2024-01-12T22:40:37.449124",
     "exception": false,
     "start_time": "2024-01-12T22:40:37.430391",
     "status": "completed"
    },
    "tags": []
   },
   "source": [
    "### Checking null-values"
   ]
  },
  {
   "cell_type": "code",
   "execution_count": 8,
   "id": "48794ef1",
   "metadata": {
    "execution": {
     "iopub.execute_input": "2024-01-12T22:40:37.490774Z",
     "iopub.status.busy": "2024-01-12T22:40:37.490368Z",
     "iopub.status.idle": "2024-01-12T22:40:37.651290Z",
     "shell.execute_reply": "2024-01-12T22:40:37.649908Z"
    },
    "papermill": {
     "duration": 0.18564,
     "end_time": "2024-01-12T22:40:37.654334",
     "exception": false,
     "start_time": "2024-01-12T22:40:37.468694",
     "status": "completed"
    },
    "tags": []
   },
   "outputs": [
    {
     "name": "stdout",
     "output_type": "stream",
     "text": [
      "<class 'pandas.core.frame.DataFrame'>\n",
      "Index: 165034 entries, 0 to 165033\n",
      "Data columns (total 13 columns):\n",
      " #   Column           Non-Null Count   Dtype  \n",
      "---  ------           --------------   -----  \n",
      " 0   CustomerId       165034 non-null  int64  \n",
      " 1   Surname          165034 non-null  object \n",
      " 2   CreditScore      165034 non-null  int64  \n",
      " 3   Geography        165034 non-null  object \n",
      " 4   Gender           165034 non-null  object \n",
      " 5   Age              165034 non-null  float64\n",
      " 6   Tenure           165034 non-null  int64  \n",
      " 7   Balance          165034 non-null  float64\n",
      " 8   NumOfProducts    165034 non-null  int64  \n",
      " 9   HasCrCard        165034 non-null  float64\n",
      " 10  IsActiveMember   165034 non-null  float64\n",
      " 11  EstimatedSalary  165034 non-null  float64\n",
      " 12  Exited           165034 non-null  int64  \n",
      "dtypes: float64(5), int64(5), object(3)\n",
      "memory usage: 17.6+ MB\n"
     ]
    }
   ],
   "source": [
    "# getting the information about the columns\n",
    "df_train.info()"
   ]
  },
  {
   "cell_type": "markdown",
   "id": "71f700fd",
   "metadata": {
    "papermill": {
     "duration": 0.018982,
     "end_time": "2024-01-12T22:40:37.694195",
     "exception": false,
     "start_time": "2024-01-12T22:40:37.675213",
     "status": "completed"
    },
    "tags": []
   },
   "source": [
    "#### There are a total of 165,034 rows and each of the attribute has the same number of non-null values. Hence, we don't have a problem of null values here"
   ]
  },
  {
   "cell_type": "code",
   "execution_count": 9,
   "id": "8ba93634",
   "metadata": {
    "execution": {
     "iopub.execute_input": "2024-01-12T22:40:37.735595Z",
     "iopub.status.busy": "2024-01-12T22:40:37.735171Z",
     "iopub.status.idle": "2024-01-12T22:40:37.739562Z",
     "shell.execute_reply": "2024-01-12T22:40:37.738606Z"
    },
    "papermill": {
     "duration": 0.028996,
     "end_time": "2024-01-12T22:40:37.742630",
     "exception": false,
     "start_time": "2024-01-12T22:40:37.713634",
     "status": "completed"
    },
    "tags": []
   },
   "outputs": [],
   "source": [
    "# # visualizing null values\n",
    "# sns.heatmap(df_train.isnull(), cbar=False)\n",
    "# plt.show()"
   ]
  },
  {
   "cell_type": "markdown",
   "id": "a0282e98",
   "metadata": {
    "papermill": {
     "duration": 0.019523,
     "end_time": "2024-01-12T22:40:37.781661",
     "exception": false,
     "start_time": "2024-01-12T22:40:37.762138",
     "status": "completed"
    },
    "tags": []
   },
   "source": [
    "### Outlier detection\n",
    "#### To begin let's look at some basic stats of the data"
   ]
  },
  {
   "cell_type": "code",
   "execution_count": 10,
   "id": "53b3f455",
   "metadata": {
    "execution": {
     "iopub.execute_input": "2024-01-12T22:40:37.823432Z",
     "iopub.status.busy": "2024-01-12T22:40:37.822787Z",
     "iopub.status.idle": "2024-01-12T22:40:37.935829Z",
     "shell.execute_reply": "2024-01-12T22:40:37.934544Z"
    },
    "papermill": {
     "duration": 0.137644,
     "end_time": "2024-01-12T22:40:37.939296",
     "exception": false,
     "start_time": "2024-01-12T22:40:37.801652",
     "status": "completed"
    },
    "tags": []
   },
   "outputs": [
    {
     "data": {
      "text/html": [
       "<div>\n",
       "<style scoped>\n",
       "    .dataframe tbody tr th:only-of-type {\n",
       "        vertical-align: middle;\n",
       "    }\n",
       "\n",
       "    .dataframe tbody tr th {\n",
       "        vertical-align: top;\n",
       "    }\n",
       "\n",
       "    .dataframe thead th {\n",
       "        text-align: right;\n",
       "    }\n",
       "</style>\n",
       "<table border=\"1\" class=\"dataframe\">\n",
       "  <thead>\n",
       "    <tr style=\"text-align: right;\">\n",
       "      <th></th>\n",
       "      <th>CreditScore</th>\n",
       "      <th>Age</th>\n",
       "      <th>Tenure</th>\n",
       "      <th>Balance</th>\n",
       "      <th>NumOfProducts</th>\n",
       "      <th>HasCrCard</th>\n",
       "      <th>IsActiveMember</th>\n",
       "      <th>EstimatedSalary</th>\n",
       "      <th>Exited</th>\n",
       "    </tr>\n",
       "  </thead>\n",
       "  <tbody>\n",
       "    <tr>\n",
       "      <th>count</th>\n",
       "      <td>165034.000000</td>\n",
       "      <td>165034.000000</td>\n",
       "      <td>165034.000000</td>\n",
       "      <td>165034.000000</td>\n",
       "      <td>165034.000000</td>\n",
       "      <td>165034.000000</td>\n",
       "      <td>165034.000000</td>\n",
       "      <td>165034.000000</td>\n",
       "      <td>165034.000000</td>\n",
       "    </tr>\n",
       "    <tr>\n",
       "      <th>mean</th>\n",
       "      <td>656.454373</td>\n",
       "      <td>38.125888</td>\n",
       "      <td>5.020353</td>\n",
       "      <td>55478.086689</td>\n",
       "      <td>1.554455</td>\n",
       "      <td>0.753954</td>\n",
       "      <td>0.497770</td>\n",
       "      <td>112574.822734</td>\n",
       "      <td>0.211599</td>\n",
       "    </tr>\n",
       "    <tr>\n",
       "      <th>std</th>\n",
       "      <td>80.103340</td>\n",
       "      <td>8.867205</td>\n",
       "      <td>2.806159</td>\n",
       "      <td>62817.663278</td>\n",
       "      <td>0.547154</td>\n",
       "      <td>0.430707</td>\n",
       "      <td>0.499997</td>\n",
       "      <td>50292.865585</td>\n",
       "      <td>0.408443</td>\n",
       "    </tr>\n",
       "    <tr>\n",
       "      <th>min</th>\n",
       "      <td>350.000000</td>\n",
       "      <td>18.000000</td>\n",
       "      <td>0.000000</td>\n",
       "      <td>0.000000</td>\n",
       "      <td>1.000000</td>\n",
       "      <td>0.000000</td>\n",
       "      <td>0.000000</td>\n",
       "      <td>11.580000</td>\n",
       "      <td>0.000000</td>\n",
       "    </tr>\n",
       "    <tr>\n",
       "      <th>25%</th>\n",
       "      <td>597.000000</td>\n",
       "      <td>32.000000</td>\n",
       "      <td>3.000000</td>\n",
       "      <td>0.000000</td>\n",
       "      <td>1.000000</td>\n",
       "      <td>1.000000</td>\n",
       "      <td>0.000000</td>\n",
       "      <td>74637.570000</td>\n",
       "      <td>0.000000</td>\n",
       "    </tr>\n",
       "    <tr>\n",
       "      <th>50%</th>\n",
       "      <td>659.000000</td>\n",
       "      <td>37.000000</td>\n",
       "      <td>5.000000</td>\n",
       "      <td>0.000000</td>\n",
       "      <td>2.000000</td>\n",
       "      <td>1.000000</td>\n",
       "      <td>0.000000</td>\n",
       "      <td>117948.000000</td>\n",
       "      <td>0.000000</td>\n",
       "    </tr>\n",
       "    <tr>\n",
       "      <th>75%</th>\n",
       "      <td>710.000000</td>\n",
       "      <td>42.000000</td>\n",
       "      <td>7.000000</td>\n",
       "      <td>119939.517500</td>\n",
       "      <td>2.000000</td>\n",
       "      <td>1.000000</td>\n",
       "      <td>1.000000</td>\n",
       "      <td>155152.467500</td>\n",
       "      <td>0.000000</td>\n",
       "    </tr>\n",
       "    <tr>\n",
       "      <th>max</th>\n",
       "      <td>850.000000</td>\n",
       "      <td>92.000000</td>\n",
       "      <td>10.000000</td>\n",
       "      <td>250898.090000</td>\n",
       "      <td>4.000000</td>\n",
       "      <td>1.000000</td>\n",
       "      <td>1.000000</td>\n",
       "      <td>199992.480000</td>\n",
       "      <td>1.000000</td>\n",
       "    </tr>\n",
       "  </tbody>\n",
       "</table>\n",
       "</div>"
      ],
      "text/plain": [
       "         CreditScore            Age         Tenure        Balance  \\\n",
       "count  165034.000000  165034.000000  165034.000000  165034.000000   \n",
       "mean      656.454373      38.125888       5.020353   55478.086689   \n",
       "std        80.103340       8.867205       2.806159   62817.663278   \n",
       "min       350.000000      18.000000       0.000000       0.000000   \n",
       "25%       597.000000      32.000000       3.000000       0.000000   \n",
       "50%       659.000000      37.000000       5.000000       0.000000   \n",
       "75%       710.000000      42.000000       7.000000  119939.517500   \n",
       "max       850.000000      92.000000      10.000000  250898.090000   \n",
       "\n",
       "       NumOfProducts      HasCrCard  IsActiveMember  EstimatedSalary  \\\n",
       "count  165034.000000  165034.000000   165034.000000    165034.000000   \n",
       "mean        1.554455       0.753954        0.497770    112574.822734   \n",
       "std         0.547154       0.430707        0.499997     50292.865585   \n",
       "min         1.000000       0.000000        0.000000        11.580000   \n",
       "25%         1.000000       1.000000        0.000000     74637.570000   \n",
       "50%         2.000000       1.000000        0.000000    117948.000000   \n",
       "75%         2.000000       1.000000        1.000000    155152.467500   \n",
       "max         4.000000       1.000000        1.000000    199992.480000   \n",
       "\n",
       "              Exited  \n",
       "count  165034.000000  \n",
       "mean        0.211599  \n",
       "std         0.408443  \n",
       "min         0.000000  \n",
       "25%         0.000000  \n",
       "50%         0.000000  \n",
       "75%         0.000000  \n",
       "max         1.000000  "
      ]
     },
     "execution_count": 10,
     "metadata": {},
     "output_type": "execute_result"
    }
   ],
   "source": [
    "df_train[df_train.columns[1:]].describe()"
   ]
  },
  {
   "cell_type": "markdown",
   "id": "6f808565",
   "metadata": {
    "papermill": {
     "duration": 0.019452,
     "end_time": "2024-01-12T22:40:37.978628",
     "exception": false,
     "start_time": "2024-01-12T22:40:37.959176",
     "status": "completed"
    },
    "tags": []
   },
   "source": [
    "#### A look at the min, max, mean and standard deviation reveals that no features seems to have any outliers "
   ]
  },
  {
   "cell_type": "markdown",
   "id": "72ff6a4b",
   "metadata": {
    "papermill": {
     "duration": 0.019759,
     "end_time": "2024-01-12T22:40:38.018223",
     "exception": false,
     "start_time": "2024-01-12T22:40:37.998464",
     "status": "completed"
    },
    "tags": []
   },
   "source": [
    "### Let us check the disctribition of the data"
   ]
  },
  {
   "cell_type": "code",
   "execution_count": 11,
   "id": "5e1bb7a1",
   "metadata": {
    "execution": {
     "iopub.execute_input": "2024-01-12T22:40:38.061338Z",
     "iopub.status.busy": "2024-01-12T22:40:38.060898Z",
     "iopub.status.idle": "2024-01-12T22:40:41.389633Z",
     "shell.execute_reply": "2024-01-12T22:40:41.388152Z"
    },
    "papermill": {
     "duration": 3.35439,
     "end_time": "2024-01-12T22:40:41.393206",
     "exception": false,
     "start_time": "2024-01-12T22:40:38.038816",
     "status": "completed"
    },
    "tags": []
   },
   "outputs": [
    {
     "data": {
      "text/plain": [
       "array([[<Axes: title={'center': 'CustomerId'}>,\n",
       "        <Axes: title={'center': 'CreditScore'}>,\n",
       "        <Axes: title={'center': 'Age'}>],\n",
       "       [<Axes: title={'center': 'Tenure'}>,\n",
       "        <Axes: title={'center': 'Balance'}>,\n",
       "        <Axes: title={'center': 'NumOfProducts'}>],\n",
       "       [<Axes: title={'center': 'HasCrCard'}>,\n",
       "        <Axes: title={'center': 'IsActiveMember'}>,\n",
       "        <Axes: title={'center': 'EstimatedSalary'}>],\n",
       "       [<Axes: title={'center': 'Exited'}>, <Axes: >, <Axes: >]],\n",
       "      dtype=object)"
      ]
     },
     "execution_count": 11,
     "metadata": {},
     "output_type": "execute_result"
    },
    {
     "data": {
      "image/png": "[encoded data removed]",
      "text/plain": [
       "<Figure size 1000x1000 with 12 Axes>"
      ]
     },
     "metadata": {},
     "output_type": "display_data"
    }
   ],
   "source": [
    "df_train.hist(figsize=(10,10), bins=50)"
   ]
  },
  {
   "cell_type": "code",
   "execution_count": 12,
   "id": "872a9fa6",
   "metadata": {
    "execution": {
     "iopub.execute_input": "2024-01-12T22:40:41.443689Z",
     "iopub.status.busy": "2024-01-12T22:40:41.442287Z",
     "iopub.status.idle": "2024-01-12T22:40:41.868211Z",
     "shell.execute_reply": "2024-01-12T22:40:41.866294Z"
    },
    "papermill": {
     "duration": 0.454531,
     "end_time": "2024-01-12T22:40:41.871365",
     "exception": false,
     "start_time": "2024-01-12T22:40:41.416834",
     "status": "completed"
    },
    "tags": []
   },
   "outputs": [
    {
     "data": {
      "text/plain": [
       "<Axes: xlabel='Gender', ylabel='count'>"
      ]
     },
     "execution_count": 12,
     "metadata": {},
     "output_type": "execute_result"
    },
    {
     "data": {
      "image/png": "[encoded data removed]",
      "text/plain": [
       "<Figure size 640x480 with 1 Axes>"
      ]
     },
     "metadata": {},
     "output_type": "display_data"
    }
   ],
   "source": [
    "# let's check the categorical variables as well\n",
    "sns.countplot(x='Gender', data=df_train)"
   ]
  },
  {
   "cell_type": "code",
   "execution_count": 13,
   "id": "03cb00a9",
   "metadata": {
    "execution": {
     "iopub.execute_input": "2024-01-12T22:40:41.919153Z",
     "iopub.status.busy": "2024-01-12T22:40:41.918741Z",
     "iopub.status.idle": "2024-01-12T22:40:42.364151Z",
     "shell.execute_reply": "2024-01-12T22:40:42.362251Z"
    },
    "papermill": {
     "duration": 0.473092,
     "end_time": "2024-01-12T22:40:42.367550",
     "exception": false,
     "start_time": "2024-01-12T22:40:41.894458",
     "status": "completed"
    },
    "tags": []
   },
   "outputs": [
    {
     "data": {
      "text/plain": [
       "<Axes: xlabel='Geography', ylabel='count'>"
      ]
     },
     "execution_count": 13,
     "metadata": {},
     "output_type": "execute_result"
    },
    {
     "data": {
      "image/png": "[encoded data removed]",
      "text/plain": [
       "<Figure size 640x480 with 1 Axes>"
      ]
     },
     "metadata": {},
     "output_type": "display_data"
    }
   ],
   "source": [
    "sns.countplot(x=\"Geography\",data=df_train)"
   ]
  },
  {
   "cell_type": "code",
   "execution_count": 14,
   "id": "faa21f6a",
   "metadata": {
    "execution": {
     "iopub.execute_input": "2024-01-12T22:40:42.421726Z",
     "iopub.status.busy": "2024-01-12T22:40:42.421273Z",
     "iopub.status.idle": "2024-01-12T22:40:42.436474Z",
     "shell.execute_reply": "2024-01-12T22:40:42.434279Z"
    },
    "papermill": {
     "duration": 0.045754,
     "end_time": "2024-01-12T22:40:42.439953",
     "exception": false,
     "start_time": "2024-01-12T22:40:42.394199",
     "status": "completed"
    },
    "tags": []
   },
   "outputs": [
    {
     "data": {
      "text/plain": [
       "(34921, 130113)"
      ]
     },
     "execution_count": 14,
     "metadata": {},
     "output_type": "execute_result"
    }
   ],
   "source": [
    "minority_class, majority_class=(df_train[\"Exited\"].value_counts().iloc[1],df_train[\"Exited\"].value_counts().iloc[0])\n",
    "minority_class,majority_class"
   ]
  },
  {
   "cell_type": "code",
   "execution_count": 15,
   "id": "02692bbc",
   "metadata": {
    "execution": {
     "iopub.execute_input": "2024-01-12T22:40:42.492447Z",
     "iopub.status.busy": "2024-01-12T22:40:42.491537Z",
     "iopub.status.idle": "2024-01-12T22:40:42.499699Z",
     "shell.execute_reply": "2024-01-12T22:40:42.498575Z"
    },
    "papermill": {
     "duration": 0.037503,
     "end_time": "2024-01-12T22:40:42.502116",
     "exception": false,
     "start_time": "2024-01-12T22:40:42.464613",
     "status": "completed"
    },
    "tags": []
   },
   "outputs": [
    {
     "data": {
      "text/plain": [
       "0.21159882206090866"
      ]
     },
     "execution_count": 15,
     "metadata": {},
     "output_type": "execute_result"
    }
   ],
   "source": [
    "imbalance=minority_class/(minority_class+majority_class)\n",
    "imbalance"
   ]
  },
  {
   "cell_type": "markdown",
   "id": "cd74c5eb",
   "metadata": {
    "papermill": {
     "duration": 0.024438,
     "end_time": "2024-01-12T22:40:42.552022",
     "exception": false,
     "start_time": "2024-01-12T22:40:42.527584",
     "status": "completed"
    },
    "tags": []
   },
   "source": [
    "#### We can clearly see that the minority class represents ~ 21% of the dataset.\n",
    "#### This is not a severe imbalance but still it is an imbalance we should keep in mind.\n",
    "#### Additionally, we also note that \"Balance\" has a lot of zeros and then a normal looking distribution. We also see that the \"NumOfProds\" has very less 3 and 4"
   ]
  },
  {
   "cell_type": "code",
   "execution_count": 16,
   "id": "0401006b",
   "metadata": {
    "execution": {
     "iopub.execute_input": "2024-01-12T22:40:42.603778Z",
     "iopub.status.busy": "2024-01-12T22:40:42.603318Z",
     "iopub.status.idle": "2024-01-12T22:40:43.179154Z",
     "shell.execute_reply": "2024-01-12T22:40:43.177613Z"
    },
    "papermill": {
     "duration": 0.604237,
     "end_time": "2024-01-12T22:40:43.182374",
     "exception": false,
     "start_time": "2024-01-12T22:40:42.578137",
     "status": "completed"
    },
    "tags": []
   },
   "outputs": [
    {
     "data": {
      "text/plain": [
       "<Axes: >"
      ]
     },
     "execution_count": 16,
     "metadata": {},
     "output_type": "execute_result"
    },
    {
     "data": {
      "image/png": "[encoded data removed]",
      "text/plain": [
       "<Figure size 500x300 with 1 Axes>"
      ]
     },
     "metadata": {},
     "output_type": "display_data"
    }
   ],
   "source": [
    "df_train[\"Balance\"][df_train[\"Balance\"]!=0].hist(figsize=(5,3),bins=100)"
   ]
  },
  {
   "cell_type": "markdown",
   "id": "83dd4bb2",
   "metadata": {
    "papermill": {
     "duration": 0.024118,
     "end_time": "2024-01-12T22:40:43.231392",
     "exception": false,
     "start_time": "2024-01-12T22:40:43.207274",
     "status": "completed"
    },
    "tags": []
   },
   "source": [
    "#### Keeping the above in mind we will engineer a binary variable which will indicate whether \"Balances\" ==0"
   ]
  },
  {
   "cell_type": "markdown",
   "id": "e9060393",
   "metadata": {
    "papermill": {
     "duration": 0.024617,
     "end_time": "2024-01-12T22:40:43.281022",
     "exception": false,
     "start_time": "2024-01-12T22:40:43.256405",
     "status": "completed"
    },
    "tags": []
   },
   "source": [
    "### Let us recap some of our understanding of the data before we go on to engineer some features\n",
    "1. No null values\n",
    "2. No outliers\n",
    "3. Create binary for \"Balance\"\n",
    "4. We will create a new feature by creating \"NumOfProducts\"=2,3, or 4"
   ]
  },
  {
   "cell_type": "markdown",
   "id": "4a255bc8",
   "metadata": {
    "papermill": {
     "duration": 0.023332,
     "end_time": "2024-01-12T22:40:43.329457",
     "exception": false,
     "start_time": "2024-01-12T22:40:43.306125",
     "status": "completed"
    },
    "tags": []
   },
   "source": [
    "### Feature Engineering"
   ]
  },
  {
   "cell_type": "code",
   "execution_count": 17,
   "id": "63374af5",
   "metadata": {
    "execution": {
     "iopub.execute_input": "2024-01-12T22:40:43.378960Z",
     "iopub.status.busy": "2024-01-12T22:40:43.378229Z",
     "iopub.status.idle": "2024-01-12T22:40:43.404659Z",
     "shell.execute_reply": "2024-01-12T22:40:43.403441Z"
    },
    "papermill": {
     "duration": 0.05447,
     "end_time": "2024-01-12T22:40:43.407341",
     "exception": false,
     "start_time": "2024-01-12T22:40:43.352871",
     "status": "completed"
    },
    "tags": []
   },
   "outputs": [
    {
     "data": {
      "text/html": [
       "<div>\n",
       "<style scoped>\n",
       "    .dataframe tbody tr th:only-of-type {\n",
       "        vertical-align: middle;\n",
       "    }\n",
       "\n",
       "    .dataframe tbody tr th {\n",
       "        vertical-align: top;\n",
       "    }\n",
       "\n",
       "    .dataframe thead th {\n",
       "        text-align: right;\n",
       "    }\n",
       "</style>\n",
       "<table border=\"1\" class=\"dataframe\">\n",
       "  <thead>\n",
       "    <tr style=\"text-align: right;\">\n",
       "      <th></th>\n",
       "      <th>CustomerId</th>\n",
       "      <th>Surname</th>\n",
       "      <th>CreditScore</th>\n",
       "      <th>Geography</th>\n",
       "      <th>Gender</th>\n",
       "      <th>Age</th>\n",
       "      <th>Tenure</th>\n",
       "      <th>Balance</th>\n",
       "      <th>NumOfProducts</th>\n",
       "      <th>HasCrCard</th>\n",
       "      <th>IsActiveMember</th>\n",
       "      <th>EstimatedSalary</th>\n",
       "      <th>Exited</th>\n",
       "      <th>x_Balance</th>\n",
       "    </tr>\n",
       "    <tr>\n",
       "      <th>id</th>\n",
       "      <th></th>\n",
       "      <th></th>\n",
       "      <th></th>\n",
       "      <th></th>\n",
       "      <th></th>\n",
       "      <th></th>\n",
       "      <th></th>\n",
       "      <th></th>\n",
       "      <th></th>\n",
       "      <th></th>\n",
       "      <th></th>\n",
       "      <th></th>\n",
       "      <th></th>\n",
       "      <th></th>\n",
       "    </tr>\n",
       "  </thead>\n",
       "  <tbody>\n",
       "    <tr>\n",
       "      <th>0</th>\n",
       "      <td>15674932</td>\n",
       "      <td>Okwudilichukwu</td>\n",
       "      <td>668</td>\n",
       "      <td>France</td>\n",
       "      <td>Male</td>\n",
       "      <td>33.0</td>\n",
       "      <td>3</td>\n",
       "      <td>0.00</td>\n",
       "      <td>2</td>\n",
       "      <td>1.0</td>\n",
       "      <td>0.0</td>\n",
       "      <td>181449.97</td>\n",
       "      <td>0</td>\n",
       "      <td>0</td>\n",
       "    </tr>\n",
       "    <tr>\n",
       "      <th>1</th>\n",
       "      <td>15749177</td>\n",
       "      <td>Okwudiliolisa</td>\n",
       "      <td>627</td>\n",
       "      <td>France</td>\n",
       "      <td>Male</td>\n",
       "      <td>33.0</td>\n",
       "      <td>1</td>\n",
       "      <td>0.00</td>\n",
       "      <td>2</td>\n",
       "      <td>1.0</td>\n",
       "      <td>1.0</td>\n",
       "      <td>49503.50</td>\n",
       "      <td>0</td>\n",
       "      <td>0</td>\n",
       "    </tr>\n",
       "    <tr>\n",
       "      <th>2</th>\n",
       "      <td>15694510</td>\n",
       "      <td>Hsueh</td>\n",
       "      <td>678</td>\n",
       "      <td>France</td>\n",
       "      <td>Male</td>\n",
       "      <td>40.0</td>\n",
       "      <td>10</td>\n",
       "      <td>0.00</td>\n",
       "      <td>2</td>\n",
       "      <td>1.0</td>\n",
       "      <td>0.0</td>\n",
       "      <td>184866.69</td>\n",
       "      <td>0</td>\n",
       "      <td>0</td>\n",
       "    </tr>\n",
       "    <tr>\n",
       "      <th>3</th>\n",
       "      <td>15741417</td>\n",
       "      <td>Kao</td>\n",
       "      <td>581</td>\n",
       "      <td>France</td>\n",
       "      <td>Male</td>\n",
       "      <td>34.0</td>\n",
       "      <td>2</td>\n",
       "      <td>148882.54</td>\n",
       "      <td>1</td>\n",
       "      <td>1.0</td>\n",
       "      <td>1.0</td>\n",
       "      <td>84560.88</td>\n",
       "      <td>0</td>\n",
       "      <td>1</td>\n",
       "    </tr>\n",
       "    <tr>\n",
       "      <th>4</th>\n",
       "      <td>15766172</td>\n",
       "      <td>Chiemenam</td>\n",
       "      <td>716</td>\n",
       "      <td>Spain</td>\n",
       "      <td>Male</td>\n",
       "      <td>33.0</td>\n",
       "      <td>5</td>\n",
       "      <td>0.00</td>\n",
       "      <td>2</td>\n",
       "      <td>1.0</td>\n",
       "      <td>1.0</td>\n",
       "      <td>15068.83</td>\n",
       "      <td>0</td>\n",
       "      <td>0</td>\n",
       "    </tr>\n",
       "  </tbody>\n",
       "</table>\n",
       "</div>"
      ],
      "text/plain": [
       "    CustomerId         Surname  CreditScore Geography Gender   Age  Tenure  \\\n",
       "id                                                                           \n",
       "0     15674932  Okwudilichukwu          668    France   Male  33.0       3   \n",
       "1     15749177   Okwudiliolisa          627    France   Male  33.0       1   \n",
       "2     15694510           Hsueh          678    France   Male  40.0      10   \n",
       "3     15741417             Kao          581    France   Male  34.0       2   \n",
       "4     15766172       Chiemenam          716     Spain   Male  33.0       5   \n",
       "\n",
       "      Balance  NumOfProducts  HasCrCard  IsActiveMember  EstimatedSalary  \\\n",
       "id                                                                         \n",
       "0        0.00              2        1.0             0.0        181449.97   \n",
       "1        0.00              2        1.0             1.0         49503.50   \n",
       "2        0.00              2        1.0             0.0        184866.69   \n",
       "3   148882.54              1        1.0             1.0         84560.88   \n",
       "4        0.00              2        1.0             1.0         15068.83   \n",
       "\n",
       "    Exited  x_Balance  \n",
       "id                     \n",
       "0        0          0  \n",
       "1        0          0  \n",
       "2        0          0  \n",
       "3        0          1  \n",
       "4        0          0  "
      ]
     },
     "execution_count": 17,
     "metadata": {},
     "output_type": "execute_result"
    }
   ],
   "source": [
    "df_train[\"x_Balance\"]=0\n",
    "df_train.loc[df_train[\"Balance\"]!=0,\"x_Balance\"]=1\n",
    "df_train.head()"
   ]
  },
  {
   "cell_type": "code",
   "execution_count": 18,
   "id": "c46555ab",
   "metadata": {
    "execution": {
     "iopub.execute_input": "2024-01-12T22:40:43.459107Z",
     "iopub.status.busy": "2024-01-12T22:40:43.458044Z",
     "iopub.status.idle": "2024-01-12T22:40:43.472174Z",
     "shell.execute_reply": "2024-01-12T22:40:43.470465Z"
    },
    "papermill": {
     "duration": 0.043623,
     "end_time": "2024-01-12T22:40:43.474833",
     "exception": false,
     "start_time": "2024-01-12T22:40:43.431210",
     "status": "completed"
    },
    "tags": []
   },
   "outputs": [
    {
     "data": {
      "text/plain": [
       "NumOfProducts\n",
       "2    84291\n",
       "1    77374\n",
       "3     2894\n",
       "4      475\n",
       "Name: count, dtype: int64"
      ]
     },
     "execution_count": 18,
     "metadata": {},
     "output_type": "execute_result"
    }
   ],
   "source": [
    "df_train[\"NumOfProducts\"].value_counts()"
   ]
  },
  {
   "cell_type": "code",
   "execution_count": 19,
   "id": "d2d87ffb",
   "metadata": {
    "execution": {
     "iopub.execute_input": "2024-01-12T22:40:43.527808Z",
     "iopub.status.busy": "2024-01-12T22:40:43.526717Z",
     "iopub.status.idle": "2024-01-12T22:40:43.570659Z",
     "shell.execute_reply": "2024-01-12T22:40:43.569351Z"
    },
    "papermill": {
     "duration": 0.071329,
     "end_time": "2024-01-12T22:40:43.573338",
     "exception": false,
     "start_time": "2024-01-12T22:40:43.502009",
     "status": "completed"
    },
    "tags": []
   },
   "outputs": [
    {
     "data": {
      "text/html": [
       "<div>\n",
       "<style scoped>\n",
       "    .dataframe tbody tr th:only-of-type {\n",
       "        vertical-align: middle;\n",
       "    }\n",
       "\n",
       "    .dataframe tbody tr th {\n",
       "        vertical-align: top;\n",
       "    }\n",
       "\n",
       "    .dataframe thead th {\n",
       "        text-align: right;\n",
       "    }\n",
       "</style>\n",
       "<table border=\"1\" class=\"dataframe\">\n",
       "  <thead>\n",
       "    <tr style=\"text-align: right;\">\n",
       "      <th></th>\n",
       "      <th>CustomerId</th>\n",
       "      <th>Surname</th>\n",
       "      <th>CreditScore</th>\n",
       "      <th>Geography</th>\n",
       "      <th>Gender</th>\n",
       "      <th>Age</th>\n",
       "      <th>Tenure</th>\n",
       "      <th>Balance</th>\n",
       "      <th>NumOfProducts</th>\n",
       "      <th>HasCrCard</th>\n",
       "      <th>IsActiveMember</th>\n",
       "      <th>EstimatedSalary</th>\n",
       "      <th>Exited</th>\n",
       "      <th>x_Balance</th>\n",
       "      <th>NumOfProdBins</th>\n",
       "    </tr>\n",
       "    <tr>\n",
       "      <th>id</th>\n",
       "      <th></th>\n",
       "      <th></th>\n",
       "      <th></th>\n",
       "      <th></th>\n",
       "      <th></th>\n",
       "      <th></th>\n",
       "      <th></th>\n",
       "      <th></th>\n",
       "      <th></th>\n",
       "      <th></th>\n",
       "      <th></th>\n",
       "      <th></th>\n",
       "      <th></th>\n",
       "      <th></th>\n",
       "      <th></th>\n",
       "    </tr>\n",
       "  </thead>\n",
       "  <tbody>\n",
       "    <tr>\n",
       "      <th>0</th>\n",
       "      <td>15674932</td>\n",
       "      <td>Okwudilichukwu</td>\n",
       "      <td>668</td>\n",
       "      <td>France</td>\n",
       "      <td>Male</td>\n",
       "      <td>33.0</td>\n",
       "      <td>3</td>\n",
       "      <td>0.00</td>\n",
       "      <td>2</td>\n",
       "      <td>1.0</td>\n",
       "      <td>0.0</td>\n",
       "      <td>181449.97</td>\n",
       "      <td>0</td>\n",
       "      <td>0</td>\n",
       "      <td>2-4</td>\n",
       "    </tr>\n",
       "    <tr>\n",
       "      <th>1</th>\n",
       "      <td>15749177</td>\n",
       "      <td>Okwudiliolisa</td>\n",
       "      <td>627</td>\n",
       "      <td>France</td>\n",
       "      <td>Male</td>\n",
       "      <td>33.0</td>\n",
       "      <td>1</td>\n",
       "      <td>0.00</td>\n",
       "      <td>2</td>\n",
       "      <td>1.0</td>\n",
       "      <td>1.0</td>\n",
       "      <td>49503.50</td>\n",
       "      <td>0</td>\n",
       "      <td>0</td>\n",
       "      <td>2-4</td>\n",
       "    </tr>\n",
       "    <tr>\n",
       "      <th>2</th>\n",
       "      <td>15694510</td>\n",
       "      <td>Hsueh</td>\n",
       "      <td>678</td>\n",
       "      <td>France</td>\n",
       "      <td>Male</td>\n",
       "      <td>40.0</td>\n",
       "      <td>10</td>\n",
       "      <td>0.00</td>\n",
       "      <td>2</td>\n",
       "      <td>1.0</td>\n",
       "      <td>0.0</td>\n",
       "      <td>184866.69</td>\n",
       "      <td>0</td>\n",
       "      <td>0</td>\n",
       "      <td>2-4</td>\n",
       "    </tr>\n",
       "    <tr>\n",
       "      <th>3</th>\n",
       "      <td>15741417</td>\n",
       "      <td>Kao</td>\n",
       "      <td>581</td>\n",
       "      <td>France</td>\n",
       "      <td>Male</td>\n",
       "      <td>34.0</td>\n",
       "      <td>2</td>\n",
       "      <td>148882.54</td>\n",
       "      <td>1</td>\n",
       "      <td>1.0</td>\n",
       "      <td>1.0</td>\n",
       "      <td>84560.88</td>\n",
       "      <td>0</td>\n",
       "      <td>1</td>\n",
       "      <td>1</td>\n",
       "    </tr>\n",
       "    <tr>\n",
       "      <th>4</th>\n",
       "      <td>15766172</td>\n",
       "      <td>Chiemenam</td>\n",
       "      <td>716</td>\n",
       "      <td>Spain</td>\n",
       "      <td>Male</td>\n",
       "      <td>33.0</td>\n",
       "      <td>5</td>\n",
       "      <td>0.00</td>\n",
       "      <td>2</td>\n",
       "      <td>1.0</td>\n",
       "      <td>1.0</td>\n",
       "      <td>15068.83</td>\n",
       "      <td>0</td>\n",
       "      <td>0</td>\n",
       "      <td>2-4</td>\n",
       "    </tr>\n",
       "  </tbody>\n",
       "</table>\n",
       "</div>"
      ],
      "text/plain": [
       "    CustomerId         Surname  CreditScore Geography Gender   Age  Tenure  \\\n",
       "id                                                                           \n",
       "0     15674932  Okwudilichukwu          668    France   Male  33.0       3   \n",
       "1     15749177   Okwudiliolisa          627    France   Male  33.0       1   \n",
       "2     15694510           Hsueh          678    France   Male  40.0      10   \n",
       "3     15741417             Kao          581    France   Male  34.0       2   \n",
       "4     15766172       Chiemenam          716     Spain   Male  33.0       5   \n",
       "\n",
       "      Balance  NumOfProducts  HasCrCard  IsActiveMember  EstimatedSalary  \\\n",
       "id                                                                         \n",
       "0        0.00              2        1.0             0.0        181449.97   \n",
       "1        0.00              2        1.0             1.0         49503.50   \n",
       "2        0.00              2        1.0             0.0        184866.69   \n",
       "3   148882.54              1        1.0             1.0         84560.88   \n",
       "4        0.00              2        1.0             1.0         15068.83   \n",
       "\n",
       "    Exited  x_Balance NumOfProdBins  \n",
       "id                                   \n",
       "0        0          0           2-4  \n",
       "1        0          0           2-4  \n",
       "2        0          0           2-4  \n",
       "3        0          1             1  \n",
       "4        0          0           2-4  "
      ]
     },
     "execution_count": 19,
     "metadata": {},
     "output_type": "execute_result"
    }
   ],
   "source": [
    "# we will merge the 3s and 4s as they are very sparse\n",
    "df_train[\"NumOfProdBins\"] = np.where(df_train[\"NumOfProducts\"] == 1, \"1\", \"2-4\")\n",
    "df_train.head()"
   ]
  },
  {
   "cell_type": "markdown",
   "id": "27bbc47d",
   "metadata": {
    "papermill": {
     "duration": 0.023725,
     "end_time": "2024-01-12T22:40:43.621192",
     "exception": false,
     "start_time": "2024-01-12T22:40:43.597467",
     "status": "completed"
    },
    "tags": []
   },
   "source": [
    "#### Next we will do the one hot encoding of all the categorical variables"
   ]
  },
  {
   "cell_type": "code",
   "execution_count": 20,
   "id": "fbeb06d6",
   "metadata": {
    "execution": {
     "iopub.execute_input": "2024-01-12T22:40:43.671413Z",
     "iopub.status.busy": "2024-01-12T22:40:43.670970Z",
     "iopub.status.idle": "2024-01-12T22:40:43.675835Z",
     "shell.execute_reply": "2024-01-12T22:40:43.674572Z"
    },
    "papermill": {
     "duration": 0.033353,
     "end_time": "2024-01-12T22:40:43.678634",
     "exception": false,
     "start_time": "2024-01-12T22:40:43.645281",
     "status": "completed"
    },
    "tags": []
   },
   "outputs": [],
   "source": [
    "cols_to_encode=[\"Geography\",\"Gender\",\"NumOfProdBins\"]"
   ]
  },
  {
   "cell_type": "code",
   "execution_count": 21,
   "id": "84610ab4",
   "metadata": {
    "execution": {
     "iopub.execute_input": "2024-01-12T22:40:43.729045Z",
     "iopub.status.busy": "2024-01-12T22:40:43.728646Z",
     "iopub.status.idle": "2024-01-12T22:40:43.862438Z",
     "shell.execute_reply": "2024-01-12T22:40:43.861502Z"
    },
    "papermill": {
     "duration": 0.161158,
     "end_time": "2024-01-12T22:40:43.864814",
     "exception": false,
     "start_time": "2024-01-12T22:40:43.703656",
     "status": "completed"
    },
    "tags": []
   },
   "outputs": [
    {
     "data": {
      "text/html": [
       "<div>\n",
       "<style scoped>\n",
       "    .dataframe tbody tr th:only-of-type {\n",
       "        vertical-align: middle;\n",
       "    }\n",
       "\n",
       "    .dataframe tbody tr th {\n",
       "        vertical-align: top;\n",
       "    }\n",
       "\n",
       "    .dataframe thead th {\n",
       "        text-align: right;\n",
       "    }\n",
       "</style>\n",
       "<table border=\"1\" class=\"dataframe\">\n",
       "  <thead>\n",
       "    <tr style=\"text-align: right;\">\n",
       "      <th></th>\n",
       "      <th>CustomerId</th>\n",
       "      <th>Surname</th>\n",
       "      <th>CreditScore</th>\n",
       "      <th>Age</th>\n",
       "      <th>Tenure</th>\n",
       "      <th>Balance</th>\n",
       "      <th>NumOfProducts</th>\n",
       "      <th>HasCrCard</th>\n",
       "      <th>IsActiveMember</th>\n",
       "      <th>EstimatedSalary</th>\n",
       "      <th>Exited</th>\n",
       "      <th>x_Balance</th>\n",
       "      <th>Geography_France</th>\n",
       "      <th>Geography_Germany</th>\n",
       "      <th>Geography_Spain</th>\n",
       "      <th>Gender_Female</th>\n",
       "      <th>Gender_Male</th>\n",
       "      <th>NumOfProdBins_1</th>\n",
       "      <th>NumOfProdBins_2-4</th>\n",
       "    </tr>\n",
       "    <tr>\n",
       "      <th>id</th>\n",
       "      <th></th>\n",
       "      <th></th>\n",
       "      <th></th>\n",
       "      <th></th>\n",
       "      <th></th>\n",
       "      <th></th>\n",
       "      <th></th>\n",
       "      <th></th>\n",
       "      <th></th>\n",
       "      <th></th>\n",
       "      <th></th>\n",
       "      <th></th>\n",
       "      <th></th>\n",
       "      <th></th>\n",
       "      <th></th>\n",
       "      <th></th>\n",
       "      <th></th>\n",
       "      <th></th>\n",
       "      <th></th>\n",
       "    </tr>\n",
       "  </thead>\n",
       "  <tbody>\n",
       "    <tr>\n",
       "      <th>0</th>\n",
       "      <td>15674932</td>\n",
       "      <td>Okwudilichukwu</td>\n",
       "      <td>668</td>\n",
       "      <td>33.0</td>\n",
       "      <td>3</td>\n",
       "      <td>0.00</td>\n",
       "      <td>2</td>\n",
       "      <td>1.0</td>\n",
       "      <td>0.0</td>\n",
       "      <td>181449.97</td>\n",
       "      <td>0</td>\n",
       "      <td>0</td>\n",
       "      <td>1</td>\n",
       "      <td>0</td>\n",
       "      <td>0</td>\n",
       "      <td>0</td>\n",
       "      <td>1</td>\n",
       "      <td>0</td>\n",
       "      <td>1</td>\n",
       "    </tr>\n",
       "    <tr>\n",
       "      <th>1</th>\n",
       "      <td>15749177</td>\n",
       "      <td>Okwudiliolisa</td>\n",
       "      <td>627</td>\n",
       "      <td>33.0</td>\n",
       "      <td>1</td>\n",
       "      <td>0.00</td>\n",
       "      <td>2</td>\n",
       "      <td>1.0</td>\n",
       "      <td>1.0</td>\n",
       "      <td>49503.50</td>\n",
       "      <td>0</td>\n",
       "      <td>0</td>\n",
       "      <td>1</td>\n",
       "      <td>0</td>\n",
       "      <td>0</td>\n",
       "      <td>0</td>\n",
       "      <td>1</td>\n",
       "      <td>0</td>\n",
       "      <td>1</td>\n",
       "    </tr>\n",
       "    <tr>\n",
       "      <th>2</th>\n",
       "      <td>15694510</td>\n",
       "      <td>Hsueh</td>\n",
       "      <td>678</td>\n",
       "      <td>40.0</td>\n",
       "      <td>10</td>\n",
       "      <td>0.00</td>\n",
       "      <td>2</td>\n",
       "      <td>1.0</td>\n",
       "      <td>0.0</td>\n",
       "      <td>184866.69</td>\n",
       "      <td>0</td>\n",
       "      <td>0</td>\n",
       "      <td>1</td>\n",
       "      <td>0</td>\n",
       "      <td>0</td>\n",
       "      <td>0</td>\n",
       "      <td>1</td>\n",
       "      <td>0</td>\n",
       "      <td>1</td>\n",
       "    </tr>\n",
       "    <tr>\n",
       "      <th>3</th>\n",
       "      <td>15741417</td>\n",
       "      <td>Kao</td>\n",
       "      <td>581</td>\n",
       "      <td>34.0</td>\n",
       "      <td>2</td>\n",
       "      <td>148882.54</td>\n",
       "      <td>1</td>\n",
       "      <td>1.0</td>\n",
       "      <td>1.0</td>\n",
       "      <td>84560.88</td>\n",
       "      <td>0</td>\n",
       "      <td>1</td>\n",
       "      <td>1</td>\n",
       "      <td>0</td>\n",
       "      <td>0</td>\n",
       "      <td>0</td>\n",
       "      <td>1</td>\n",
       "      <td>1</td>\n",
       "      <td>0</td>\n",
       "    </tr>\n",
       "    <tr>\n",
       "      <th>4</th>\n",
       "      <td>15766172</td>\n",
       "      <td>Chiemenam</td>\n",
       "      <td>716</td>\n",
       "      <td>33.0</td>\n",
       "      <td>5</td>\n",
       "      <td>0.00</td>\n",
       "      <td>2</td>\n",
       "      <td>1.0</td>\n",
       "      <td>1.0</td>\n",
       "      <td>15068.83</td>\n",
       "      <td>0</td>\n",
       "      <td>0</td>\n",
       "      <td>0</td>\n",
       "      <td>0</td>\n",
       "      <td>1</td>\n",
       "      <td>0</td>\n",
       "      <td>1</td>\n",
       "      <td>0</td>\n",
       "      <td>1</td>\n",
       "    </tr>\n",
       "  </tbody>\n",
       "</table>\n",
       "</div>"
      ],
      "text/plain": [
       "    CustomerId         Surname  CreditScore   Age  Tenure    Balance  \\\n",
       "id                                                                     \n",
       "0     15674932  Okwudilichukwu          668  33.0       3       0.00   \n",
       "1     15749177   Okwudiliolisa          627  33.0       1       0.00   \n",
       "2     15694510           Hsueh          678  40.0      10       0.00   \n",
       "3     15741417             Kao          581  34.0       2  148882.54   \n",
       "4     15766172       Chiemenam          716  33.0       5       0.00   \n",
       "\n",
       "    NumOfProducts  HasCrCard  IsActiveMember  EstimatedSalary  Exited  \\\n",
       "id                                                                      \n",
       "0               2        1.0             0.0        181449.97       0   \n",
       "1               2        1.0             1.0         49503.50       0   \n",
       "2               2        1.0             0.0        184866.69       0   \n",
       "3               1        1.0             1.0         84560.88       0   \n",
       "4               2        1.0             1.0         15068.83       0   \n",
       "\n",
       "    x_Balance  Geography_France  Geography_Germany  Geography_Spain  \\\n",
       "id                                                                    \n",
       "0           0                 1                  0                0   \n",
       "1           0                 1                  0                0   \n",
       "2           0                 1                  0                0   \n",
       "3           1                 1                  0                0   \n",
       "4           0                 0                  0                1   \n",
       "\n",
       "    Gender_Female  Gender_Male  NumOfProdBins_1  NumOfProdBins_2-4  \n",
       "id                                                                  \n",
       "0               0            1                0                  1  \n",
       "1               0            1                0                  1  \n",
       "2               0            1                0                  1  \n",
       "3               0            1                1                  0  \n",
       "4               0            1                0                  1  "
      ]
     },
     "execution_count": 21,
     "metadata": {},
     "output_type": "execute_result"
    }
   ],
   "source": [
    "df_train=pd.get_dummies(df_train, columns=cols_to_encode,dtype=int)\n",
    "df_train.head()"
   ]
  },
  {
   "cell_type": "raw",
   "id": "3200eb2d",
   "metadata": {
    "papermill": {
     "duration": 0.025044,
     "end_time": "2024-01-12T22:40:43.917927",
     "exception": false,
     "start_time": "2024-01-12T22:40:43.892883",
     "status": "completed"
    },
    "tags": []
   },
   "source": []
  },
  {
   "cell_type": "markdown",
   "id": "6d708452",
   "metadata": {
    "papermill": {
     "duration": 0.025909,
     "end_time": "2024-01-12T22:40:43.969842",
     "exception": false,
     "start_time": "2024-01-12T22:40:43.943933",
     "status": "completed"
    },
    "tags": []
   },
   "source": [
    "### We will use both undersampling and SMOTE methods to reduce the data imbalance"
   ]
  },
  {
   "cell_type": "code",
   "execution_count": 22,
   "id": "273cb45c",
   "metadata": {
    "execution": {
     "iopub.execute_input": "2024-01-12T22:40:44.023370Z",
     "iopub.status.busy": "2024-01-12T22:40:44.022588Z",
     "iopub.status.idle": "2024-01-12T22:40:44.777325Z",
     "shell.execute_reply": "2024-01-12T22:40:44.775976Z"
    },
    "papermill": {
     "duration": 0.785506,
     "end_time": "2024-01-12T22:40:44.780652",
     "exception": false,
     "start_time": "2024-01-12T22:40:43.995146",
     "status": "completed"
    },
    "tags": []
   },
   "outputs": [],
   "source": [
    "# importing libraries to perform statistical analysis\n",
    "from sklearn.model_selection import train_test_split\n",
    "from imblearn.over_sampling import SMOTE\n",
    "from imblearn.under_sampling import RandomUnderSampler\n",
    "from sklearn.metrics import classification_report, confusion_matrix, accuracy_score\n",
    "from sklearn.linear_model import LogisticRegression\n",
    "from sklearn.ensemble import RandomForestClassifier\n",
    "from sklearn.metrics import roc_auc_score, roc_curve\n",
    "from sklearn.metrics import precision_score, recall_score"
   ]
  },
  {
   "cell_type": "code",
   "execution_count": 23,
   "id": "92d19b68",
   "metadata": {
    "execution": {
     "iopub.execute_input": "2024-01-12T22:40:44.832679Z",
     "iopub.status.busy": "2024-01-12T22:40:44.831991Z",
     "iopub.status.idle": "2024-01-12T22:40:44.850554Z",
     "shell.execute_reply": "2024-01-12T22:40:44.849291Z"
    },
    "papermill": {
     "duration": 0.047288,
     "end_time": "2024-01-12T22:40:44.853215",
     "exception": false,
     "start_time": "2024-01-12T22:40:44.805927",
     "status": "completed"
    },
    "tags": []
   },
   "outputs": [],
   "source": [
    "X_train = df_train.drop('Exited', axis=1) \n",
    "y_train = df_train['Exited']"
   ]
  },
  {
   "cell_type": "code",
   "execution_count": 24,
   "id": "9a49c621",
   "metadata": {
    "execution": {
     "iopub.execute_input": "2024-01-12T22:40:44.906610Z",
     "iopub.status.busy": "2024-01-12T22:40:44.906114Z",
     "iopub.status.idle": "2024-01-12T22:40:44.930025Z",
     "shell.execute_reply": "2024-01-12T22:40:44.928774Z"
    },
    "papermill": {
     "duration": 0.053492,
     "end_time": "2024-01-12T22:40:44.932896",
     "exception": false,
     "start_time": "2024-01-12T22:40:44.879404",
     "status": "completed"
    },
    "tags": []
   },
   "outputs": [
    {
     "data": {
      "text/html": [
       "<div>\n",
       "<style scoped>\n",
       "    .dataframe tbody tr th:only-of-type {\n",
       "        vertical-align: middle;\n",
       "    }\n",
       "\n",
       "    .dataframe tbody tr th {\n",
       "        vertical-align: top;\n",
       "    }\n",
       "\n",
       "    .dataframe thead th {\n",
       "        text-align: right;\n",
       "    }\n",
       "</style>\n",
       "<table border=\"1\" class=\"dataframe\">\n",
       "  <thead>\n",
       "    <tr style=\"text-align: right;\">\n",
       "      <th></th>\n",
       "      <th>CustomerId</th>\n",
       "      <th>Surname</th>\n",
       "      <th>CreditScore</th>\n",
       "      <th>Age</th>\n",
       "      <th>Tenure</th>\n",
       "      <th>Balance</th>\n",
       "      <th>NumOfProducts</th>\n",
       "      <th>HasCrCard</th>\n",
       "      <th>IsActiveMember</th>\n",
       "      <th>EstimatedSalary</th>\n",
       "      <th>x_Balance</th>\n",
       "      <th>Geography_France</th>\n",
       "      <th>Geography_Germany</th>\n",
       "      <th>Geography_Spain</th>\n",
       "      <th>Gender_Female</th>\n",
       "      <th>Gender_Male</th>\n",
       "      <th>NumOfProdBins_1</th>\n",
       "      <th>NumOfProdBins_2-4</th>\n",
       "    </tr>\n",
       "    <tr>\n",
       "      <th>id</th>\n",
       "      <th></th>\n",
       "      <th></th>\n",
       "      <th></th>\n",
       "      <th></th>\n",
       "      <th></th>\n",
       "      <th></th>\n",
       "      <th></th>\n",
       "      <th></th>\n",
       "      <th></th>\n",
       "      <th></th>\n",
       "      <th></th>\n",
       "      <th></th>\n",
       "      <th></th>\n",
       "      <th></th>\n",
       "      <th></th>\n",
       "      <th></th>\n",
       "      <th></th>\n",
       "      <th></th>\n",
       "    </tr>\n",
       "  </thead>\n",
       "  <tbody>\n",
       "    <tr>\n",
       "      <th>0</th>\n",
       "      <td>15674932</td>\n",
       "      <td>Okwudilichukwu</td>\n",
       "      <td>668</td>\n",
       "      <td>33.0</td>\n",
       "      <td>3</td>\n",
       "      <td>0.00</td>\n",
       "      <td>2</td>\n",
       "      <td>1.0</td>\n",
       "      <td>0.0</td>\n",
       "      <td>181449.97</td>\n",
       "      <td>0</td>\n",
       "      <td>1</td>\n",
       "      <td>0</td>\n",
       "      <td>0</td>\n",
       "      <td>0</td>\n",
       "      <td>1</td>\n",
       "      <td>0</td>\n",
       "      <td>1</td>\n",
       "    </tr>\n",
       "    <tr>\n",
       "      <th>1</th>\n",
       "      <td>15749177</td>\n",
       "      <td>Okwudiliolisa</td>\n",
       "      <td>627</td>\n",
       "      <td>33.0</td>\n",
       "      <td>1</td>\n",
       "      <td>0.00</td>\n",
       "      <td>2</td>\n",
       "      <td>1.0</td>\n",
       "      <td>1.0</td>\n",
       "      <td>49503.50</td>\n",
       "      <td>0</td>\n",
       "      <td>1</td>\n",
       "      <td>0</td>\n",
       "      <td>0</td>\n",
       "      <td>0</td>\n",
       "      <td>1</td>\n",
       "      <td>0</td>\n",
       "      <td>1</td>\n",
       "    </tr>\n",
       "    <tr>\n",
       "      <th>2</th>\n",
       "      <td>15694510</td>\n",
       "      <td>Hsueh</td>\n",
       "      <td>678</td>\n",
       "      <td>40.0</td>\n",
       "      <td>10</td>\n",
       "      <td>0.00</td>\n",
       "      <td>2</td>\n",
       "      <td>1.0</td>\n",
       "      <td>0.0</td>\n",
       "      <td>184866.69</td>\n",
       "      <td>0</td>\n",
       "      <td>1</td>\n",
       "      <td>0</td>\n",
       "      <td>0</td>\n",
       "      <td>0</td>\n",
       "      <td>1</td>\n",
       "      <td>0</td>\n",
       "      <td>1</td>\n",
       "    </tr>\n",
       "    <tr>\n",
       "      <th>3</th>\n",
       "      <td>15741417</td>\n",
       "      <td>Kao</td>\n",
       "      <td>581</td>\n",
       "      <td>34.0</td>\n",
       "      <td>2</td>\n",
       "      <td>148882.54</td>\n",
       "      <td>1</td>\n",
       "      <td>1.0</td>\n",
       "      <td>1.0</td>\n",
       "      <td>84560.88</td>\n",
       "      <td>1</td>\n",
       "      <td>1</td>\n",
       "      <td>0</td>\n",
       "      <td>0</td>\n",
       "      <td>0</td>\n",
       "      <td>1</td>\n",
       "      <td>1</td>\n",
       "      <td>0</td>\n",
       "    </tr>\n",
       "    <tr>\n",
       "      <th>4</th>\n",
       "      <td>15766172</td>\n",
       "      <td>Chiemenam</td>\n",
       "      <td>716</td>\n",
       "      <td>33.0</td>\n",
       "      <td>5</td>\n",
       "      <td>0.00</td>\n",
       "      <td>2</td>\n",
       "      <td>1.0</td>\n",
       "      <td>1.0</td>\n",
       "      <td>15068.83</td>\n",
       "      <td>0</td>\n",
       "      <td>0</td>\n",
       "      <td>0</td>\n",
       "      <td>1</td>\n",
       "      <td>0</td>\n",
       "      <td>1</td>\n",
       "      <td>0</td>\n",
       "      <td>1</td>\n",
       "    </tr>\n",
       "  </tbody>\n",
       "</table>\n",
       "</div>"
      ],
      "text/plain": [
       "    CustomerId         Surname  CreditScore   Age  Tenure    Balance  \\\n",
       "id                                                                     \n",
       "0     15674932  Okwudilichukwu          668  33.0       3       0.00   \n",
       "1     15749177   Okwudiliolisa          627  33.0       1       0.00   \n",
       "2     15694510           Hsueh          678  40.0      10       0.00   \n",
       "3     15741417             Kao          581  34.0       2  148882.54   \n",
       "4     15766172       Chiemenam          716  33.0       5       0.00   \n",
       "\n",
       "    NumOfProducts  HasCrCard  IsActiveMember  EstimatedSalary  x_Balance  \\\n",
       "id                                                                         \n",
       "0               2        1.0             0.0        181449.97          0   \n",
       "1               2        1.0             1.0         49503.50          0   \n",
       "2               2        1.0             0.0        184866.69          0   \n",
       "3               1        1.0             1.0         84560.88          1   \n",
       "4               2        1.0             1.0         15068.83          0   \n",
       "\n",
       "    Geography_France  Geography_Germany  Geography_Spain  Gender_Female  \\\n",
       "id                                                                        \n",
       "0                  1                  0                0              0   \n",
       "1                  1                  0                0              0   \n",
       "2                  1                  0                0              0   \n",
       "3                  1                  0                0              0   \n",
       "4                  0                  0                1              0   \n",
       "\n",
       "    Gender_Male  NumOfProdBins_1  NumOfProdBins_2-4  \n",
       "id                                                   \n",
       "0             1                0                  1  \n",
       "1             1                0                  1  \n",
       "2             1                0                  1  \n",
       "3             1                1                  0  \n",
       "4             1                0                  1  "
      ]
     },
     "execution_count": 24,
     "metadata": {},
     "output_type": "execute_result"
    }
   ],
   "source": [
    "X_train.head()"
   ]
  },
  {
   "cell_type": "markdown",
   "id": "37cea6cf",
   "metadata": {
    "papermill": {
     "duration": 0.025455,
     "end_time": "2024-01-12T22:40:44.984611",
     "exception": false,
     "start_time": "2024-01-12T22:40:44.959156",
     "status": "completed"
    },
    "tags": []
   },
   "source": [
    "### Models under consideration: Our final output is supposed to be probabilities. Logistic regression is an obvious first choice to generate classification probabilities. Apart from that we will use tree based approaches which are intrisically not sensitive to class imbalance. Finally we will use a neural network"
   ]
  },
  {
   "cell_type": "code",
   "execution_count": 25,
   "id": "82622f82",
   "metadata": {
    "execution": {
     "iopub.execute_input": "2024-01-12T22:40:45.039921Z",
     "iopub.status.busy": "2024-01-12T22:40:45.039115Z",
     "iopub.status.idle": "2024-01-12T22:40:45.065197Z",
     "shell.execute_reply": "2024-01-12T22:40:45.064195Z"
    },
    "papermill": {
     "duration": 0.056955,
     "end_time": "2024-01-12T22:40:45.067899",
     "exception": false,
     "start_time": "2024-01-12T22:40:45.010944",
     "status": "completed"
    },
    "tags": []
   },
   "outputs": [],
   "source": [
    "X=X_train.drop(columns=['CustomerId','Surname'])\n",
    "y=y_train"
   ]
  },
  {
   "cell_type": "code",
   "execution_count": 26,
   "id": "adfcfb96",
   "metadata": {
    "execution": {
     "iopub.execute_input": "2024-01-12T22:40:45.121829Z",
     "iopub.status.busy": "2024-01-12T22:40:45.120881Z",
     "iopub.status.idle": "2024-01-12T22:40:45.153576Z",
     "shell.execute_reply": "2024-01-12T22:40:45.152405Z"
    },
    "papermill": {
     "duration": 0.062086,
     "end_time": "2024-01-12T22:40:45.156065",
     "exception": false,
     "start_time": "2024-01-12T22:40:45.093979",
     "status": "completed"
    },
    "tags": []
   },
   "outputs": [
    {
     "data": {
      "text/html": [
       "<div>\n",
       "<style scoped>\n",
       "    .dataframe tbody tr th:only-of-type {\n",
       "        vertical-align: middle;\n",
       "    }\n",
       "\n",
       "    .dataframe tbody tr th {\n",
       "        vertical-align: top;\n",
       "    }\n",
       "\n",
       "    .dataframe thead th {\n",
       "        text-align: right;\n",
       "    }\n",
       "</style>\n",
       "<table border=\"1\" class=\"dataframe\">\n",
       "  <thead>\n",
       "    <tr style=\"text-align: right;\">\n",
       "      <th></th>\n",
       "      <th>CreditScore</th>\n",
       "      <th>Age</th>\n",
       "      <th>Tenure</th>\n",
       "      <th>Balance</th>\n",
       "      <th>NumOfProducts</th>\n",
       "      <th>HasCrCard</th>\n",
       "      <th>IsActiveMember</th>\n",
       "      <th>EstimatedSalary</th>\n",
       "      <th>x_Balance</th>\n",
       "      <th>Geography_France</th>\n",
       "      <th>Geography_Germany</th>\n",
       "      <th>Geography_Spain</th>\n",
       "      <th>Gender_Female</th>\n",
       "      <th>Gender_Male</th>\n",
       "      <th>NumOfProdBins_1</th>\n",
       "      <th>NumOfProdBins_2-4</th>\n",
       "    </tr>\n",
       "    <tr>\n",
       "      <th>id</th>\n",
       "      <th></th>\n",
       "      <th></th>\n",
       "      <th></th>\n",
       "      <th></th>\n",
       "      <th></th>\n",
       "      <th></th>\n",
       "      <th></th>\n",
       "      <th></th>\n",
       "      <th></th>\n",
       "      <th></th>\n",
       "      <th></th>\n",
       "      <th></th>\n",
       "      <th></th>\n",
       "      <th></th>\n",
       "      <th></th>\n",
       "      <th></th>\n",
       "    </tr>\n",
       "  </thead>\n",
       "  <tbody>\n",
       "    <tr>\n",
       "      <th>0</th>\n",
       "      <td>668</td>\n",
       "      <td>33.0</td>\n",
       "      <td>3</td>\n",
       "      <td>0.00</td>\n",
       "      <td>2</td>\n",
       "      <td>1.0</td>\n",
       "      <td>0.0</td>\n",
       "      <td>181449.97</td>\n",
       "      <td>0</td>\n",
       "      <td>1</td>\n",
       "      <td>0</td>\n",
       "      <td>0</td>\n",
       "      <td>0</td>\n",
       "      <td>1</td>\n",
       "      <td>0</td>\n",
       "      <td>1</td>\n",
       "    </tr>\n",
       "    <tr>\n",
       "      <th>1</th>\n",
       "      <td>627</td>\n",
       "      <td>33.0</td>\n",
       "      <td>1</td>\n",
       "      <td>0.00</td>\n",
       "      <td>2</td>\n",
       "      <td>1.0</td>\n",
       "      <td>1.0</td>\n",
       "      <td>49503.50</td>\n",
       "      <td>0</td>\n",
       "      <td>1</td>\n",
       "      <td>0</td>\n",
       "      <td>0</td>\n",
       "      <td>0</td>\n",
       "      <td>1</td>\n",
       "      <td>0</td>\n",
       "      <td>1</td>\n",
       "    </tr>\n",
       "    <tr>\n",
       "      <th>2</th>\n",
       "      <td>678</td>\n",
       "      <td>40.0</td>\n",
       "      <td>10</td>\n",
       "      <td>0.00</td>\n",
       "      <td>2</td>\n",
       "      <td>1.0</td>\n",
       "      <td>0.0</td>\n",
       "      <td>184866.69</td>\n",
       "      <td>0</td>\n",
       "      <td>1</td>\n",
       "      <td>0</td>\n",
       "      <td>0</td>\n",
       "      <td>0</td>\n",
       "      <td>1</td>\n",
       "      <td>0</td>\n",
       "      <td>1</td>\n",
       "    </tr>\n",
       "    <tr>\n",
       "      <th>3</th>\n",
       "      <td>581</td>\n",
       "      <td>34.0</td>\n",
       "      <td>2</td>\n",
       "      <td>148882.54</td>\n",
       "      <td>1</td>\n",
       "      <td>1.0</td>\n",
       "      <td>1.0</td>\n",
       "      <td>84560.88</td>\n",
       "      <td>1</td>\n",
       "      <td>1</td>\n",
       "      <td>0</td>\n",
       "      <td>0</td>\n",
       "      <td>0</td>\n",
       "      <td>1</td>\n",
       "      <td>1</td>\n",
       "      <td>0</td>\n",
       "    </tr>\n",
       "    <tr>\n",
       "      <th>4</th>\n",
       "      <td>716</td>\n",
       "      <td>33.0</td>\n",
       "      <td>5</td>\n",
       "      <td>0.00</td>\n",
       "      <td>2</td>\n",
       "      <td>1.0</td>\n",
       "      <td>1.0</td>\n",
       "      <td>15068.83</td>\n",
       "      <td>0</td>\n",
       "      <td>0</td>\n",
       "      <td>0</td>\n",
       "      <td>1</td>\n",
       "      <td>0</td>\n",
       "      <td>1</td>\n",
       "      <td>0</td>\n",
       "      <td>1</td>\n",
       "    </tr>\n",
       "    <tr>\n",
       "      <th>...</th>\n",
       "      <td>...</td>\n",
       "      <td>...</td>\n",
       "      <td>...</td>\n",
       "      <td>...</td>\n",
       "      <td>...</td>\n",
       "      <td>...</td>\n",
       "      <td>...</td>\n",
       "      <td>...</td>\n",
       "      <td>...</td>\n",
       "      <td>...</td>\n",
       "      <td>...</td>\n",
       "      <td>...</td>\n",
       "      <td>...</td>\n",
       "      <td>...</td>\n",
       "      <td>...</td>\n",
       "      <td>...</td>\n",
       "    </tr>\n",
       "    <tr>\n",
       "      <th>165029</th>\n",
       "      <td>667</td>\n",
       "      <td>33.0</td>\n",
       "      <td>2</td>\n",
       "      <td>0.00</td>\n",
       "      <td>1</td>\n",
       "      <td>1.0</td>\n",
       "      <td>1.0</td>\n",
       "      <td>131834.75</td>\n",
       "      <td>0</td>\n",
       "      <td>0</td>\n",
       "      <td>0</td>\n",
       "      <td>1</td>\n",
       "      <td>1</td>\n",
       "      <td>0</td>\n",
       "      <td>1</td>\n",
       "      <td>0</td>\n",
       "    </tr>\n",
       "    <tr>\n",
       "      <th>165030</th>\n",
       "      <td>792</td>\n",
       "      <td>35.0</td>\n",
       "      <td>3</td>\n",
       "      <td>0.00</td>\n",
       "      <td>1</td>\n",
       "      <td>0.0</td>\n",
       "      <td>0.0</td>\n",
       "      <td>131834.45</td>\n",
       "      <td>0</td>\n",
       "      <td>1</td>\n",
       "      <td>0</td>\n",
       "      <td>0</td>\n",
       "      <td>0</td>\n",
       "      <td>1</td>\n",
       "      <td>1</td>\n",
       "      <td>0</td>\n",
       "    </tr>\n",
       "    <tr>\n",
       "      <th>165031</th>\n",
       "      <td>565</td>\n",
       "      <td>31.0</td>\n",
       "      <td>5</td>\n",
       "      <td>0.00</td>\n",
       "      <td>1</td>\n",
       "      <td>1.0</td>\n",
       "      <td>1.0</td>\n",
       "      <td>127429.56</td>\n",
       "      <td>0</td>\n",
       "      <td>1</td>\n",
       "      <td>0</td>\n",
       "      <td>0</td>\n",
       "      <td>0</td>\n",
       "      <td>1</td>\n",
       "      <td>1</td>\n",
       "      <td>0</td>\n",
       "    </tr>\n",
       "    <tr>\n",
       "      <th>165032</th>\n",
       "      <td>554</td>\n",
       "      <td>30.0</td>\n",
       "      <td>7</td>\n",
       "      <td>161533.00</td>\n",
       "      <td>1</td>\n",
       "      <td>0.0</td>\n",
       "      <td>1.0</td>\n",
       "      <td>71173.03</td>\n",
       "      <td>1</td>\n",
       "      <td>0</td>\n",
       "      <td>0</td>\n",
       "      <td>1</td>\n",
       "      <td>1</td>\n",
       "      <td>0</td>\n",
       "      <td>1</td>\n",
       "      <td>0</td>\n",
       "    </tr>\n",
       "    <tr>\n",
       "      <th>165033</th>\n",
       "      <td>850</td>\n",
       "      <td>31.0</td>\n",
       "      <td>1</td>\n",
       "      <td>0.00</td>\n",
       "      <td>1</td>\n",
       "      <td>1.0</td>\n",
       "      <td>0.0</td>\n",
       "      <td>61581.79</td>\n",
       "      <td>0</td>\n",
       "      <td>1</td>\n",
       "      <td>0</td>\n",
       "      <td>0</td>\n",
       "      <td>0</td>\n",
       "      <td>1</td>\n",
       "      <td>1</td>\n",
       "      <td>0</td>\n",
       "    </tr>\n",
       "  </tbody>\n",
       "</table>\n",
       "<p>165034 rows × 16 columns</p>\n",
       "</div>"
      ],
      "text/plain": [
       "        CreditScore   Age  Tenure    Balance  NumOfProducts  HasCrCard  \\\n",
       "id                                                                       \n",
       "0               668  33.0       3       0.00              2        1.0   \n",
       "1               627  33.0       1       0.00              2        1.0   \n",
       "2               678  40.0      10       0.00              2        1.0   \n",
       "3               581  34.0       2  148882.54              1        1.0   \n",
       "4               716  33.0       5       0.00              2        1.0   \n",
       "...             ...   ...     ...        ...            ...        ...   \n",
       "165029          667  33.0       2       0.00              1        1.0   \n",
       "165030          792  35.0       3       0.00              1        0.0   \n",
       "165031          565  31.0       5       0.00              1        1.0   \n",
       "165032          554  30.0       7  161533.00              1        0.0   \n",
       "165033          850  31.0       1       0.00              1        1.0   \n",
       "\n",
       "        IsActiveMember  EstimatedSalary  x_Balance  Geography_France  \\\n",
       "id                                                                     \n",
       "0                  0.0        181449.97          0                 1   \n",
       "1                  1.0         49503.50          0                 1   \n",
       "2                  0.0        184866.69          0                 1   \n",
       "3                  1.0         84560.88          1                 1   \n",
       "4                  1.0         15068.83          0                 0   \n",
       "...                ...              ...        ...               ...   \n",
       "165029             1.0        131834.75          0                 0   \n",
       "165030             0.0        131834.45          0                 1   \n",
       "165031             1.0        127429.56          0                 1   \n",
       "165032             1.0         71173.03          1                 0   \n",
       "165033             0.0         61581.79          0                 1   \n",
       "\n",
       "        Geography_Germany  Geography_Spain  Gender_Female  Gender_Male  \\\n",
       "id                                                                       \n",
       "0                       0                0              0            1   \n",
       "1                       0                0              0            1   \n",
       "2                       0                0              0            1   \n",
       "3                       0                0              0            1   \n",
       "4                       0                1              0            1   \n",
       "...                   ...              ...            ...          ...   \n",
       "165029                  0                1              1            0   \n",
       "165030                  0                0              0            1   \n",
       "165031                  0                0              0            1   \n",
       "165032                  0                1              1            0   \n",
       "165033                  0                0              0            1   \n",
       "\n",
       "        NumOfProdBins_1  NumOfProdBins_2-4  \n",
       "id                                          \n",
       "0                     0                  1  \n",
       "1                     0                  1  \n",
       "2                     0                  1  \n",
       "3                     1                  0  \n",
       "4                     0                  1  \n",
       "...                 ...                ...  \n",
       "165029                1                  0  \n",
       "165030                1                  0  \n",
       "165031                1                  0  \n",
       "165032                1                  0  \n",
       "165033                1                  0  \n",
       "\n",
       "[165034 rows x 16 columns]"
      ]
     },
     "execution_count": 26,
     "metadata": {},
     "output_type": "execute_result"
    }
   ],
   "source": [
    "X"
   ]
  },
  {
   "cell_type": "code",
   "execution_count": 27,
   "id": "f2b038f3",
   "metadata": {
    "execution": {
     "iopub.execute_input": "2024-01-12T22:40:45.211469Z",
     "iopub.status.busy": "2024-01-12T22:40:45.210804Z",
     "iopub.status.idle": "2024-01-12T22:40:45.342076Z",
     "shell.execute_reply": "2024-01-12T22:40:45.341088Z"
    },
    "papermill": {
     "duration": 0.162624,
     "end_time": "2024-01-12T22:40:45.344683",
     "exception": false,
     "start_time": "2024-01-12T22:40:45.182059",
     "status": "completed"
    },
    "tags": []
   },
   "outputs": [],
   "source": [
    "train_X, val_X, train_y, val_y = train_test_split(X, y, test_size=0.2, random_state=55, stratify=y)"
   ]
  },
  {
   "cell_type": "markdown",
   "id": "ea547e19",
   "metadata": {
    "papermill": {
     "duration": 0.027526,
     "end_time": "2024-01-12T22:40:45.398833",
     "exception": false,
     "start_time": "2024-01-12T22:40:45.371307",
     "status": "completed"
    },
    "tags": []
   },
   "source": [
    "### Lets start modelling"
   ]
  },
  {
   "cell_type": "code",
   "execution_count": 28,
   "id": "8649018d",
   "metadata": {
    "execution": {
     "iopub.execute_input": "2024-01-12T22:40:45.455733Z",
     "iopub.status.busy": "2024-01-12T22:40:45.455004Z",
     "iopub.status.idle": "2024-01-12T22:40:46.363832Z",
     "shell.execute_reply": "2024-01-12T22:40:46.362564Z"
    },
    "papermill": {
     "duration": 0.942228,
     "end_time": "2024-01-12T22:40:46.367956",
     "exception": false,
     "start_time": "2024-01-12T22:40:45.425728",
     "status": "completed"
    },
    "tags": []
   },
   "outputs": [
    {
     "data": {
      "text/html": [
       "<style>#sk-container-id-1 {color: black;background-color: white;}#sk-container-id-1 pre{padding: 0;}#sk-container-id-1 div.sk-toggleable {background-color: white;}#sk-container-id-1 label.sk-toggleable__label {cursor: pointer;display: block;width: 100%;margin-bottom: 0;padding: 0.3em;box-sizing: border-box;text-align: center;}#sk-container-id-1 label.sk-toggleable__label-arrow:before {content: \"▸\";float: left;margin-right: 0.25em;color: #696969;}#sk-container-id-1 label.sk-toggleable__label-arrow:hover:before {color: black;}#sk-container-id-1 div.sk-estimator:hover label.sk-toggleable__label-arrow:before {color: black;}#sk-container-id-1 div.sk-toggleable__content {max-height: 0;max-width: 0;overflow: hidden;text-align: left;background-color: #f0f8ff;}#sk-container-id-1 div.sk-toggleable__content pre {margin: 0.2em;color: black;border-radius: 0.25em;background-color: #f0f8ff;}#sk-container-id-1 input.sk-toggleable__control:checked~div.sk-toggleable__content {max-height: 200px;max-width: 100%;overflow: auto;}#sk-container-id-1 input.sk-toggleable__control:checked~label.sk-toggleable__label-arrow:before {content: \"▾\";}#sk-container-id-1 div.sk-estimator input.sk-toggleable__control:checked~label.sk-toggleable__label {background-color: #d4ebff;}#sk-container-id-1 div.sk-label input.sk-toggleable__control:checked~label.sk-toggleable__label {background-color: #d4ebff;}#sk-container-id-1 input.sk-hidden--visually {border: 0;clip: rect(1px 1px 1px 1px);clip: rect(1px, 1px, 1px, 1px);height: 1px;margin: -1px;overflow: hidden;padding: 0;position: absolute;width: 1px;}#sk-container-id-1 div.sk-estimator {font-family: monospace;background-color: #f0f8ff;border: 1px dotted black;border-radius: 0.25em;box-sizing: border-box;margin-bottom: 0.5em;}#sk-container-id-1 div.sk-estimator:hover {background-color: #d4ebff;}#sk-container-id-1 div.sk-parallel-item::after {content: \"\";width: 100%;border-bottom: 1px solid gray;flex-grow: 1;}#sk-container-id-1 div.sk-label:hover label.sk-toggleable__label {background-color: #d4ebff;}#sk-container-id-1 div.sk-serial::before {content: \"\";position: absolute;border-left: 1px solid gray;box-sizing: border-box;top: 0;bottom: 0;left: 50%;z-index: 0;}#sk-container-id-1 div.sk-serial {display: flex;flex-direction: column;align-items: center;background-color: white;padding-right: 0.2em;padding-left: 0.2em;position: relative;}#sk-container-id-1 div.sk-item {position: relative;z-index: 1;}#sk-container-id-1 div.sk-parallel {display: flex;align-items: stretch;justify-content: center;background-color: white;position: relative;}#sk-container-id-1 div.sk-item::before, #sk-container-id-1 div.sk-parallel-item::before {content: \"\";position: absolute;border-left: 1px solid gray;box-sizing: border-box;top: 0;bottom: 0;left: 50%;z-index: -1;}#sk-container-id-1 div.sk-parallel-item {display: flex;flex-direction: column;z-index: 1;position: relative;background-color: white;}#sk-container-id-1 div.sk-parallel-item:first-child::after {align-self: flex-end;width: 50%;}#sk-container-id-1 div.sk-parallel-item:last-child::after {align-self: flex-start;width: 50%;}#sk-container-id-1 div.sk-parallel-item:only-child::after {width: 0;}#sk-container-id-1 div.sk-dashed-wrapped {border: 1px dashed gray;margin: 0 0.4em 0.5em 0.4em;box-sizing: border-box;padding-bottom: 0.4em;background-color: white;}#sk-container-id-1 div.sk-label label {font-family: monospace;font-weight: bold;display: inline-block;line-height: 1.2em;}#sk-container-id-1 div.sk-label-container {text-align: center;}#sk-container-id-1 div.sk-container {/* jupyter's `normalize.less` sets `[hidden] { display: none; }` but bootstrap.min.css set `[hidden] { display: none !important; }` so we also need the `!important` here to be able to override the default hidden behavior on the sphinx rendered scikit-learn.org. See: https://github.com/scikit-learn/scikit-learn/issues/21755 */display: inline-block !important;position: relative;}#sk-container-id-1 div.sk-text-repr-fallback {display: none;}</style><div id=\"sk-container-id-1\" class=\"sk-top-container\"><div class=\"sk-text-repr-fallback\"><pre>LogisticRegression()</pre><b>In a Jupyter environment, please rerun this cell to show the HTML representation or trust the notebook. <br />On GitHub, the HTML representation is unable to render, please try loading this page with nbviewer.org.</b></div><div class=\"sk-container\" hidden><div class=\"sk-item\"><div class=\"sk-estimator sk-toggleable\"><input class=\"sk-toggleable__control sk-hidden--visually\" id=\"sk-estimator-id-1\" type=\"checkbox\" checked><label for=\"sk-estimator-id-1\" class=\"sk-toggleable__label sk-toggleable__label-arrow\">LogisticRegression</label><div class=\"sk-toggleable__content\"><pre>LogisticRegression()</pre></div></div></div></div></div>"
      ],
      "text/plain": [
       "LogisticRegression()"
      ]
     },
     "execution_count": 28,
     "metadata": {},
     "output_type": "execute_result"
    }
   ],
   "source": [
    "# logistic regression\n",
    "model_logistic=LogisticRegression()\n",
    "model_logistic.fit(train_X,train_y)"
   ]
  },
  {
   "cell_type": "code",
   "execution_count": 29,
   "id": "61baf11f",
   "metadata": {
    "execution": {
     "iopub.execute_input": "2024-01-12T22:40:46.485945Z",
     "iopub.status.busy": "2024-01-12T22:40:46.485502Z",
     "iopub.status.idle": "2024-01-12T22:40:46.500711Z",
     "shell.execute_reply": "2024-01-12T22:40:46.499012Z"
    },
    "papermill": {
     "duration": 0.074724,
     "end_time": "2024-01-12T22:40:46.505054",
     "exception": false,
     "start_time": "2024-01-12T22:40:46.430330",
     "status": "completed"
    },
    "tags": []
   },
   "outputs": [],
   "source": [
    "# Make predictions\n",
    "y_probs_logistic = model_logistic.predict_proba(val_X)[:, 1]  # Probabilities of the positive class"
   ]
  },
  {
   "cell_type": "code",
   "execution_count": 30,
   "id": "986ebff2",
   "metadata": {
    "execution": {
     "iopub.execute_input": "2024-01-12T22:40:46.621025Z",
     "iopub.status.busy": "2024-01-12T22:40:46.620627Z",
     "iopub.status.idle": "2024-01-12T22:40:46.629358Z",
     "shell.execute_reply": "2024-01-12T22:40:46.627581Z"
    },
    "papermill": {
     "duration": 0.068442,
     "end_time": "2024-01-12T22:40:46.632010",
     "exception": false,
     "start_time": "2024-01-12T22:40:46.563568",
     "status": "completed"
    },
    "tags": []
   },
   "outputs": [],
   "source": [
    "def AUC(y_test,y_probs):\n",
    "    auc = roc_auc_score(y_test, y_probs)\n",
    "    fpr, tpr, thresholds = roc_curve(y_test, y_probs)\n",
    "    plt.plot(fpr, tpr, color='orange', label=f'AUC = {auc:.2f}')\n",
    "    plt.plot([0, 1], [0, 1], color='darkblue', linestyle='--')\n",
    "    plt.xlabel('False Positive Rate')\n",
    "    plt.ylabel('True Positive Rate')\n",
    "    plt.title('Receiver Operating Characteristic (ROC) Curve')\n",
    "    plt.legend()\n",
    "    plt.show()\n",
    "    return auc"
   ]
  },
  {
   "cell_type": "code",
   "execution_count": 31,
   "id": "5305c1e1",
   "metadata": {
    "execution": {
     "iopub.execute_input": "2024-01-12T22:40:46.689743Z",
     "iopub.status.busy": "2024-01-12T22:40:46.689242Z",
     "iopub.status.idle": "2024-01-12T22:40:47.070893Z",
     "shell.execute_reply": "2024-01-12T22:40:47.069956Z"
    },
    "papermill": {
     "duration": 0.41378,
     "end_time": "2024-01-12T22:40:47.073849",
     "exception": false,
     "start_time": "2024-01-12T22:40:46.660069",
     "status": "completed"
    },
    "tags": []
   },
   "outputs": [
    {
     "data": {
      "image/png": "[encoded data removed]",
      "text/plain": [
       "<Figure size 640x480 with 1 Axes>"
      ]
     },
     "metadata": {},
     "output_type": "display_data"
    },
    {
     "data": {
      "text/plain": [
       "0.7159669398103599"
      ]
     },
     "execution_count": 31,
     "metadata": {},
     "output_type": "execute_result"
    }
   ],
   "source": [
    "AUC(val_y,y_probs_logistic)"
   ]
  },
  {
   "cell_type": "code",
   "execution_count": 32,
   "id": "74f7fab6",
   "metadata": {
    "execution": {
     "iopub.execute_input": "2024-01-12T22:40:47.131833Z",
     "iopub.status.busy": "2024-01-12T22:40:47.131007Z",
     "iopub.status.idle": "2024-01-12T22:40:49.281623Z",
     "shell.execute_reply": "2024-01-12T22:40:49.280364Z"
    },
    "papermill": {
     "duration": 2.182514,
     "end_time": "2024-01-12T22:40:49.284438",
     "exception": false,
     "start_time": "2024-01-12T22:40:47.101924",
     "status": "completed"
    },
    "tags": []
   },
   "outputs": [],
   "source": [
    "# undersample\n",
    "undersample = RandomUnderSampler(sampling_strategy='majority', random_state=55)\n",
    "X_train_under, y_train_under = undersample.fit_resample(train_X, train_y)\n",
    "\n",
    "# SMOTE\n",
    "smote = SMOTE(random_state=55)\n",
    "X_train_smote, y_train_smote = smote.fit_resample(train_X, train_y)"
   ]
  },
  {
   "cell_type": "code",
   "execution_count": 33,
   "id": "2cb3474d",
   "metadata": {
    "execution": {
     "iopub.execute_input": "2024-01-12T22:40:49.350116Z",
     "iopub.status.busy": "2024-01-12T22:40:49.349120Z",
     "iopub.status.idle": "2024-01-12T22:40:51.877429Z",
     "shell.execute_reply": "2024-01-12T22:40:51.875792Z"
    },
    "papermill": {
     "duration": 2.569751,
     "end_time": "2024-01-12T22:40:51.882289",
     "exception": false,
     "start_time": "2024-01-12T22:40:49.312538",
     "status": "completed"
    },
    "tags": []
   },
   "outputs": [],
   "source": [
    "model_under_sample=model_logistic.fit(X_train_under,y_train_under)\n",
    "model_smote=model_logistic.fit(X_train_smote,y_train_smote)"
   ]
  },
  {
   "cell_type": "code",
   "execution_count": 34,
   "id": "4611be06",
   "metadata": {
    "execution": {
     "iopub.execute_input": "2024-01-12T22:40:52.001243Z",
     "iopub.status.busy": "2024-01-12T22:40:52.000846Z",
     "iopub.status.idle": "2024-01-12T22:40:52.013896Z",
     "shell.execute_reply": "2024-01-12T22:40:52.012252Z"
    },
    "papermill": {
     "duration": 0.074343,
     "end_time": "2024-01-12T22:40:52.018466",
     "exception": false,
     "start_time": "2024-01-12T22:40:51.944123",
     "status": "completed"
    },
    "tags": []
   },
   "outputs": [],
   "source": [
    "# Make predictions\n",
    "y_probs_under = model_under_sample.predict_proba(val_X)[:, 1]  # Probabilities of the positive class"
   ]
  },
  {
   "cell_type": "code",
   "execution_count": 35,
   "id": "11817524",
   "metadata": {
    "execution": {
     "iopub.execute_input": "2024-01-12T22:40:52.138195Z",
     "iopub.status.busy": "2024-01-12T22:40:52.137707Z",
     "iopub.status.idle": "2024-01-12T22:40:52.489762Z",
     "shell.execute_reply": "2024-01-12T22:40:52.488497Z"
    },
    "papermill": {
     "duration": 0.412636,
     "end_time": "2024-01-12T22:40:52.492576",
     "exception": false,
     "start_time": "2024-01-12T22:40:52.079940",
     "status": "completed"
    },
    "tags": []
   },
   "outputs": [
    {
     "data": {
      "image/png": "[encoded data removed]",
      "text/plain": [
       "<Figure size 640x480 with 1 Axes>"
      ]
     },
     "metadata": {},
     "output_type": "display_data"
    },
    {
     "data": {
      "text/plain": [
       "0.738291978824442"
      ]
     },
     "execution_count": 35,
     "metadata": {},
     "output_type": "execute_result"
    }
   ],
   "source": [
    "AUC(val_y,y_probs_under)"
   ]
  },
  {
   "cell_type": "code",
   "execution_count": 36,
   "id": "9430e839",
   "metadata": {
    "execution": {
     "iopub.execute_input": "2024-01-12T22:40:52.550939Z",
     "iopub.status.busy": "2024-01-12T22:40:52.550280Z",
     "iopub.status.idle": "2024-01-12T22:40:52.563074Z",
     "shell.execute_reply": "2024-01-12T22:40:52.561451Z"
    },
    "papermill": {
     "duration": 0.046488,
     "end_time": "2024-01-12T22:40:52.567248",
     "exception": false,
     "start_time": "2024-01-12T22:40:52.520760",
     "status": "completed"
    },
    "tags": []
   },
   "outputs": [],
   "source": [
    "# Make predictions\n",
    "y_probs_smote = model_smote.predict_proba(val_X)[:, 1]  # Probabilities of the positive class"
   ]
  },
  {
   "cell_type": "code",
   "execution_count": 37,
   "id": "fcb55547",
   "metadata": {
    "execution": {
     "iopub.execute_input": "2024-01-12T22:40:52.685055Z",
     "iopub.status.busy": "2024-01-12T22:40:52.684667Z",
     "iopub.status.idle": "2024-01-12T22:40:52.986866Z",
     "shell.execute_reply": "2024-01-12T22:40:52.985845Z"
    },
    "papermill": {
     "duration": 0.362642,
     "end_time": "2024-01-12T22:40:52.989322",
     "exception": false,
     "start_time": "2024-01-12T22:40:52.626680",
     "status": "completed"
    },
    "tags": []
   },
   "outputs": [
    {
     "data": {
      "image/png": "[encoded data removed]",
      "text/plain": [
       "<Figure size 640x480 with 1 Axes>"
      ]
     },
     "metadata": {},
     "output_type": "display_data"
    },
    {
     "data": {
      "text/plain": [
       "0.738291978824442"
      ]
     },
     "execution_count": 37,
     "metadata": {},
     "output_type": "execute_result"
    }
   ],
   "source": [
    "AUC(val_y,y_probs_smote)"
   ]
  },
  {
   "cell_type": "code",
   "execution_count": 38,
   "id": "90a9b217",
   "metadata": {
    "execution": {
     "iopub.execute_input": "2024-01-12T22:40:53.050943Z",
     "iopub.status.busy": "2024-01-12T22:40:53.049878Z",
     "iopub.status.idle": "2024-01-12T22:40:53.102605Z",
     "shell.execute_reply": "2024-01-12T22:40:53.101300Z"
    },
    "papermill": {
     "duration": 0.086861,
     "end_time": "2024-01-12T22:40:53.105752",
     "exception": false,
     "start_time": "2024-01-12T22:40:53.018891",
     "status": "completed"
    },
    "tags": []
   },
   "outputs": [],
   "source": [
    "# before applying a neurall network, let us standardize the features\n",
    "from sklearn.preprocessing import StandardScaler\n",
    "\n",
    "scaler = StandardScaler()\n",
    "\n",
    "X_train_scaled = scaler.fit_transform(train_X)\n",
    "X_test_scaled = scaler.transform(val_X)"
   ]
  },
  {
   "cell_type": "code",
   "execution_count": 39,
   "id": "866284ef",
   "metadata": {
    "execution": {
     "iopub.execute_input": "2024-01-12T22:40:53.168410Z",
     "iopub.status.busy": "2024-01-12T22:40:53.167997Z",
     "iopub.status.idle": "2024-01-12T22:40:53.176203Z",
     "shell.execute_reply": "2024-01-12T22:40:53.175049Z"
    },
    "papermill": {
     "duration": 0.044146,
     "end_time": "2024-01-12T22:40:53.178613",
     "exception": false,
     "start_time": "2024-01-12T22:40:53.134467",
     "status": "completed"
    },
    "tags": []
   },
   "outputs": [
    {
     "data": {
      "text/plain": [
       "array([[-0.29253656,  0.09749776, -0.00701994, ...,  0.87834215,\n",
       "        -0.93845602,  0.93845602],\n",
       "       [ 2.22837099, -1.48194998,  1.06156772, ...,  0.87834215,\n",
       "        -0.93845602,  0.93845602],\n",
       "       [-0.65444903, -0.12813763,  0.70537183, ..., -1.1385085 ,\n",
       "        -0.93845602,  0.93845602],\n",
       "       ...,\n",
       "       [ 0.06937591, -0.12813763,  1.4177636 , ...,  0.87834215,\n",
       "         1.06558003, -1.06558003],\n",
       "       [-0.32997578,  1.4513101 , -1.0756076 , ..., -1.1385085 ,\n",
       "         1.06558003, -1.06558003],\n",
       "       [-0.50469215, -0.57940841,  0.70537183, ..., -1.1385085 ,\n",
       "         1.06558003, -1.06558003]])"
      ]
     },
     "execution_count": 39,
     "metadata": {},
     "output_type": "execute_result"
    }
   ],
   "source": [
    "X_train_scaled"
   ]
  },
  {
   "cell_type": "code",
   "execution_count": 40,
   "id": "05a5ee80",
   "metadata": {
    "execution": {
     "iopub.execute_input": "2024-01-12T22:40:53.240002Z",
     "iopub.status.busy": "2024-01-12T22:40:53.239596Z",
     "iopub.status.idle": "2024-01-12T22:40:57.342459Z",
     "shell.execute_reply": "2024-01-12T22:40:57.341515Z"
    },
    "papermill": {
     "duration": 4.136112,
     "end_time": "2024-01-12T22:40:57.344922",
     "exception": false,
     "start_time": "2024-01-12T22:40:53.208810",
     "status": "completed"
    },
    "tags": []
   },
   "outputs": [],
   "source": [
    "import torch\n",
    "import torch.nn as nn\n",
    "import torch.nn.functional as F\n",
    "from torch.utils.data import DataLoader, TensorDataset\n",
    "\n",
    "# Convert data to PyTorch tensors\n",
    "X_train_tensor = torch.tensor(X_train_scaled, dtype=torch.float32)\n",
    "y_train_tensor = torch.tensor(train_y, dtype=torch.float32)\n",
    "X_test_tensor = torch.tensor(X_test_scaled, dtype=torch.float32)\n",
    "y_test_tensor = torch.tensor(val_y.values, dtype=torch.float32)\n",
    "\n",
    "# Create datasets\n",
    "train_dataset = TensorDataset(X_train_tensor, y_train_tensor)\n",
    "test_dataset = TensorDataset(X_test_tensor, y_test_tensor)\n",
    "\n",
    "train_loader = DataLoader(dataset=train_dataset, batch_size=64, shuffle=True)\n",
    "test_loader = DataLoader(dataset=test_dataset, batch_size=64, shuffle=False)"
   ]
  },
  {
   "cell_type": "code",
   "execution_count": 41,
   "id": "bc13a8b6",
   "metadata": {
    "execution": {
     "iopub.execute_input": "2024-01-12T22:40:57.407775Z",
     "iopub.status.busy": "2024-01-12T22:40:57.407140Z",
     "iopub.status.idle": "2024-01-12T22:40:57.428708Z",
     "shell.execute_reply": "2024-01-12T22:40:57.427724Z"
    },
    "papermill": {
     "duration": 0.055832,
     "end_time": "2024-01-12T22:40:57.431507",
     "exception": false,
     "start_time": "2024-01-12T22:40:57.375675",
     "status": "completed"
    },
    "tags": []
   },
   "outputs": [],
   "source": [
    "import torch.nn as nn\n",
    "import torch.nn.functional as F\n",
    "\n",
    "class Net(nn.Module):\n",
    "    def __init__(self):\n",
    "        super(Net, self).__init__()\n",
    "        self.fc1 = nn.Linear(train_X.shape[1], 12)\n",
    "        self.dropout1 = nn.Dropout(0.5)  # Dropout layer\n",
    "        self.fc2 = nn.Linear(12, 6)\n",
    "#         self.dropout2 = nn.Dropout(0.5)  # Another dropout layer\n",
    "        self.fc3 = nn.Linear(6, 1)\n",
    "\n",
    "    def forward(self, x):\n",
    "        x = F.relu(self.fc1(x))\n",
    "        x = self.dropout1(x)  # Apply dropout\n",
    "        x = F.relu(self.fc2(x))\n",
    "#         x = self.dropout2(x)  # Apply dropout\n",
    "        x = torch.sigmoid(self.fc3(x))\n",
    "        return x\n",
    "\n",
    "net = Net()"
   ]
  },
  {
   "cell_type": "code",
   "execution_count": 42,
   "id": "b791d28f",
   "metadata": {
    "execution": {
     "iopub.execute_input": "2024-01-12T22:40:57.492222Z",
     "iopub.status.busy": "2024-01-12T22:40:57.491236Z",
     "iopub.status.idle": "2024-01-12T22:41:38.511444Z",
     "shell.execute_reply": "2024-01-12T22:41:38.510393Z"
    },
    "papermill": {
     "duration": 41.053317,
     "end_time": "2024-01-12T22:41:38.514158",
     "exception": false,
     "start_time": "2024-01-12T22:40:57.460841",
     "status": "completed"
    },
    "tags": []
   },
   "outputs": [],
   "source": [
    "criterion = nn.BCELoss()\n",
    "optimizer = torch.optim.Adam(net.parameters(), lr=0.001)\n",
    "\n",
    "# Training loop\n",
    "for epoch in range(10):\n",
    "    for inputs, labels in train_loader:\n",
    "        optimizer.zero_grad()\n",
    "        outputs = net(inputs)\n",
    "        loss = criterion(outputs.squeeze(), labels)\n",
    "        loss.backward()\n",
    "        optimizer.step()"
   ]
  },
  {
   "cell_type": "code",
   "execution_count": 43,
   "id": "94e412ae",
   "metadata": {
    "execution": {
     "iopub.execute_input": "2024-01-12T22:41:38.577453Z",
     "iopub.status.busy": "2024-01-12T22:41:38.576607Z",
     "iopub.status.idle": "2024-01-12T22:41:39.038576Z",
     "shell.execute_reply": "2024-01-12T22:41:39.036868Z"
    },
    "papermill": {
     "duration": 0.496622,
     "end_time": "2024-01-12T22:41:39.041777",
     "exception": false,
     "start_time": "2024-01-12T22:41:38.545155",
     "status": "completed"
    },
    "tags": []
   },
   "outputs": [],
   "source": [
    "y_probs = []\n",
    "with torch.no_grad():\n",
    "    for inputs, _ in test_loader:\n",
    "        outputs = net(inputs)\n",
    "        y_probs.extend(outputs.squeeze().numpy())"
   ]
  },
  {
   "cell_type": "code",
   "execution_count": 44,
   "id": "25a0dda9",
   "metadata": {
    "execution": {
     "iopub.execute_input": "2024-01-12T22:41:39.104649Z",
     "iopub.status.busy": "2024-01-12T22:41:39.104146Z",
     "iopub.status.idle": "2024-01-12T22:41:39.581395Z",
     "shell.execute_reply": "2024-01-12T22:41:39.580204Z"
    },
    "papermill": {
     "duration": 0.512612,
     "end_time": "2024-01-12T22:41:39.584788",
     "exception": false,
     "start_time": "2024-01-12T22:41:39.072176",
     "status": "completed"
    },
    "tags": []
   },
   "outputs": [
    {
     "data": {
      "image/png": "[encoded data removed]",
      "text/plain": [
       "<Figure size 640x480 with 1 Axes>"
      ]
     },
     "metadata": {},
     "output_type": "display_data"
    },
    {
     "data": {
      "text/plain": [
       "0.8682363229302971"
      ]
     },
     "execution_count": 44,
     "metadata": {},
     "output_type": "execute_result"
    }
   ],
   "source": [
    "AUC(val_y,y_probs)"
   ]
  },
  {
   "cell_type": "code",
   "execution_count": null,
   "id": "b292154e",
   "metadata": {
    "papermill": {
     "duration": 0.029144,
     "end_time": "2024-01-12T22:41:39.644427",
     "exception": false,
     "start_time": "2024-01-12T22:41:39.615283",
     "status": "completed"
    },
    "tags": []
   },
   "outputs": [],
   "source": []
  }
 ],
 "metadata": {
  "kaggle": {
   "accelerator": "none",
   "dataSources": [
    {
     "databundleVersionId": 7405009,
     "sourceId": 65711,
     "sourceType": "competition"
    }
   ],
   "dockerImageVersionId": 30635,
   "isGpuEnabled": false,
   "isInternetEnabled": true,
   "language": "python",
   "sourceType": "notebook"
  },
  "kernelspec": {
   "display_name": "Python 3",
   "language": "python",
   "name": "python3"
  },
  "language_info": {
   "codemirror_mode": {
    "name": "ipython",
    "version": 3
   },
   "file_extension": ".py",
   "mimetype": "text/x-python",
   "name": "python",
   "nbconvert_exporter": "python",
   "pygments_lexer": "ipython3",
   "version": "3.10.12"
  },
  "papermill": {
   "default_parameters": {},
   "duration": 71.678917,
   "end_time": "2024-01-12T22:41:41.995156",
   "environment_variables": {},
   "exception": null,
   "input_path": "__notebook__.ipynb",
   "output_path": "__notebook__.ipynb",
   "parameters": {},
   "start_time": "2024-01-12T22:40:30.316239",
   "version": "2.4.0"
  }
 },
 "nbformat": 4,
 "nbformat_minor": 5
}
